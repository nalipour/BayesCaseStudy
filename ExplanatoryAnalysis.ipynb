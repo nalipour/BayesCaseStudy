{
 "cells": [
  {
   "cell_type": "markdown",
   "metadata": {},
   "source": [
    "# Explanatory Analysis"
   ]
  },
  {
   "cell_type": "markdown",
   "metadata": {},
   "source": [
    "Set up libraries"
   ]
  },
  {
   "cell_type": "code",
   "execution_count": 1,
   "metadata": {},
   "outputs": [],
   "source": [
    "import scipy\n",
    "from datetime import date\n",
    "import polars as pl\n",
    "import plotly.express as px\n",
    "import plotly.io as pio\n",
    "import plotly.graph_objects as go\n",
    "from plotly.subplots import make_subplots\n",
    "import ipywidgets as widgets\n",
    "from IPython.display import display\n",
    "from ipywidgets import interact, interactive\n",
    "import numpy as np\n",
    "import statsmodels.api as sm\n",
    "from sklearn.metrics import r2_score, mean_absolute_error\n",
    "import matplotlib.pyplot as plt\n",
    "import seaborn as sns\n"
   ]
  },
  {
   "cell_type": "code",
   "execution_count": 2,
   "metadata": {},
   "outputs": [],
   "source": [
    "import plotly.io as pio\n",
    "pio.templates.default = 'plotly_white'\n"
   ]
  },
  {
   "cell_type": "code",
   "execution_count": 3,
   "metadata": {},
   "outputs": [
    {
     "data": {
      "text/html": [
       "<div><style>\n",
       ".dataframe > thead > tr,\n",
       ".dataframe > tbody > tr {\n",
       "  text-align: right;\n",
       "  white-space: pre-wrap;\n",
       "}\n",
       "</style>\n",
       "<small>shape: (4, 19)</small><table border=\"1\" class=\"dataframe\"><thead><tr><th>week_start</th><th>new_customers</th><th>promo_investment</th><th>ppc_brand_investment</th><th>ppc_generic_investment</th><th>facebook_investment</th><th>instagram_investment</th><th>year</th><th>week</th><th>promo_investment_lag0</th><th>ppc_brand_investment_lag0</th><th>ppc_generic_investment_lag3</th><th>facebook_investment_lag2</th><th>instagram_investment_lag6</th><th>time</th><th>sin_52_1</th><th>cos_52_1</th><th>sin_52_2</th><th>cos_52_2</th></tr><tr><td>date</td><td>i64</td><td>f64</td><td>f64</td><td>f64</td><td>f64</td><td>f64</td><td>i64</td><td>i64</td><td>f64</td><td>f64</td><td>f64</td><td>f64</td><td>f64</td><td>i64</td><td>f64</td><td>f64</td><td>f64</td><td>f64</td></tr></thead><tbody><tr><td>2020-05-18</td><td>777</td><td>1304.227029</td><td>756.818857</td><td>1512.071585</td><td>297.193399</td><td>4593.059512</td><td>2020</td><td>21</td><td>1304.227029</td><td>756.818857</td><td>2300.295763</td><td>999.081772</td><td>82.890357</td><td>113</td><td>0.885456</td><td>0.464723</td><td>0.822984</td><td>-0.568065</td></tr><tr><td>2020-05-25</td><td>978</td><td>3000.504127</td><td>69.654279</td><td>399.82446</td><td>0.0</td><td>792.564928</td><td>2020</td><td>22</td><td>3000.504127</td><td>69.654279</td><td>4268.329032</td><td>637.97411</td><td>1246.32403</td><td>114</td><td>0.935016</td><td>0.354605</td><td>0.663123</td><td>-0.748511</td></tr><tr><td>2020-06-01</td><td>950</td><td>4609.816216</td><td>357.467625</td><td>471.992936</td><td>1769.420849</td><td>3281.127107</td><td>2020</td><td>23</td><td>4609.816216</td><td>357.467625</td><td>4219.098648</td><td>297.193399</td><td>1969.201111</td><td>115</td><td>0.970942</td><td>0.239316</td><td>0.464723</td><td>-0.885456</td></tr><tr><td>2020-06-08</td><td>800</td><td>3429.065037</td><td>425.663469</td><td>1181.626485</td><td>2353.024023</td><td>4510.560793</td><td>2020</td><td>24</td><td>3429.065037</td><td>425.663469</td><td>1512.071585</td><td>0.0</td><td>2889.605271</td><td>116</td><td>0.992709</td><td>0.120537</td><td>0.239316</td><td>-0.970942</td></tr></tbody></table></div>"
      ],
      "text/plain": [
       "shape: (4, 19)\n",
       "┌────────────┬────────────┬───────────┬───────────┬───┬──────────┬──────────┬──────────┬───────────┐\n",
       "│ week_start ┆ new_custom ┆ promo_inv ┆ ppc_brand ┆ … ┆ sin_52_1 ┆ cos_52_1 ┆ sin_52_2 ┆ cos_52_2  │\n",
       "│ ---        ┆ ers        ┆ estment   ┆ _investme ┆   ┆ ---      ┆ ---      ┆ ---      ┆ ---       │\n",
       "│ date       ┆ ---        ┆ ---       ┆ nt        ┆   ┆ f64      ┆ f64      ┆ f64      ┆ f64       │\n",
       "│            ┆ i64        ┆ f64       ┆ ---       ┆   ┆          ┆          ┆          ┆           │\n",
       "│            ┆            ┆           ┆ f64       ┆   ┆          ┆          ┆          ┆           │\n",
       "╞════════════╪════════════╪═══════════╪═══════════╪═══╪══════════╪══════════╪══════════╪═══════════╡\n",
       "│ 2020-05-18 ┆ 777        ┆ 1304.2270 ┆ 756.81885 ┆ … ┆ 0.885456 ┆ 0.464723 ┆ 0.822984 ┆ -0.568065 │\n",
       "│            ┆            ┆ 29        ┆ 7         ┆   ┆          ┆          ┆          ┆           │\n",
       "│ 2020-05-25 ┆ 978        ┆ 3000.5041 ┆ 69.654279 ┆ … ┆ 0.935016 ┆ 0.354605 ┆ 0.663123 ┆ -0.748511 │\n",
       "│            ┆            ┆ 27        ┆           ┆   ┆          ┆          ┆          ┆           │\n",
       "│ 2020-06-01 ┆ 950        ┆ 4609.8162 ┆ 357.46762 ┆ … ┆ 0.970942 ┆ 0.239316 ┆ 0.464723 ┆ -0.885456 │\n",
       "│            ┆            ┆ 16        ┆ 5         ┆   ┆          ┆          ┆          ┆           │\n",
       "│ 2020-06-08 ┆ 800        ┆ 3429.0650 ┆ 425.66346 ┆ … ┆ 0.992709 ┆ 0.120537 ┆ 0.239316 ┆ -0.970942 │\n",
       "│            ┆            ┆ 37        ┆ 9         ┆   ┆          ┆          ┆          ┆           │\n",
       "└────────────┴────────────┴───────────┴───────────┴───┴──────────┴──────────┴──────────┴───────────┘"
      ]
     },
     "execution_count": 3,
     "metadata": {},
     "output_type": "execute_result"
    }
   ],
   "source": [
    "data_link = \"./Data/data.csv\"\n",
    "df = pl.read_csv(data_link).with_columns(pl.col('week_start').cast(pl.Date)).sort('week_start')\n",
    "\n",
    "df.head(4)"
   ]
  },
  {
   "cell_type": "markdown",
   "metadata": {},
   "source": [
    "### Quality Check \t✅"
   ]
  },
  {
   "cell_type": "code",
   "execution_count": 4,
   "metadata": {},
   "outputs": [],
   "source": [
    "def check_complete_datarange(df: pl.DataFrame,\n",
    "                             date_col: str = 'week_start'):\n",
    "\n",
    "  min_date = df.select(pl.col(date_col).min()).item()\n",
    "  max_date = df.select(pl.col(date_col).max()).item()\n",
    "  date_range = pl.date_range(start=min_date, end=max_date, interval=\"1w\",\n",
    "                             eager=True).to_list()\n",
    "  print(set(date_range))\n",
    "  assert set(date_range) == set(df[date_col].to_list())\n"
   ]
  },
  {
   "cell_type": "code",
   "execution_count": 5,
   "metadata": {},
   "outputs": [
    {
     "name": "stdout",
     "output_type": "stream",
     "text": [
      "{datetime.date(2020, 7, 13), datetime.date(2021, 8, 30), datetime.date(2023, 5, 1), datetime.date(2022, 6, 6), datetime.date(2020, 10, 5), datetime.date(2022, 2, 21), datetime.date(2022, 12, 26), datetime.date(2020, 8, 3), datetime.date(2023, 6, 12), datetime.date(2020, 11, 16), datetime.date(2022, 1, 24), datetime.date(2023, 1, 23), datetime.date(2023, 7, 10), datetime.date(2020, 6, 1), datetime.date(2021, 4, 5), datetime.date(2021, 4, 12), datetime.date(2022, 11, 28), datetime.date(2022, 5, 9), datetime.date(2021, 2, 8), datetime.date(2022, 12, 5), datetime.date(2021, 10, 11), datetime.date(2023, 1, 2), datetime.date(2020, 6, 22), datetime.date(2020, 12, 28), datetime.date(2022, 8, 22), datetime.date(2020, 7, 6), datetime.date(2022, 9, 19), datetime.date(2022, 10, 17), datetime.date(2021, 5, 31), datetime.date(2021, 6, 28), datetime.date(2021, 11, 8), datetime.date(2023, 6, 5), datetime.date(2020, 7, 27), datetime.date(2022, 2, 7), datetime.date(2023, 2, 13), datetime.date(2023, 4, 10), datetime.date(2021, 2, 1), datetime.date(2022, 9, 12), datetime.date(2021, 8, 2), datetime.date(2021, 1, 4), datetime.date(2021, 11, 1), datetime.date(2022, 12, 19), datetime.date(2021, 10, 25), datetime.date(2020, 11, 2), datetime.date(2023, 1, 9), datetime.date(2020, 7, 20), datetime.date(2021, 3, 15), datetime.date(2022, 8, 15), datetime.date(2022, 3, 14), datetime.date(2023, 1, 30), datetime.date(2021, 2, 22), datetime.date(2020, 8, 31), datetime.date(2020, 11, 30), datetime.date(2023, 5, 22), datetime.date(2020, 6, 8), datetime.date(2021, 9, 20), datetime.date(2021, 6, 14), datetime.date(2022, 7, 25), datetime.date(2023, 5, 15), datetime.date(2020, 5, 25), datetime.date(2021, 2, 15), datetime.date(2023, 3, 20), datetime.date(2023, 7, 3), datetime.date(2021, 7, 5), datetime.date(2023, 5, 29), datetime.date(2021, 3, 8), datetime.date(2022, 1, 10), datetime.date(2020, 12, 21), datetime.date(2022, 2, 14), datetime.date(2022, 6, 27), datetime.date(2021, 3, 29), datetime.date(2022, 6, 20), datetime.date(2021, 1, 18), datetime.date(2021, 1, 25), datetime.date(2023, 2, 6), datetime.date(2021, 9, 13), datetime.date(2021, 6, 21), datetime.date(2020, 12, 14), datetime.date(2023, 2, 20), datetime.date(2022, 11, 7), datetime.date(2021, 3, 1), datetime.date(2020, 11, 9), datetime.date(2022, 10, 24), datetime.date(2023, 6, 26), datetime.date(2021, 7, 26), datetime.date(2021, 10, 4), datetime.date(2022, 1, 3), datetime.date(2021, 9, 6), datetime.date(2023, 4, 24), datetime.date(2021, 12, 6), datetime.date(2022, 8, 29), datetime.date(2020, 6, 29), datetime.date(2020, 5, 18), datetime.date(2022, 4, 11), datetime.date(2021, 11, 29), datetime.date(2020, 11, 23), datetime.date(2022, 3, 28), datetime.date(2023, 6, 19), datetime.date(2021, 6, 7), datetime.date(2020, 8, 17), datetime.date(2020, 12, 7), datetime.date(2022, 8, 1), datetime.date(2022, 4, 18), datetime.date(2022, 10, 3), datetime.date(2021, 8, 9), datetime.date(2022, 11, 21), datetime.date(2022, 3, 21), datetime.date(2022, 4, 25), datetime.date(2021, 5, 3), datetime.date(2022, 1, 17), datetime.date(2021, 3, 22), datetime.date(2020, 9, 14), datetime.date(2022, 10, 10), datetime.date(2021, 9, 27), datetime.date(2022, 11, 14), datetime.date(2021, 10, 18), datetime.date(2021, 5, 10), datetime.date(2023, 3, 6), datetime.date(2023, 4, 17), datetime.date(2022, 3, 7), datetime.date(2022, 12, 12), datetime.date(2021, 12, 27), datetime.date(2022, 6, 13), datetime.date(2022, 2, 28), datetime.date(2023, 1, 16), datetime.date(2021, 7, 19), datetime.date(2022, 4, 4), datetime.date(2020, 8, 10), datetime.date(2021, 12, 20), datetime.date(2020, 9, 7), datetime.date(2020, 9, 28), datetime.date(2020, 10, 19), datetime.date(2021, 8, 16), datetime.date(2022, 5, 30), datetime.date(2020, 6, 15), datetime.date(2022, 8, 8), datetime.date(2023, 5, 8), datetime.date(2021, 12, 13), datetime.date(2020, 9, 21), datetime.date(2020, 10, 26), datetime.date(2021, 8, 23), datetime.date(2021, 5, 24), datetime.date(2020, 8, 24), datetime.date(2020, 10, 12), datetime.date(2022, 9, 5), datetime.date(2022, 9, 26), datetime.date(2021, 11, 15), datetime.date(2022, 5, 16), datetime.date(2022, 7, 11), datetime.date(2021, 4, 26), datetime.date(2021, 11, 22), datetime.date(2023, 4, 3), datetime.date(2023, 2, 27), datetime.date(2022, 7, 18), datetime.date(2023, 3, 27), datetime.date(2022, 10, 31), datetime.date(2021, 1, 11), datetime.date(2022, 5, 2), datetime.date(2022, 5, 23), datetime.date(2021, 7, 12), datetime.date(2023, 3, 13), datetime.date(2021, 4, 19), datetime.date(2021, 5, 17), datetime.date(2022, 1, 31), datetime.date(2022, 7, 4)}\n"
     ]
    }
   ],
   "source": [
    "check_complete_datarange(df)"
   ]
  },
  {
   "cell_type": "code",
   "execution_count": 6,
   "metadata": {},
   "outputs": [
    {
     "data": {
      "text/html": [
       "<div><style>\n",
       ".dataframe > thead > tr,\n",
       ".dataframe > tbody > tr {\n",
       "  text-align: right;\n",
       "  white-space: pre-wrap;\n",
       "}\n",
       "</style>\n",
       "<small>shape: (9, 20)</small><table border=\"1\" class=\"dataframe\"><thead><tr><th>statistic</th><th>week_start</th><th>new_customers</th><th>promo_investment</th><th>ppc_brand_investment</th><th>ppc_generic_investment</th><th>facebook_investment</th><th>instagram_investment</th><th>year</th><th>week</th><th>promo_investment_lag0</th><th>ppc_brand_investment_lag0</th><th>ppc_generic_investment_lag3</th><th>facebook_investment_lag2</th><th>instagram_investment_lag6</th><th>time</th><th>sin_52_1</th><th>cos_52_1</th><th>sin_52_2</th><th>cos_52_2</th></tr><tr><td>str</td><td>str</td><td>f64</td><td>f64</td><td>f64</td><td>f64</td><td>f64</td><td>f64</td><td>f64</td><td>f64</td><td>f64</td><td>f64</td><td>f64</td><td>f64</td><td>f64</td><td>f64</td><td>f64</td><td>f64</td><td>f64</td><td>f64</td></tr></thead><tbody><tr><td>&quot;count&quot;</td><td>&quot;165&quot;</td><td>165.0</td><td>165.0</td><td>165.0</td><td>165.0</td><td>165.0</td><td>165.0</td><td>165.0</td><td>165.0</td><td>165.0</td><td>165.0</td><td>165.0</td><td>165.0</td><td>165.0</td><td>165.0</td><td>165.0</td><td>165.0</td><td>165.0</td><td>165.0</td></tr><tr><td>&quot;null_count&quot;</td><td>&quot;0&quot;</td><td>0.0</td><td>0.0</td><td>0.0</td><td>0.0</td><td>0.0</td><td>0.0</td><td>0.0</td><td>0.0</td><td>0.0</td><td>0.0</td><td>0.0</td><td>0.0</td><td>0.0</td><td>0.0</td><td>0.0</td><td>0.0</td><td>0.0</td><td>0.0</td></tr><tr><td>&quot;mean&quot;</td><td>&quot;2021-12-13 00:00:00&quot;</td><td>3398.975758</td><td>35216.521211</td><td>5496.701942</td><td>37445.293314</td><td>13813.534096</td><td>16204.869247</td><td>2021.454545</td><td>26.563636</td><td>35216.521211</td><td>5496.701942</td><td>37307.976487</td><td>13767.98898</td><td>16081.253734</td><td>195.0</td><td>0.051929</td><td>-8.6126e-17</td><td>4.3063e-17</td><td>-0.044521</td></tr><tr><td>&quot;std&quot;</td><td>null</td><td>2208.639314</td><td>55714.064409</td><td>5295.138163</td><td>23772.808311</td><td>8284.566551</td><td>11983.849211</td><td>0.996669</td><td>14.798356</td><td>55714.064409</td><td>5295.138163</td><td>23937.333344</td><td>8343.324914</td><td>12096.280239</td><td>47.775517</td><td>0.723002</td><td>0.693291</td><td>0.701829</td><td>0.71522</td></tr><tr><td>&quot;min&quot;</td><td>&quot;2020-05-18&quot;</td><td>320.0</td><td>484.0</td><td>69.654279</td><td>399.82446</td><td>0.0</td><td>0.0</td><td>2020.0</td><td>1.0</td><td>484.0</td><td>69.654279</td><td>399.82446</td><td>0.0</td><td>0.0</td><td>113.0</td><td>-1.0</td><td>-1.0</td><td>-0.992709</td><td>-1.0</td></tr><tr><td>&quot;25%&quot;</td><td>&quot;2021-03-01&quot;</td><td>1662.0</td><td>8515.0</td><td>1830.974019</td><td>19429.80101</td><td>7388.0</td><td>5900.0</td><td>2021.0</td><td>14.0</td><td>8515.0</td><td>1830.974019</td><td>19429.80101</td><td>7388.0</td><td>5354.514221</td><td>154.0</td><td>-0.663123</td><td>-0.663123</td><td>-0.663123</td><td>-0.748511</td></tr><tr><td>&quot;50%&quot;</td><td>&quot;2021-12-13&quot;</td><td>2833.0</td><td>14504.66397</td><td>3425.11993</td><td>33847.03069</td><td>13258.35732</td><td>14081.5304</td><td>2021.0</td><td>26.0</td><td>14504.66397</td><td>3425.11993</td><td>33847.03069</td><td>13258.35732</td><td>14081.5304</td><td>195.0</td><td>0.120537</td><td>-4.9000e-16</td><td>-9.8100e-16</td><td>-0.120537</td></tr><tr><td>&quot;75%&quot;</td><td>&quot;2022-09-26&quot;</td><td>4794.0</td><td>25770.0</td><td>7012.0</td><td>53816.70628</td><td>18255.53632</td><td>23265.71406</td><td>2022.0</td><td>39.0</td><td>25770.0</td><td>7012.0</td><td>53816.70628</td><td>18255.53632</td><td>23265.71406</td><td>236.0</td><td>0.822984</td><td>0.663123</td><td>0.663123</td><td>0.748511</td></tr><tr><td>&quot;max&quot;</td><td>&quot;2023-07-10&quot;</td><td>10473.0</td><td>299133.0888</td><td>25214.46475</td><td>119401.1149</td><td>39643.39486</td><td>50198.16966</td><td>2023.0</td><td>53.0</td><td>299133.0888</td><td>25214.46475</td><td>119401.1149</td><td>39643.39486</td><td>50198.16966</td><td>277.0</td><td>1.0</td><td>1.0</td><td>0.992709</td><td>1.0</td></tr></tbody></table></div>"
      ],
      "text/plain": [
       "shape: (9, 20)\n",
       "┌───────────┬───────────┬───────────┬───────────┬───┬───────────┬───────────┬───────────┬──────────┐\n",
       "│ statistic ┆ week_star ┆ new_custo ┆ promo_inv ┆ … ┆ sin_52_1  ┆ cos_52_1  ┆ sin_52_2  ┆ cos_52_2 │\n",
       "│ ---       ┆ t         ┆ mers      ┆ estment   ┆   ┆ ---       ┆ ---       ┆ ---       ┆ ---      │\n",
       "│ str       ┆ ---       ┆ ---       ┆ ---       ┆   ┆ f64       ┆ f64       ┆ f64       ┆ f64      │\n",
       "│           ┆ str       ┆ f64       ┆ f64       ┆   ┆           ┆           ┆           ┆          │\n",
       "╞═══════════╪═══════════╪═══════════╪═══════════╪═══╪═══════════╪═══════════╪═══════════╪══════════╡\n",
       "│ count     ┆ 165       ┆ 165.0     ┆ 165.0     ┆ … ┆ 165.0     ┆ 165.0     ┆ 165.0     ┆ 165.0    │\n",
       "│ null_coun ┆ 0         ┆ 0.0       ┆ 0.0       ┆ … ┆ 0.0       ┆ 0.0       ┆ 0.0       ┆ 0.0      │\n",
       "│ t         ┆           ┆           ┆           ┆   ┆           ┆           ┆           ┆          │\n",
       "│ mean      ┆ 2021-12-1 ┆ 3398.9757 ┆ 35216.521 ┆ … ┆ 0.051929  ┆ -8.6126e- ┆ 4.3063e-1 ┆ -0.04452 │\n",
       "│           ┆ 3         ┆ 58        ┆ 211       ┆   ┆           ┆ 17        ┆ 7         ┆ 1        │\n",
       "│           ┆ 00:00:00  ┆           ┆           ┆   ┆           ┆           ┆           ┆          │\n",
       "│ std       ┆ null      ┆ 2208.6393 ┆ 55714.064 ┆ … ┆ 0.723002  ┆ 0.693291  ┆ 0.701829  ┆ 0.71522  │\n",
       "│           ┆           ┆ 14        ┆ 409       ┆   ┆           ┆           ┆           ┆          │\n",
       "│ min       ┆ 2020-05-1 ┆ 320.0     ┆ 484.0     ┆ … ┆ -1.0      ┆ -1.0      ┆ -0.992709 ┆ -1.0     │\n",
       "│           ┆ 8         ┆           ┆           ┆   ┆           ┆           ┆           ┆          │\n",
       "│ 25%       ┆ 2021-03-0 ┆ 1662.0    ┆ 8515.0    ┆ … ┆ -0.663123 ┆ -0.663123 ┆ -0.663123 ┆ -0.74851 │\n",
       "│           ┆ 1         ┆           ┆           ┆   ┆           ┆           ┆           ┆ 1        │\n",
       "│ 50%       ┆ 2021-12-1 ┆ 2833.0    ┆ 14504.663 ┆ … ┆ 0.120537  ┆ -4.9000e- ┆ -9.8100e- ┆ -0.12053 │\n",
       "│           ┆ 3         ┆           ┆ 97        ┆   ┆           ┆ 16        ┆ 16        ┆ 7        │\n",
       "│ 75%       ┆ 2022-09-2 ┆ 4794.0    ┆ 25770.0   ┆ … ┆ 0.822984  ┆ 0.663123  ┆ 0.663123  ┆ 0.748511 │\n",
       "│           ┆ 6         ┆           ┆           ┆   ┆           ┆           ┆           ┆          │\n",
       "│ max       ┆ 2023-07-1 ┆ 10473.0   ┆ 299133.08 ┆ … ┆ 1.0       ┆ 1.0       ┆ 0.992709  ┆ 1.0      │\n",
       "│           ┆ 0         ┆           ┆ 88        ┆   ┆           ┆           ┆           ┆          │\n",
       "└───────────┴───────────┴───────────┴───────────┴───┴───────────┴───────────┴───────────┴──────────┘"
      ]
     },
     "execution_count": 6,
     "metadata": {},
     "output_type": "execute_result"
    }
   ],
   "source": [
    "df.describe()"
   ]
  },
  {
   "cell_type": "markdown",
   "metadata": {},
   "source": [
    "### Know your target ⭕"
   ]
  },
  {
   "cell_type": "code",
   "execution_count": 7,
   "metadata": {},
   "outputs": [
    {
     "data": {
      "text/plain": [
       "['week_start',\n",
       " 'new_customers',\n",
       " 'promo_investment',\n",
       " 'ppc_brand_investment',\n",
       " 'ppc_generic_investment',\n",
       " 'facebook_investment',\n",
       " 'instagram_investment',\n",
       " 'year',\n",
       " 'week',\n",
       " 'promo_investment_lag0',\n",
       " 'ppc_brand_investment_lag0',\n",
       " 'ppc_generic_investment_lag3',\n",
       " 'facebook_investment_lag2',\n",
       " 'instagram_investment_lag6',\n",
       " 'time',\n",
       " 'sin_52_1',\n",
       " 'cos_52_1',\n",
       " 'sin_52_2',\n",
       " 'cos_52_2']"
      ]
     },
     "execution_count": 7,
     "metadata": {},
     "output_type": "execute_result"
    }
   ],
   "source": [
    "df.columns"
   ]
  },
  {
   "cell_type": "code",
   "execution_count": 8,
   "metadata": {},
   "outputs": [],
   "source": [
    "target = \"new_customers\"\n",
    "date_col = 'week_start'\n",
    "channels = ['promo_investment',\n",
    "            'ppc_brand_investment',\n",
    "            'ppc_generic_investment',\n",
    "            'facebook_investment',\n",
    "            'instagram_investment']"
   ]
  },
  {
   "cell_type": "markdown",
   "metadata": {},
   "source": [
    "### Trend Analysis 📈"
   ]
  },
  {
   "cell_type": "code",
   "execution_count": 9,
   "metadata": {},
   "outputs": [
    {
     "data": {
      "application/vnd.jupyter.widget-view+json": {
       "model_id": "6db30590e3534a6181acc6f7c4ad7c00",
       "version_major": 2,
       "version_minor": 0
      },
      "text/plain": [
       "interactive(children=(IntSlider(value=1, description='Window', max=40, min=1), Output()), _dom_classes=('widge…"
      ]
     },
     "metadata": {},
     "output_type": "display_data"
    }
   ],
   "source": [
    "rolling_window_widget = widgets.IntSlider(value=1,\n",
    "    min=1,\n",
    "    max=40,\n",
    "    step=1,\n",
    "    description='Window')\n",
    "\n",
    "\n",
    "def update_rolling_plot(window):\n",
    "\n",
    "  base_title = f\"{target} Evolution Over Time\"\n",
    "  title = base_title if window == 1 else base_title +  f\"- Rolling Mean (Window = {window})\"\n",
    "\n",
    "  rolled_df = df.with_columns(pl.col(target).rolling_mean(window))\n",
    "  fig = px.line(rolled_df, x=date_col, y=target,\n",
    "                title=title)\n",
    "  #fig.update_layout(width=1300, height=400)\n",
    "  fig.show(renderer=\"colab\")\n",
    "\n",
    "interactive_plot = interactive(update_rolling_plot,\n",
    "                               window=rolling_window_widget)\n",
    "\n",
    "display(interactive_plot)"
   ]
  },
  {
   "cell_type": "markdown",
   "metadata": {},
   "source": [
    "🔍 Observations <br>\n",
    "⬛ Increasing trend over time, except in 2023, where sales show a decline. <br>\n",
    "⬛ Presence of seasonality."
   ]
  },
  {
   "cell_type": "markdown",
   "metadata": {},
   "source": [
    "### Seasonality Analysis 📈"
   ]
  },
  {
   "cell_type": "code",
   "execution_count": 10,
   "metadata": {},
   "outputs": [
    {
     "data": {
      "application/vnd.plotly.v1+json": {
       "config": {
        "plotlyServerURL": "https://plot.ly"
       },
       "data": [
        {
         "customdata": [
          [
           "2020-05-18"
          ],
          [
           "2020-05-25"
          ],
          [
           "2020-06-01"
          ],
          [
           "2020-06-08"
          ],
          [
           "2020-06-15"
          ],
          [
           "2020-06-22"
          ],
          [
           "2020-06-29"
          ],
          [
           "2020-07-06"
          ],
          [
           "2020-07-13"
          ],
          [
           "2020-07-20"
          ],
          [
           "2020-07-27"
          ],
          [
           "2020-08-03"
          ],
          [
           "2020-08-10"
          ],
          [
           "2020-08-17"
          ],
          [
           "2020-08-24"
          ],
          [
           "2020-08-31"
          ],
          [
           "2020-09-07"
          ],
          [
           "2020-09-14"
          ],
          [
           "2020-09-21"
          ],
          [
           "2020-09-28"
          ],
          [
           "2020-10-05"
          ],
          [
           "2020-10-12"
          ],
          [
           "2020-10-19"
          ],
          [
           "2020-10-26"
          ],
          [
           "2020-11-02"
          ],
          [
           "2020-11-09"
          ],
          [
           "2020-11-16"
          ],
          [
           "2020-11-23"
          ],
          [
           "2020-11-30"
          ],
          [
           "2020-12-07"
          ],
          [
           "2020-12-14"
          ],
          [
           "2020-12-21"
          ],
          [
           "2020-12-28"
          ]
         ],
         "hovertemplate": "year=2020<br>week=%{x}<br>new_customers=%{y}<br>week_start=%{customdata[0]}<extra></extra>",
         "legendgroup": "2020",
         "line": {
          "color": "#636efa",
          "dash": "solid"
         },
         "marker": {
          "symbol": "circle"
         },
         "mode": "lines",
         "name": "2020",
         "orientation": "v",
         "showlegend": true,
         "type": "scatter",
         "x": {
          "bdata": "FRYXGBkaGxwdHh8gISIjJCUmJygpKissLS4vMDEyMzQ1",
          "dtype": "i1"
         },
         "xaxis": "x",
         "y": {
          "bdata": "AAAAAAAA+H8AAAAAAAD4fwAAAAAAAPh/AAAAAAAA+H8AAAAAAOiHQM3MzMzMpIZAmpmZmZlRg0AAAAAAACiCQDMzMzMzY4NAMzMzMzNTikCamZmZmTmMQM3MzMzMRJJAZmZmZmYqlkDNzMzMzIyZQGZmZmZm/p1AzczMzMyKokAAAAAAADSlQJqZmZmZ16hAZmZmZmbirECamZmZmaCwQJqZmZmZDbJAAAAAAABxskCamZmZmVWxQDMzMzMzQbBAMzMzMzNZrEBmZmZmZoinQM3MzMzMMqRAMzMzMzNpoUAAAAAAAMCdQAAAAAAAMJlAMzMzMzOzmEBmZmZmZt6XQGZmZmZmipdA",
          "dtype": "f8"
         },
         "yaxis": "y"
        },
        {
         "customdata": [
          [
           "2021-01-04"
          ],
          [
           "2021-01-11"
          ],
          [
           "2021-01-18"
          ],
          [
           "2021-01-25"
          ],
          [
           "2021-02-01"
          ],
          [
           "2021-02-08"
          ],
          [
           "2021-02-15"
          ],
          [
           "2021-02-22"
          ],
          [
           "2021-03-01"
          ],
          [
           "2021-03-08"
          ],
          [
           "2021-03-15"
          ],
          [
           "2021-03-22"
          ],
          [
           "2021-03-29"
          ],
          [
           "2021-04-05"
          ],
          [
           "2021-04-12"
          ],
          [
           "2021-04-19"
          ],
          [
           "2021-04-26"
          ],
          [
           "2021-05-03"
          ],
          [
           "2021-05-10"
          ],
          [
           "2021-05-17"
          ],
          [
           "2021-05-24"
          ],
          [
           "2021-05-31"
          ],
          [
           "2021-06-07"
          ],
          [
           "2021-06-14"
          ],
          [
           "2021-06-21"
          ],
          [
           "2021-06-28"
          ],
          [
           "2021-07-05"
          ],
          [
           "2021-07-12"
          ],
          [
           "2021-07-19"
          ],
          [
           "2021-07-26"
          ],
          [
           "2021-08-02"
          ],
          [
           "2021-08-09"
          ],
          [
           "2021-08-16"
          ],
          [
           "2021-08-23"
          ],
          [
           "2021-08-30"
          ],
          [
           "2021-09-06"
          ],
          [
           "2021-09-13"
          ],
          [
           "2021-09-20"
          ],
          [
           "2021-09-27"
          ],
          [
           "2021-10-04"
          ],
          [
           "2021-10-11"
          ],
          [
           "2021-10-18"
          ],
          [
           "2021-10-25"
          ],
          [
           "2021-11-01"
          ],
          [
           "2021-11-08"
          ],
          [
           "2021-11-15"
          ],
          [
           "2021-11-22"
          ],
          [
           "2021-11-29"
          ],
          [
           "2021-12-06"
          ],
          [
           "2021-12-13"
          ],
          [
           "2021-12-20"
          ],
          [
           "2021-12-27"
          ]
         ],
         "hovertemplate": "year=2021<br>week=%{x}<br>new_customers=%{y}<br>week_start=%{customdata[0]}<extra></extra>",
         "legendgroup": "2021",
         "line": {
          "color": "#EF553B",
          "dash": "solid"
         },
         "marker": {
          "symbol": "circle"
         },
         "mode": "lines",
         "name": "2021",
         "orientation": "v",
         "showlegend": true,
         "type": "scatter",
         "x": {
          "bdata": "AQIDBAUGBwgJCgsMDQ4PEBESExQVFhcYGRobHB0eHyAhIiMkJSYnKCkqKywtLi8wMTIzNA==",
          "dtype": "i1"
         },
         "xaxis": "x",
         "y": {
          "bdata": "MzMzMzMjlUCamZmZmUWVQJqZmZmZxZJAmpmZmZntkkAzMzMzMz+UQJqZmZmZ3ZZAmpmZmZlJmECamZmZmWWaQM3MzMzMlJlAZmZmZmaSmkDNzMzMzHyZQJqZmZmZ/ZZAmpmZmZkllUDNzMzMzGyTQM3MzMzMlI5AZmZmZmbejEAAAAAAAACQQAAAAAAA0JZAZmZmZmb2m0DNzMzMzMSiQJqZmZmZbaNAmpmZmZnLokCamZmZmYOgQAAAAAAAnKBAmpmZmZlJnUCamZmZmcWhQJqZmZmZi6RAzczMzMzkp0CamZmZmWOrQGZmZmZmmLBAZmZmZmbcsUCamZmZmU20QAAAAAAArrVAzczMzMzUtkCamZmZmbm2QDMzMzMzR7dAZmZmZmaqtkAAAAAAAL+2QM3MzMzMbbZAAAAAAAAwtkDNzMzMzJi1QAAAAAAAGLVAAAAAAAAhtEAzMzMzM6OyQDMzMzMzZLBAmpmZmZndrEAAAAAAAMioQJqZmZmZo6RAmpmZmZlJoUAAAAAAAI6gQM3MzMzMpJ9AmpmZmZmLo0A=",
          "dtype": "f8"
         },
         "yaxis": "y"
        },
        {
         "customdata": [
          [
           "2022-01-03"
          ],
          [
           "2022-01-10"
          ],
          [
           "2022-01-17"
          ],
          [
           "2022-01-24"
          ],
          [
           "2022-01-31"
          ],
          [
           "2022-02-07"
          ],
          [
           "2022-02-14"
          ],
          [
           "2022-02-21"
          ],
          [
           "2022-02-28"
          ],
          [
           "2022-03-07"
          ],
          [
           "2022-03-14"
          ],
          [
           "2022-03-21"
          ],
          [
           "2022-03-28"
          ],
          [
           "2022-04-04"
          ],
          [
           "2022-04-11"
          ],
          [
           "2022-04-18"
          ],
          [
           "2022-04-25"
          ],
          [
           "2022-05-02"
          ],
          [
           "2022-05-09"
          ],
          [
           "2022-05-16"
          ],
          [
           "2022-05-23"
          ],
          [
           "2022-05-30"
          ],
          [
           "2022-06-06"
          ],
          [
           "2022-06-13"
          ],
          [
           "2022-06-20"
          ],
          [
           "2022-06-27"
          ],
          [
           "2022-07-04"
          ],
          [
           "2022-07-11"
          ],
          [
           "2022-07-18"
          ],
          [
           "2022-07-25"
          ],
          [
           "2022-08-01"
          ],
          [
           "2022-08-08"
          ],
          [
           "2022-08-15"
          ],
          [
           "2022-08-22"
          ],
          [
           "2022-08-29"
          ],
          [
           "2022-09-05"
          ],
          [
           "2022-09-12"
          ],
          [
           "2022-09-19"
          ],
          [
           "2022-09-26"
          ],
          [
           "2022-10-03"
          ],
          [
           "2022-10-10"
          ],
          [
           "2022-10-17"
          ],
          [
           "2022-10-24"
          ],
          [
           "2022-10-31"
          ],
          [
           "2022-11-07"
          ],
          [
           "2022-11-14"
          ],
          [
           "2022-11-21"
          ],
          [
           "2022-11-28"
          ],
          [
           "2022-12-05"
          ],
          [
           "2022-12-12"
          ],
          [
           "2022-12-19"
          ],
          [
           "2022-12-26"
          ]
         ],
         "hovertemplate": "year=2022<br>week=%{x}<br>new_customers=%{y}<br>week_start=%{customdata[0]}<extra></extra>",
         "legendgroup": "2022",
         "line": {
          "color": "#00cc96",
          "dash": "solid"
         },
         "marker": {
          "symbol": "circle"
         },
         "mode": "lines",
         "name": "2022",
         "orientation": "v",
         "showlegend": true,
         "type": "scatter",
         "x": {
          "bdata": "AQIDBAUGBwgJCgsMDQ4PEBESExQVFhcYGRobHB0eHyAhIiMkJSYnKCkqKywtLi8wMTIzNA==",
          "dtype": "i1"
         },
         "xaxis": "x",
         "y": {
          "bdata": "zczMzMykokBmZmZmZgijQAAAAAAAcKJAZmZmZmb4oUDNzMzMzGScQJqZmZmZTaBAMzMzMzO/n0AAAAAAAOyiQGZmZmZmcKNAZmZmZmZyo0DNzMzMzG6iQJqZmZmZ/6FAmpmZmZl5nkDNzMzMzCygQGZmZmZm9qFAZmZmZmY+pUAzMzMzM6+pQM3MzMzMWK9AMzMzMzMJsEAAAAAAAIOwQJqZmZmZZbBAzczMzMyOsEDNzMzMzMawQM3MzMzMd7FAAAAAAABnskAAAAAAAD+zQJqZmZmZ3bNAMzMzMzOGs0BmZmZmZgO1QJqZmZmZ2rVAZmZmZmbstkAAAAAAACe4QAAAAAAA5rhAZmZmZmYDukAzMzMzM6+7QJqZmZmZx7xAAAAAAACjvUCamZmZmRzAQGZmZmbm3cBAAAAAAIB1wUAAAAAAAILCQJqZmZmZ9sJAMzMzM7NfwkAzMzMzs+PBQAAAAACAWsBAmpmZmZnJu0AAAAAAAF24QAAAAAAATrVAmpmZmZk1skAzMzMzM5exQGZmZmZmrrFAZmZmZmbQr0A=",
          "dtype": "f8"
         },
         "yaxis": "y"
        },
        {
         "customdata": [
          [
           "2023-01-02"
          ],
          [
           "2023-01-09"
          ],
          [
           "2023-01-16"
          ],
          [
           "2023-01-23"
          ],
          [
           "2023-01-30"
          ],
          [
           "2023-02-06"
          ],
          [
           "2023-02-13"
          ],
          [
           "2023-02-20"
          ],
          [
           "2023-02-27"
          ],
          [
           "2023-03-06"
          ],
          [
           "2023-03-13"
          ],
          [
           "2023-03-20"
          ],
          [
           "2023-03-27"
          ],
          [
           "2023-04-03"
          ],
          [
           "2023-04-10"
          ],
          [
           "2023-04-17"
          ],
          [
           "2023-04-24"
          ],
          [
           "2023-05-01"
          ],
          [
           "2023-05-08"
          ],
          [
           "2023-05-15"
          ],
          [
           "2023-05-22"
          ],
          [
           "2023-05-29"
          ],
          [
           "2023-06-05"
          ],
          [
           "2023-06-12"
          ],
          [
           "2023-06-19"
          ],
          [
           "2023-06-26"
          ],
          [
           "2023-07-03"
          ],
          [
           "2023-07-10"
          ]
         ],
         "hovertemplate": "year=2023<br>week=%{x}<br>new_customers=%{y}<br>week_start=%{customdata[0]}<extra></extra>",
         "legendgroup": "2023",
         "line": {
          "color": "#ab63fa",
          "dash": "solid"
         },
         "marker": {
          "symbol": "circle"
         },
         "mode": "lines",
         "name": "2023",
         "orientation": "v",
         "showlegend": true,
         "type": "scatter",
         "x": {
          "bdata": "AQIDBAUGBwgJCgsMDQ4PEBESExQVFhcYGRobHA==",
          "dtype": "i1"
         },
         "xaxis": "x",
         "y": {
          "bdata": "zczMzMzgrEAzMzMzM0OoQGZmZmZm2qFAmpmZmZkln0DNzMzMzPCZQM3MzMzMzJVAmpmZmZkVlkAzMzMzM++WQM3MzMzM2JFAmpmZmZkll0CamZmZmQWeQDMzMzMzr6BAzczMzMw6o0AzMzMzMy2mQAAAAAAApqdAZmZmZmY2qECamZmZmQWsQAAAAAAArq9AzczMzMwcskDNzMzMzNGyQM3MzMzMr7NAMzMzMzP2sUAAAAAAAIewQDMzMzMzB6xAzczMzMzMqEAzMzMzM5GjQM3MzMzMTKFAzczMzMxAoEA=",
          "dtype": "f8"
         },
         "yaxis": "y"
        }
       ],
       "layout": {
        "legend": {
         "title": {
          "text": "year"
         },
         "tracegroupgap": 0
        },
        "template": {
         "data": {
          "bar": [
           {
            "error_x": {
             "color": "#2a3f5f"
            },
            "error_y": {
             "color": "#2a3f5f"
            },
            "marker": {
             "line": {
              "color": "white",
              "width": 0.5
             },
             "pattern": {
              "fillmode": "overlay",
              "size": 10,
              "solidity": 0.2
             }
            },
            "type": "bar"
           }
          ],
          "barpolar": [
           {
            "marker": {
             "line": {
              "color": "white",
              "width": 0.5
             },
             "pattern": {
              "fillmode": "overlay",
              "size": 10,
              "solidity": 0.2
             }
            },
            "type": "barpolar"
           }
          ],
          "carpet": [
           {
            "aaxis": {
             "endlinecolor": "#2a3f5f",
             "gridcolor": "#C8D4E3",
             "linecolor": "#C8D4E3",
             "minorgridcolor": "#C8D4E3",
             "startlinecolor": "#2a3f5f"
            },
            "baxis": {
             "endlinecolor": "#2a3f5f",
             "gridcolor": "#C8D4E3",
             "linecolor": "#C8D4E3",
             "minorgridcolor": "#C8D4E3",
             "startlinecolor": "#2a3f5f"
            },
            "type": "carpet"
           }
          ],
          "choropleth": [
           {
            "colorbar": {
             "outlinewidth": 0,
             "ticks": ""
            },
            "type": "choropleth"
           }
          ],
          "contour": [
           {
            "colorbar": {
             "outlinewidth": 0,
             "ticks": ""
            },
            "colorscale": [
             [
              0,
              "#0d0887"
             ],
             [
              0.1111111111111111,
              "#46039f"
             ],
             [
              0.2222222222222222,
              "#7201a8"
             ],
             [
              0.3333333333333333,
              "#9c179e"
             ],
             [
              0.4444444444444444,
              "#bd3786"
             ],
             [
              0.5555555555555556,
              "#d8576b"
             ],
             [
              0.6666666666666666,
              "#ed7953"
             ],
             [
              0.7777777777777778,
              "#fb9f3a"
             ],
             [
              0.8888888888888888,
              "#fdca26"
             ],
             [
              1,
              "#f0f921"
             ]
            ],
            "type": "contour"
           }
          ],
          "contourcarpet": [
           {
            "colorbar": {
             "outlinewidth": 0,
             "ticks": ""
            },
            "type": "contourcarpet"
           }
          ],
          "heatmap": [
           {
            "colorbar": {
             "outlinewidth": 0,
             "ticks": ""
            },
            "colorscale": [
             [
              0,
              "#0d0887"
             ],
             [
              0.1111111111111111,
              "#46039f"
             ],
             [
              0.2222222222222222,
              "#7201a8"
             ],
             [
              0.3333333333333333,
              "#9c179e"
             ],
             [
              0.4444444444444444,
              "#bd3786"
             ],
             [
              0.5555555555555556,
              "#d8576b"
             ],
             [
              0.6666666666666666,
              "#ed7953"
             ],
             [
              0.7777777777777778,
              "#fb9f3a"
             ],
             [
              0.8888888888888888,
              "#fdca26"
             ],
             [
              1,
              "#f0f921"
             ]
            ],
            "type": "heatmap"
           }
          ],
          "histogram": [
           {
            "marker": {
             "pattern": {
              "fillmode": "overlay",
              "size": 10,
              "solidity": 0.2
             }
            },
            "type": "histogram"
           }
          ],
          "histogram2d": [
           {
            "colorbar": {
             "outlinewidth": 0,
             "ticks": ""
            },
            "colorscale": [
             [
              0,
              "#0d0887"
             ],
             [
              0.1111111111111111,
              "#46039f"
             ],
             [
              0.2222222222222222,
              "#7201a8"
             ],
             [
              0.3333333333333333,
              "#9c179e"
             ],
             [
              0.4444444444444444,
              "#bd3786"
             ],
             [
              0.5555555555555556,
              "#d8576b"
             ],
             [
              0.6666666666666666,
              "#ed7953"
             ],
             [
              0.7777777777777778,
              "#fb9f3a"
             ],
             [
              0.8888888888888888,
              "#fdca26"
             ],
             [
              1,
              "#f0f921"
             ]
            ],
            "type": "histogram2d"
           }
          ],
          "histogram2dcontour": [
           {
            "colorbar": {
             "outlinewidth": 0,
             "ticks": ""
            },
            "colorscale": [
             [
              0,
              "#0d0887"
             ],
             [
              0.1111111111111111,
              "#46039f"
             ],
             [
              0.2222222222222222,
              "#7201a8"
             ],
             [
              0.3333333333333333,
              "#9c179e"
             ],
             [
              0.4444444444444444,
              "#bd3786"
             ],
             [
              0.5555555555555556,
              "#d8576b"
             ],
             [
              0.6666666666666666,
              "#ed7953"
             ],
             [
              0.7777777777777778,
              "#fb9f3a"
             ],
             [
              0.8888888888888888,
              "#fdca26"
             ],
             [
              1,
              "#f0f921"
             ]
            ],
            "type": "histogram2dcontour"
           }
          ],
          "mesh3d": [
           {
            "colorbar": {
             "outlinewidth": 0,
             "ticks": ""
            },
            "type": "mesh3d"
           }
          ],
          "parcoords": [
           {
            "line": {
             "colorbar": {
              "outlinewidth": 0,
              "ticks": ""
             }
            },
            "type": "parcoords"
           }
          ],
          "pie": [
           {
            "automargin": true,
            "type": "pie"
           }
          ],
          "scatter": [
           {
            "fillpattern": {
             "fillmode": "overlay",
             "size": 10,
             "solidity": 0.2
            },
            "type": "scatter"
           }
          ],
          "scatter3d": [
           {
            "line": {
             "colorbar": {
              "outlinewidth": 0,
              "ticks": ""
             }
            },
            "marker": {
             "colorbar": {
              "outlinewidth": 0,
              "ticks": ""
             }
            },
            "type": "scatter3d"
           }
          ],
          "scattercarpet": [
           {
            "marker": {
             "colorbar": {
              "outlinewidth": 0,
              "ticks": ""
             }
            },
            "type": "scattercarpet"
           }
          ],
          "scattergeo": [
           {
            "marker": {
             "colorbar": {
              "outlinewidth": 0,
              "ticks": ""
             }
            },
            "type": "scattergeo"
           }
          ],
          "scattergl": [
           {
            "marker": {
             "colorbar": {
              "outlinewidth": 0,
              "ticks": ""
             }
            },
            "type": "scattergl"
           }
          ],
          "scattermap": [
           {
            "marker": {
             "colorbar": {
              "outlinewidth": 0,
              "ticks": ""
             }
            },
            "type": "scattermap"
           }
          ],
          "scattermapbox": [
           {
            "marker": {
             "colorbar": {
              "outlinewidth": 0,
              "ticks": ""
             }
            },
            "type": "scattermapbox"
           }
          ],
          "scatterpolar": [
           {
            "marker": {
             "colorbar": {
              "outlinewidth": 0,
              "ticks": ""
             }
            },
            "type": "scatterpolar"
           }
          ],
          "scatterpolargl": [
           {
            "marker": {
             "colorbar": {
              "outlinewidth": 0,
              "ticks": ""
             }
            },
            "type": "scatterpolargl"
           }
          ],
          "scatterternary": [
           {
            "marker": {
             "colorbar": {
              "outlinewidth": 0,
              "ticks": ""
             }
            },
            "type": "scatterternary"
           }
          ],
          "surface": [
           {
            "colorbar": {
             "outlinewidth": 0,
             "ticks": ""
            },
            "colorscale": [
             [
              0,
              "#0d0887"
             ],
             [
              0.1111111111111111,
              "#46039f"
             ],
             [
              0.2222222222222222,
              "#7201a8"
             ],
             [
              0.3333333333333333,
              "#9c179e"
             ],
             [
              0.4444444444444444,
              "#bd3786"
             ],
             [
              0.5555555555555556,
              "#d8576b"
             ],
             [
              0.6666666666666666,
              "#ed7953"
             ],
             [
              0.7777777777777778,
              "#fb9f3a"
             ],
             [
              0.8888888888888888,
              "#fdca26"
             ],
             [
              1,
              "#f0f921"
             ]
            ],
            "type": "surface"
           }
          ],
          "table": [
           {
            "cells": {
             "fill": {
              "color": "#EBF0F8"
             },
             "line": {
              "color": "white"
             }
            },
            "header": {
             "fill": {
              "color": "#C8D4E3"
             },
             "line": {
              "color": "white"
             }
            },
            "type": "table"
           }
          ]
         },
         "layout": {
          "annotationdefaults": {
           "arrowcolor": "#2a3f5f",
           "arrowhead": 0,
           "arrowwidth": 1
          },
          "autotypenumbers": "strict",
          "coloraxis": {
           "colorbar": {
            "outlinewidth": 0,
            "ticks": ""
           }
          },
          "colorscale": {
           "diverging": [
            [
             0,
             "#8e0152"
            ],
            [
             0.1,
             "#c51b7d"
            ],
            [
             0.2,
             "#de77ae"
            ],
            [
             0.3,
             "#f1b6da"
            ],
            [
             0.4,
             "#fde0ef"
            ],
            [
             0.5,
             "#f7f7f7"
            ],
            [
             0.6,
             "#e6f5d0"
            ],
            [
             0.7,
             "#b8e186"
            ],
            [
             0.8,
             "#7fbc41"
            ],
            [
             0.9,
             "#4d9221"
            ],
            [
             1,
             "#276419"
            ]
           ],
           "sequential": [
            [
             0,
             "#0d0887"
            ],
            [
             0.1111111111111111,
             "#46039f"
            ],
            [
             0.2222222222222222,
             "#7201a8"
            ],
            [
             0.3333333333333333,
             "#9c179e"
            ],
            [
             0.4444444444444444,
             "#bd3786"
            ],
            [
             0.5555555555555556,
             "#d8576b"
            ],
            [
             0.6666666666666666,
             "#ed7953"
            ],
            [
             0.7777777777777778,
             "#fb9f3a"
            ],
            [
             0.8888888888888888,
             "#fdca26"
            ],
            [
             1,
             "#f0f921"
            ]
           ],
           "sequentialminus": [
            [
             0,
             "#0d0887"
            ],
            [
             0.1111111111111111,
             "#46039f"
            ],
            [
             0.2222222222222222,
             "#7201a8"
            ],
            [
             0.3333333333333333,
             "#9c179e"
            ],
            [
             0.4444444444444444,
             "#bd3786"
            ],
            [
             0.5555555555555556,
             "#d8576b"
            ],
            [
             0.6666666666666666,
             "#ed7953"
            ],
            [
             0.7777777777777778,
             "#fb9f3a"
            ],
            [
             0.8888888888888888,
             "#fdca26"
            ],
            [
             1,
             "#f0f921"
            ]
           ]
          },
          "colorway": [
           "#636efa",
           "#EF553B",
           "#00cc96",
           "#ab63fa",
           "#FFA15A",
           "#19d3f3",
           "#FF6692",
           "#B6E880",
           "#FF97FF",
           "#FECB52"
          ],
          "font": {
           "color": "#2a3f5f"
          },
          "geo": {
           "bgcolor": "white",
           "lakecolor": "white",
           "landcolor": "white",
           "showlakes": true,
           "showland": true,
           "subunitcolor": "#C8D4E3"
          },
          "hoverlabel": {
           "align": "left"
          },
          "hovermode": "closest",
          "mapbox": {
           "style": "light"
          },
          "paper_bgcolor": "white",
          "plot_bgcolor": "white",
          "polar": {
           "angularaxis": {
            "gridcolor": "#EBF0F8",
            "linecolor": "#EBF0F8",
            "ticks": ""
           },
           "bgcolor": "white",
           "radialaxis": {
            "gridcolor": "#EBF0F8",
            "linecolor": "#EBF0F8",
            "ticks": ""
           }
          },
          "scene": {
           "xaxis": {
            "backgroundcolor": "white",
            "gridcolor": "#DFE8F3",
            "gridwidth": 2,
            "linecolor": "#EBF0F8",
            "showbackground": true,
            "ticks": "",
            "zerolinecolor": "#EBF0F8"
           },
           "yaxis": {
            "backgroundcolor": "white",
            "gridcolor": "#DFE8F3",
            "gridwidth": 2,
            "linecolor": "#EBF0F8",
            "showbackground": true,
            "ticks": "",
            "zerolinecolor": "#EBF0F8"
           },
           "zaxis": {
            "backgroundcolor": "white",
            "gridcolor": "#DFE8F3",
            "gridwidth": 2,
            "linecolor": "#EBF0F8",
            "showbackground": true,
            "ticks": "",
            "zerolinecolor": "#EBF0F8"
           }
          },
          "shapedefaults": {
           "line": {
            "color": "#2a3f5f"
           }
          },
          "ternary": {
           "aaxis": {
            "gridcolor": "#DFE8F3",
            "linecolor": "#A2B1C6",
            "ticks": ""
           },
           "baxis": {
            "gridcolor": "#DFE8F3",
            "linecolor": "#A2B1C6",
            "ticks": ""
           },
           "bgcolor": "white",
           "caxis": {
            "gridcolor": "#DFE8F3",
            "linecolor": "#A2B1C6",
            "ticks": ""
           }
          },
          "title": {
           "x": 0.05
          },
          "xaxis": {
           "automargin": true,
           "gridcolor": "#EBF0F8",
           "linecolor": "#EBF0F8",
           "ticks": "",
           "title": {
            "standoff": 15
           },
           "zerolinecolor": "#EBF0F8",
           "zerolinewidth": 2
          },
          "yaxis": {
           "automargin": true,
           "gridcolor": "#EBF0F8",
           "linecolor": "#EBF0F8",
           "ticks": "",
           "title": {
            "standoff": 15
           },
           "zerolinecolor": "#EBF0F8",
           "zerolinewidth": 2
          }
         }
        },
        "title": {
         "text": "New Customers Comparison Over Years"
        },
        "xaxis": {
         "anchor": "y",
         "domain": [
          0,
          1
         ],
         "title": {
          "text": "week"
         }
        },
        "yaxis": {
         "anchor": "x",
         "domain": [
          0,
          1
         ],
         "title": {
          "text": "new_customers"
         }
        }
       }
      }
     },
     "metadata": {},
     "output_type": "display_data"
    }
   ],
   "source": [
    "fig = px.line(df.with_columns(pl.col(target).rolling_mean(5)),\n",
    "        x='week',\n",
    "        y=target,\n",
    "        color = 'year',\n",
    "        hover_data=[date_col],\n",
    "        title='New Customers Comparison Over Years')\n",
    "\n",
    "fig.show()"
   ]
  },
  {
   "cell_type": "markdown",
   "metadata": {},
   "source": [
    "🔍 Observations \n",
    "\n",
    "⬛ In 2020, the summer spike in new customers begins at the end of July. <br>\n",
    "⬛ In 2021, the summer spike shifts earlier, starting at the end of May. <br>\n",
    "⬛ In 2022, the summer spike occurs even earlier, at the beginning of May. <br>\n",
    "⬛ In 2023, an unusual decrease in new customers is observed at the beginning of June. <br>\n",
    "⬛ This pattern suggests that a potential yearly seasonality is disrupted by the lingering effects of COVID and an anomalous event in 2023, making it less clean."
   ]
  },
  {
   "cell_type": "code",
   "execution_count": 11,
   "metadata": {},
   "outputs": [
    {
     "data": {
      "application/vnd.plotly.v1+json": {
       "config": {
        "plotlyServerURL": "https://plot.ly"
       },
       "data": [
        {
         "hovertemplate": "Lag=%{x}<br>new_customers=%{y}<extra></extra>",
         "legendgroup": "",
         "line": {
          "color": "#636efa",
          "dash": "solid"
         },
         "marker": {
          "symbol": "circle"
         },
         "mode": "lines",
         "name": "",
         "orientation": "v",
         "showlegend": false,
         "type": "scatter",
         "x": {
          "bdata": "AAECAwQFBgcICQoLDA0ODxAREhMUFRYXGBkaGxwdHh8gISIjJCUmJygpKissLS4vMDEyMzQ1Njc4OTo7PA==",
          "dtype": "i1"
         },
         "xaxis": "x",
         "y": {
          "bdata": "AAAAAAAA8D/PN1YBG4ntP7G8h/JgSOw/TP81tVIc6j8XAdOpFrHnP3/lUPeZW+U/GaHowmp14z+0IcVbUJLgP2OqxCGp7dw/dK9blcMj2D8Nver77XXTP7GEUQ3gIsw/C8K8raoixT9SmgK6FFq2P7gjTdslnZo/1G/Ipn0Jlb9SGWbQ0/uwv0aX3gBKjri/Rcgezl5Pub9MMzpWbIu/v0W3Y6oz1b6/Mb6C/3s5wL9I+cJ0E8/Av+sRv2MXUcO/K+ycdhHlw7+UAJCRVbbEv7cNyBWzPMS/nmTuhsUOxb+lmWgtYenEv00mgkOLCsW/iCxZYORlwr+eeK78qFfAv+K2f5SlIbu/qxIPXYUXu7/WkJkPjsC8vy5a3ej5iL6/nJYJPiqYvb8vpdCNi/+8v9NV2q5XvLO/FtkzTturp78eId89H22JP7EGLyOuqa8/d0ldwZsCvj+Q3MR2Q8nEP7H/hZlqWMs/aqmW7YMW0T99m8dFrPjTP1SCJETINdg/AJGYVjdo3D9A/KSL7j3fP0Ow4qET1eE/xA14/X2A4j+RfAtjigvjP6Udv9xLVOM/7vaqkExw4j/cKuRGDH3hP9LiXfyHAOA/s+kiewEd3D8eB6MHD9LYP7iQUlzLw9Q/KokiuWvF0D8=",
          "dtype": "f8"
         },
         "yaxis": "y"
        }
       ],
       "layout": {
        "legend": {
         "tracegroupgap": 0
        },
        "template": {
         "data": {
          "bar": [
           {
            "error_x": {
             "color": "#2a3f5f"
            },
            "error_y": {
             "color": "#2a3f5f"
            },
            "marker": {
             "line": {
              "color": "white",
              "width": 0.5
             },
             "pattern": {
              "fillmode": "overlay",
              "size": 10,
              "solidity": 0.2
             }
            },
            "type": "bar"
           }
          ],
          "barpolar": [
           {
            "marker": {
             "line": {
              "color": "white",
              "width": 0.5
             },
             "pattern": {
              "fillmode": "overlay",
              "size": 10,
              "solidity": 0.2
             }
            },
            "type": "barpolar"
           }
          ],
          "carpet": [
           {
            "aaxis": {
             "endlinecolor": "#2a3f5f",
             "gridcolor": "#C8D4E3",
             "linecolor": "#C8D4E3",
             "minorgridcolor": "#C8D4E3",
             "startlinecolor": "#2a3f5f"
            },
            "baxis": {
             "endlinecolor": "#2a3f5f",
             "gridcolor": "#C8D4E3",
             "linecolor": "#C8D4E3",
             "minorgridcolor": "#C8D4E3",
             "startlinecolor": "#2a3f5f"
            },
            "type": "carpet"
           }
          ],
          "choropleth": [
           {
            "colorbar": {
             "outlinewidth": 0,
             "ticks": ""
            },
            "type": "choropleth"
           }
          ],
          "contour": [
           {
            "colorbar": {
             "outlinewidth": 0,
             "ticks": ""
            },
            "colorscale": [
             [
              0,
              "#0d0887"
             ],
             [
              0.1111111111111111,
              "#46039f"
             ],
             [
              0.2222222222222222,
              "#7201a8"
             ],
             [
              0.3333333333333333,
              "#9c179e"
             ],
             [
              0.4444444444444444,
              "#bd3786"
             ],
             [
              0.5555555555555556,
              "#d8576b"
             ],
             [
              0.6666666666666666,
              "#ed7953"
             ],
             [
              0.7777777777777778,
              "#fb9f3a"
             ],
             [
              0.8888888888888888,
              "#fdca26"
             ],
             [
              1,
              "#f0f921"
             ]
            ],
            "type": "contour"
           }
          ],
          "contourcarpet": [
           {
            "colorbar": {
             "outlinewidth": 0,
             "ticks": ""
            },
            "type": "contourcarpet"
           }
          ],
          "heatmap": [
           {
            "colorbar": {
             "outlinewidth": 0,
             "ticks": ""
            },
            "colorscale": [
             [
              0,
              "#0d0887"
             ],
             [
              0.1111111111111111,
              "#46039f"
             ],
             [
              0.2222222222222222,
              "#7201a8"
             ],
             [
              0.3333333333333333,
              "#9c179e"
             ],
             [
              0.4444444444444444,
              "#bd3786"
             ],
             [
              0.5555555555555556,
              "#d8576b"
             ],
             [
              0.6666666666666666,
              "#ed7953"
             ],
             [
              0.7777777777777778,
              "#fb9f3a"
             ],
             [
              0.8888888888888888,
              "#fdca26"
             ],
             [
              1,
              "#f0f921"
             ]
            ],
            "type": "heatmap"
           }
          ],
          "histogram": [
           {
            "marker": {
             "pattern": {
              "fillmode": "overlay",
              "size": 10,
              "solidity": 0.2
             }
            },
            "type": "histogram"
           }
          ],
          "histogram2d": [
           {
            "colorbar": {
             "outlinewidth": 0,
             "ticks": ""
            },
            "colorscale": [
             [
              0,
              "#0d0887"
             ],
             [
              0.1111111111111111,
              "#46039f"
             ],
             [
              0.2222222222222222,
              "#7201a8"
             ],
             [
              0.3333333333333333,
              "#9c179e"
             ],
             [
              0.4444444444444444,
              "#bd3786"
             ],
             [
              0.5555555555555556,
              "#d8576b"
             ],
             [
              0.6666666666666666,
              "#ed7953"
             ],
             [
              0.7777777777777778,
              "#fb9f3a"
             ],
             [
              0.8888888888888888,
              "#fdca26"
             ],
             [
              1,
              "#f0f921"
             ]
            ],
            "type": "histogram2d"
           }
          ],
          "histogram2dcontour": [
           {
            "colorbar": {
             "outlinewidth": 0,
             "ticks": ""
            },
            "colorscale": [
             [
              0,
              "#0d0887"
             ],
             [
              0.1111111111111111,
              "#46039f"
             ],
             [
              0.2222222222222222,
              "#7201a8"
             ],
             [
              0.3333333333333333,
              "#9c179e"
             ],
             [
              0.4444444444444444,
              "#bd3786"
             ],
             [
              0.5555555555555556,
              "#d8576b"
             ],
             [
              0.6666666666666666,
              "#ed7953"
             ],
             [
              0.7777777777777778,
              "#fb9f3a"
             ],
             [
              0.8888888888888888,
              "#fdca26"
             ],
             [
              1,
              "#f0f921"
             ]
            ],
            "type": "histogram2dcontour"
           }
          ],
          "mesh3d": [
           {
            "colorbar": {
             "outlinewidth": 0,
             "ticks": ""
            },
            "type": "mesh3d"
           }
          ],
          "parcoords": [
           {
            "line": {
             "colorbar": {
              "outlinewidth": 0,
              "ticks": ""
             }
            },
            "type": "parcoords"
           }
          ],
          "pie": [
           {
            "automargin": true,
            "type": "pie"
           }
          ],
          "scatter": [
           {
            "fillpattern": {
             "fillmode": "overlay",
             "size": 10,
             "solidity": 0.2
            },
            "type": "scatter"
           }
          ],
          "scatter3d": [
           {
            "line": {
             "colorbar": {
              "outlinewidth": 0,
              "ticks": ""
             }
            },
            "marker": {
             "colorbar": {
              "outlinewidth": 0,
              "ticks": ""
             }
            },
            "type": "scatter3d"
           }
          ],
          "scattercarpet": [
           {
            "marker": {
             "colorbar": {
              "outlinewidth": 0,
              "ticks": ""
             }
            },
            "type": "scattercarpet"
           }
          ],
          "scattergeo": [
           {
            "marker": {
             "colorbar": {
              "outlinewidth": 0,
              "ticks": ""
             }
            },
            "type": "scattergeo"
           }
          ],
          "scattergl": [
           {
            "marker": {
             "colorbar": {
              "outlinewidth": 0,
              "ticks": ""
             }
            },
            "type": "scattergl"
           }
          ],
          "scattermap": [
           {
            "marker": {
             "colorbar": {
              "outlinewidth": 0,
              "ticks": ""
             }
            },
            "type": "scattermap"
           }
          ],
          "scattermapbox": [
           {
            "marker": {
             "colorbar": {
              "outlinewidth": 0,
              "ticks": ""
             }
            },
            "type": "scattermapbox"
           }
          ],
          "scatterpolar": [
           {
            "marker": {
             "colorbar": {
              "outlinewidth": 0,
              "ticks": ""
             }
            },
            "type": "scatterpolar"
           }
          ],
          "scatterpolargl": [
           {
            "marker": {
             "colorbar": {
              "outlinewidth": 0,
              "ticks": ""
             }
            },
            "type": "scatterpolargl"
           }
          ],
          "scatterternary": [
           {
            "marker": {
             "colorbar": {
              "outlinewidth": 0,
              "ticks": ""
             }
            },
            "type": "scatterternary"
           }
          ],
          "surface": [
           {
            "colorbar": {
             "outlinewidth": 0,
             "ticks": ""
            },
            "colorscale": [
             [
              0,
              "#0d0887"
             ],
             [
              0.1111111111111111,
              "#46039f"
             ],
             [
              0.2222222222222222,
              "#7201a8"
             ],
             [
              0.3333333333333333,
              "#9c179e"
             ],
             [
              0.4444444444444444,
              "#bd3786"
             ],
             [
              0.5555555555555556,
              "#d8576b"
             ],
             [
              0.6666666666666666,
              "#ed7953"
             ],
             [
              0.7777777777777778,
              "#fb9f3a"
             ],
             [
              0.8888888888888888,
              "#fdca26"
             ],
             [
              1,
              "#f0f921"
             ]
            ],
            "type": "surface"
           }
          ],
          "table": [
           {
            "cells": {
             "fill": {
              "color": "#EBF0F8"
             },
             "line": {
              "color": "white"
             }
            },
            "header": {
             "fill": {
              "color": "#C8D4E3"
             },
             "line": {
              "color": "white"
             }
            },
            "type": "table"
           }
          ]
         },
         "layout": {
          "annotationdefaults": {
           "arrowcolor": "#2a3f5f",
           "arrowhead": 0,
           "arrowwidth": 1
          },
          "autotypenumbers": "strict",
          "coloraxis": {
           "colorbar": {
            "outlinewidth": 0,
            "ticks": ""
           }
          },
          "colorscale": {
           "diverging": [
            [
             0,
             "#8e0152"
            ],
            [
             0.1,
             "#c51b7d"
            ],
            [
             0.2,
             "#de77ae"
            ],
            [
             0.3,
             "#f1b6da"
            ],
            [
             0.4,
             "#fde0ef"
            ],
            [
             0.5,
             "#f7f7f7"
            ],
            [
             0.6,
             "#e6f5d0"
            ],
            [
             0.7,
             "#b8e186"
            ],
            [
             0.8,
             "#7fbc41"
            ],
            [
             0.9,
             "#4d9221"
            ],
            [
             1,
             "#276419"
            ]
           ],
           "sequential": [
            [
             0,
             "#0d0887"
            ],
            [
             0.1111111111111111,
             "#46039f"
            ],
            [
             0.2222222222222222,
             "#7201a8"
            ],
            [
             0.3333333333333333,
             "#9c179e"
            ],
            [
             0.4444444444444444,
             "#bd3786"
            ],
            [
             0.5555555555555556,
             "#d8576b"
            ],
            [
             0.6666666666666666,
             "#ed7953"
            ],
            [
             0.7777777777777778,
             "#fb9f3a"
            ],
            [
             0.8888888888888888,
             "#fdca26"
            ],
            [
             1,
             "#f0f921"
            ]
           ],
           "sequentialminus": [
            [
             0,
             "#0d0887"
            ],
            [
             0.1111111111111111,
             "#46039f"
            ],
            [
             0.2222222222222222,
             "#7201a8"
            ],
            [
             0.3333333333333333,
             "#9c179e"
            ],
            [
             0.4444444444444444,
             "#bd3786"
            ],
            [
             0.5555555555555556,
             "#d8576b"
            ],
            [
             0.6666666666666666,
             "#ed7953"
            ],
            [
             0.7777777777777778,
             "#fb9f3a"
            ],
            [
             0.8888888888888888,
             "#fdca26"
            ],
            [
             1,
             "#f0f921"
            ]
           ]
          },
          "colorway": [
           "#636efa",
           "#EF553B",
           "#00cc96",
           "#ab63fa",
           "#FFA15A",
           "#19d3f3",
           "#FF6692",
           "#B6E880",
           "#FF97FF",
           "#FECB52"
          ],
          "font": {
           "color": "#2a3f5f"
          },
          "geo": {
           "bgcolor": "white",
           "lakecolor": "white",
           "landcolor": "white",
           "showlakes": true,
           "showland": true,
           "subunitcolor": "#C8D4E3"
          },
          "hoverlabel": {
           "align": "left"
          },
          "hovermode": "closest",
          "mapbox": {
           "style": "light"
          },
          "paper_bgcolor": "white",
          "plot_bgcolor": "white",
          "polar": {
           "angularaxis": {
            "gridcolor": "#EBF0F8",
            "linecolor": "#EBF0F8",
            "ticks": ""
           },
           "bgcolor": "white",
           "radialaxis": {
            "gridcolor": "#EBF0F8",
            "linecolor": "#EBF0F8",
            "ticks": ""
           }
          },
          "scene": {
           "xaxis": {
            "backgroundcolor": "white",
            "gridcolor": "#DFE8F3",
            "gridwidth": 2,
            "linecolor": "#EBF0F8",
            "showbackground": true,
            "ticks": "",
            "zerolinecolor": "#EBF0F8"
           },
           "yaxis": {
            "backgroundcolor": "white",
            "gridcolor": "#DFE8F3",
            "gridwidth": 2,
            "linecolor": "#EBF0F8",
            "showbackground": true,
            "ticks": "",
            "zerolinecolor": "#EBF0F8"
           },
           "zaxis": {
            "backgroundcolor": "white",
            "gridcolor": "#DFE8F3",
            "gridwidth": 2,
            "linecolor": "#EBF0F8",
            "showbackground": true,
            "ticks": "",
            "zerolinecolor": "#EBF0F8"
           }
          },
          "shapedefaults": {
           "line": {
            "color": "#2a3f5f"
           }
          },
          "ternary": {
           "aaxis": {
            "gridcolor": "#DFE8F3",
            "linecolor": "#A2B1C6",
            "ticks": ""
           },
           "baxis": {
            "gridcolor": "#DFE8F3",
            "linecolor": "#A2B1C6",
            "ticks": ""
           },
           "bgcolor": "white",
           "caxis": {
            "gridcolor": "#DFE8F3",
            "linecolor": "#A2B1C6",
            "ticks": ""
           }
          },
          "title": {
           "x": 0.05
          },
          "xaxis": {
           "automargin": true,
           "gridcolor": "#EBF0F8",
           "linecolor": "#EBF0F8",
           "ticks": "",
           "title": {
            "standoff": 15
           },
           "zerolinecolor": "#EBF0F8",
           "zerolinewidth": 2
          },
          "yaxis": {
           "automargin": true,
           "gridcolor": "#EBF0F8",
           "linecolor": "#EBF0F8",
           "ticks": "",
           "title": {
            "standoff": 15
           },
           "zerolinecolor": "#EBF0F8",
           "zerolinewidth": 2
          }
         }
        },
        "title": {
         "text": "new_customers - Autocorrelation Function"
        },
        "xaxis": {
         "anchor": "y",
         "domain": [
          0,
          1
         ],
         "title": {
          "text": "Lag"
         }
        },
        "yaxis": {
         "anchor": "x",
         "domain": [
          0,
          1
         ],
         "title": {
          "text": "Correlation"
         }
        }
       }
      }
     },
     "metadata": {},
     "output_type": "display_data"
    }
   ],
   "source": [
    "def compute_autocorrelation(df: pl.DataFrame,\n",
    "                              col_name: str,\n",
    "                              max_lag: int = 60,\n",
    "                              sort_col: str = None) -> pl.DataFrame:\n",
    "    # Optional sorting\n",
    "    if sort_col:\n",
    "        df = df.sort(sort_col)\n",
    "\n",
    "    # Compute autocorrelations for each lag\n",
    "    corrs = []\n",
    "    for lag in range(0, max_lag + 1):\n",
    "        shifted_df = df.with_columns(pl.col(col_name).shift(lag).alias(f\"{col_name}_lag\"))\n",
    "        corr_value = shifted_df.drop_nulls().select(pl.corr(col_name, f\"{col_name}_lag\")).item()\n",
    "        corrs.append(corr_value)\n",
    "\n",
    "    # Return the results as a Polars DataFrame\n",
    "    return pl.DataFrame({\n",
    "        'Lag': range(0, max_lag + 1),\n",
    "         col_name: corrs\n",
    "    })\n",
    "\n",
    "\n",
    "result = compute_autocorrelation(df, col_name=target, max_lag=60, sort_col=date_col)\n",
    "fig=px.line(result, x='Lag', y=target, title=f\"{target} - Autocorrelation Function\")\n",
    "fig.update_layout(yaxis_title=\"Correlation\")\n",
    "fig.show()"
   ]
  },
  {
   "cell_type": "markdown",
   "metadata": {},
   "source": [
    "🔍 Observations <br>\n",
    "\n",
    "The prominent correlation peak at lag 52 further confirms the presence of yearly seasonality. "
   ]
  },
  {
   "cell_type": "markdown",
   "metadata": {},
   "source": [
    "### New customers 💁‍♀️💁‍♂️ vs. Investments 💰\n",
    "\n",
    "Timing matters ⏰"
   ]
  },
  {
   "cell_type": "code",
   "execution_count": 12,
   "metadata": {},
   "outputs": [],
   "source": [
    "def scale_columns_expr(col_names: list[str]) -> pl.Expr:\n",
    "  return [((pl.col(col) - pl.col(col).min()) / (pl.col(col).max() - pl.col(col).min())).alias(f\"{col}_scaled\")\n",
    "          for col in col_names]\n",
    "\n",
    "\n",
    "def shift_col_expr(col_names: list[str], lag: int) -> pl.Expr:\n",
    "  return [pl.col(col).shift(lag).alias(col) for col in col_names]\n",
    "\n",
    "\n",
    "def add_season_column(df: pl.DataFrame, date_col: str,\n",
    "                      new_col: str = \"season\") -> pl.DataFrame:\n",
    "\n",
    "    return df.with_columns(\n",
    "        pl.when(pl.col(date_col).dt.month().is_in([12, 1, 2]))\n",
    "        .then(pl.lit(\"Winter\"))\n",
    "        .when(pl.col(date_col).dt.month().is_in([3, 4, 5]))\n",
    "        .then(pl.lit(\"Spring\"))\n",
    "        .when(pl.col(date_col).dt.month().is_in([6, 7, 8]))\n",
    "        .then(pl.lit(\"Summer\"))\n",
    "        .otherwise(pl.lit(\"Autumn\"))\n",
    "        .alias(new_col)\n",
    "    )"
   ]
  },
  {
   "cell_type": "code",
   "execution_count": 13,
   "metadata": {},
   "outputs": [],
   "source": [
    "def plot_target_channel_relationship(df: pl.DataFrame,\n",
    "                                     col_to_scale: str,\n",
    "                                     col_to_corr: str,\n",
    "                                     plot_title: str,\n",
    "                                     target: str = target,\n",
    "                                     ) -> None:\n",
    "  df_scaled = df.with_columns(scale_columns_expr([target, col_to_scale]))\n",
    "  corr_coeff = df_scaled.select(pl.corr(target, col_to_corr)).item()\n",
    "  corr_coeff = np.round(corr_coeff, 2)\n",
    "\n",
    "\n",
    "  fig = make_subplots(rows=1, cols=2, subplot_titles=(\"Normalized Line Plot\",\n",
    "                                                      f\"Scatter Plot - Corr: {corr_coeff}\"))\n",
    "\n",
    "  fig.add_trace(\n",
    "      go.Scatter(x=df_scaled[date_col].to_list(),\n",
    "                 y=df_scaled[f\"{target}_scaled\"].to_list(),\n",
    "                 mode='lines', name=target),\n",
    "      row=1, col=1\n",
    "  )\n",
    "  fig.add_trace(\n",
    "      go.Scatter(x=df_scaled[date_col].to_list(),\n",
    "                 y=df_scaled[f\"{col_to_scale}_scaled\"].to_list(),\n",
    "                 mode='lines', name=col_to_scale),\n",
    "      row=1, col=1\n",
    "  )\n",
    "  fig.add_trace(\n",
    "      go.Scatter(x=df_scaled[col_to_corr].to_list(),\n",
    "                 y=df_scaled[target].to_list(),\n",
    "                 mode='markers', showlegend=False),\n",
    "      row=1, col=2\n",
    "  )\n",
    "\n",
    "  fig.update_layout(\n",
    "      title=plot_title\n",
    "  )\n",
    "  fig.show()"
   ]
  },
  {
   "cell_type": "code",
   "execution_count": 14,
   "metadata": {},
   "outputs": [],
   "source": [
    "lag_widget = widgets.IntSlider(value=0,\n",
    "    min=0,\n",
    "    max=8,\n",
    "    step=1,\n",
    "    description='Lag')\n",
    "\n",
    "channels_dropdown = widgets.Dropdown(description='Channel', options=channels)\n",
    "def plot_target_channel_relationship_on_lag_change(channel: str,\n",
    "                                                   lag: int):\n",
    "\n",
    "    df_shifted = (\n",
    "        df\n",
    "        .sort(date_col)\n",
    "        .with_columns(shift_col_expr([channel], lag))\n",
    "        .filter(pl.col(channel).is_not_null())\n",
    "\n",
    "    )\n",
    "\n",
    "    plot_title = f\"{target} vs {channel} Relationship - Lag {lag}\"\n",
    "    plot_target_channel_relationship(df_shifted,\n",
    "                                     col_to_scale=channel,\n",
    "                                     col_to_corr=channel,\n",
    "                                     plot_title=plot_title)"
   ]
  },
  {
   "cell_type": "code",
   "execution_count": 15,
   "metadata": {},
   "outputs": [
    {
     "data": {
      "application/vnd.plotly.v1+json": {
       "config": {
        "plotlyServerURL": "https://plot.ly"
       },
       "data": [
        {
         "mode": "lines",
         "name": "new_customers",
         "type": "scatter",
         "x": [
          "2020-05-18",
          "2020-05-25",
          "2020-06-01",
          "2020-06-08",
          "2020-06-15",
          "2020-06-22",
          "2020-06-29",
          "2020-07-06",
          "2020-07-13",
          "2020-07-20",
          "2020-07-27",
          "2020-08-03",
          "2020-08-10",
          "2020-08-17",
          "2020-08-24",
          "2020-08-31",
          "2020-09-07",
          "2020-09-14",
          "2020-09-21",
          "2020-09-28",
          "2020-10-05",
          "2020-10-12",
          "2020-10-19",
          "2020-10-26",
          "2020-11-02",
          "2020-11-09",
          "2020-11-16",
          "2020-11-23",
          "2020-11-30",
          "2020-12-07",
          "2020-12-14",
          "2020-12-21",
          "2020-12-28",
          "2021-01-04",
          "2021-01-11",
          "2021-01-18",
          "2021-01-25",
          "2021-02-01",
          "2021-02-08",
          "2021-02-15",
          "2021-02-22",
          "2021-03-01",
          "2021-03-08",
          "2021-03-15",
          "2021-03-22",
          "2021-03-29",
          "2021-04-05",
          "2021-04-12",
          "2021-04-19",
          "2021-04-26",
          "2021-05-03",
          "2021-05-10",
          "2021-05-17",
          "2021-05-24",
          "2021-05-31",
          "2021-06-07",
          "2021-06-14",
          "2021-06-21",
          "2021-06-28",
          "2021-07-05",
          "2021-07-12",
          "2021-07-19",
          "2021-07-26",
          "2021-08-02",
          "2021-08-09",
          "2021-08-16",
          "2021-08-23",
          "2021-08-30",
          "2021-09-06",
          "2021-09-13",
          "2021-09-20",
          "2021-09-27",
          "2021-10-04",
          "2021-10-11",
          "2021-10-18",
          "2021-10-25",
          "2021-11-01",
          "2021-11-08",
          "2021-11-15",
          "2021-11-22",
          "2021-11-29",
          "2021-12-06",
          "2021-12-13",
          "2021-12-20",
          "2021-12-27",
          "2022-01-03",
          "2022-01-10",
          "2022-01-17",
          "2022-01-24",
          "2022-01-31",
          "2022-02-07",
          "2022-02-14",
          "2022-02-21",
          "2022-02-28",
          "2022-03-07",
          "2022-03-14",
          "2022-03-21",
          "2022-03-28",
          "2022-04-04",
          "2022-04-11",
          "2022-04-18",
          "2022-04-25",
          "2022-05-02",
          "2022-05-09",
          "2022-05-16",
          "2022-05-23",
          "2022-05-30",
          "2022-06-06",
          "2022-06-13",
          "2022-06-20",
          "2022-06-27",
          "2022-07-04",
          "2022-07-11",
          "2022-07-18",
          "2022-07-25",
          "2022-08-01",
          "2022-08-08",
          "2022-08-15",
          "2022-08-22",
          "2022-08-29",
          "2022-09-05",
          "2022-09-12",
          "2022-09-19",
          "2022-09-26",
          "2022-10-03",
          "2022-10-10",
          "2022-10-17",
          "2022-10-24",
          "2022-10-31",
          "2022-11-07",
          "2022-11-14",
          "2022-11-21",
          "2022-11-28",
          "2022-12-05",
          "2022-12-12",
          "2022-12-19",
          "2022-12-26",
          "2023-01-02",
          "2023-01-09",
          "2023-01-16",
          "2023-01-23",
          "2023-01-30",
          "2023-02-06",
          "2023-02-13",
          "2023-02-20",
          "2023-02-27",
          "2023-03-06",
          "2023-03-13",
          "2023-03-20",
          "2023-03-27",
          "2023-04-03",
          "2023-04-10",
          "2023-04-17",
          "2023-04-24",
          "2023-05-01",
          "2023-05-08",
          "2023-05-15",
          "2023-05-22",
          "2023-05-29",
          "2023-06-05",
          "2023-06-12",
          "2023-06-19",
          "2023-06-26",
          "2023-07-03",
          "2023-07-10"
         ],
         "xaxis": "x",
         "y": [
          0.04501132670146755,
          0.0648084310056141,
          0.06205062543090712,
          0.04727666699497686,
          0,
          0.025115729341081455,
          0.012410125086181424,
          0.04373091697035359,
          0.06667979907416527,
          0.10932729242588397,
          0.05505761843790013,
          0.14340588988476313,
          0.16655175810105388,
          0.1733477789815818,
          0.24938441839850292,
          0.2785383630454053,
          0.3111395646606914,
          0.3959420860829312,
          0.42814931547325913,
          0.5248694967004827,
          0.4582881906825569,
          0.3600906136117404,
          0.2563774253915099,
          0.29203191175022164,
          0.26258248793460065,
          0.15473259135230966,
          0.14990643159657244,
          0.08066581306017927,
          0.13217768147345613,
          0.11878262582487935,
          0.1393676745789422,
          0.12370727863685611,
          0.07032404215502808,
          0.056436521225253625,
          0.12301782724317936,
          0.0605732295873141,
          0.12863193144883286,
          0.11188811188811189,
          0.13897370235398404,
          0.16783216783216784,
          0.1270560425490003,
          0.1029252437703142,
          0.14311041071604452,
          0.10479661183886536,
          0.08913621589677928,
          0.06894513936767459,
          0.04865556978233035,
          0.012804097311139566,
          0.07780951442923274,
          0.13848123707278637,
          0.28366000196986113,
          0.21097212646508423,
          0.31458682162907514,
          0.11937358416231657,
          0.09859154929577466,
          0.13986013986013987,
          0.21698020289569586,
          0.19068255687973998,
          0.3165566827538659,
          0.2734167241209495,
          0.3509307593814636,
          0.4373091697035359,
          0.5563872746971339,
          0.47611543386191274,
          0.5813060179257362,
          0.5244755244755245,
          0.5824879346006107,
          0.5429922190485571,
          0.5458485176795036,
          0.5040874618339407,
          0.5346203092681966,
          0.5424997537673594,
          0.5125578646705408,
          0.4713877671624151,
          0.4406579336156801,
          0.41298138481237073,
          0.3544765094060869,
          0.22939032798187728,
          0.22446567516990054,
          0.18319708460553533,
          0.15187629272136316,
          0.14320890377228407,
          0.18319708460553533,
          0.17827243179355856,
          0.4179060376243475,
          0.0950457992711514,
          0.1677336747759283,
          0.14567123017827244,
          0.14882300797793757,
          0.1800453068058702,
          0.22781443908204474,
          0.14064808431005615,
          0.33783118290160546,
          0.1814242095932237,
          0.18053777208706787,
          0.16389244558258642,
          0.11326701467546539,
          0.1637939525263469,
          0.24052004333694477,
          0.293213828425096,
          0.37072786368561017,
          0.3931842805082242,
          0.5207327883384222,
          0.28622082143208905,
          0.35319609967497295,
          0.35624938441839854,
          0.4134738500935684,
          0.548310844085492,
          0.37338717620407763,
          0.4709937949374569,
          0.46262188515709646,
          0.4915788436915198,
          0.5052693785088151,
          0.5611149413966315,
          0.5769723234511968,
          0.5974588791490201,
          0.6465084211563085,
          0.5993302472175712,
          0.7016645326504481,
          0.7876489707475623,
          0.7355461439968483,
          0.7545553038510785,
          0.925440756426672,
          0.8920516103614695,
          0.9369644440066975,
          1,
          0.8693982074263765,
          0.7768147345612134,
          0.769920220624446,
          0.5496897468728454,
          0.3797892248596474,
          0.4377031419284941,
          0.3912144193834335,
          0.3796907318034079,
          0.4716832463311337,
          0.3912144193834335,
          0.21402541120850982,
          0.206145966709347,
          0.08874224367182114,
          0.06766472963656063,
          0.24751305032995174,
          0.049935979513444306,
          0.07564266719196297,
          0.09770511178961884,
          0.09445484093371417,
          0.08716635477198859,
          0.21698020289569586,
          0.2923273909189402,
          0.20319117502216094,
          0.2549000295479169,
          0.2729242588397518,
          0.30976066187333795,
          0.3278833842214124,
          0.4433172461341476,
          0.4854722742046686,
          0.5594405594405595,
          0.39889687777011723,
          0.4372106766472964,
          0.22584457795725402,
          0.3046390229488821,
          0.242588397517975,
          0.19541022357923768,
          0.10735743130109328,
          0.08293115335368857,
          0.2386486752683936
         ],
         "yaxis": "y"
        },
        {
         "mode": "lines",
         "name": "promo_investment",
         "type": "scatter",
         "x": [
          "2020-05-18",
          "2020-05-25",
          "2020-06-01",
          "2020-06-08",
          "2020-06-15",
          "2020-06-22",
          "2020-06-29",
          "2020-07-06",
          "2020-07-13",
          "2020-07-20",
          "2020-07-27",
          "2020-08-03",
          "2020-08-10",
          "2020-08-17",
          "2020-08-24",
          "2020-08-31",
          "2020-09-07",
          "2020-09-14",
          "2020-09-21",
          "2020-09-28",
          "2020-10-05",
          "2020-10-12",
          "2020-10-19",
          "2020-10-26",
          "2020-11-02",
          "2020-11-09",
          "2020-11-16",
          "2020-11-23",
          "2020-11-30",
          "2020-12-07",
          "2020-12-14",
          "2020-12-21",
          "2020-12-28",
          "2021-01-04",
          "2021-01-11",
          "2021-01-18",
          "2021-01-25",
          "2021-02-01",
          "2021-02-08",
          "2021-02-15",
          "2021-02-22",
          "2021-03-01",
          "2021-03-08",
          "2021-03-15",
          "2021-03-22",
          "2021-03-29",
          "2021-04-05",
          "2021-04-12",
          "2021-04-19",
          "2021-04-26",
          "2021-05-03",
          "2021-05-10",
          "2021-05-17",
          "2021-05-24",
          "2021-05-31",
          "2021-06-07",
          "2021-06-14",
          "2021-06-21",
          "2021-06-28",
          "2021-07-05",
          "2021-07-12",
          "2021-07-19",
          "2021-07-26",
          "2021-08-02",
          "2021-08-09",
          "2021-08-16",
          "2021-08-23",
          "2021-08-30",
          "2021-09-06",
          "2021-09-13",
          "2021-09-20",
          "2021-09-27",
          "2021-10-04",
          "2021-10-11",
          "2021-10-18",
          "2021-10-25",
          "2021-11-01",
          "2021-11-08",
          "2021-11-15",
          "2021-11-22",
          "2021-11-29",
          "2021-12-06",
          "2021-12-13",
          "2021-12-20",
          "2021-12-27",
          "2022-01-03",
          "2022-01-10",
          "2022-01-17",
          "2022-01-24",
          "2022-01-31",
          "2022-02-07",
          "2022-02-14",
          "2022-02-21",
          "2022-02-28",
          "2022-03-07",
          "2022-03-14",
          "2022-03-21",
          "2022-03-28",
          "2022-04-04",
          "2022-04-11",
          "2022-04-18",
          "2022-04-25",
          "2022-05-02",
          "2022-05-09",
          "2022-05-16",
          "2022-05-23",
          "2022-05-30",
          "2022-06-06",
          "2022-06-13",
          "2022-06-20",
          "2022-06-27",
          "2022-07-04",
          "2022-07-11",
          "2022-07-18",
          "2022-07-25",
          "2022-08-01",
          "2022-08-08",
          "2022-08-15",
          "2022-08-22",
          "2022-08-29",
          "2022-09-05",
          "2022-09-12",
          "2022-09-19",
          "2022-09-26",
          "2022-10-03",
          "2022-10-10",
          "2022-10-17",
          "2022-10-24",
          "2022-10-31",
          "2022-11-07",
          "2022-11-14",
          "2022-11-21",
          "2022-11-28",
          "2022-12-05",
          "2022-12-12",
          "2022-12-19",
          "2022-12-26",
          "2023-01-02",
          "2023-01-09",
          "2023-01-16",
          "2023-01-23",
          "2023-01-30",
          "2023-02-06",
          "2023-02-13",
          "2023-02-20",
          "2023-02-27",
          "2023-03-06",
          "2023-03-13",
          "2023-03-20",
          "2023-03-27",
          "2023-04-03",
          "2023-04-10",
          "2023-04-17",
          "2023-04-24",
          "2023-05-01",
          "2023-05-08",
          "2023-05-15",
          "2023-05-22",
          "2023-05-29",
          "2023-06-05",
          "2023-06-12",
          "2023-06-19",
          "2023-06-26",
          "2023-07-03",
          "2023-07-10"
         ],
         "xaxis": "x",
         "y": [
          0.002746457497311473,
          0.008426290992922662,
          0.013814929864939202,
          0.0098612892101347,
          0.020745159149469335,
          0.026709189480708037,
          0.012723766649577,
          0.025009264073133846,
          0.015452782010965907,
          0.01864896755044109,
          0.006669819399094044,
          0.024111162578574725,
          0.04404704304592541,
          0.02648843105058889,
          0.03372090817509302,
          0.03597323147098113,
          0.035224320630841986,
          0.054585082296758715,
          0.04443337568287936,
          0.04372435229074102,
          0.05245881450015661,
          0.03223689202831413,
          0.06962607257082647,
          0.08020510796214424,
          0.05813640480124579,
          0.04041109748063628,
          0.036353075857769035,
          0.02699786855000108,
          0.020403826546012888,
          0.03348247322695331,
          0.0072423269251910075,
          0.022665625695356212,
          0.016036106144650657,
          0.026260648229374406,
          0.015815845921308566,
          0.017732137567466104,
          0.02849140745812984,
          0.02955066221852809,
          0.023606254046605348,
          0.05762468125769149,
          0.03821933559503966,
          0.023644438074039754,
          0.007607896548854295,
          0.01978683448104329,
          0.01831907043474629,
          0.042826988092923325,
          0.026205179652301017,
          0.02665926002651175,
          0.048492988002044754,
          0.0730576916797879,
          0.13936362614477193,
          0.0736121735657544,
          0.08350160290192721,
          0.042394233348821114,
          0.0502166711449213,
          0.06413869112062733,
          0.05573771685319804,
          0.07156633296916994,
          0.12888709372817614,
          0.053077450541345834,
          0.05315075543602328,
          0.04375751686539216,
          0.09035663376181043,
          0.06086020276516577,
          0.08131721786790197,
          0.1052065516631839,
          0.07930343559782527,
          0.054740377965619966,
          0.06543061861838166,
          0.059929732723832105,
          0.04441631408721043,
          0.06536518828313934,
          0.05663299244594915,
          0.05459818201862868,
          0.04124455590838555,
          0.05126798501720391,
          0.06237036565168987,
          0.051148799420010146,
          0.03989710347979471,
          0.06006372251821181,
          0.0469469504371714,
          0.025076967340139426,
          0.034876335875832075,
          0.03372543991502043,
          0.06471210485742489,
          0.031929006006061515,
          0.01207114954706669,
          0.02244821608844634,
          0.042654450784314596,
          0.033473120377389205,
          0.04154727908213862,
          0.031233375499252487,
          0.09341257313757455,
          0.03232912532495896,
          0.037958288825021856,
          0.051224103550655126,
          0.042256498791634685,
          0.0015481455924000126,
          0.05211412039640551,
          0.07180102158074958,
          0.09040963134524052,
          0.07812366126328525,
          0.1383282949765357,
          0.06718584697720999,
          0.06994511827889427,
          0.09407260756390427,
          0.08971847932857313,
          0.07878851525898242,
          0.06846325810721844,
          0.04420719658998002,
          0.0658091058605634,
          0.1020558807075791,
          0.1329456710199077,
          0.1727478023365059,
          0.22946940014236536,
          0.17546644883652496,
          0.23993730547755818,
          0.32938657631692064,
          0.6924649465061418,
          0.683022791797649,
          0.31408954990255433,
          0.35428263828006024,
          0.5485947955117283,
          0.5572757394597482,
          0.6420935616127686,
          0.9801155987990412,
          1,
          0.9686263713790375,
          0.7516016938204031,
          0.5414825628625859,
          0.3215971579083552,
          0.3241076025677129,
          0.26776137352808826,
          0.2457438282664534,
          0.45849862375337674,
          0.2677624107989577,
          0.026241499786554847,
          0.028833170175070026,
          0.026891091589360976,
          0.020478883845166447,
          0.026670096439952707,
          0.013614640568091363,
          0.017699702420789706,
          0.015154909791239918,
          0.014043237221489221,
          0,
          0.03321624063833407,
          0.0660708528503637,
          0.04200247203299017,
          0.043244732645573034,
          0.031002940732896687,
          0.11434155093929756,
          0.08466792951420517,
          0.36965121991023464,
          0.3010054387281291,
          0.2770375102513957,
          0.5006410721049552,
          0.3481142380769922,
          0.12984469551142322,
          0.028257243422066654,
          0.022866301141046708,
          0.02891018363622745,
          0.028237152953938627,
          0.022447749721712863,
          0.03176303011040695
         ],
         "yaxis": "y"
        },
        {
         "mode": "markers",
         "showlegend": false,
         "type": "scatter",
         "x": [
          1304.227029,
          3000.504127,
          4609.816216,
          3429.065037,
          6679.522877,
          8460.675101,
          4283.941316,
          7952.993927,
          5098.959267,
          6053.497166,
          2475.935486,
          7684.776734,
          13638.60927,
          8394.745797,
          10554.7185,
          11227.3728,
          11003.71126,
          16785.78509,
          13753.98716,
          13542.23797,
          16150.77715,
          10111.51843,
          21277.76313,
          24437.18241,
          17846.38432,
          12552.73744,
          11340.81298,
          8546.888842,
          6577.584206,
          10483.51012,
          2646.914337,
          7253.068461,
          5273.168488,
          8326.718665,
          5207.387973,
          5779.686727,
          8992.932876,
          9309.278345,
          7533.986261,
          17693.55855,
          11898.16975,
          7545.389886,
          2756.091372,
          6393.320088,
          5954.973693,
          13274.24097,
          8310.153025,
          8445.763715,
          14966.38668,
          22302.61305,
          42104.81996,
          22468.20856,
          25421.67762,
          13144.99916,
          15481.16308,
          19638.96166,
          17130.01835,
          21857.22013,
          38976.0131,
          16335.53224,
          16357.42468,
          13552.14254,
          27468.92634,
          18659.8441,
          24769.31302,
          31903.84079,
          24167.89878,
          16832.164,
          20024.79463,
          18381.96007,
          13748.89173,
          20005.25392,
          17397.39159,
          16789.69731,
          12801.64904,
          15795.13701,
          19110.85287,
          15759.54234,
          12399.2336,
          18421.976,
          14504.66397,
          7973.213446,
          10899.78593,
          10556.0719,
          19810.21115,
          10019.56855,
          4089.037813,
          7188.13928,
          13222.71286,
          10480.7169,
          12892.05704,
          9811.819133,
          28381.57985,
          10139.06382,
          11820.20837,
          15782.03185,
          13103.86486,
          946.3522705,
          16047.83457,
          21927.30967,
          27484.75402,
          23815.56025,
          41795.61925,
          20548.99198,
          21373.04584,
          28578.69853,
          27278.3421,
          24014.11829,
          20930.48965,
          13686.43898,
          20137.8295,
          30962.89578,
          40188.10351,
          52074.97376,
          69014.82726,
          52886.89506,
          72141.05765,
          98855.00088,
          207288.0253,
          204468.1344,
          94286.55788,
          106290.1871,
          164321.3358,
          166913.8918,
          192244.6571,
          293194.6305,
          299133.0888,
          289763.3832,
          224949.161,
          162197.274,
          96528.69817,
          97278.44018,
          80450.69022,
          73875.17039,
          137414.1962,
          80451,
          8321,
          9095,
          8515,
          6600,
          8449,
          4550,
          5770,
          5010,
          4678,
          484,
          10404,
          20216,
          13028,
          13399,
          9743,
          34632,
          25770,
          110880,
          90379,
          83221,
          150000,
          104448,
          39262,
          8923,
          7313,
          9118,
          8917,
          7188,
          9970
         ],
         "xaxis": "x2",
         "y": [
          777,
          978,
          950,
          800,
          320,
          575,
          446,
          764,
          997,
          1430,
          879,
          1776,
          2011,
          2080,
          2852,
          3148,
          3479,
          4340,
          4667,
          5649,
          4973,
          3976,
          2923,
          3285,
          2986,
          1891,
          1842,
          1139,
          1662,
          1526,
          1735,
          1576,
          1034,
          893,
          1569,
          935,
          1626,
          1456,
          1731,
          2024,
          1610,
          1365,
          1773,
          1384,
          1225,
          1020,
          814,
          450,
          1110,
          1726,
          3200,
          2462,
          3514,
          1532,
          1321,
          1740,
          2523,
          2256,
          3534,
          3096,
          3883,
          4760,
          5969,
          5154,
          6222,
          5645,
          6234,
          5833,
          5862,
          5438,
          5748,
          5828,
          5524,
          5106,
          4794,
          4513,
          3919,
          2649,
          2599,
          2180,
          1862,
          1774,
          2180,
          2130,
          4563,
          1285,
          2023,
          1799,
          1831,
          2148,
          2633,
          1748,
          3750,
          2162,
          2153,
          1984,
          1470,
          1983,
          2762,
          3297,
          4084,
          4312,
          5607,
          3226,
          3906,
          3937,
          4518,
          5887,
          4111,
          5102,
          5017,
          5311,
          5450,
          6017,
          6178,
          6386,
          6884,
          6405,
          7444,
          8317,
          7788,
          7981,
          9716,
          9377,
          9833,
          10473,
          9147,
          8207,
          8137,
          5901,
          4176,
          4764,
          4292,
          4175,
          5109,
          4292,
          2493,
          2413,
          1221,
          1007,
          2833,
          827,
          1088,
          1312,
          1279,
          1205,
          2523,
          3288,
          2383,
          2908,
          3091,
          3465,
          3649,
          4821,
          5249,
          6000,
          4370,
          4759,
          2613,
          3413,
          2783,
          2304,
          1410,
          1162,
          2743
         ],
         "yaxis": "y2"
        }
       ],
       "layout": {
        "annotations": [
         {
          "font": {
           "size": 16
          },
          "showarrow": false,
          "text": "Normalized Line Plot",
          "x": 0.225,
          "xanchor": "center",
          "xref": "paper",
          "y": 1,
          "yanchor": "bottom",
          "yref": "paper"
         },
         {
          "font": {
           "size": 16
          },
          "showarrow": false,
          "text": "Scatter Plot - Corr: 0.75",
          "x": 0.775,
          "xanchor": "center",
          "xref": "paper",
          "y": 1,
          "yanchor": "bottom",
          "yref": "paper"
         }
        ],
        "template": {
         "data": {
          "bar": [
           {
            "error_x": {
             "color": "#2a3f5f"
            },
            "error_y": {
             "color": "#2a3f5f"
            },
            "marker": {
             "line": {
              "color": "white",
              "width": 0.5
             },
             "pattern": {
              "fillmode": "overlay",
              "size": 10,
              "solidity": 0.2
             }
            },
            "type": "bar"
           }
          ],
          "barpolar": [
           {
            "marker": {
             "line": {
              "color": "white",
              "width": 0.5
             },
             "pattern": {
              "fillmode": "overlay",
              "size": 10,
              "solidity": 0.2
             }
            },
            "type": "barpolar"
           }
          ],
          "carpet": [
           {
            "aaxis": {
             "endlinecolor": "#2a3f5f",
             "gridcolor": "#C8D4E3",
             "linecolor": "#C8D4E3",
             "minorgridcolor": "#C8D4E3",
             "startlinecolor": "#2a3f5f"
            },
            "baxis": {
             "endlinecolor": "#2a3f5f",
             "gridcolor": "#C8D4E3",
             "linecolor": "#C8D4E3",
             "minorgridcolor": "#C8D4E3",
             "startlinecolor": "#2a3f5f"
            },
            "type": "carpet"
           }
          ],
          "choropleth": [
           {
            "colorbar": {
             "outlinewidth": 0,
             "ticks": ""
            },
            "type": "choropleth"
           }
          ],
          "contour": [
           {
            "colorbar": {
             "outlinewidth": 0,
             "ticks": ""
            },
            "colorscale": [
             [
              0,
              "#0d0887"
             ],
             [
              0.1111111111111111,
              "#46039f"
             ],
             [
              0.2222222222222222,
              "#7201a8"
             ],
             [
              0.3333333333333333,
              "#9c179e"
             ],
             [
              0.4444444444444444,
              "#bd3786"
             ],
             [
              0.5555555555555556,
              "#d8576b"
             ],
             [
              0.6666666666666666,
              "#ed7953"
             ],
             [
              0.7777777777777778,
              "#fb9f3a"
             ],
             [
              0.8888888888888888,
              "#fdca26"
             ],
             [
              1,
              "#f0f921"
             ]
            ],
            "type": "contour"
           }
          ],
          "contourcarpet": [
           {
            "colorbar": {
             "outlinewidth": 0,
             "ticks": ""
            },
            "type": "contourcarpet"
           }
          ],
          "heatmap": [
           {
            "colorbar": {
             "outlinewidth": 0,
             "ticks": ""
            },
            "colorscale": [
             [
              0,
              "#0d0887"
             ],
             [
              0.1111111111111111,
              "#46039f"
             ],
             [
              0.2222222222222222,
              "#7201a8"
             ],
             [
              0.3333333333333333,
              "#9c179e"
             ],
             [
              0.4444444444444444,
              "#bd3786"
             ],
             [
              0.5555555555555556,
              "#d8576b"
             ],
             [
              0.6666666666666666,
              "#ed7953"
             ],
             [
              0.7777777777777778,
              "#fb9f3a"
             ],
             [
              0.8888888888888888,
              "#fdca26"
             ],
             [
              1,
              "#f0f921"
             ]
            ],
            "type": "heatmap"
           }
          ],
          "histogram": [
           {
            "marker": {
             "pattern": {
              "fillmode": "overlay",
              "size": 10,
              "solidity": 0.2
             }
            },
            "type": "histogram"
           }
          ],
          "histogram2d": [
           {
            "colorbar": {
             "outlinewidth": 0,
             "ticks": ""
            },
            "colorscale": [
             [
              0,
              "#0d0887"
             ],
             [
              0.1111111111111111,
              "#46039f"
             ],
             [
              0.2222222222222222,
              "#7201a8"
             ],
             [
              0.3333333333333333,
              "#9c179e"
             ],
             [
              0.4444444444444444,
              "#bd3786"
             ],
             [
              0.5555555555555556,
              "#d8576b"
             ],
             [
              0.6666666666666666,
              "#ed7953"
             ],
             [
              0.7777777777777778,
              "#fb9f3a"
             ],
             [
              0.8888888888888888,
              "#fdca26"
             ],
             [
              1,
              "#f0f921"
             ]
            ],
            "type": "histogram2d"
           }
          ],
          "histogram2dcontour": [
           {
            "colorbar": {
             "outlinewidth": 0,
             "ticks": ""
            },
            "colorscale": [
             [
              0,
              "#0d0887"
             ],
             [
              0.1111111111111111,
              "#46039f"
             ],
             [
              0.2222222222222222,
              "#7201a8"
             ],
             [
              0.3333333333333333,
              "#9c179e"
             ],
             [
              0.4444444444444444,
              "#bd3786"
             ],
             [
              0.5555555555555556,
              "#d8576b"
             ],
             [
              0.6666666666666666,
              "#ed7953"
             ],
             [
              0.7777777777777778,
              "#fb9f3a"
             ],
             [
              0.8888888888888888,
              "#fdca26"
             ],
             [
              1,
              "#f0f921"
             ]
            ],
            "type": "histogram2dcontour"
           }
          ],
          "mesh3d": [
           {
            "colorbar": {
             "outlinewidth": 0,
             "ticks": ""
            },
            "type": "mesh3d"
           }
          ],
          "parcoords": [
           {
            "line": {
             "colorbar": {
              "outlinewidth": 0,
              "ticks": ""
             }
            },
            "type": "parcoords"
           }
          ],
          "pie": [
           {
            "automargin": true,
            "type": "pie"
           }
          ],
          "scatter": [
           {
            "fillpattern": {
             "fillmode": "overlay",
             "size": 10,
             "solidity": 0.2
            },
            "type": "scatter"
           }
          ],
          "scatter3d": [
           {
            "line": {
             "colorbar": {
              "outlinewidth": 0,
              "ticks": ""
             }
            },
            "marker": {
             "colorbar": {
              "outlinewidth": 0,
              "ticks": ""
             }
            },
            "type": "scatter3d"
           }
          ],
          "scattercarpet": [
           {
            "marker": {
             "colorbar": {
              "outlinewidth": 0,
              "ticks": ""
             }
            },
            "type": "scattercarpet"
           }
          ],
          "scattergeo": [
           {
            "marker": {
             "colorbar": {
              "outlinewidth": 0,
              "ticks": ""
             }
            },
            "type": "scattergeo"
           }
          ],
          "scattergl": [
           {
            "marker": {
             "colorbar": {
              "outlinewidth": 0,
              "ticks": ""
             }
            },
            "type": "scattergl"
           }
          ],
          "scattermap": [
           {
            "marker": {
             "colorbar": {
              "outlinewidth": 0,
              "ticks": ""
             }
            },
            "type": "scattermap"
           }
          ],
          "scattermapbox": [
           {
            "marker": {
             "colorbar": {
              "outlinewidth": 0,
              "ticks": ""
             }
            },
            "type": "scattermapbox"
           }
          ],
          "scatterpolar": [
           {
            "marker": {
             "colorbar": {
              "outlinewidth": 0,
              "ticks": ""
             }
            },
            "type": "scatterpolar"
           }
          ],
          "scatterpolargl": [
           {
            "marker": {
             "colorbar": {
              "outlinewidth": 0,
              "ticks": ""
             }
            },
            "type": "scatterpolargl"
           }
          ],
          "scatterternary": [
           {
            "marker": {
             "colorbar": {
              "outlinewidth": 0,
              "ticks": ""
             }
            },
            "type": "scatterternary"
           }
          ],
          "surface": [
           {
            "colorbar": {
             "outlinewidth": 0,
             "ticks": ""
            },
            "colorscale": [
             [
              0,
              "#0d0887"
             ],
             [
              0.1111111111111111,
              "#46039f"
             ],
             [
              0.2222222222222222,
              "#7201a8"
             ],
             [
              0.3333333333333333,
              "#9c179e"
             ],
             [
              0.4444444444444444,
              "#bd3786"
             ],
             [
              0.5555555555555556,
              "#d8576b"
             ],
             [
              0.6666666666666666,
              "#ed7953"
             ],
             [
              0.7777777777777778,
              "#fb9f3a"
             ],
             [
              0.8888888888888888,
              "#fdca26"
             ],
             [
              1,
              "#f0f921"
             ]
            ],
            "type": "surface"
           }
          ],
          "table": [
           {
            "cells": {
             "fill": {
              "color": "#EBF0F8"
             },
             "line": {
              "color": "white"
             }
            },
            "header": {
             "fill": {
              "color": "#C8D4E3"
             },
             "line": {
              "color": "white"
             }
            },
            "type": "table"
           }
          ]
         },
         "layout": {
          "annotationdefaults": {
           "arrowcolor": "#2a3f5f",
           "arrowhead": 0,
           "arrowwidth": 1
          },
          "autotypenumbers": "strict",
          "coloraxis": {
           "colorbar": {
            "outlinewidth": 0,
            "ticks": ""
           }
          },
          "colorscale": {
           "diverging": [
            [
             0,
             "#8e0152"
            ],
            [
             0.1,
             "#c51b7d"
            ],
            [
             0.2,
             "#de77ae"
            ],
            [
             0.3,
             "#f1b6da"
            ],
            [
             0.4,
             "#fde0ef"
            ],
            [
             0.5,
             "#f7f7f7"
            ],
            [
             0.6,
             "#e6f5d0"
            ],
            [
             0.7,
             "#b8e186"
            ],
            [
             0.8,
             "#7fbc41"
            ],
            [
             0.9,
             "#4d9221"
            ],
            [
             1,
             "#276419"
            ]
           ],
           "sequential": [
            [
             0,
             "#0d0887"
            ],
            [
             0.1111111111111111,
             "#46039f"
            ],
            [
             0.2222222222222222,
             "#7201a8"
            ],
            [
             0.3333333333333333,
             "#9c179e"
            ],
            [
             0.4444444444444444,
             "#bd3786"
            ],
            [
             0.5555555555555556,
             "#d8576b"
            ],
            [
             0.6666666666666666,
             "#ed7953"
            ],
            [
             0.7777777777777778,
             "#fb9f3a"
            ],
            [
             0.8888888888888888,
             "#fdca26"
            ],
            [
             1,
             "#f0f921"
            ]
           ],
           "sequentialminus": [
            [
             0,
             "#0d0887"
            ],
            [
             0.1111111111111111,
             "#46039f"
            ],
            [
             0.2222222222222222,
             "#7201a8"
            ],
            [
             0.3333333333333333,
             "#9c179e"
            ],
            [
             0.4444444444444444,
             "#bd3786"
            ],
            [
             0.5555555555555556,
             "#d8576b"
            ],
            [
             0.6666666666666666,
             "#ed7953"
            ],
            [
             0.7777777777777778,
             "#fb9f3a"
            ],
            [
             0.8888888888888888,
             "#fdca26"
            ],
            [
             1,
             "#f0f921"
            ]
           ]
          },
          "colorway": [
           "#636efa",
           "#EF553B",
           "#00cc96",
           "#ab63fa",
           "#FFA15A",
           "#19d3f3",
           "#FF6692",
           "#B6E880",
           "#FF97FF",
           "#FECB52"
          ],
          "font": {
           "color": "#2a3f5f"
          },
          "geo": {
           "bgcolor": "white",
           "lakecolor": "white",
           "landcolor": "white",
           "showlakes": true,
           "showland": true,
           "subunitcolor": "#C8D4E3"
          },
          "hoverlabel": {
           "align": "left"
          },
          "hovermode": "closest",
          "mapbox": {
           "style": "light"
          },
          "paper_bgcolor": "white",
          "plot_bgcolor": "white",
          "polar": {
           "angularaxis": {
            "gridcolor": "#EBF0F8",
            "linecolor": "#EBF0F8",
            "ticks": ""
           },
           "bgcolor": "white",
           "radialaxis": {
            "gridcolor": "#EBF0F8",
            "linecolor": "#EBF0F8",
            "ticks": ""
           }
          },
          "scene": {
           "xaxis": {
            "backgroundcolor": "white",
            "gridcolor": "#DFE8F3",
            "gridwidth": 2,
            "linecolor": "#EBF0F8",
            "showbackground": true,
            "ticks": "",
            "zerolinecolor": "#EBF0F8"
           },
           "yaxis": {
            "backgroundcolor": "white",
            "gridcolor": "#DFE8F3",
            "gridwidth": 2,
            "linecolor": "#EBF0F8",
            "showbackground": true,
            "ticks": "",
            "zerolinecolor": "#EBF0F8"
           },
           "zaxis": {
            "backgroundcolor": "white",
            "gridcolor": "#DFE8F3",
            "gridwidth": 2,
            "linecolor": "#EBF0F8",
            "showbackground": true,
            "ticks": "",
            "zerolinecolor": "#EBF0F8"
           }
          },
          "shapedefaults": {
           "line": {
            "color": "#2a3f5f"
           }
          },
          "ternary": {
           "aaxis": {
            "gridcolor": "#DFE8F3",
            "linecolor": "#A2B1C6",
            "ticks": ""
           },
           "baxis": {
            "gridcolor": "#DFE8F3",
            "linecolor": "#A2B1C6",
            "ticks": ""
           },
           "bgcolor": "white",
           "caxis": {
            "gridcolor": "#DFE8F3",
            "linecolor": "#A2B1C6",
            "ticks": ""
           }
          },
          "title": {
           "x": 0.05
          },
          "xaxis": {
           "automargin": true,
           "gridcolor": "#EBF0F8",
           "linecolor": "#EBF0F8",
           "ticks": "",
           "title": {
            "standoff": 15
           },
           "zerolinecolor": "#EBF0F8",
           "zerolinewidth": 2
          },
          "yaxis": {
           "automargin": true,
           "gridcolor": "#EBF0F8",
           "linecolor": "#EBF0F8",
           "ticks": "",
           "title": {
            "standoff": 15
           },
           "zerolinecolor": "#EBF0F8",
           "zerolinewidth": 2
          }
         }
        },
        "title": {
         "text": "new_customers vs promo_investment Relationship - Lag 0"
        },
        "xaxis": {
         "anchor": "y",
         "domain": [
          0,
          0.45
         ]
        },
        "xaxis2": {
         "anchor": "y2",
         "domain": [
          0.55,
          1
         ]
        },
        "yaxis": {
         "anchor": "x",
         "domain": [
          0,
          1
         ]
        },
        "yaxis2": {
         "anchor": "x2",
         "domain": [
          0,
          1
         ]
        }
       }
      }
     },
     "metadata": {},
     "output_type": "display_data"
    },
    {
     "data": {
      "application/vnd.jupyter.widget-view+json": {
       "model_id": "a3dfe5bd0d09464badaf4e10c202828b",
       "version_major": 2,
       "version_minor": 0
      },
      "text/plain": [
       "interactive(children=(Dropdown(description='Channel', options=('promo_investment', 'ppc_brand_investment', 'pp…"
      ]
     },
     "metadata": {},
     "output_type": "display_data"
    }
   ],
   "source": [
    "interactive_relationship_plot = interactive(plot_target_channel_relationship_on_lag_change,\n",
    "                                            channel = channels_dropdown,\n",
    "                                            lag=lag_widget\n",
    "                                            )\n",
    "\n",
    "display(interactive_relationship_plot)"
   ]
  },
  {
   "cell_type": "markdown",
   "metadata": {},
   "source": [
    "🔍 Observations <br>\n",
    "\n",
    "⬛ 🧐: the target saturates beyond a certain threshold of investment, indicating diminishing returns. <br>\n",
    "⬛ For all other channels, except PPC brand, we observe a stronger correlation when the investments are lagged, suggesting a delayed effect on the target. <br>\n",
    "⬛ Additionally, in most cases, the relationship between investments and the target is not perfectly linear, highlighting the need for transformations or advanced modeling techniques to capture these dynamics effectively."
   ]
  },
  {
   "cell_type": "markdown",
   "metadata": {},
   "source": [
    "### Quantitative Analysis - Cross Correlation \n",
    "⬛ Cross Correlation <br>\n",
    "⬛ Spearman Correlation"
   ]
  },
  {
   "cell_type": "code",
   "execution_count": 16,
   "metadata": {},
   "outputs": [],
   "source": [
    "def compute_cross_correlation(df: pl.DataFrame,\n",
    "                              target: str,\n",
    "                              feature: str,\n",
    "                              max_lag: int,\n",
    "                              corr_method: str\n",
    "                              ) -> pl.DataFrame:\n",
    "\n",
    "    corrs = []\n",
    "    for lag in range(0, max_lag + 1):\n",
    "        shifted_df = df.with_columns(pl.col(feature).shift(lag).alias(f\"{feature}_lag\"))\n",
    "        corr_value = shifted_df.drop_nulls().select(pl.corr(target, f\"{feature}_lag\",\n",
    "                                                            method=corr_method)).item()\n",
    "        corrs.append(corr_value)\n",
    "\n",
    "    return pl.DataFrame({\n",
    "        'Lag': range(0, max_lag + 1),\n",
    "         feature: corrs\n",
    "    })\n",
    "\n",
    "\n",
    "def get_cross_correlation_df(df: pl.DataFrame,\n",
    "                             target: str = target,\n",
    "                             channels: list[str] = channels,\n",
    "                             max_lag: int = 12,\n",
    "                             sort_col: str = date_col,\n",
    "                             corr_method: str = 'pearson'):\n",
    "\n",
    "  sorted_df = df.sort(sort_col)\n",
    "  cross_correlations_list = []\n",
    "  for channel in channels:\n",
    "    sel_df = sorted_df.select(target, channel)\n",
    "    cross_correlations_list.append(\n",
    "        compute_cross_correlation(sel_df, target, channel,\n",
    "                                  max_lag, corr_method)\n",
    "    )\n",
    "\n",
    "  return pl.concat(cross_correlations_list, how=\"align\")"
   ]
  },
  {
   "cell_type": "code",
   "execution_count": 17,
   "metadata": {},
   "outputs": [],
   "source": [
    "spearman_cross_corr_df = get_cross_correlation_df(df, corr_method='spearman')\n",
    "pearson_cross_corr_df = get_cross_correlation_df(df, corr_method='pearson')"
   ]
  },
  {
   "cell_type": "code",
   "execution_count": 18,
   "metadata": {},
   "outputs": [
    {
     "data": {
      "application/vnd.plotly.v1+json": {
       "config": {
        "plotlyServerURL": "https://plot.ly"
       },
       "data": [
        {
         "hovertemplate": "variable=promo_investment<br>Lag=%{x}<br>value=%{y}<extra></extra>",
         "legendgroup": "promo_investment",
         "line": {
          "color": "#636efa",
          "dash": "solid"
         },
         "marker": {
          "symbol": "circle"
         },
         "mode": "lines",
         "name": "promo_investment",
         "orientation": "v",
         "showlegend": true,
         "type": "scatter",
         "x": {
          "bdata": "AAECAwQFBgcICQoLDA==",
          "dtype": "i1"
         },
         "xaxis": "x",
         "y": {
          "bdata": "Ap/6NB/15z8j3Zj4EtXlP5MKEKCScuM/iKrlOZsh4T/+GMjnGmHdPzRI7s7ZGdk/rRt3t9Wm1j+2F9i/RG3SP8Rv4BfO7M0/09Zspqglxj/cW54mIZG4P2Faa/XF6pc/netPIoY3lr8=",
          "dtype": "f8"
         },
         "yaxis": "y"
        },
        {
         "hovertemplate": "variable=ppc_brand_investment<br>Lag=%{x}<br>value=%{y}<extra></extra>",
         "legendgroup": "ppc_brand_investment",
         "line": {
          "color": "#EF553B",
          "dash": "solid"
         },
         "marker": {
          "symbol": "circle"
         },
         "mode": "lines",
         "name": "ppc_brand_investment",
         "orientation": "v",
         "showlegend": true,
         "type": "scatter",
         "x": {
          "bdata": "AAECAwQFBgcICQoLDA==",
          "dtype": "i1"
         },
         "xaxis": "x",
         "y": {
          "bdata": "Nrwqgevs6j9XiOuDBhPrP2k1AuAGoOo/AqvDYlPE6T+LLULCWEHoPxltjO2fHec//qgBIl5M5T/A+CtXs2njPx1nvy2qjuE/bWE5G7ou3z9Bp6SWO07bP7l+ksow3Nc/x7/8DoAJ1D8=",
          "dtype": "f8"
         },
         "yaxis": "y"
        },
        {
         "hovertemplate": "variable=ppc_generic_investment<br>Lag=%{x}<br>value=%{y}<extra></extra>",
         "legendgroup": "ppc_generic_investment",
         "line": {
          "color": "#00cc96",
          "dash": "solid"
         },
         "marker": {
          "symbol": "circle"
         },
         "mode": "lines",
         "name": "ppc_generic_investment",
         "orientation": "v",
         "showlegend": true,
         "type": "scatter",
         "x": {
          "bdata": "AAECAwQFBgcICQoLDA==",
          "dtype": "i1"
         },
         "xaxis": "x",
         "y": {
          "bdata": "mgfpCo5x4T/nKGM7P+viP8XdDvc8y+M/dLKv4CQD5D8HwvWvyX7jP0rcPv3AJOM/3O3+/zHJ4j8oSf0Oyt/hP4Dw4qQW6eA/82GHL1y43z/zU87nB9bcP+v1UfdWado/8NLD+1Gq2D8=",
          "dtype": "f8"
         },
         "yaxis": "y"
        },
        {
         "hovertemplate": "variable=facebook_investment<br>Lag=%{x}<br>value=%{y}<extra></extra>",
         "legendgroup": "facebook_investment",
         "line": {
          "color": "#ab63fa",
          "dash": "solid"
         },
         "marker": {
          "symbol": "circle"
         },
         "mode": "lines",
         "name": "facebook_investment",
         "orientation": "v",
         "showlegend": true,
         "type": "scatter",
         "x": {
          "bdata": "AAECAwQFBgcICQoLDA==",
          "dtype": "i1"
         },
         "xaxis": "x",
         "y": {
          "bdata": "SxCYKQ8z4D+uf08XIlniPw5rnk8pueM/KgUi4WL24z+fa5Dt4NDjP2QVcQJnnOM/5mEbP8a/4z/6BlkXF4XjP+Vn4dOKAOM/Y5HdDWWq4j//a2HOMTjhP++ptwxhyd8/7L6aRgnk3D8=",
          "dtype": "f8"
         },
         "yaxis": "y"
        },
        {
         "hovertemplate": "variable=instagram_investment<br>Lag=%{x}<br>value=%{y}<extra></extra>",
         "legendgroup": "instagram_investment",
         "line": {
          "color": "#FFA15A",
          "dash": "solid"
         },
         "marker": {
          "symbol": "circle"
         },
         "mode": "lines",
         "name": "instagram_investment",
         "orientation": "v",
         "showlegend": true,
         "type": "scatter",
         "x": {
          "bdata": "AAECAwQFBgcICQoLDA==",
          "dtype": "i1"
         },
         "xaxis": "x",
         "y": {
          "bdata": "zoAPxxh54D8VGIvcm3TiPy7uNXuuEOQ/i5Y/2Zgl5T+k8l8ErOzlP5fgfehf1uY/SxhDLp4J6D8tFTiBxmzoP+l3dlHrz+g/8KSkKMba6D9Sr+EMXinoP1qiWiK2o+c/OJ9OmKHh5j8=",
          "dtype": "f8"
         },
         "yaxis": "y"
        }
       ],
       "layout": {
        "legend": {
         "title": {
          "text": "variable"
         },
         "tracegroupgap": 0
        },
        "template": {
         "data": {
          "bar": [
           {
            "error_x": {
             "color": "#2a3f5f"
            },
            "error_y": {
             "color": "#2a3f5f"
            },
            "marker": {
             "line": {
              "color": "white",
              "width": 0.5
             },
             "pattern": {
              "fillmode": "overlay",
              "size": 10,
              "solidity": 0.2
             }
            },
            "type": "bar"
           }
          ],
          "barpolar": [
           {
            "marker": {
             "line": {
              "color": "white",
              "width": 0.5
             },
             "pattern": {
              "fillmode": "overlay",
              "size": 10,
              "solidity": 0.2
             }
            },
            "type": "barpolar"
           }
          ],
          "carpet": [
           {
            "aaxis": {
             "endlinecolor": "#2a3f5f",
             "gridcolor": "#C8D4E3",
             "linecolor": "#C8D4E3",
             "minorgridcolor": "#C8D4E3",
             "startlinecolor": "#2a3f5f"
            },
            "baxis": {
             "endlinecolor": "#2a3f5f",
             "gridcolor": "#C8D4E3",
             "linecolor": "#C8D4E3",
             "minorgridcolor": "#C8D4E3",
             "startlinecolor": "#2a3f5f"
            },
            "type": "carpet"
           }
          ],
          "choropleth": [
           {
            "colorbar": {
             "outlinewidth": 0,
             "ticks": ""
            },
            "type": "choropleth"
           }
          ],
          "contour": [
           {
            "colorbar": {
             "outlinewidth": 0,
             "ticks": ""
            },
            "colorscale": [
             [
              0,
              "#0d0887"
             ],
             [
              0.1111111111111111,
              "#46039f"
             ],
             [
              0.2222222222222222,
              "#7201a8"
             ],
             [
              0.3333333333333333,
              "#9c179e"
             ],
             [
              0.4444444444444444,
              "#bd3786"
             ],
             [
              0.5555555555555556,
              "#d8576b"
             ],
             [
              0.6666666666666666,
              "#ed7953"
             ],
             [
              0.7777777777777778,
              "#fb9f3a"
             ],
             [
              0.8888888888888888,
              "#fdca26"
             ],
             [
              1,
              "#f0f921"
             ]
            ],
            "type": "contour"
           }
          ],
          "contourcarpet": [
           {
            "colorbar": {
             "outlinewidth": 0,
             "ticks": ""
            },
            "type": "contourcarpet"
           }
          ],
          "heatmap": [
           {
            "colorbar": {
             "outlinewidth": 0,
             "ticks": ""
            },
            "colorscale": [
             [
              0,
              "#0d0887"
             ],
             [
              0.1111111111111111,
              "#46039f"
             ],
             [
              0.2222222222222222,
              "#7201a8"
             ],
             [
              0.3333333333333333,
              "#9c179e"
             ],
             [
              0.4444444444444444,
              "#bd3786"
             ],
             [
              0.5555555555555556,
              "#d8576b"
             ],
             [
              0.6666666666666666,
              "#ed7953"
             ],
             [
              0.7777777777777778,
              "#fb9f3a"
             ],
             [
              0.8888888888888888,
              "#fdca26"
             ],
             [
              1,
              "#f0f921"
             ]
            ],
            "type": "heatmap"
           }
          ],
          "histogram": [
           {
            "marker": {
             "pattern": {
              "fillmode": "overlay",
              "size": 10,
              "solidity": 0.2
             }
            },
            "type": "histogram"
           }
          ],
          "histogram2d": [
           {
            "colorbar": {
             "outlinewidth": 0,
             "ticks": ""
            },
            "colorscale": [
             [
              0,
              "#0d0887"
             ],
             [
              0.1111111111111111,
              "#46039f"
             ],
             [
              0.2222222222222222,
              "#7201a8"
             ],
             [
              0.3333333333333333,
              "#9c179e"
             ],
             [
              0.4444444444444444,
              "#bd3786"
             ],
             [
              0.5555555555555556,
              "#d8576b"
             ],
             [
              0.6666666666666666,
              "#ed7953"
             ],
             [
              0.7777777777777778,
              "#fb9f3a"
             ],
             [
              0.8888888888888888,
              "#fdca26"
             ],
             [
              1,
              "#f0f921"
             ]
            ],
            "type": "histogram2d"
           }
          ],
          "histogram2dcontour": [
           {
            "colorbar": {
             "outlinewidth": 0,
             "ticks": ""
            },
            "colorscale": [
             [
              0,
              "#0d0887"
             ],
             [
              0.1111111111111111,
              "#46039f"
             ],
             [
              0.2222222222222222,
              "#7201a8"
             ],
             [
              0.3333333333333333,
              "#9c179e"
             ],
             [
              0.4444444444444444,
              "#bd3786"
             ],
             [
              0.5555555555555556,
              "#d8576b"
             ],
             [
              0.6666666666666666,
              "#ed7953"
             ],
             [
              0.7777777777777778,
              "#fb9f3a"
             ],
             [
              0.8888888888888888,
              "#fdca26"
             ],
             [
              1,
              "#f0f921"
             ]
            ],
            "type": "histogram2dcontour"
           }
          ],
          "mesh3d": [
           {
            "colorbar": {
             "outlinewidth": 0,
             "ticks": ""
            },
            "type": "mesh3d"
           }
          ],
          "parcoords": [
           {
            "line": {
             "colorbar": {
              "outlinewidth": 0,
              "ticks": ""
             }
            },
            "type": "parcoords"
           }
          ],
          "pie": [
           {
            "automargin": true,
            "type": "pie"
           }
          ],
          "scatter": [
           {
            "fillpattern": {
             "fillmode": "overlay",
             "size": 10,
             "solidity": 0.2
            },
            "type": "scatter"
           }
          ],
          "scatter3d": [
           {
            "line": {
             "colorbar": {
              "outlinewidth": 0,
              "ticks": ""
             }
            },
            "marker": {
             "colorbar": {
              "outlinewidth": 0,
              "ticks": ""
             }
            },
            "type": "scatter3d"
           }
          ],
          "scattercarpet": [
           {
            "marker": {
             "colorbar": {
              "outlinewidth": 0,
              "ticks": ""
             }
            },
            "type": "scattercarpet"
           }
          ],
          "scattergeo": [
           {
            "marker": {
             "colorbar": {
              "outlinewidth": 0,
              "ticks": ""
             }
            },
            "type": "scattergeo"
           }
          ],
          "scattergl": [
           {
            "marker": {
             "colorbar": {
              "outlinewidth": 0,
              "ticks": ""
             }
            },
            "type": "scattergl"
           }
          ],
          "scattermap": [
           {
            "marker": {
             "colorbar": {
              "outlinewidth": 0,
              "ticks": ""
             }
            },
            "type": "scattermap"
           }
          ],
          "scattermapbox": [
           {
            "marker": {
             "colorbar": {
              "outlinewidth": 0,
              "ticks": ""
             }
            },
            "type": "scattermapbox"
           }
          ],
          "scatterpolar": [
           {
            "marker": {
             "colorbar": {
              "outlinewidth": 0,
              "ticks": ""
             }
            },
            "type": "scatterpolar"
           }
          ],
          "scatterpolargl": [
           {
            "marker": {
             "colorbar": {
              "outlinewidth": 0,
              "ticks": ""
             }
            },
            "type": "scatterpolargl"
           }
          ],
          "scatterternary": [
           {
            "marker": {
             "colorbar": {
              "outlinewidth": 0,
              "ticks": ""
             }
            },
            "type": "scatterternary"
           }
          ],
          "surface": [
           {
            "colorbar": {
             "outlinewidth": 0,
             "ticks": ""
            },
            "colorscale": [
             [
              0,
              "#0d0887"
             ],
             [
              0.1111111111111111,
              "#46039f"
             ],
             [
              0.2222222222222222,
              "#7201a8"
             ],
             [
              0.3333333333333333,
              "#9c179e"
             ],
             [
              0.4444444444444444,
              "#bd3786"
             ],
             [
              0.5555555555555556,
              "#d8576b"
             ],
             [
              0.6666666666666666,
              "#ed7953"
             ],
             [
              0.7777777777777778,
              "#fb9f3a"
             ],
             [
              0.8888888888888888,
              "#fdca26"
             ],
             [
              1,
              "#f0f921"
             ]
            ],
            "type": "surface"
           }
          ],
          "table": [
           {
            "cells": {
             "fill": {
              "color": "#EBF0F8"
             },
             "line": {
              "color": "white"
             }
            },
            "header": {
             "fill": {
              "color": "#C8D4E3"
             },
             "line": {
              "color": "white"
             }
            },
            "type": "table"
           }
          ]
         },
         "layout": {
          "annotationdefaults": {
           "arrowcolor": "#2a3f5f",
           "arrowhead": 0,
           "arrowwidth": 1
          },
          "autotypenumbers": "strict",
          "coloraxis": {
           "colorbar": {
            "outlinewidth": 0,
            "ticks": ""
           }
          },
          "colorscale": {
           "diverging": [
            [
             0,
             "#8e0152"
            ],
            [
             0.1,
             "#c51b7d"
            ],
            [
             0.2,
             "#de77ae"
            ],
            [
             0.3,
             "#f1b6da"
            ],
            [
             0.4,
             "#fde0ef"
            ],
            [
             0.5,
             "#f7f7f7"
            ],
            [
             0.6,
             "#e6f5d0"
            ],
            [
             0.7,
             "#b8e186"
            ],
            [
             0.8,
             "#7fbc41"
            ],
            [
             0.9,
             "#4d9221"
            ],
            [
             1,
             "#276419"
            ]
           ],
           "sequential": [
            [
             0,
             "#0d0887"
            ],
            [
             0.1111111111111111,
             "#46039f"
            ],
            [
             0.2222222222222222,
             "#7201a8"
            ],
            [
             0.3333333333333333,
             "#9c179e"
            ],
            [
             0.4444444444444444,
             "#bd3786"
            ],
            [
             0.5555555555555556,
             "#d8576b"
            ],
            [
             0.6666666666666666,
             "#ed7953"
            ],
            [
             0.7777777777777778,
             "#fb9f3a"
            ],
            [
             0.8888888888888888,
             "#fdca26"
            ],
            [
             1,
             "#f0f921"
            ]
           ],
           "sequentialminus": [
            [
             0,
             "#0d0887"
            ],
            [
             0.1111111111111111,
             "#46039f"
            ],
            [
             0.2222222222222222,
             "#7201a8"
            ],
            [
             0.3333333333333333,
             "#9c179e"
            ],
            [
             0.4444444444444444,
             "#bd3786"
            ],
            [
             0.5555555555555556,
             "#d8576b"
            ],
            [
             0.6666666666666666,
             "#ed7953"
            ],
            [
             0.7777777777777778,
             "#fb9f3a"
            ],
            [
             0.8888888888888888,
             "#fdca26"
            ],
            [
             1,
             "#f0f921"
            ]
           ]
          },
          "colorway": [
           "#636efa",
           "#EF553B",
           "#00cc96",
           "#ab63fa",
           "#FFA15A",
           "#19d3f3",
           "#FF6692",
           "#B6E880",
           "#FF97FF",
           "#FECB52"
          ],
          "font": {
           "color": "#2a3f5f"
          },
          "geo": {
           "bgcolor": "white",
           "lakecolor": "white",
           "landcolor": "white",
           "showlakes": true,
           "showland": true,
           "subunitcolor": "#C8D4E3"
          },
          "hoverlabel": {
           "align": "left"
          },
          "hovermode": "closest",
          "mapbox": {
           "style": "light"
          },
          "paper_bgcolor": "white",
          "plot_bgcolor": "white",
          "polar": {
           "angularaxis": {
            "gridcolor": "#EBF0F8",
            "linecolor": "#EBF0F8",
            "ticks": ""
           },
           "bgcolor": "white",
           "radialaxis": {
            "gridcolor": "#EBF0F8",
            "linecolor": "#EBF0F8",
            "ticks": ""
           }
          },
          "scene": {
           "xaxis": {
            "backgroundcolor": "white",
            "gridcolor": "#DFE8F3",
            "gridwidth": 2,
            "linecolor": "#EBF0F8",
            "showbackground": true,
            "ticks": "",
            "zerolinecolor": "#EBF0F8"
           },
           "yaxis": {
            "backgroundcolor": "white",
            "gridcolor": "#DFE8F3",
            "gridwidth": 2,
            "linecolor": "#EBF0F8",
            "showbackground": true,
            "ticks": "",
            "zerolinecolor": "#EBF0F8"
           },
           "zaxis": {
            "backgroundcolor": "white",
            "gridcolor": "#DFE8F3",
            "gridwidth": 2,
            "linecolor": "#EBF0F8",
            "showbackground": true,
            "ticks": "",
            "zerolinecolor": "#EBF0F8"
           }
          },
          "shapedefaults": {
           "line": {
            "color": "#2a3f5f"
           }
          },
          "ternary": {
           "aaxis": {
            "gridcolor": "#DFE8F3",
            "linecolor": "#A2B1C6",
            "ticks": ""
           },
           "baxis": {
            "gridcolor": "#DFE8F3",
            "linecolor": "#A2B1C6",
            "ticks": ""
           },
           "bgcolor": "white",
           "caxis": {
            "gridcolor": "#DFE8F3",
            "linecolor": "#A2B1C6",
            "ticks": ""
           }
          },
          "title": {
           "x": 0.05
          },
          "xaxis": {
           "automargin": true,
           "gridcolor": "#EBF0F8",
           "linecolor": "#EBF0F8",
           "ticks": "",
           "title": {
            "standoff": 15
           },
           "zerolinecolor": "#EBF0F8",
           "zerolinewidth": 2
          },
          "yaxis": {
           "automargin": true,
           "gridcolor": "#EBF0F8",
           "linecolor": "#EBF0F8",
           "ticks": "",
           "title": {
            "standoff": 15
           },
           "zerolinecolor": "#EBF0F8",
           "zerolinewidth": 2
          }
         }
        },
        "title": {
         "text": "Pearson Cross Correlation"
        },
        "xaxis": {
         "anchor": "y",
         "domain": [
          0,
          1
         ],
         "title": {
          "text": "Lag"
         }
        },
        "yaxis": {
         "anchor": "x",
         "domain": [
          0,
          1
         ],
         "title": {
          "text": "value"
         }
        }
       }
      }
     },
     "metadata": {},
     "output_type": "display_data"
    }
   ],
   "source": [
    "fig=px.line(pearson_cross_corr_df, x='Lag', y=channels, title=\"Pearson Cross Correlation\")\n",
    "fig.show()"
   ]
  },
  {
   "cell_type": "code",
   "execution_count": 19,
   "metadata": {},
   "outputs": [
    {
     "data": {
      "application/vnd.plotly.v1+json": {
       "config": {
        "plotlyServerURL": "https://plot.ly"
       },
       "data": [
        {
         "hovertemplate": "variable=promo_investment<br>Lag=%{x}<br>value=%{y}<extra></extra>",
         "legendgroup": "promo_investment",
         "line": {
          "color": "#636efa",
          "dash": "solid"
         },
         "marker": {
          "symbol": "circle"
         },
         "mode": "lines",
         "name": "promo_investment",
         "orientation": "v",
         "showlegend": true,
         "type": "scatter",
         "x": {
          "bdata": "AAECAwQFBgcICQoLDA==",
          "dtype": "i1"
         },
         "xaxis": "x",
         "y": {
          "bdata": "UVEk3/iY6j/+fTh7tXboP5J02Wzk3+c/LiX+UhRb5T+Qe0I2T9viP32+rLBlx+A/G8PQVeOn3j/0s+TNAUrbP/QD9NwDe9c//3BlL8Ox0j8MQRGNjznQP3acvG44pMw/EC36kJZoyj8=",
          "dtype": "f8"
         },
         "yaxis": "y"
        },
        {
         "hovertemplate": "variable=ppc_brand_investment<br>Lag=%{x}<br>value=%{y}<extra></extra>",
         "legendgroup": "ppc_brand_investment",
         "line": {
          "color": "#EF553B",
          "dash": "solid"
         },
         "marker": {
          "symbol": "circle"
         },
         "mode": "lines",
         "name": "ppc_brand_investment",
         "orientation": "v",
         "showlegend": true,
         "type": "scatter",
         "x": {
          "bdata": "AAECAwQFBgcICQoLDA==",
          "dtype": "i1"
         },
         "xaxis": "x",
         "y": {
          "bdata": "JYEC0CrS6j9VaN5szx3qP8kYuFsOmeg/ZPJW1GPq5j8wXO1i7PrkP0+wLS8cIuM/nEdwcl6N4D9XOsqKjLXcPzuiMd8Radg/5rz7ObdZ1D+MoKNKZmPRP9bgR5v2Ssw/gB2lAF4+xz8=",
          "dtype": "f8"
         },
         "yaxis": "y"
        },
        {
         "hovertemplate": "variable=ppc_generic_investment<br>Lag=%{x}<br>value=%{y}<extra></extra>",
         "legendgroup": "ppc_generic_investment",
         "line": {
          "color": "#00cc96",
          "dash": "solid"
         },
         "marker": {
          "symbol": "circle"
         },
         "mode": "lines",
         "name": "ppc_generic_investment",
         "orientation": "v",
         "showlegend": true,
         "type": "scatter",
         "x": {
          "bdata": "AAECAwQFBgcICQoLDA==",
          "dtype": "i1"
         },
         "xaxis": "x",
         "y": {
          "bdata": "cAO/MWQe5D+B9tRsErXlP1JFAEeGheY/NgbaYYGT5j94lbm9lfLlPyeeKtK3ZuU/0O3NBghz5D8TWWFQOU7jPzcwtzWXyuE/y81Eqdr+3z8XTjYr9ZPbPzSh32lrpNc/s9mLnFsE1j8=",
          "dtype": "f8"
         },
         "yaxis": "y"
        },
        {
         "hovertemplate": "variable=facebook_investment<br>Lag=%{x}<br>value=%{y}<extra></extra>",
         "legendgroup": "facebook_investment",
         "line": {
          "color": "#ab63fa",
          "dash": "solid"
         },
         "marker": {
          "symbol": "circle"
         },
         "mode": "lines",
         "name": "facebook_investment",
         "orientation": "v",
         "showlegend": true,
         "type": "scatter",
         "x": {
          "bdata": "AAECAwQFBgcICQoLDA==",
          "dtype": "i1"
         },
         "xaxis": "x",
         "y": {
          "bdata": "tr99pi7P4T/QlOmrJs7jP1aSBwv3weQ/Q8OgmbaV5D8ipgQRvPDjP7/xkL+YYOM/iOyUVjLL4j+iXuf88iriP9iefTxlPOE/DGIWniwO4D+vfuOce1nbP0ARXdZ2uNY/e4AQ9/HM0z8=",
          "dtype": "f8"
         },
         "yaxis": "y"
        },
        {
         "hovertemplate": "variable=instagram_investment<br>Lag=%{x}<br>value=%{y}<extra></extra>",
         "legendgroup": "instagram_investment",
         "line": {
          "color": "#FFA15A",
          "dash": "solid"
         },
         "marker": {
          "symbol": "circle"
         },
         "mode": "lines",
         "name": "instagram_investment",
         "orientation": "v",
         "showlegend": true,
         "type": "scatter",
         "x": {
          "bdata": "AAECAwQFBgcICQoLDA==",
          "dtype": "i1"
         },
         "xaxis": "x",
         "y": {
          "bdata": "oRUljWZM4T/yGKmZHlHjP0LiXAfr++Q/jWe7J8Hy5T+GzcMz6ArmP418oyyOSOY/DFITzgQU5z9tqRKMcunmP1W0PcCj7+Y/S38EmsuG5j/ArXg2+EjlP6A5xJlvk+Q/ZRvtixsO5D8=",
          "dtype": "f8"
         },
         "yaxis": "y"
        }
       ],
       "layout": {
        "legend": {
         "title": {
          "text": "variable"
         },
         "tracegroupgap": 0
        },
        "template": {
         "data": {
          "bar": [
           {
            "error_x": {
             "color": "#2a3f5f"
            },
            "error_y": {
             "color": "#2a3f5f"
            },
            "marker": {
             "line": {
              "color": "white",
              "width": 0.5
             },
             "pattern": {
              "fillmode": "overlay",
              "size": 10,
              "solidity": 0.2
             }
            },
            "type": "bar"
           }
          ],
          "barpolar": [
           {
            "marker": {
             "line": {
              "color": "white",
              "width": 0.5
             },
             "pattern": {
              "fillmode": "overlay",
              "size": 10,
              "solidity": 0.2
             }
            },
            "type": "barpolar"
           }
          ],
          "carpet": [
           {
            "aaxis": {
             "endlinecolor": "#2a3f5f",
             "gridcolor": "#C8D4E3",
             "linecolor": "#C8D4E3",
             "minorgridcolor": "#C8D4E3",
             "startlinecolor": "#2a3f5f"
            },
            "baxis": {
             "endlinecolor": "#2a3f5f",
             "gridcolor": "#C8D4E3",
             "linecolor": "#C8D4E3",
             "minorgridcolor": "#C8D4E3",
             "startlinecolor": "#2a3f5f"
            },
            "type": "carpet"
           }
          ],
          "choropleth": [
           {
            "colorbar": {
             "outlinewidth": 0,
             "ticks": ""
            },
            "type": "choropleth"
           }
          ],
          "contour": [
           {
            "colorbar": {
             "outlinewidth": 0,
             "ticks": ""
            },
            "colorscale": [
             [
              0,
              "#0d0887"
             ],
             [
              0.1111111111111111,
              "#46039f"
             ],
             [
              0.2222222222222222,
              "#7201a8"
             ],
             [
              0.3333333333333333,
              "#9c179e"
             ],
             [
              0.4444444444444444,
              "#bd3786"
             ],
             [
              0.5555555555555556,
              "#d8576b"
             ],
             [
              0.6666666666666666,
              "#ed7953"
             ],
             [
              0.7777777777777778,
              "#fb9f3a"
             ],
             [
              0.8888888888888888,
              "#fdca26"
             ],
             [
              1,
              "#f0f921"
             ]
            ],
            "type": "contour"
           }
          ],
          "contourcarpet": [
           {
            "colorbar": {
             "outlinewidth": 0,
             "ticks": ""
            },
            "type": "contourcarpet"
           }
          ],
          "heatmap": [
           {
            "colorbar": {
             "outlinewidth": 0,
             "ticks": ""
            },
            "colorscale": [
             [
              0,
              "#0d0887"
             ],
             [
              0.1111111111111111,
              "#46039f"
             ],
             [
              0.2222222222222222,
              "#7201a8"
             ],
             [
              0.3333333333333333,
              "#9c179e"
             ],
             [
              0.4444444444444444,
              "#bd3786"
             ],
             [
              0.5555555555555556,
              "#d8576b"
             ],
             [
              0.6666666666666666,
              "#ed7953"
             ],
             [
              0.7777777777777778,
              "#fb9f3a"
             ],
             [
              0.8888888888888888,
              "#fdca26"
             ],
             [
              1,
              "#f0f921"
             ]
            ],
            "type": "heatmap"
           }
          ],
          "histogram": [
           {
            "marker": {
             "pattern": {
              "fillmode": "overlay",
              "size": 10,
              "solidity": 0.2
             }
            },
            "type": "histogram"
           }
          ],
          "histogram2d": [
           {
            "colorbar": {
             "outlinewidth": 0,
             "ticks": ""
            },
            "colorscale": [
             [
              0,
              "#0d0887"
             ],
             [
              0.1111111111111111,
              "#46039f"
             ],
             [
              0.2222222222222222,
              "#7201a8"
             ],
             [
              0.3333333333333333,
              "#9c179e"
             ],
             [
              0.4444444444444444,
              "#bd3786"
             ],
             [
              0.5555555555555556,
              "#d8576b"
             ],
             [
              0.6666666666666666,
              "#ed7953"
             ],
             [
              0.7777777777777778,
              "#fb9f3a"
             ],
             [
              0.8888888888888888,
              "#fdca26"
             ],
             [
              1,
              "#f0f921"
             ]
            ],
            "type": "histogram2d"
           }
          ],
          "histogram2dcontour": [
           {
            "colorbar": {
             "outlinewidth": 0,
             "ticks": ""
            },
            "colorscale": [
             [
              0,
              "#0d0887"
             ],
             [
              0.1111111111111111,
              "#46039f"
             ],
             [
              0.2222222222222222,
              "#7201a8"
             ],
             [
              0.3333333333333333,
              "#9c179e"
             ],
             [
              0.4444444444444444,
              "#bd3786"
             ],
             [
              0.5555555555555556,
              "#d8576b"
             ],
             [
              0.6666666666666666,
              "#ed7953"
             ],
             [
              0.7777777777777778,
              "#fb9f3a"
             ],
             [
              0.8888888888888888,
              "#fdca26"
             ],
             [
              1,
              "#f0f921"
             ]
            ],
            "type": "histogram2dcontour"
           }
          ],
          "mesh3d": [
           {
            "colorbar": {
             "outlinewidth": 0,
             "ticks": ""
            },
            "type": "mesh3d"
           }
          ],
          "parcoords": [
           {
            "line": {
             "colorbar": {
              "outlinewidth": 0,
              "ticks": ""
             }
            },
            "type": "parcoords"
           }
          ],
          "pie": [
           {
            "automargin": true,
            "type": "pie"
           }
          ],
          "scatter": [
           {
            "fillpattern": {
             "fillmode": "overlay",
             "size": 10,
             "solidity": 0.2
            },
            "type": "scatter"
           }
          ],
          "scatter3d": [
           {
            "line": {
             "colorbar": {
              "outlinewidth": 0,
              "ticks": ""
             }
            },
            "marker": {
             "colorbar": {
              "outlinewidth": 0,
              "ticks": ""
             }
            },
            "type": "scatter3d"
           }
          ],
          "scattercarpet": [
           {
            "marker": {
             "colorbar": {
              "outlinewidth": 0,
              "ticks": ""
             }
            },
            "type": "scattercarpet"
           }
          ],
          "scattergeo": [
           {
            "marker": {
             "colorbar": {
              "outlinewidth": 0,
              "ticks": ""
             }
            },
            "type": "scattergeo"
           }
          ],
          "scattergl": [
           {
            "marker": {
             "colorbar": {
              "outlinewidth": 0,
              "ticks": ""
             }
            },
            "type": "scattergl"
           }
          ],
          "scattermap": [
           {
            "marker": {
             "colorbar": {
              "outlinewidth": 0,
              "ticks": ""
             }
            },
            "type": "scattermap"
           }
          ],
          "scattermapbox": [
           {
            "marker": {
             "colorbar": {
              "outlinewidth": 0,
              "ticks": ""
             }
            },
            "type": "scattermapbox"
           }
          ],
          "scatterpolar": [
           {
            "marker": {
             "colorbar": {
              "outlinewidth": 0,
              "ticks": ""
             }
            },
            "type": "scatterpolar"
           }
          ],
          "scatterpolargl": [
           {
            "marker": {
             "colorbar": {
              "outlinewidth": 0,
              "ticks": ""
             }
            },
            "type": "scatterpolargl"
           }
          ],
          "scatterternary": [
           {
            "marker": {
             "colorbar": {
              "outlinewidth": 0,
              "ticks": ""
             }
            },
            "type": "scatterternary"
           }
          ],
          "surface": [
           {
            "colorbar": {
             "outlinewidth": 0,
             "ticks": ""
            },
            "colorscale": [
             [
              0,
              "#0d0887"
             ],
             [
              0.1111111111111111,
              "#46039f"
             ],
             [
              0.2222222222222222,
              "#7201a8"
             ],
             [
              0.3333333333333333,
              "#9c179e"
             ],
             [
              0.4444444444444444,
              "#bd3786"
             ],
             [
              0.5555555555555556,
              "#d8576b"
             ],
             [
              0.6666666666666666,
              "#ed7953"
             ],
             [
              0.7777777777777778,
              "#fb9f3a"
             ],
             [
              0.8888888888888888,
              "#fdca26"
             ],
             [
              1,
              "#f0f921"
             ]
            ],
            "type": "surface"
           }
          ],
          "table": [
           {
            "cells": {
             "fill": {
              "color": "#EBF0F8"
             },
             "line": {
              "color": "white"
             }
            },
            "header": {
             "fill": {
              "color": "#C8D4E3"
             },
             "line": {
              "color": "white"
             }
            },
            "type": "table"
           }
          ]
         },
         "layout": {
          "annotationdefaults": {
           "arrowcolor": "#2a3f5f",
           "arrowhead": 0,
           "arrowwidth": 1
          },
          "autotypenumbers": "strict",
          "coloraxis": {
           "colorbar": {
            "outlinewidth": 0,
            "ticks": ""
           }
          },
          "colorscale": {
           "diverging": [
            [
             0,
             "#8e0152"
            ],
            [
             0.1,
             "#c51b7d"
            ],
            [
             0.2,
             "#de77ae"
            ],
            [
             0.3,
             "#f1b6da"
            ],
            [
             0.4,
             "#fde0ef"
            ],
            [
             0.5,
             "#f7f7f7"
            ],
            [
             0.6,
             "#e6f5d0"
            ],
            [
             0.7,
             "#b8e186"
            ],
            [
             0.8,
             "#7fbc41"
            ],
            [
             0.9,
             "#4d9221"
            ],
            [
             1,
             "#276419"
            ]
           ],
           "sequential": [
            [
             0,
             "#0d0887"
            ],
            [
             0.1111111111111111,
             "#46039f"
            ],
            [
             0.2222222222222222,
             "#7201a8"
            ],
            [
             0.3333333333333333,
             "#9c179e"
            ],
            [
             0.4444444444444444,
             "#bd3786"
            ],
            [
             0.5555555555555556,
             "#d8576b"
            ],
            [
             0.6666666666666666,
             "#ed7953"
            ],
            [
             0.7777777777777778,
             "#fb9f3a"
            ],
            [
             0.8888888888888888,
             "#fdca26"
            ],
            [
             1,
             "#f0f921"
            ]
           ],
           "sequentialminus": [
            [
             0,
             "#0d0887"
            ],
            [
             0.1111111111111111,
             "#46039f"
            ],
            [
             0.2222222222222222,
             "#7201a8"
            ],
            [
             0.3333333333333333,
             "#9c179e"
            ],
            [
             0.4444444444444444,
             "#bd3786"
            ],
            [
             0.5555555555555556,
             "#d8576b"
            ],
            [
             0.6666666666666666,
             "#ed7953"
            ],
            [
             0.7777777777777778,
             "#fb9f3a"
            ],
            [
             0.8888888888888888,
             "#fdca26"
            ],
            [
             1,
             "#f0f921"
            ]
           ]
          },
          "colorway": [
           "#636efa",
           "#EF553B",
           "#00cc96",
           "#ab63fa",
           "#FFA15A",
           "#19d3f3",
           "#FF6692",
           "#B6E880",
           "#FF97FF",
           "#FECB52"
          ],
          "font": {
           "color": "#2a3f5f"
          },
          "geo": {
           "bgcolor": "white",
           "lakecolor": "white",
           "landcolor": "white",
           "showlakes": true,
           "showland": true,
           "subunitcolor": "#C8D4E3"
          },
          "hoverlabel": {
           "align": "left"
          },
          "hovermode": "closest",
          "mapbox": {
           "style": "light"
          },
          "paper_bgcolor": "white",
          "plot_bgcolor": "white",
          "polar": {
           "angularaxis": {
            "gridcolor": "#EBF0F8",
            "linecolor": "#EBF0F8",
            "ticks": ""
           },
           "bgcolor": "white",
           "radialaxis": {
            "gridcolor": "#EBF0F8",
            "linecolor": "#EBF0F8",
            "ticks": ""
           }
          },
          "scene": {
           "xaxis": {
            "backgroundcolor": "white",
            "gridcolor": "#DFE8F3",
            "gridwidth": 2,
            "linecolor": "#EBF0F8",
            "showbackground": true,
            "ticks": "",
            "zerolinecolor": "#EBF0F8"
           },
           "yaxis": {
            "backgroundcolor": "white",
            "gridcolor": "#DFE8F3",
            "gridwidth": 2,
            "linecolor": "#EBF0F8",
            "showbackground": true,
            "ticks": "",
            "zerolinecolor": "#EBF0F8"
           },
           "zaxis": {
            "backgroundcolor": "white",
            "gridcolor": "#DFE8F3",
            "gridwidth": 2,
            "linecolor": "#EBF0F8",
            "showbackground": true,
            "ticks": "",
            "zerolinecolor": "#EBF0F8"
           }
          },
          "shapedefaults": {
           "line": {
            "color": "#2a3f5f"
           }
          },
          "ternary": {
           "aaxis": {
            "gridcolor": "#DFE8F3",
            "linecolor": "#A2B1C6",
            "ticks": ""
           },
           "baxis": {
            "gridcolor": "#DFE8F3",
            "linecolor": "#A2B1C6",
            "ticks": ""
           },
           "bgcolor": "white",
           "caxis": {
            "gridcolor": "#DFE8F3",
            "linecolor": "#A2B1C6",
            "ticks": ""
           }
          },
          "title": {
           "x": 0.05
          },
          "xaxis": {
           "automargin": true,
           "gridcolor": "#EBF0F8",
           "linecolor": "#EBF0F8",
           "ticks": "",
           "title": {
            "standoff": 15
           },
           "zerolinecolor": "#EBF0F8",
           "zerolinewidth": 2
          },
          "yaxis": {
           "automargin": true,
           "gridcolor": "#EBF0F8",
           "linecolor": "#EBF0F8",
           "ticks": "",
           "title": {
            "standoff": 15
           },
           "zerolinecolor": "#EBF0F8",
           "zerolinewidth": 2
          }
         }
        },
        "title": {
         "text": "Spearman Cross Correlation"
        },
        "xaxis": {
         "anchor": "y",
         "domain": [
          0,
          1
         ],
         "title": {
          "text": "Lag"
         }
        },
        "yaxis": {
         "anchor": "x",
         "domain": [
          0,
          1
         ],
         "title": {
          "text": "value"
         }
        }
       }
      }
     },
     "metadata": {},
     "output_type": "display_data"
    }
   ],
   "source": [
    "fig=px.line(spearman_cross_corr_df, x='Lag', y=channels, title=\"Spearman Cross Correlation\")\n",
    "fig.show()\n",
    "     "
   ]
  },
  {
   "cell_type": "markdown",
   "metadata": {},
   "source": [
    "🔍 Observations <br>\n",
    "\n",
    "⬛ PPC --> immediate effect <br>\n",
    "⬛ Instagram --> latency <br>"
   ]
  },
  {
   "cell_type": "code",
   "execution_count": 20,
   "metadata": {},
   "outputs": [],
   "source": [
    "def get_best_lag(cross_correlation_df: pl.DataFrame,\n",
    "                 lag_col: str = 'Lag') -> dict[str, int]:\n",
    "\n",
    "  channels = [col for col in cross_correlation_df.columns if\n",
    "              col != lag_col]\n",
    "  lag_dict = {}\n",
    "  for channel in channels:\n",
    "    best_lag = (\n",
    "        cross_correlation_df\n",
    "        .filter(pl.col(channel) == pl.max(channel))\n",
    "        .select(lag_col).item()\n",
    "    )\n",
    "    lag_dict[channel] = best_lag\n",
    "\n",
    "  return lag_dict"
   ]
  },
  {
   "cell_type": "code",
   "execution_count": 21,
   "metadata": {},
   "outputs": [
    {
     "data": {
      "text/plain": [
       "{'promo_investment': 0,\n",
       " 'ppc_brand_investment': 0,\n",
       " 'ppc_generic_investment': 3,\n",
       " 'facebook_investment': 2,\n",
       " 'instagram_investment': 6}"
      ]
     },
     "execution_count": 21,
     "metadata": {},
     "output_type": "execute_result"
    }
   ],
   "source": [
    "spearman_lag_dict = get_best_lag(spearman_cross_corr_df)\n",
    "spearman_lag_dict"
   ]
  },
  {
   "cell_type": "code",
   "execution_count": 22,
   "metadata": {},
   "outputs": [
    {
     "data": {
      "text/plain": [
       "{'promo_investment': 0,\n",
       " 'ppc_brand_investment': 1,\n",
       " 'ppc_generic_investment': 3,\n",
       " 'facebook_investment': 3,\n",
       " 'instagram_investment': 9}"
      ]
     },
     "execution_count": 22,
     "metadata": {},
     "output_type": "execute_result"
    }
   ],
   "source": [
    "pearson_lag_dict = get_best_lag(pearson_cross_corr_df)\n",
    "pearson_lag_dict"
   ]
  },
  {
   "cell_type": "code",
   "execution_count": 23,
   "metadata": {},
   "outputs": [],
   "source": [
    "chosen_lag_dict = spearman_lag_dict"
   ]
  },
  {
   "cell_type": "code",
   "execution_count": 24,
   "metadata": {},
   "outputs": [],
   "source": [
    "lagged_channels_names = [f\"{channel}_lag{lag}\" for channel, lag in chosen_lag_dict.items()]"
   ]
  },
  {
   "cell_type": "code",
   "execution_count": 25,
   "metadata": {},
   "outputs": [],
   "source": [
    "def lag_channels_at_best_lag(df: pl.DataFrame, best_lag_dict: dict[str, int],\n",
    "                             sort_col: str = date_col) -> pl.DataFrame:\n",
    "  lagged_df = df.sort(sort_col)\n",
    "  for channel, lag in best_lag_dict.items():\n",
    "    lagged_df = lagged_df.with_columns(pl.col(channel).shift(lag).alias(f\"{channel}_lag{lag}\"))\n",
    "  return lagged_df"
   ]
  },
  {
   "cell_type": "code",
   "execution_count": 26,
   "metadata": {},
   "outputs": [
    {
     "data": {
      "text/html": [
       "<div><style>\n",
       ".dataframe > thead > tr,\n",
       ".dataframe > tbody > tr {\n",
       "  text-align: right;\n",
       "  white-space: pre-wrap;\n",
       "}\n",
       "</style>\n",
       "<small>shape: (5, 19)</small><table border=\"1\" class=\"dataframe\"><thead><tr><th>week_start</th><th>new_customers</th><th>promo_investment</th><th>ppc_brand_investment</th><th>ppc_generic_investment</th><th>facebook_investment</th><th>instagram_investment</th><th>year</th><th>week</th><th>promo_investment_lag0</th><th>ppc_brand_investment_lag0</th><th>ppc_generic_investment_lag3</th><th>facebook_investment_lag2</th><th>instagram_investment_lag6</th><th>time</th><th>sin_52_1</th><th>cos_52_1</th><th>sin_52_2</th><th>cos_52_2</th></tr><tr><td>date</td><td>i64</td><td>f64</td><td>f64</td><td>f64</td><td>f64</td><td>f64</td><td>i64</td><td>i64</td><td>f64</td><td>f64</td><td>f64</td><td>f64</td><td>f64</td><td>i64</td><td>f64</td><td>f64</td><td>f64</td><td>f64</td></tr></thead><tbody><tr><td>2020-05-18</td><td>777</td><td>1304.227029</td><td>756.818857</td><td>1512.071585</td><td>297.193399</td><td>4593.059512</td><td>2020</td><td>21</td><td>1304.227029</td><td>756.818857</td><td>null</td><td>null</td><td>null</td><td>113</td><td>0.885456</td><td>0.464723</td><td>0.822984</td><td>-0.568065</td></tr><tr><td>2020-05-25</td><td>978</td><td>3000.504127</td><td>69.654279</td><td>399.82446</td><td>0.0</td><td>792.564928</td><td>2020</td><td>22</td><td>3000.504127</td><td>69.654279</td><td>null</td><td>null</td><td>null</td><td>114</td><td>0.935016</td><td>0.354605</td><td>0.663123</td><td>-0.748511</td></tr><tr><td>2020-06-01</td><td>950</td><td>4609.816216</td><td>357.467625</td><td>471.992936</td><td>1769.420849</td><td>3281.127107</td><td>2020</td><td>23</td><td>4609.816216</td><td>357.467625</td><td>null</td><td>297.193399</td><td>null</td><td>115</td><td>0.970942</td><td>0.239316</td><td>0.464723</td><td>-0.885456</td></tr><tr><td>2020-06-08</td><td>800</td><td>3429.065037</td><td>425.663469</td><td>1181.626485</td><td>2353.024023</td><td>4510.560793</td><td>2020</td><td>24</td><td>3429.065037</td><td>425.663469</td><td>1512.071585</td><td>0.0</td><td>null</td><td>116</td><td>0.992709</td><td>0.120537</td><td>0.239316</td><td>-0.970942</td></tr><tr><td>2020-06-15</td><td>320</td><td>6679.522877</td><td>530.894558</td><td>1962.369223</td><td>2351.488377</td><td>3760.098884</td><td>2020</td><td>25</td><td>6679.522877</td><td>530.894558</td><td>399.82446</td><td>1769.420849</td><td>null</td><td>117</td><td>1.0</td><td>5.5100e-16</td><td>1.1000e-15</td><td>-1.0</td></tr></tbody></table></div>"
      ],
      "text/plain": [
       "shape: (5, 19)\n",
       "┌───────────┬───────────┬───────────┬───────────┬───┬──────────┬───────────┬───────────┬───────────┐\n",
       "│ week_star ┆ new_custo ┆ promo_inv ┆ ppc_brand ┆ … ┆ sin_52_1 ┆ cos_52_1  ┆ sin_52_2  ┆ cos_52_2  │\n",
       "│ t         ┆ mers      ┆ estment   ┆ _investme ┆   ┆ ---      ┆ ---       ┆ ---       ┆ ---       │\n",
       "│ ---       ┆ ---       ┆ ---       ┆ nt        ┆   ┆ f64      ┆ f64       ┆ f64       ┆ f64       │\n",
       "│ date      ┆ i64       ┆ f64       ┆ ---       ┆   ┆          ┆           ┆           ┆           │\n",
       "│           ┆           ┆           ┆ f64       ┆   ┆          ┆           ┆           ┆           │\n",
       "╞═══════════╪═══════════╪═══════════╪═══════════╪═══╪══════════╪═══════════╪═══════════╪═══════════╡\n",
       "│ 2020-05-1 ┆ 777       ┆ 1304.2270 ┆ 756.81885 ┆ … ┆ 0.885456 ┆ 0.464723  ┆ 0.822984  ┆ -0.568065 │\n",
       "│ 8         ┆           ┆ 29        ┆ 7         ┆   ┆          ┆           ┆           ┆           │\n",
       "│ 2020-05-2 ┆ 978       ┆ 3000.5041 ┆ 69.654279 ┆ … ┆ 0.935016 ┆ 0.354605  ┆ 0.663123  ┆ -0.748511 │\n",
       "│ 5         ┆           ┆ 27        ┆           ┆   ┆          ┆           ┆           ┆           │\n",
       "│ 2020-06-0 ┆ 950       ┆ 4609.8162 ┆ 357.46762 ┆ … ┆ 0.970942 ┆ 0.239316  ┆ 0.464723  ┆ -0.885456 │\n",
       "│ 1         ┆           ┆ 16        ┆ 5         ┆   ┆          ┆           ┆           ┆           │\n",
       "│ 2020-06-0 ┆ 800       ┆ 3429.0650 ┆ 425.66346 ┆ … ┆ 0.992709 ┆ 0.120537  ┆ 0.239316  ┆ -0.970942 │\n",
       "│ 8         ┆           ┆ 37        ┆ 9         ┆   ┆          ┆           ┆           ┆           │\n",
       "│ 2020-06-1 ┆ 320       ┆ 6679.5228 ┆ 530.89455 ┆ … ┆ 1.0      ┆ 5.5100e-1 ┆ 1.1000e-1 ┆ -1.0      │\n",
       "│ 5         ┆           ┆ 77        ┆ 8         ┆   ┆          ┆ 6         ┆ 5         ┆           │\n",
       "└───────────┴───────────┴───────────┴───────────┴───┴──────────┴───────────┴───────────┴───────────┘"
      ]
     },
     "execution_count": 26,
     "metadata": {},
     "output_type": "execute_result"
    }
   ],
   "source": [
    "lagged_df = lag_channels_at_best_lag(df, chosen_lag_dict)\n",
    "lagged_df.head()"
   ]
  },
  {
   "cell_type": "markdown",
   "metadata": {},
   "source": [
    "### Seasonal Effects 🌻 🌞 🍃 ❄"
   ]
  },
  {
   "cell_type": "code",
   "execution_count": 27,
   "metadata": {},
   "outputs": [
    {
     "data": {
      "application/vnd.plotly.v1+json": {
       "config": {
        "plotlyServerURL": "https://plot.ly"
       },
       "data": [
        {
         "hovertemplate": "season=Spring<br>promo_investment_lag0=%{x}<br>new_customers=%{y}<extra></extra>",
         "legendgroup": "Spring",
         "marker": {
          "color": "#636efa",
          "symbol": "circle"
         },
         "mode": "markers",
         "name": "Spring",
         "orientation": "v",
         "showlegend": true,
         "type": "scatter",
         "x": {
          "bdata": "+UhKeuhglEAQJO8cAnGnQCujkc9jeb1Aio9PyC6IpUDYg0nxUfm4QFjH8UP5QrdAqd4a2B7tyUA8vVKWEzvAQDvCacHhfsBAAvG6fjE7zUA0ETY8p8fVQAHBHD0aj+RA0AoMWQ3x1UDHRiBea9PYQLyReeR/rMlAUTHO35Q8zkC8P96rGhbHQDAqqRME085Az4O7s+6XyUDEJjJz0ZKNQB2UMNPqV89Aox6i0dNp1UAiGt1BMNfaQOXQItvjQddAQmDl0HNo5ECSrpl8PxHUQDblCu9C39RAUiy3tKzo20D+ZffklaPaQAAAAAAAUsRAAAAAAAC+00AAAAAAAHLJQAAAAACAK8pAAAAAAIAHw0AAAAAAAOngQAAAAACAKtlAAAAAAAAS+0AAAAAAsBD2QAAAAABQUfRAAAAAAIBPAkEAAAAAAID5QAAAAADAK+NA",
          "dtype": "f8"
         },
         "xaxis": "x",
         "y": {
          "bdata": "CQPSA1UF7QZoBckE/AMuA8IBVgS+BoAMngm6DfwFKQVpCMAHvgW/B8oK4Qz0D9gQ5xWaDEIPYQ+mEdsJ2AxPCVwLEwyJDUEO1RKBFHAXEhGXEjUK",
          "dtype": "i2"
         },
         "yaxis": "y"
        },
        {
         "hovertemplate": "season=Summer<br>promo_investment_lag0=%{x}<br>new_customers=%{y}<extra></extra>",
         "legendgroup": "Summer",
         "marker": {
          "color": "#EF553B",
          "symbol": "circle"
         },
         "mode": "markers",
         "name": "Summer",
         "orientation": "v",
         "showlegend": true,
         "type": "scatter",
         "x": {
          "bdata": "eSKI89ABskAPmIdMIcqqQNVeRNuFF7pAQKa1aVaGwEA02xX68LuwQJ33/3H+EL9AIqmFkvXqs0CvXkVGf6W3QLtfBfjeV6NAsRcK2MYEvkA4Mo/8TaPKQDquRnZfZcBAF9nO91udxED5D+m3r+3FQHhi1ou9LdNAeHqlLIG60EC4I5wWTljVQPKwUGsACONA0LhwIMTnz0CiC+pbtvLPQDAvwD4SeMpAP5EnSTvT2kCjAbwF9jjSQMAJhQhUMNhAM9yAz/Un30CTjJyF+ZnXQCPb+X4KcNBAXDgQkodz10Af9GxWn3DUQM0jfzA4u8pAAiuHFnWq00Aao3VUuTzeQBo09E+Dn+NARbsKKV9t6UBV+3Q8bdnwQH/eVKTc0ulACmgi7NCc8UA0v5oDcCL4QIV80DPATQlBpU5AE6H1CEEAAAAAgG3BQAAAAAAAkbxAAAAAAADPwUAAAAAAgGrBQAAAAAAAFLxAAAAAAAB5w0A=",
          "dtype": "f8"
         },
         "xaxis": "x2",
         "y": {
          "bdata": "tgMgA0ABPwK+AfwC5QOWBW8D8AbbByAIJAtMDMwG2wnQCM4NGAwrD5gSURciFE4YDRZaGMkW/xYPEO4TmRO/FEoVgRciGPIY5BoFGRQdfSBVDd8KAAmCBYoEtwo=",
          "dtype": "i2"
         },
         "yaxis": "y2"
        },
        {
         "hovertemplate": "season=Autumn<br>promo_investment_lag0=%{x}<br>new_customers=%{y}<extra></extra>",
         "legendgroup": "Autumn",
         "marker": {
          "color": "#00cc96",
          "symbol": "circle"
         },
         "mode": "markers",
         "name": "Autumn",
         "orientation": "v",
         "showlegend": true,
         "type": "scatter",
         "x": {
          "bdata": "elORCtt9xUCbIOo+cmTQQPZFQlv+3MpAtwvNdR5zykALtaZ5Y4vPQKIL6lvCv8NAJjYf13DH1EAe/pqsS93XQM3pspiYbdFAYhVvZF6EyEAniLoPaCbGQKgck8VxscBAIUCGjpWxuUCbyTfbMo7TQPhwyXF989FAbmk1JHLaykDzqzlAUInTQNyAzw9Z/dBASx+6oGxl0EDmIr4T0wDJQJ0ui4mR2c5Abw1slbap0kCoqWVrxcfOQCzUmuadN8hAObTIdn790UDDDfj8VFTMQDGUE+3oBPdA0ZFc/iLz+UAQ6bevCg8EQdUJaCIPYARBEqW9QaV3B0HByqGFKuURQSBj7lr0QRJBr5RliI2vEUE1XrpJqXULQXnpJjGqzANBUU60KwuR90AGL/oK57/3QHEgJAsrpPNA",
          "dtype": "f8"
         },
         "xaxis": "x3",
         "y": {
          "bdata": "lw30EDsSERZtE4gPawvVDKoLYwcyB3MEfgbmFj4VdBbEFpQV8hO6EqERTw9ZCicKhAhGB2weLR/0JaEkaSbpKLsjDyDJHw0XUBCcEsQQ",
          "dtype": "i2"
         },
         "yaxis": "y3"
        },
        {
         "hovertemplate": "season=Winter<br>promo_investment_lag0=%{x}<br>new_customers=%{y}<extra></extra>",
         "legendgroup": "Winter",
         "marker": {
          "color": "#ab63fa",
          "symbol": "circle"
         },
         "mode": "markers",
         "name": "Winter",
         "orientation": "v",
         "showlegend": true,
         "type": "scatter",
         "x": {
          "bdata": "hbacS8F5xEAMsfoj1K2kQA38qIYRVbxAxZEHIiuZtEDk9zb9W0PAQLvSMlJjV7RASDZXza+TtkCdE3tod5DBQAEYz6CjLsJAUtSZe/xtvUDMf0i/Y0fRQD81XroVPcdAdqVlpDYlv0B5r1qZ5EnFQEvqBDQJnsRAI0p7g41Y00ASFD/GyJHDQLq8OVwT8q9A/aTapyMUvEBQGf8+W9PJQEATYcNbeMRASDMWTQcuyUAKo1nZ6CnDQKUsQxxlt9tAavZAK4jNw0BZ3eq5MgnyQDxO0ZExxgBBAAAAADCk80AAAAAAgEDAQAAAAACAw8FAAAAAAIChwEAAAAAAAMi5QAAAAACAgMBAAAAAAADGsUAAAAAAAIq2QAAAAAAAkrNAAAAAAABGskAAAAAAAEB+QA==",
          "dtype": "f8"
         },
         "xaxis": "x4",
         "y": {
          "bdata": "9gXHBigGCgR9AyEGpwNaBrAFwwboB0oG7gaECFII0xEFBecHBwcnB2QISQrUBqYOcghPEPUTxBC9CW0JxQTvAxELOwNABCAF/wS1BA==",
          "dtype": "i2"
         },
         "yaxis": "y4"
        }
       ],
       "layout": {
        "annotations": [
         {
          "font": {},
          "showarrow": false,
          "text": "season=Spring",
          "x": 0.1175,
          "xanchor": "center",
          "xref": "paper",
          "y": 1,
          "yanchor": "bottom",
          "yref": "paper"
         },
         {
          "font": {},
          "showarrow": false,
          "text": "season=Summer",
          "x": 0.3725,
          "xanchor": "center",
          "xref": "paper",
          "y": 1,
          "yanchor": "bottom",
          "yref": "paper"
         },
         {
          "font": {},
          "showarrow": false,
          "text": "season=Autumn",
          "x": 0.6275,
          "xanchor": "center",
          "xref": "paper",
          "y": 1,
          "yanchor": "bottom",
          "yref": "paper"
         },
         {
          "font": {},
          "showarrow": false,
          "text": "season=Winter",
          "x": 0.8824999999999998,
          "xanchor": "center",
          "xref": "paper",
          "y": 1,
          "yanchor": "bottom",
          "yref": "paper"
         }
        ],
        "height": 400,
        "legend": {
         "title": {
          "text": "season"
         },
         "tracegroupgap": 0
        },
        "template": {
         "data": {
          "bar": [
           {
            "error_x": {
             "color": "#2a3f5f"
            },
            "error_y": {
             "color": "#2a3f5f"
            },
            "marker": {
             "line": {
              "color": "white",
              "width": 0.5
             },
             "pattern": {
              "fillmode": "overlay",
              "size": 10,
              "solidity": 0.2
             }
            },
            "type": "bar"
           }
          ],
          "barpolar": [
           {
            "marker": {
             "line": {
              "color": "white",
              "width": 0.5
             },
             "pattern": {
              "fillmode": "overlay",
              "size": 10,
              "solidity": 0.2
             }
            },
            "type": "barpolar"
           }
          ],
          "carpet": [
           {
            "aaxis": {
             "endlinecolor": "#2a3f5f",
             "gridcolor": "#C8D4E3",
             "linecolor": "#C8D4E3",
             "minorgridcolor": "#C8D4E3",
             "startlinecolor": "#2a3f5f"
            },
            "baxis": {
             "endlinecolor": "#2a3f5f",
             "gridcolor": "#C8D4E3",
             "linecolor": "#C8D4E3",
             "minorgridcolor": "#C8D4E3",
             "startlinecolor": "#2a3f5f"
            },
            "type": "carpet"
           }
          ],
          "choropleth": [
           {
            "colorbar": {
             "outlinewidth": 0,
             "ticks": ""
            },
            "type": "choropleth"
           }
          ],
          "contour": [
           {
            "colorbar": {
             "outlinewidth": 0,
             "ticks": ""
            },
            "colorscale": [
             [
              0,
              "#0d0887"
             ],
             [
              0.1111111111111111,
              "#46039f"
             ],
             [
              0.2222222222222222,
              "#7201a8"
             ],
             [
              0.3333333333333333,
              "#9c179e"
             ],
             [
              0.4444444444444444,
              "#bd3786"
             ],
             [
              0.5555555555555556,
              "#d8576b"
             ],
             [
              0.6666666666666666,
              "#ed7953"
             ],
             [
              0.7777777777777778,
              "#fb9f3a"
             ],
             [
              0.8888888888888888,
              "#fdca26"
             ],
             [
              1,
              "#f0f921"
             ]
            ],
            "type": "contour"
           }
          ],
          "contourcarpet": [
           {
            "colorbar": {
             "outlinewidth": 0,
             "ticks": ""
            },
            "type": "contourcarpet"
           }
          ],
          "heatmap": [
           {
            "colorbar": {
             "outlinewidth": 0,
             "ticks": ""
            },
            "colorscale": [
             [
              0,
              "#0d0887"
             ],
             [
              0.1111111111111111,
              "#46039f"
             ],
             [
              0.2222222222222222,
              "#7201a8"
             ],
             [
              0.3333333333333333,
              "#9c179e"
             ],
             [
              0.4444444444444444,
              "#bd3786"
             ],
             [
              0.5555555555555556,
              "#d8576b"
             ],
             [
              0.6666666666666666,
              "#ed7953"
             ],
             [
              0.7777777777777778,
              "#fb9f3a"
             ],
             [
              0.8888888888888888,
              "#fdca26"
             ],
             [
              1,
              "#f0f921"
             ]
            ],
            "type": "heatmap"
           }
          ],
          "histogram": [
           {
            "marker": {
             "pattern": {
              "fillmode": "overlay",
              "size": 10,
              "solidity": 0.2
             }
            },
            "type": "histogram"
           }
          ],
          "histogram2d": [
           {
            "colorbar": {
             "outlinewidth": 0,
             "ticks": ""
            },
            "colorscale": [
             [
              0,
              "#0d0887"
             ],
             [
              0.1111111111111111,
              "#46039f"
             ],
             [
              0.2222222222222222,
              "#7201a8"
             ],
             [
              0.3333333333333333,
              "#9c179e"
             ],
             [
              0.4444444444444444,
              "#bd3786"
             ],
             [
              0.5555555555555556,
              "#d8576b"
             ],
             [
              0.6666666666666666,
              "#ed7953"
             ],
             [
              0.7777777777777778,
              "#fb9f3a"
             ],
             [
              0.8888888888888888,
              "#fdca26"
             ],
             [
              1,
              "#f0f921"
             ]
            ],
            "type": "histogram2d"
           }
          ],
          "histogram2dcontour": [
           {
            "colorbar": {
             "outlinewidth": 0,
             "ticks": ""
            },
            "colorscale": [
             [
              0,
              "#0d0887"
             ],
             [
              0.1111111111111111,
              "#46039f"
             ],
             [
              0.2222222222222222,
              "#7201a8"
             ],
             [
              0.3333333333333333,
              "#9c179e"
             ],
             [
              0.4444444444444444,
              "#bd3786"
             ],
             [
              0.5555555555555556,
              "#d8576b"
             ],
             [
              0.6666666666666666,
              "#ed7953"
             ],
             [
              0.7777777777777778,
              "#fb9f3a"
             ],
             [
              0.8888888888888888,
              "#fdca26"
             ],
             [
              1,
              "#f0f921"
             ]
            ],
            "type": "histogram2dcontour"
           }
          ],
          "mesh3d": [
           {
            "colorbar": {
             "outlinewidth": 0,
             "ticks": ""
            },
            "type": "mesh3d"
           }
          ],
          "parcoords": [
           {
            "line": {
             "colorbar": {
              "outlinewidth": 0,
              "ticks": ""
             }
            },
            "type": "parcoords"
           }
          ],
          "pie": [
           {
            "automargin": true,
            "type": "pie"
           }
          ],
          "scatter": [
           {
            "fillpattern": {
             "fillmode": "overlay",
             "size": 10,
             "solidity": 0.2
            },
            "type": "scatter"
           }
          ],
          "scatter3d": [
           {
            "line": {
             "colorbar": {
              "outlinewidth": 0,
              "ticks": ""
             }
            },
            "marker": {
             "colorbar": {
              "outlinewidth": 0,
              "ticks": ""
             }
            },
            "type": "scatter3d"
           }
          ],
          "scattercarpet": [
           {
            "marker": {
             "colorbar": {
              "outlinewidth": 0,
              "ticks": ""
             }
            },
            "type": "scattercarpet"
           }
          ],
          "scattergeo": [
           {
            "marker": {
             "colorbar": {
              "outlinewidth": 0,
              "ticks": ""
             }
            },
            "type": "scattergeo"
           }
          ],
          "scattergl": [
           {
            "marker": {
             "colorbar": {
              "outlinewidth": 0,
              "ticks": ""
             }
            },
            "type": "scattergl"
           }
          ],
          "scattermap": [
           {
            "marker": {
             "colorbar": {
              "outlinewidth": 0,
              "ticks": ""
             }
            },
            "type": "scattermap"
           }
          ],
          "scattermapbox": [
           {
            "marker": {
             "colorbar": {
              "outlinewidth": 0,
              "ticks": ""
             }
            },
            "type": "scattermapbox"
           }
          ],
          "scatterpolar": [
           {
            "marker": {
             "colorbar": {
              "outlinewidth": 0,
              "ticks": ""
             }
            },
            "type": "scatterpolar"
           }
          ],
          "scatterpolargl": [
           {
            "marker": {
             "colorbar": {
              "outlinewidth": 0,
              "ticks": ""
             }
            },
            "type": "scatterpolargl"
           }
          ],
          "scatterternary": [
           {
            "marker": {
             "colorbar": {
              "outlinewidth": 0,
              "ticks": ""
             }
            },
            "type": "scatterternary"
           }
          ],
          "surface": [
           {
            "colorbar": {
             "outlinewidth": 0,
             "ticks": ""
            },
            "colorscale": [
             [
              0,
              "#0d0887"
             ],
             [
              0.1111111111111111,
              "#46039f"
             ],
             [
              0.2222222222222222,
              "#7201a8"
             ],
             [
              0.3333333333333333,
              "#9c179e"
             ],
             [
              0.4444444444444444,
              "#bd3786"
             ],
             [
              0.5555555555555556,
              "#d8576b"
             ],
             [
              0.6666666666666666,
              "#ed7953"
             ],
             [
              0.7777777777777778,
              "#fb9f3a"
             ],
             [
              0.8888888888888888,
              "#fdca26"
             ],
             [
              1,
              "#f0f921"
             ]
            ],
            "type": "surface"
           }
          ],
          "table": [
           {
            "cells": {
             "fill": {
              "color": "#EBF0F8"
             },
             "line": {
              "color": "white"
             }
            },
            "header": {
             "fill": {
              "color": "#C8D4E3"
             },
             "line": {
              "color": "white"
             }
            },
            "type": "table"
           }
          ]
         },
         "layout": {
          "annotationdefaults": {
           "arrowcolor": "#2a3f5f",
           "arrowhead": 0,
           "arrowwidth": 1
          },
          "autotypenumbers": "strict",
          "coloraxis": {
           "colorbar": {
            "outlinewidth": 0,
            "ticks": ""
           }
          },
          "colorscale": {
           "diverging": [
            [
             0,
             "#8e0152"
            ],
            [
             0.1,
             "#c51b7d"
            ],
            [
             0.2,
             "#de77ae"
            ],
            [
             0.3,
             "#f1b6da"
            ],
            [
             0.4,
             "#fde0ef"
            ],
            [
             0.5,
             "#f7f7f7"
            ],
            [
             0.6,
             "#e6f5d0"
            ],
            [
             0.7,
             "#b8e186"
            ],
            [
             0.8,
             "#7fbc41"
            ],
            [
             0.9,
             "#4d9221"
            ],
            [
             1,
             "#276419"
            ]
           ],
           "sequential": [
            [
             0,
             "#0d0887"
            ],
            [
             0.1111111111111111,
             "#46039f"
            ],
            [
             0.2222222222222222,
             "#7201a8"
            ],
            [
             0.3333333333333333,
             "#9c179e"
            ],
            [
             0.4444444444444444,
             "#bd3786"
            ],
            [
             0.5555555555555556,
             "#d8576b"
            ],
            [
             0.6666666666666666,
             "#ed7953"
            ],
            [
             0.7777777777777778,
             "#fb9f3a"
            ],
            [
             0.8888888888888888,
             "#fdca26"
            ],
            [
             1,
             "#f0f921"
            ]
           ],
           "sequentialminus": [
            [
             0,
             "#0d0887"
            ],
            [
             0.1111111111111111,
             "#46039f"
            ],
            [
             0.2222222222222222,
             "#7201a8"
            ],
            [
             0.3333333333333333,
             "#9c179e"
            ],
            [
             0.4444444444444444,
             "#bd3786"
            ],
            [
             0.5555555555555556,
             "#d8576b"
            ],
            [
             0.6666666666666666,
             "#ed7953"
            ],
            [
             0.7777777777777778,
             "#fb9f3a"
            ],
            [
             0.8888888888888888,
             "#fdca26"
            ],
            [
             1,
             "#f0f921"
            ]
           ]
          },
          "colorway": [
           "#636efa",
           "#EF553B",
           "#00cc96",
           "#ab63fa",
           "#FFA15A",
           "#19d3f3",
           "#FF6692",
           "#B6E880",
           "#FF97FF",
           "#FECB52"
          ],
          "font": {
           "color": "#2a3f5f"
          },
          "geo": {
           "bgcolor": "white",
           "lakecolor": "white",
           "landcolor": "white",
           "showlakes": true,
           "showland": true,
           "subunitcolor": "#C8D4E3"
          },
          "hoverlabel": {
           "align": "left"
          },
          "hovermode": "closest",
          "mapbox": {
           "style": "light"
          },
          "paper_bgcolor": "white",
          "plot_bgcolor": "white",
          "polar": {
           "angularaxis": {
            "gridcolor": "#EBF0F8",
            "linecolor": "#EBF0F8",
            "ticks": ""
           },
           "bgcolor": "white",
           "radialaxis": {
            "gridcolor": "#EBF0F8",
            "linecolor": "#EBF0F8",
            "ticks": ""
           }
          },
          "scene": {
           "xaxis": {
            "backgroundcolor": "white",
            "gridcolor": "#DFE8F3",
            "gridwidth": 2,
            "linecolor": "#EBF0F8",
            "showbackground": true,
            "ticks": "",
            "zerolinecolor": "#EBF0F8"
           },
           "yaxis": {
            "backgroundcolor": "white",
            "gridcolor": "#DFE8F3",
            "gridwidth": 2,
            "linecolor": "#EBF0F8",
            "showbackground": true,
            "ticks": "",
            "zerolinecolor": "#EBF0F8"
           },
           "zaxis": {
            "backgroundcolor": "white",
            "gridcolor": "#DFE8F3",
            "gridwidth": 2,
            "linecolor": "#EBF0F8",
            "showbackground": true,
            "ticks": "",
            "zerolinecolor": "#EBF0F8"
           }
          },
          "shapedefaults": {
           "line": {
            "color": "#2a3f5f"
           }
          },
          "ternary": {
           "aaxis": {
            "gridcolor": "#DFE8F3",
            "linecolor": "#A2B1C6",
            "ticks": ""
           },
           "baxis": {
            "gridcolor": "#DFE8F3",
            "linecolor": "#A2B1C6",
            "ticks": ""
           },
           "bgcolor": "white",
           "caxis": {
            "gridcolor": "#DFE8F3",
            "linecolor": "#A2B1C6",
            "ticks": ""
           }
          },
          "title": {
           "x": 0.05
          },
          "xaxis": {
           "automargin": true,
           "gridcolor": "#EBF0F8",
           "linecolor": "#EBF0F8",
           "ticks": "",
           "title": {
            "standoff": 15
           },
           "zerolinecolor": "#EBF0F8",
           "zerolinewidth": 2
          },
          "yaxis": {
           "automargin": true,
           "gridcolor": "#EBF0F8",
           "linecolor": "#EBF0F8",
           "ticks": "",
           "title": {
            "standoff": 15
           },
           "zerolinecolor": "#EBF0F8",
           "zerolinewidth": 2
          }
         }
        },
        "title": {
         "text": "promo_investment_lag0 vs Sales by Season"
        },
        "width": 1300,
        "xaxis": {
         "anchor": "y",
         "domain": [
          0,
          0.235
         ],
         "title": {
          "text": "promo_investment_lag0"
         }
        },
        "xaxis2": {
         "anchor": "y2",
         "domain": [
          0.255,
          0.49
         ],
         "matches": "x",
         "title": {
          "text": "promo_investment_lag0"
         }
        },
        "xaxis3": {
         "anchor": "y3",
         "domain": [
          0.51,
          0.745
         ],
         "matches": "x",
         "title": {
          "text": "promo_investment_lag0"
         }
        },
        "xaxis4": {
         "anchor": "y4",
         "domain": [
          0.7649999999999999,
          0.9999999999999999
         ],
         "matches": "x",
         "title": {
          "text": "promo_investment_lag0"
         }
        },
        "yaxis": {
         "anchor": "x",
         "domain": [
          0,
          1
         ],
         "title": {
          "text": "new_customers"
         }
        },
        "yaxis2": {
         "anchor": "x2",
         "domain": [
          0,
          1
         ],
         "matches": "y",
         "showticklabels": false
        },
        "yaxis3": {
         "anchor": "x3",
         "domain": [
          0,
          1
         ],
         "matches": "y",
         "showticklabels": false
        },
        "yaxis4": {
         "anchor": "x4",
         "domain": [
          0,
          1
         ],
         "matches": "y",
         "showticklabels": false
        }
       }
      }
     },
     "metadata": {},
     "output_type": "display_data"
    },
    {
     "data": {
      "application/vnd.jupyter.widget-view+json": {
       "model_id": "6d2b2d0570fc4ca48c2f483a41cb32ed",
       "version_major": 2,
       "version_minor": 0
      },
      "text/plain": [
       "interactive(children=(Dropdown(description='Channel', options=('promo_investment_lag0', 'ppc_brand_investment_…"
      ]
     },
     "metadata": {},
     "output_type": "display_data"
    }
   ],
   "source": [
    "season_df = add_season_column(lagged_df, date_col=date_col)\n",
    "\n",
    "season_channels_dropdown = widgets.Dropdown(description='Channel',\n",
    "                                            options=lagged_channels_names)\n",
    "\n",
    "def plot_seasonal_effect(channel: str):\n",
    "\n",
    "\n",
    "  fig = px.scatter(\n",
    "      season_df,\n",
    "      x=channel,\n",
    "      y=target,\n",
    "      color=\"season\",\n",
    "      facet_col=\"season\",\n",
    "      title=f\"{channel} vs Sales by Season\",\n",
    "      height=400,\n",
    "      width=1300\n",
    "  )\n",
    "  fig.show()\n",
    "\n",
    "\n",
    "interactive_seasonal_plot = interactive(plot_seasonal_effect,\n",
    "                                        channel = season_channels_dropdown,\n",
    "                                        )\n",
    "\n",
    "display(interactive_seasonal_plot)"
   ]
  },
  {
   "cell_type": "markdown",
   "metadata": {},
   "source": [
    "🔍 Observations <br>\n",
    "\n",
    "⬛ The promo investment saturates in every season of the year <br>\n",
    "⬛ The PPC brand investments show a saturation effect during the summer <br>\n",
    "⬛ For the other channels in autum or winter we lose a monotonic relationship with the target <br>"
   ]
  },
  {
   "cell_type": "markdown",
   "metadata": {},
   "source": [
    "### How To Manage Non-Linear Relationships? 🧐"
   ]
  },
  {
   "cell_type": "markdown",
   "metadata": {},
   "source": [
    "Geometric Adstock :\n",
    "\n",
    "$$\n",
    "Adstock_{t} = Spend_{t} + \\lambda \\cdot Adstock_{t-1}\n",
    "$$"
   ]
  },
  {
   "cell_type": "code",
   "execution_count": 28,
   "metadata": {},
   "outputs": [],
   "source": [
    "def geometric_adstock(investment_series: np.typing.ArrayLike,\n",
    "                      decay_rate: float) -> np.array:\n",
    "    if not (0 <= decay_rate < 1):\n",
    "        raise ValueError(\"Decay factor must be between 0 and 1.\")\n",
    "\n",
    "    transformed = np.zeros_like(investment_series)\n",
    "    transformed[0] = investment_series[0]\n",
    "\n",
    "    for i in range(1, len(investment_series)):\n",
    "        transformed[i] = investment_series[i] + decay_rate * transformed[i - 1]\n",
    "    return transformed"
   ]
  },
  {
   "cell_type": "code",
   "execution_count": 29,
   "metadata": {},
   "outputs": [],
   "source": [
    "decay_rate_widget = widgets.FloatSlider(min=0, max=0.99, step=0.01)\n",
    "lagged_channels_dropdown = widgets.Dropdown(description='Delayed Channel', options=lagged_channels_names)\n",
    "\n",
    "def plot_adstock_transformation(channel: str, decay_rate: int):\n",
    "\n",
    "  sel_df = lagged_df.select(date_col, target, channel).drop_nulls()\n",
    "  adstock_investment = geometric_adstock(sel_df[channel].to_list(),\n",
    "                                         decay_rate)\n",
    "\n",
    "  adstock_channel_name = f\"{channel}_adstock\"\n",
    "  adstock_df = sel_df.with_columns(\n",
    "      pl.Series(name=adstock_channel_name, values=adstock_investment))\n",
    "\n",
    "  plot_title = f\"{target} vs Adstock {channel} Relationship - Decay Rate {np.round(decay_rate, 2)}\"\n",
    "  plot_target_channel_relationship(adstock_df,\n",
    "                                   col_to_scale=adstock_channel_name,\n",
    "                                   col_to_corr=adstock_channel_name,\n",
    "                                   plot_title=plot_title)"
   ]
  },
  {
   "cell_type": "code",
   "execution_count": 30,
   "metadata": {},
   "outputs": [
    {
     "data": {
      "application/vnd.plotly.v1+json": {
       "config": {
        "plotlyServerURL": "https://plot.ly"
       },
       "data": [
        {
         "mode": "lines",
         "name": "new_customers",
         "type": "scatter",
         "x": [
          "2020-05-18",
          "2020-05-25",
          "2020-06-01",
          "2020-06-08",
          "2020-06-15",
          "2020-06-22",
          "2020-06-29",
          "2020-07-06",
          "2020-07-13",
          "2020-07-20",
          "2020-07-27",
          "2020-08-03",
          "2020-08-10",
          "2020-08-17",
          "2020-08-24",
          "2020-08-31",
          "2020-09-07",
          "2020-09-14",
          "2020-09-21",
          "2020-09-28",
          "2020-10-05",
          "2020-10-12",
          "2020-10-19",
          "2020-10-26",
          "2020-11-02",
          "2020-11-09",
          "2020-11-16",
          "2020-11-23",
          "2020-11-30",
          "2020-12-07",
          "2020-12-14",
          "2020-12-21",
          "2020-12-28",
          "2021-01-04",
          "2021-01-11",
          "2021-01-18",
          "2021-01-25",
          "2021-02-01",
          "2021-02-08",
          "2021-02-15",
          "2021-02-22",
          "2021-03-01",
          "2021-03-08",
          "2021-03-15",
          "2021-03-22",
          "2021-03-29",
          "2021-04-05",
          "2021-04-12",
          "2021-04-19",
          "2021-04-26",
          "2021-05-03",
          "2021-05-10",
          "2021-05-17",
          "2021-05-24",
          "2021-05-31",
          "2021-06-07",
          "2021-06-14",
          "2021-06-21",
          "2021-06-28",
          "2021-07-05",
          "2021-07-12",
          "2021-07-19",
          "2021-07-26",
          "2021-08-02",
          "2021-08-09",
          "2021-08-16",
          "2021-08-23",
          "2021-08-30",
          "2021-09-06",
          "2021-09-13",
          "2021-09-20",
          "2021-09-27",
          "2021-10-04",
          "2021-10-11",
          "2021-10-18",
          "2021-10-25",
          "2021-11-01",
          "2021-11-08",
          "2021-11-15",
          "2021-11-22",
          "2021-11-29",
          "2021-12-06",
          "2021-12-13",
          "2021-12-20",
          "2021-12-27",
          "2022-01-03",
          "2022-01-10",
          "2022-01-17",
          "2022-01-24",
          "2022-01-31",
          "2022-02-07",
          "2022-02-14",
          "2022-02-21",
          "2022-02-28",
          "2022-03-07",
          "2022-03-14",
          "2022-03-21",
          "2022-03-28",
          "2022-04-04",
          "2022-04-11",
          "2022-04-18",
          "2022-04-25",
          "2022-05-02",
          "2022-05-09",
          "2022-05-16",
          "2022-05-23",
          "2022-05-30",
          "2022-06-06",
          "2022-06-13",
          "2022-06-20",
          "2022-06-27",
          "2022-07-04",
          "2022-07-11",
          "2022-07-18",
          "2022-07-25",
          "2022-08-01",
          "2022-08-08",
          "2022-08-15",
          "2022-08-22",
          "2022-08-29",
          "2022-09-05",
          "2022-09-12",
          "2022-09-19",
          "2022-09-26",
          "2022-10-03",
          "2022-10-10",
          "2022-10-17",
          "2022-10-24",
          "2022-10-31",
          "2022-11-07",
          "2022-11-14",
          "2022-11-21",
          "2022-11-28",
          "2022-12-05",
          "2022-12-12",
          "2022-12-19",
          "2022-12-26",
          "2023-01-02",
          "2023-01-09",
          "2023-01-16",
          "2023-01-23",
          "2023-01-30",
          "2023-02-06",
          "2023-02-13",
          "2023-02-20",
          "2023-02-27",
          "2023-03-06",
          "2023-03-13",
          "2023-03-20",
          "2023-03-27",
          "2023-04-03",
          "2023-04-10",
          "2023-04-17",
          "2023-04-24",
          "2023-05-01",
          "2023-05-08",
          "2023-05-15",
          "2023-05-22",
          "2023-05-29",
          "2023-06-05",
          "2023-06-12",
          "2023-06-19",
          "2023-06-26",
          "2023-07-03",
          "2023-07-10"
         ],
         "xaxis": "x",
         "y": [
          0.04501132670146755,
          0.0648084310056141,
          0.06205062543090712,
          0.04727666699497686,
          0,
          0.025115729341081455,
          0.012410125086181424,
          0.04373091697035359,
          0.06667979907416527,
          0.10932729242588397,
          0.05505761843790013,
          0.14340588988476313,
          0.16655175810105388,
          0.1733477789815818,
          0.24938441839850292,
          0.2785383630454053,
          0.3111395646606914,
          0.3959420860829312,
          0.42814931547325913,
          0.5248694967004827,
          0.4582881906825569,
          0.3600906136117404,
          0.2563774253915099,
          0.29203191175022164,
          0.26258248793460065,
          0.15473259135230966,
          0.14990643159657244,
          0.08066581306017927,
          0.13217768147345613,
          0.11878262582487935,
          0.1393676745789422,
          0.12370727863685611,
          0.07032404215502808,
          0.056436521225253625,
          0.12301782724317936,
          0.0605732295873141,
          0.12863193144883286,
          0.11188811188811189,
          0.13897370235398404,
          0.16783216783216784,
          0.1270560425490003,
          0.1029252437703142,
          0.14311041071604452,
          0.10479661183886536,
          0.08913621589677928,
          0.06894513936767459,
          0.04865556978233035,
          0.012804097311139566,
          0.07780951442923274,
          0.13848123707278637,
          0.28366000196986113,
          0.21097212646508423,
          0.31458682162907514,
          0.11937358416231657,
          0.09859154929577466,
          0.13986013986013987,
          0.21698020289569586,
          0.19068255687973998,
          0.3165566827538659,
          0.2734167241209495,
          0.3509307593814636,
          0.4373091697035359,
          0.5563872746971339,
          0.47611543386191274,
          0.5813060179257362,
          0.5244755244755245,
          0.5824879346006107,
          0.5429922190485571,
          0.5458485176795036,
          0.5040874618339407,
          0.5346203092681966,
          0.5424997537673594,
          0.5125578646705408,
          0.4713877671624151,
          0.4406579336156801,
          0.41298138481237073,
          0.3544765094060869,
          0.22939032798187728,
          0.22446567516990054,
          0.18319708460553533,
          0.15187629272136316,
          0.14320890377228407,
          0.18319708460553533,
          0.17827243179355856,
          0.4179060376243475,
          0.0950457992711514,
          0.1677336747759283,
          0.14567123017827244,
          0.14882300797793757,
          0.1800453068058702,
          0.22781443908204474,
          0.14064808431005615,
          0.33783118290160546,
          0.1814242095932237,
          0.18053777208706787,
          0.16389244558258642,
          0.11326701467546539,
          0.1637939525263469,
          0.24052004333694477,
          0.293213828425096,
          0.37072786368561017,
          0.3931842805082242,
          0.5207327883384222,
          0.28622082143208905,
          0.35319609967497295,
          0.35624938441839854,
          0.4134738500935684,
          0.548310844085492,
          0.37338717620407763,
          0.4709937949374569,
          0.46262188515709646,
          0.4915788436915198,
          0.5052693785088151,
          0.5611149413966315,
          0.5769723234511968,
          0.5974588791490201,
          0.6465084211563085,
          0.5993302472175712,
          0.7016645326504481,
          0.7876489707475623,
          0.7355461439968483,
          0.7545553038510785,
          0.925440756426672,
          0.8920516103614695,
          0.9369644440066975,
          1,
          0.8693982074263765,
          0.7768147345612134,
          0.769920220624446,
          0.5496897468728454,
          0.3797892248596474,
          0.4377031419284941,
          0.3912144193834335,
          0.3796907318034079,
          0.4716832463311337,
          0.3912144193834335,
          0.21402541120850982,
          0.206145966709347,
          0.08874224367182114,
          0.06766472963656063,
          0.24751305032995174,
          0.049935979513444306,
          0.07564266719196297,
          0.09770511178961884,
          0.09445484093371417,
          0.08716635477198859,
          0.21698020289569586,
          0.2923273909189402,
          0.20319117502216094,
          0.2549000295479169,
          0.2729242588397518,
          0.30976066187333795,
          0.3278833842214124,
          0.4433172461341476,
          0.4854722742046686,
          0.5594405594405595,
          0.39889687777011723,
          0.4372106766472964,
          0.22584457795725402,
          0.3046390229488821,
          0.242588397517975,
          0.19541022357923768,
          0.10735743130109328,
          0.08293115335368857,
          0.2386486752683936
         ],
         "yaxis": "y"
        },
        {
         "mode": "lines",
         "name": "promo_investment_lag0_adstock",
         "type": "scatter",
         "x": [
          "2020-05-18",
          "2020-05-25",
          "2020-06-01",
          "2020-06-08",
          "2020-06-15",
          "2020-06-22",
          "2020-06-29",
          "2020-07-06",
          "2020-07-13",
          "2020-07-20",
          "2020-07-27",
          "2020-08-03",
          "2020-08-10",
          "2020-08-17",
          "2020-08-24",
          "2020-08-31",
          "2020-09-07",
          "2020-09-14",
          "2020-09-21",
          "2020-09-28",
          "2020-10-05",
          "2020-10-12",
          "2020-10-19",
          "2020-10-26",
          "2020-11-02",
          "2020-11-09",
          "2020-11-16",
          "2020-11-23",
          "2020-11-30",
          "2020-12-07",
          "2020-12-14",
          "2020-12-21",
          "2020-12-28",
          "2021-01-04",
          "2021-01-11",
          "2021-01-18",
          "2021-01-25",
          "2021-02-01",
          "2021-02-08",
          "2021-02-15",
          "2021-02-22",
          "2021-03-01",
          "2021-03-08",
          "2021-03-15",
          "2021-03-22",
          "2021-03-29",
          "2021-04-05",
          "2021-04-12",
          "2021-04-19",
          "2021-04-26",
          "2021-05-03",
          "2021-05-10",
          "2021-05-17",
          "2021-05-24",
          "2021-05-31",
          "2021-06-07",
          "2021-06-14",
          "2021-06-21",
          "2021-06-28",
          "2021-07-05",
          "2021-07-12",
          "2021-07-19",
          "2021-07-26",
          "2021-08-02",
          "2021-08-09",
          "2021-08-16",
          "2021-08-23",
          "2021-08-30",
          "2021-09-06",
          "2021-09-13",
          "2021-09-20",
          "2021-09-27",
          "2021-10-04",
          "2021-10-11",
          "2021-10-18",
          "2021-10-25",
          "2021-11-01",
          "2021-11-08",
          "2021-11-15",
          "2021-11-22",
          "2021-11-29",
          "2021-12-06",
          "2021-12-13",
          "2021-12-20",
          "2021-12-27",
          "2022-01-03",
          "2022-01-10",
          "2022-01-17",
          "2022-01-24",
          "2022-01-31",
          "2022-02-07",
          "2022-02-14",
          "2022-02-21",
          "2022-02-28",
          "2022-03-07",
          "2022-03-14",
          "2022-03-21",
          "2022-03-28",
          "2022-04-04",
          "2022-04-11",
          "2022-04-18",
          "2022-04-25",
          "2022-05-02",
          "2022-05-09",
          "2022-05-16",
          "2022-05-23",
          "2022-05-30",
          "2022-06-06",
          "2022-06-13",
          "2022-06-20",
          "2022-06-27",
          "2022-07-04",
          "2022-07-11",
          "2022-07-18",
          "2022-07-25",
          "2022-08-01",
          "2022-08-08",
          "2022-08-15",
          "2022-08-22",
          "2022-08-29",
          "2022-09-05",
          "2022-09-12",
          "2022-09-19",
          "2022-09-26",
          "2022-10-03",
          "2022-10-10",
          "2022-10-17",
          "2022-10-24",
          "2022-10-31",
          "2022-11-07",
          "2022-11-14",
          "2022-11-21",
          "2022-11-28",
          "2022-12-05",
          "2022-12-12",
          "2022-12-19",
          "2022-12-26",
          "2023-01-02",
          "2023-01-09",
          "2023-01-16",
          "2023-01-23",
          "2023-01-30",
          "2023-02-06",
          "2023-02-13",
          "2023-02-20",
          "2023-02-27",
          "2023-03-06",
          "2023-03-13",
          "2023-03-20",
          "2023-03-27",
          "2023-04-03",
          "2023-04-10",
          "2023-04-17",
          "2023-04-24",
          "2023-05-01",
          "2023-05-08",
          "2023-05-15",
          "2023-05-22",
          "2023-05-29",
          "2023-06-05",
          "2023-06-12",
          "2023-06-19",
          "2023-06-26",
          "2023-07-03",
          "2023-07-10"
         ],
         "xaxis": "x",
         "y": [
          0.002746457497311473,
          0.008426290992922662,
          0.013814929864939202,
          0.0098612892101347,
          0.020745159149469335,
          0.026709189480708037,
          0.012723766649577,
          0.025009264073133846,
          0.015452782010965907,
          0.01864896755044109,
          0.006669819399094044,
          0.024111162578574725,
          0.04404704304592541,
          0.02648843105058889,
          0.03372090817509302,
          0.03597323147098113,
          0.035224320630841986,
          0.054585082296758715,
          0.04443337568287936,
          0.04372435229074102,
          0.05245881450015661,
          0.03223689202831413,
          0.06962607257082647,
          0.08020510796214424,
          0.05813640480124579,
          0.04041109748063628,
          0.036353075857769035,
          0.02699786855000108,
          0.020403826546012888,
          0.03348247322695331,
          0.0072423269251910075,
          0.022665625695356212,
          0.016036106144650657,
          0.026260648229374406,
          0.015815845921308566,
          0.017732137567466104,
          0.02849140745812984,
          0.02955066221852809,
          0.023606254046605348,
          0.05762468125769149,
          0.03821933559503966,
          0.023644438074039754,
          0.007607896548854295,
          0.01978683448104329,
          0.01831907043474629,
          0.042826988092923325,
          0.026205179652301017,
          0.02665926002651175,
          0.048492988002044754,
          0.0730576916797879,
          0.13936362614477193,
          0.0736121735657544,
          0.08350160290192721,
          0.042394233348821114,
          0.0502166711449213,
          0.06413869112062733,
          0.05573771685319804,
          0.07156633296916994,
          0.12888709372817614,
          0.053077450541345834,
          0.05315075543602328,
          0.04375751686539216,
          0.09035663376181043,
          0.06086020276516577,
          0.08131721786790197,
          0.1052065516631839,
          0.07930343559782527,
          0.054740377965619966,
          0.06543061861838166,
          0.059929732723832105,
          0.04441631408721043,
          0.06536518828313934,
          0.05663299244594915,
          0.05459818201862868,
          0.04124455590838555,
          0.05126798501720391,
          0.06237036565168987,
          0.051148799420010146,
          0.03989710347979471,
          0.06006372251821181,
          0.0469469504371714,
          0.025076967340139426,
          0.034876335875832075,
          0.03372543991502043,
          0.06471210485742489,
          0.031929006006061515,
          0.01207114954706669,
          0.02244821608844634,
          0.042654450784314596,
          0.033473120377389205,
          0.04154727908213862,
          0.031233375499252487,
          0.09341257313757455,
          0.03232912532495896,
          0.037958288825021856,
          0.051224103550655126,
          0.042256498791634685,
          0.0015481455924000126,
          0.05211412039640551,
          0.07180102158074958,
          0.09040963134524052,
          0.07812366126328525,
          0.1383282949765357,
          0.06718584697720999,
          0.06994511827889427,
          0.09407260756390427,
          0.08971847932857313,
          0.07878851525898242,
          0.06846325810721844,
          0.04420719658998002,
          0.0658091058605634,
          0.1020558807075791,
          0.1329456710199077,
          0.1727478023365059,
          0.22946940014236536,
          0.17546644883652496,
          0.23993730547755818,
          0.32938657631692064,
          0.6924649465061418,
          0.683022791797649,
          0.31408954990255433,
          0.35428263828006024,
          0.5485947955117283,
          0.5572757394597482,
          0.6420935616127686,
          0.9801155987990412,
          1,
          0.9686263713790375,
          0.7516016938204031,
          0.5414825628625859,
          0.3215971579083552,
          0.3241076025677129,
          0.26776137352808826,
          0.2457438282664534,
          0.45849862375337674,
          0.2677624107989577,
          0.026241499786554847,
          0.028833170175070026,
          0.026891091589360976,
          0.020478883845166447,
          0.026670096439952707,
          0.013614640568091363,
          0.017699702420789706,
          0.015154909791239918,
          0.014043237221489221,
          0,
          0.03321624063833407,
          0.0660708528503637,
          0.04200247203299017,
          0.043244732645573034,
          0.031002940732896687,
          0.11434155093929756,
          0.08466792951420517,
          0.36965121991023464,
          0.3010054387281291,
          0.2770375102513957,
          0.5006410721049552,
          0.3481142380769922,
          0.12984469551142322,
          0.028257243422066654,
          0.022866301141046708,
          0.02891018363622745,
          0.028237152953938627,
          0.022447749721712863,
          0.03176303011040695
         ],
         "yaxis": "y"
        },
        {
         "mode": "markers",
         "showlegend": false,
         "type": "scatter",
         "x": [
          1304.227029,
          3000.504127,
          4609.816216,
          3429.065037,
          6679.522877,
          8460.675101,
          4283.941316,
          7952.993927,
          5098.959267,
          6053.497166,
          2475.935486,
          7684.776734,
          13638.60927,
          8394.745797,
          10554.7185,
          11227.3728,
          11003.71126,
          16785.78509,
          13753.98716,
          13542.23797,
          16150.77715,
          10111.51843,
          21277.76313,
          24437.18241,
          17846.38432,
          12552.73744,
          11340.81298,
          8546.888842,
          6577.584206,
          10483.51012,
          2646.914337,
          7253.068461,
          5273.168488,
          8326.718665,
          5207.387973,
          5779.686727,
          8992.932876,
          9309.278345,
          7533.986261,
          17693.55855,
          11898.16975,
          7545.389886,
          2756.091372,
          6393.320088,
          5954.973693,
          13274.24097,
          8310.153025,
          8445.763715,
          14966.38668,
          22302.61305,
          42104.81996,
          22468.20856,
          25421.67762,
          13144.99916,
          15481.16308,
          19638.96166,
          17130.01835,
          21857.22013,
          38976.0131,
          16335.53224,
          16357.42468,
          13552.14254,
          27468.92634,
          18659.8441,
          24769.31302,
          31903.84079,
          24167.89878,
          16832.164,
          20024.79463,
          18381.96007,
          13748.89173,
          20005.25392,
          17397.39159,
          16789.69731,
          12801.64904,
          15795.13701,
          19110.85287,
          15759.54234,
          12399.2336,
          18421.976,
          14504.66397,
          7973.213446,
          10899.78593,
          10556.0719,
          19810.21115,
          10019.56855,
          4089.037813,
          7188.13928,
          13222.71286,
          10480.7169,
          12892.05704,
          9811.819133,
          28381.57985,
          10139.06382,
          11820.20837,
          15782.03185,
          13103.86486,
          946.3522705,
          16047.83457,
          21927.30967,
          27484.75402,
          23815.56025,
          41795.61925,
          20548.99198,
          21373.04584,
          28578.69853,
          27278.3421,
          24014.11829,
          20930.48965,
          13686.43898,
          20137.8295,
          30962.89578,
          40188.10351,
          52074.97376,
          69014.82726,
          52886.89506,
          72141.05765,
          98855.00088,
          207288.0253,
          204468.1344,
          94286.55788,
          106290.1871,
          164321.3358,
          166913.8918,
          192244.6571,
          293194.6305,
          299133.0888,
          289763.3832,
          224949.161,
          162197.274,
          96528.69817,
          97278.44018,
          80450.69022,
          73875.17039,
          137414.1962,
          80451,
          8321,
          9095,
          8515,
          6600,
          8449,
          4550,
          5770,
          5010,
          4678,
          484,
          10404,
          20216,
          13028,
          13399,
          9743,
          34632,
          25770,
          110880,
          90379,
          83221,
          150000,
          104448,
          39262,
          8923,
          7313,
          9118,
          8917,
          7188,
          9970
         ],
         "xaxis": "x2",
         "y": [
          777,
          978,
          950,
          800,
          320,
          575,
          446,
          764,
          997,
          1430,
          879,
          1776,
          2011,
          2080,
          2852,
          3148,
          3479,
          4340,
          4667,
          5649,
          4973,
          3976,
          2923,
          3285,
          2986,
          1891,
          1842,
          1139,
          1662,
          1526,
          1735,
          1576,
          1034,
          893,
          1569,
          935,
          1626,
          1456,
          1731,
          2024,
          1610,
          1365,
          1773,
          1384,
          1225,
          1020,
          814,
          450,
          1110,
          1726,
          3200,
          2462,
          3514,
          1532,
          1321,
          1740,
          2523,
          2256,
          3534,
          3096,
          3883,
          4760,
          5969,
          5154,
          6222,
          5645,
          6234,
          5833,
          5862,
          5438,
          5748,
          5828,
          5524,
          5106,
          4794,
          4513,
          3919,
          2649,
          2599,
          2180,
          1862,
          1774,
          2180,
          2130,
          4563,
          1285,
          2023,
          1799,
          1831,
          2148,
          2633,
          1748,
          3750,
          2162,
          2153,
          1984,
          1470,
          1983,
          2762,
          3297,
          4084,
          4312,
          5607,
          3226,
          3906,
          3937,
          4518,
          5887,
          4111,
          5102,
          5017,
          5311,
          5450,
          6017,
          6178,
          6386,
          6884,
          6405,
          7444,
          8317,
          7788,
          7981,
          9716,
          9377,
          9833,
          10473,
          9147,
          8207,
          8137,
          5901,
          4176,
          4764,
          4292,
          4175,
          5109,
          4292,
          2493,
          2413,
          1221,
          1007,
          2833,
          827,
          1088,
          1312,
          1279,
          1205,
          2523,
          3288,
          2383,
          2908,
          3091,
          3465,
          3649,
          4821,
          5249,
          6000,
          4370,
          4759,
          2613,
          3413,
          2783,
          2304,
          1410,
          1162,
          2743
         ],
         "yaxis": "y2"
        }
       ],
       "layout": {
        "annotations": [
         {
          "font": {
           "size": 16
          },
          "showarrow": false,
          "text": "Normalized Line Plot",
          "x": 0.225,
          "xanchor": "center",
          "xref": "paper",
          "y": 1,
          "yanchor": "bottom",
          "yref": "paper"
         },
         {
          "font": {
           "size": 16
          },
          "showarrow": false,
          "text": "Scatter Plot - Corr: 0.75",
          "x": 0.775,
          "xanchor": "center",
          "xref": "paper",
          "y": 1,
          "yanchor": "bottom",
          "yref": "paper"
         }
        ],
        "template": {
         "data": {
          "bar": [
           {
            "error_x": {
             "color": "#2a3f5f"
            },
            "error_y": {
             "color": "#2a3f5f"
            },
            "marker": {
             "line": {
              "color": "white",
              "width": 0.5
             },
             "pattern": {
              "fillmode": "overlay",
              "size": 10,
              "solidity": 0.2
             }
            },
            "type": "bar"
           }
          ],
          "barpolar": [
           {
            "marker": {
             "line": {
              "color": "white",
              "width": 0.5
             },
             "pattern": {
              "fillmode": "overlay",
              "size": 10,
              "solidity": 0.2
             }
            },
            "type": "barpolar"
           }
          ],
          "carpet": [
           {
            "aaxis": {
             "endlinecolor": "#2a3f5f",
             "gridcolor": "#C8D4E3",
             "linecolor": "#C8D4E3",
             "minorgridcolor": "#C8D4E3",
             "startlinecolor": "#2a3f5f"
            },
            "baxis": {
             "endlinecolor": "#2a3f5f",
             "gridcolor": "#C8D4E3",
             "linecolor": "#C8D4E3",
             "minorgridcolor": "#C8D4E3",
             "startlinecolor": "#2a3f5f"
            },
            "type": "carpet"
           }
          ],
          "choropleth": [
           {
            "colorbar": {
             "outlinewidth": 0,
             "ticks": ""
            },
            "type": "choropleth"
           }
          ],
          "contour": [
           {
            "colorbar": {
             "outlinewidth": 0,
             "ticks": ""
            },
            "colorscale": [
             [
              0,
              "#0d0887"
             ],
             [
              0.1111111111111111,
              "#46039f"
             ],
             [
              0.2222222222222222,
              "#7201a8"
             ],
             [
              0.3333333333333333,
              "#9c179e"
             ],
             [
              0.4444444444444444,
              "#bd3786"
             ],
             [
              0.5555555555555556,
              "#d8576b"
             ],
             [
              0.6666666666666666,
              "#ed7953"
             ],
             [
              0.7777777777777778,
              "#fb9f3a"
             ],
             [
              0.8888888888888888,
              "#fdca26"
             ],
             [
              1,
              "#f0f921"
             ]
            ],
            "type": "contour"
           }
          ],
          "contourcarpet": [
           {
            "colorbar": {
             "outlinewidth": 0,
             "ticks": ""
            },
            "type": "contourcarpet"
           }
          ],
          "heatmap": [
           {
            "colorbar": {
             "outlinewidth": 0,
             "ticks": ""
            },
            "colorscale": [
             [
              0,
              "#0d0887"
             ],
             [
              0.1111111111111111,
              "#46039f"
             ],
             [
              0.2222222222222222,
              "#7201a8"
             ],
             [
              0.3333333333333333,
              "#9c179e"
             ],
             [
              0.4444444444444444,
              "#bd3786"
             ],
             [
              0.5555555555555556,
              "#d8576b"
             ],
             [
              0.6666666666666666,
              "#ed7953"
             ],
             [
              0.7777777777777778,
              "#fb9f3a"
             ],
             [
              0.8888888888888888,
              "#fdca26"
             ],
             [
              1,
              "#f0f921"
             ]
            ],
            "type": "heatmap"
           }
          ],
          "histogram": [
           {
            "marker": {
             "pattern": {
              "fillmode": "overlay",
              "size": 10,
              "solidity": 0.2
             }
            },
            "type": "histogram"
           }
          ],
          "histogram2d": [
           {
            "colorbar": {
             "outlinewidth": 0,
             "ticks": ""
            },
            "colorscale": [
             [
              0,
              "#0d0887"
             ],
             [
              0.1111111111111111,
              "#46039f"
             ],
             [
              0.2222222222222222,
              "#7201a8"
             ],
             [
              0.3333333333333333,
              "#9c179e"
             ],
             [
              0.4444444444444444,
              "#bd3786"
             ],
             [
              0.5555555555555556,
              "#d8576b"
             ],
             [
              0.6666666666666666,
              "#ed7953"
             ],
             [
              0.7777777777777778,
              "#fb9f3a"
             ],
             [
              0.8888888888888888,
              "#fdca26"
             ],
             [
              1,
              "#f0f921"
             ]
            ],
            "type": "histogram2d"
           }
          ],
          "histogram2dcontour": [
           {
            "colorbar": {
             "outlinewidth": 0,
             "ticks": ""
            },
            "colorscale": [
             [
              0,
              "#0d0887"
             ],
             [
              0.1111111111111111,
              "#46039f"
             ],
             [
              0.2222222222222222,
              "#7201a8"
             ],
             [
              0.3333333333333333,
              "#9c179e"
             ],
             [
              0.4444444444444444,
              "#bd3786"
             ],
             [
              0.5555555555555556,
              "#d8576b"
             ],
             [
              0.6666666666666666,
              "#ed7953"
             ],
             [
              0.7777777777777778,
              "#fb9f3a"
             ],
             [
              0.8888888888888888,
              "#fdca26"
             ],
             [
              1,
              "#f0f921"
             ]
            ],
            "type": "histogram2dcontour"
           }
          ],
          "mesh3d": [
           {
            "colorbar": {
             "outlinewidth": 0,
             "ticks": ""
            },
            "type": "mesh3d"
           }
          ],
          "parcoords": [
           {
            "line": {
             "colorbar": {
              "outlinewidth": 0,
              "ticks": ""
             }
            },
            "type": "parcoords"
           }
          ],
          "pie": [
           {
            "automargin": true,
            "type": "pie"
           }
          ],
          "scatter": [
           {
            "fillpattern": {
             "fillmode": "overlay",
             "size": 10,
             "solidity": 0.2
            },
            "type": "scatter"
           }
          ],
          "scatter3d": [
           {
            "line": {
             "colorbar": {
              "outlinewidth": 0,
              "ticks": ""
             }
            },
            "marker": {
             "colorbar": {
              "outlinewidth": 0,
              "ticks": ""
             }
            },
            "type": "scatter3d"
           }
          ],
          "scattercarpet": [
           {
            "marker": {
             "colorbar": {
              "outlinewidth": 0,
              "ticks": ""
             }
            },
            "type": "scattercarpet"
           }
          ],
          "scattergeo": [
           {
            "marker": {
             "colorbar": {
              "outlinewidth": 0,
              "ticks": ""
             }
            },
            "type": "scattergeo"
           }
          ],
          "scattergl": [
           {
            "marker": {
             "colorbar": {
              "outlinewidth": 0,
              "ticks": ""
             }
            },
            "type": "scattergl"
           }
          ],
          "scattermap": [
           {
            "marker": {
             "colorbar": {
              "outlinewidth": 0,
              "ticks": ""
             }
            },
            "type": "scattermap"
           }
          ],
          "scattermapbox": [
           {
            "marker": {
             "colorbar": {
              "outlinewidth": 0,
              "ticks": ""
             }
            },
            "type": "scattermapbox"
           }
          ],
          "scatterpolar": [
           {
            "marker": {
             "colorbar": {
              "outlinewidth": 0,
              "ticks": ""
             }
            },
            "type": "scatterpolar"
           }
          ],
          "scatterpolargl": [
           {
            "marker": {
             "colorbar": {
              "outlinewidth": 0,
              "ticks": ""
             }
            },
            "type": "scatterpolargl"
           }
          ],
          "scatterternary": [
           {
            "marker": {
             "colorbar": {
              "outlinewidth": 0,
              "ticks": ""
             }
            },
            "type": "scatterternary"
           }
          ],
          "surface": [
           {
            "colorbar": {
             "outlinewidth": 0,
             "ticks": ""
            },
            "colorscale": [
             [
              0,
              "#0d0887"
             ],
             [
              0.1111111111111111,
              "#46039f"
             ],
             [
              0.2222222222222222,
              "#7201a8"
             ],
             [
              0.3333333333333333,
              "#9c179e"
             ],
             [
              0.4444444444444444,
              "#bd3786"
             ],
             [
              0.5555555555555556,
              "#d8576b"
             ],
             [
              0.6666666666666666,
              "#ed7953"
             ],
             [
              0.7777777777777778,
              "#fb9f3a"
             ],
             [
              0.8888888888888888,
              "#fdca26"
             ],
             [
              1,
              "#f0f921"
             ]
            ],
            "type": "surface"
           }
          ],
          "table": [
           {
            "cells": {
             "fill": {
              "color": "#EBF0F8"
             },
             "line": {
              "color": "white"
             }
            },
            "header": {
             "fill": {
              "color": "#C8D4E3"
             },
             "line": {
              "color": "white"
             }
            },
            "type": "table"
           }
          ]
         },
         "layout": {
          "annotationdefaults": {
           "arrowcolor": "#2a3f5f",
           "arrowhead": 0,
           "arrowwidth": 1
          },
          "autotypenumbers": "strict",
          "coloraxis": {
           "colorbar": {
            "outlinewidth": 0,
            "ticks": ""
           }
          },
          "colorscale": {
           "diverging": [
            [
             0,
             "#8e0152"
            ],
            [
             0.1,
             "#c51b7d"
            ],
            [
             0.2,
             "#de77ae"
            ],
            [
             0.3,
             "#f1b6da"
            ],
            [
             0.4,
             "#fde0ef"
            ],
            [
             0.5,
             "#f7f7f7"
            ],
            [
             0.6,
             "#e6f5d0"
            ],
            [
             0.7,
             "#b8e186"
            ],
            [
             0.8,
             "#7fbc41"
            ],
            [
             0.9,
             "#4d9221"
            ],
            [
             1,
             "#276419"
            ]
           ],
           "sequential": [
            [
             0,
             "#0d0887"
            ],
            [
             0.1111111111111111,
             "#46039f"
            ],
            [
             0.2222222222222222,
             "#7201a8"
            ],
            [
             0.3333333333333333,
             "#9c179e"
            ],
            [
             0.4444444444444444,
             "#bd3786"
            ],
            [
             0.5555555555555556,
             "#d8576b"
            ],
            [
             0.6666666666666666,
             "#ed7953"
            ],
            [
             0.7777777777777778,
             "#fb9f3a"
            ],
            [
             0.8888888888888888,
             "#fdca26"
            ],
            [
             1,
             "#f0f921"
            ]
           ],
           "sequentialminus": [
            [
             0,
             "#0d0887"
            ],
            [
             0.1111111111111111,
             "#46039f"
            ],
            [
             0.2222222222222222,
             "#7201a8"
            ],
            [
             0.3333333333333333,
             "#9c179e"
            ],
            [
             0.4444444444444444,
             "#bd3786"
            ],
            [
             0.5555555555555556,
             "#d8576b"
            ],
            [
             0.6666666666666666,
             "#ed7953"
            ],
            [
             0.7777777777777778,
             "#fb9f3a"
            ],
            [
             0.8888888888888888,
             "#fdca26"
            ],
            [
             1,
             "#f0f921"
            ]
           ]
          },
          "colorway": [
           "#636efa",
           "#EF553B",
           "#00cc96",
           "#ab63fa",
           "#FFA15A",
           "#19d3f3",
           "#FF6692",
           "#B6E880",
           "#FF97FF",
           "#FECB52"
          ],
          "font": {
           "color": "#2a3f5f"
          },
          "geo": {
           "bgcolor": "white",
           "lakecolor": "white",
           "landcolor": "white",
           "showlakes": true,
           "showland": true,
           "subunitcolor": "#C8D4E3"
          },
          "hoverlabel": {
           "align": "left"
          },
          "hovermode": "closest",
          "mapbox": {
           "style": "light"
          },
          "paper_bgcolor": "white",
          "plot_bgcolor": "white",
          "polar": {
           "angularaxis": {
            "gridcolor": "#EBF0F8",
            "linecolor": "#EBF0F8",
            "ticks": ""
           },
           "bgcolor": "white",
           "radialaxis": {
            "gridcolor": "#EBF0F8",
            "linecolor": "#EBF0F8",
            "ticks": ""
           }
          },
          "scene": {
           "xaxis": {
            "backgroundcolor": "white",
            "gridcolor": "#DFE8F3",
            "gridwidth": 2,
            "linecolor": "#EBF0F8",
            "showbackground": true,
            "ticks": "",
            "zerolinecolor": "#EBF0F8"
           },
           "yaxis": {
            "backgroundcolor": "white",
            "gridcolor": "#DFE8F3",
            "gridwidth": 2,
            "linecolor": "#EBF0F8",
            "showbackground": true,
            "ticks": "",
            "zerolinecolor": "#EBF0F8"
           },
           "zaxis": {
            "backgroundcolor": "white",
            "gridcolor": "#DFE8F3",
            "gridwidth": 2,
            "linecolor": "#EBF0F8",
            "showbackground": true,
            "ticks": "",
            "zerolinecolor": "#EBF0F8"
           }
          },
          "shapedefaults": {
           "line": {
            "color": "#2a3f5f"
           }
          },
          "ternary": {
           "aaxis": {
            "gridcolor": "#DFE8F3",
            "linecolor": "#A2B1C6",
            "ticks": ""
           },
           "baxis": {
            "gridcolor": "#DFE8F3",
            "linecolor": "#A2B1C6",
            "ticks": ""
           },
           "bgcolor": "white",
           "caxis": {
            "gridcolor": "#DFE8F3",
            "linecolor": "#A2B1C6",
            "ticks": ""
           }
          },
          "title": {
           "x": 0.05
          },
          "xaxis": {
           "automargin": true,
           "gridcolor": "#EBF0F8",
           "linecolor": "#EBF0F8",
           "ticks": "",
           "title": {
            "standoff": 15
           },
           "zerolinecolor": "#EBF0F8",
           "zerolinewidth": 2
          },
          "yaxis": {
           "automargin": true,
           "gridcolor": "#EBF0F8",
           "linecolor": "#EBF0F8",
           "ticks": "",
           "title": {
            "standoff": 15
           },
           "zerolinecolor": "#EBF0F8",
           "zerolinewidth": 2
          }
         }
        },
        "title": {
         "text": "new_customers vs Adstock promo_investment_lag0 Relationship - Decay Rate 0.0"
        },
        "xaxis": {
         "anchor": "y",
         "domain": [
          0,
          0.45
         ]
        },
        "xaxis2": {
         "anchor": "y2",
         "domain": [
          0.55,
          1
         ]
        },
        "yaxis": {
         "anchor": "x",
         "domain": [
          0,
          1
         ]
        },
        "yaxis2": {
         "anchor": "x2",
         "domain": [
          0,
          1
         ]
        }
       }
      }
     },
     "metadata": {},
     "output_type": "display_data"
    },
    {
     "data": {
      "application/vnd.jupyter.widget-view+json": {
       "model_id": "89f94773d30944b9ae21fdf814dcffb3",
       "version_major": 2,
       "version_minor": 0
      },
      "text/plain": [
       "interactive(children=(Dropdown(description='Delayed Channel', options=('promo_investment_lag0', 'ppc_brand_inv…"
      ]
     },
     "metadata": {},
     "output_type": "display_data"
    }
   ],
   "source": [
    "interactive_adstock_plot = interactive(plot_adstock_transformation,\n",
    "                                        channel=lagged_channels_dropdown,\n",
    "                                        decay_rate=decay_rate_widget\n",
    "                                      )\n",
    "\n",
    "display(interactive_adstock_plot)"
   ]
  },
  {
   "cell_type": "markdown",
   "metadata": {},
   "source": [
    "### Optimal Decay Rate and Half-Life Estimation 🕙"
   ]
  },
  {
   "cell_type": "code",
   "execution_count": 31,
   "metadata": {},
   "outputs": [],
   "source": [
    "def find_optimal_correlation_decay_rate(investments_series: np.typing.ArrayLike,\n",
    "                                        target: np.typing.ArrayLike,\n",
    "                                        max_decay_rate: float = 0.8) -> list[float]:\n",
    "    corrs = []\n",
    "    rates = np.arange(0, max_decay_rate, 0.001)\n",
    "    rmax = 0\n",
    "    corrmax = -1\n",
    "\n",
    "    for r in rates:\n",
    "        x = geometric_adstock(investments_series, r)\n",
    "        y = target\n",
    "        corr = np.corrcoef(x, y)[0][1]\n",
    "        corrs.append(corr)\n",
    "        if corr > corrmax:\n",
    "            rmax = r\n",
    "            corrmax = corr\n",
    "    return [rmax, corrmax]\n",
    "\n",
    "\n",
    "def calculate_half_life(decay_rate: float) -> float:\n",
    "  return np.round(np.log(0.5) / np.log(decay_rate), 2)\n",
    "\n",
    "\n",
    "def get_half_life_df(df: pl.DataFrame, col_names: list[str],\n",
    "                     target: str = target,\n",
    "                     sort_col: str = date_col) -> pl.DataFrame:\n",
    "\n",
    "  rates = []\n",
    "  half_lifes = []\n",
    "  corrs = []\n",
    "  ad_corrs = []\n",
    "  for col in col_names:\n",
    "    sel_df = df.select(target, col).drop_nulls()\n",
    "    corr = df.select(pl.corr(target, col)).item()\n",
    "    corrs.append(corr)\n",
    "    rate = find_optimal_correlation_decay_rate(sel_df[col].to_list(),\n",
    "                                               sel_df[target].to_list()\n",
    "                                               )\n",
    "    half_life = calculate_half_life(rate[0])\n",
    "    rates.append(rate[0])\n",
    "    half_lifes.append(half_life)\n",
    "    ad_corrs.append(rate[1])\n",
    "\n",
    "  return (\n",
    "      pl.DataFrame()\n",
    "      .with_columns(\n",
    "          pl.Series(name='Delayed Channel', values=col_names),\n",
    "          pl.Series(name='Decay Rate', values=rates),\n",
    "          pl.Series(name='Half Life [Week]', values=half_lifes),\n",
    "          pl.Series(name='Adstock Corr', values=ad_corrs).round(2),\n",
    "          pl.Series(name='Corr', values=corrs).round(2),\n",
    "      )\n",
    "  )"
   ]
  },
  {
   "cell_type": "code",
   "execution_count": 32,
   "metadata": {},
   "outputs": [
    {
     "data": {
      "text/html": [
       "<div><style>\n",
       ".dataframe > thead > tr,\n",
       ".dataframe > tbody > tr {\n",
       "  text-align: right;\n",
       "  white-space: pre-wrap;\n",
       "}\n",
       "</style>\n",
       "<small>shape: (5, 5)</small><table border=\"1\" class=\"dataframe\"><thead><tr><th>Delayed Channel</th><th>Decay Rate</th><th>Half Life [Week]</th><th>Adstock Corr</th><th>Corr</th></tr><tr><td>str</td><td>f64</td><td>f64</td><td>f64</td><td>f64</td></tr></thead><tbody><tr><td>&quot;promo_investment_lag0&quot;</td><td>0.018</td><td>0.17</td><td>0.75</td><td>0.75</td></tr><tr><td>&quot;ppc_brand_investment_lag0&quot;</td><td>0.542</td><td>1.13</td><td>0.86</td><td>0.84</td></tr><tr><td>&quot;ppc_generic_investment_lag3&quot;</td><td>0.799</td><td>3.09</td><td>0.7</td><td>0.63</td></tr><tr><td>&quot;facebook_investment_lag2&quot;</td><td>0.799</td><td>3.09</td><td>0.75</td><td>0.62</td></tr><tr><td>&quot;instagram_investment_lag6&quot;</td><td>0.743</td><td>2.33</td><td>0.82</td><td>0.75</td></tr></tbody></table></div>"
      ],
      "text/plain": [
       "shape: (5, 5)\n",
       "┌─────────────────────────────┬────────────┬──────────────────┬──────────────┬──────┐\n",
       "│ Delayed Channel             ┆ Decay Rate ┆ Half Life [Week] ┆ Adstock Corr ┆ Corr │\n",
       "│ ---                         ┆ ---        ┆ ---              ┆ ---          ┆ ---  │\n",
       "│ str                         ┆ f64        ┆ f64              ┆ f64          ┆ f64  │\n",
       "╞═════════════════════════════╪════════════╪══════════════════╪══════════════╪══════╡\n",
       "│ promo_investment_lag0       ┆ 0.018      ┆ 0.17             ┆ 0.75         ┆ 0.75 │\n",
       "│ ppc_brand_investment_lag0   ┆ 0.542      ┆ 1.13             ┆ 0.86         ┆ 0.84 │\n",
       "│ ppc_generic_investment_lag3 ┆ 0.799      ┆ 3.09             ┆ 0.7          ┆ 0.63 │\n",
       "│ facebook_investment_lag2    ┆ 0.799      ┆ 3.09             ┆ 0.75         ┆ 0.62 │\n",
       "│ instagram_investment_lag6   ┆ 0.743      ┆ 2.33             ┆ 0.82         ┆ 0.75 │\n",
       "└─────────────────────────────┴────────────┴──────────────────┴──────────────┴──────┘"
      ]
     },
     "execution_count": 32,
     "metadata": {},
     "output_type": "execute_result"
    }
   ],
   "source": [
    "half_life_df = get_half_life_df(lagged_df, lagged_channels_names)\n",
    "half_life_df"
   ]
  },
  {
   "cell_type": "markdown",
   "metadata": {},
   "source": [
    "Transforming The Promo Investment 🪄"
   ]
  },
  {
   "cell_type": "code",
   "execution_count": 33,
   "metadata": {},
   "outputs": [],
   "source": [
    "saturation_col = 'promo_investment'\n",
    "\n",
    "\n",
    "def log_transformation(x: np.ndarray) -> np.ndarray:\n",
    "    return np.log(x + 1)\n",
    "\n",
    "\n",
    "def root_transformation(x: np.ndarray, beta: float) -> np.ndarray:\n",
    "    if not (0 < beta <= 1):\n",
    "        raise ValueError(\"Beta must be in the range (0, 1].\")\n",
    "    return x**beta\n",
    "\n",
    "\n",
    "def logistic_transformation(x: np.ndarray, beta: float) -> np.ndarray:\n",
    "  x_norm = (x-np.min(x))/(np.max(x)-np.min(x))\n",
    "  if beta < 0:\n",
    "    raise ValueError(\"Beta must be greater than zero\")\n",
    "  return (1 - np.exp(-beta * x_norm)) / (1 + np.exp(-beta * x_norm))"
   ]
  },
  {
   "cell_type": "code",
   "execution_count": 34,
   "metadata": {},
   "outputs": [
    {
     "data": {
      "application/vnd.plotly.v1+json": {
       "config": {
        "plotlyServerURL": "https://plot.ly"
       },
       "data": [
        {
         "mode": "lines",
         "name": "new_customers",
         "type": "scatter",
         "x": [
          "2020-05-18",
          "2020-05-25",
          "2020-06-01",
          "2020-06-08",
          "2020-06-15",
          "2020-06-22",
          "2020-06-29",
          "2020-07-06",
          "2020-07-13",
          "2020-07-20",
          "2020-07-27",
          "2020-08-03",
          "2020-08-10",
          "2020-08-17",
          "2020-08-24",
          "2020-08-31",
          "2020-09-07",
          "2020-09-14",
          "2020-09-21",
          "2020-09-28",
          "2020-10-05",
          "2020-10-12",
          "2020-10-19",
          "2020-10-26",
          "2020-11-02",
          "2020-11-09",
          "2020-11-16",
          "2020-11-23",
          "2020-11-30",
          "2020-12-07",
          "2020-12-14",
          "2020-12-21",
          "2020-12-28",
          "2021-01-04",
          "2021-01-11",
          "2021-01-18",
          "2021-01-25",
          "2021-02-01",
          "2021-02-08",
          "2021-02-15",
          "2021-02-22",
          "2021-03-01",
          "2021-03-08",
          "2021-03-15",
          "2021-03-22",
          "2021-03-29",
          "2021-04-05",
          "2021-04-12",
          "2021-04-19",
          "2021-04-26",
          "2021-05-03",
          "2021-05-10",
          "2021-05-17",
          "2021-05-24",
          "2021-05-31",
          "2021-06-07",
          "2021-06-14",
          "2021-06-21",
          "2021-06-28",
          "2021-07-05",
          "2021-07-12",
          "2021-07-19",
          "2021-07-26",
          "2021-08-02",
          "2021-08-09",
          "2021-08-16",
          "2021-08-23",
          "2021-08-30",
          "2021-09-06",
          "2021-09-13",
          "2021-09-20",
          "2021-09-27",
          "2021-10-04",
          "2021-10-11",
          "2021-10-18",
          "2021-10-25",
          "2021-11-01",
          "2021-11-08",
          "2021-11-15",
          "2021-11-22",
          "2021-11-29",
          "2021-12-06",
          "2021-12-13",
          "2021-12-20",
          "2021-12-27",
          "2022-01-03",
          "2022-01-10",
          "2022-01-17",
          "2022-01-24",
          "2022-01-31",
          "2022-02-07",
          "2022-02-14",
          "2022-02-21",
          "2022-02-28",
          "2022-03-07",
          "2022-03-14",
          "2022-03-21",
          "2022-03-28",
          "2022-04-04",
          "2022-04-11",
          "2022-04-18",
          "2022-04-25",
          "2022-05-02",
          "2022-05-09",
          "2022-05-16",
          "2022-05-23",
          "2022-05-30",
          "2022-06-06",
          "2022-06-13",
          "2022-06-20",
          "2022-06-27",
          "2022-07-04",
          "2022-07-11",
          "2022-07-18",
          "2022-07-25",
          "2022-08-01",
          "2022-08-08",
          "2022-08-15",
          "2022-08-22",
          "2022-08-29",
          "2022-09-05",
          "2022-09-12",
          "2022-09-19",
          "2022-09-26",
          "2022-10-03",
          "2022-10-10",
          "2022-10-17",
          "2022-10-24",
          "2022-10-31",
          "2022-11-07",
          "2022-11-14",
          "2022-11-21",
          "2022-11-28",
          "2022-12-05",
          "2022-12-12",
          "2022-12-19",
          "2022-12-26",
          "2023-01-02",
          "2023-01-09",
          "2023-01-16",
          "2023-01-23",
          "2023-01-30",
          "2023-02-06",
          "2023-02-13",
          "2023-02-20",
          "2023-02-27",
          "2023-03-06",
          "2023-03-13",
          "2023-03-20",
          "2023-03-27",
          "2023-04-03",
          "2023-04-10",
          "2023-04-17",
          "2023-04-24",
          "2023-05-01",
          "2023-05-08",
          "2023-05-15",
          "2023-05-22",
          "2023-05-29",
          "2023-06-05",
          "2023-06-12",
          "2023-06-19",
          "2023-06-26",
          "2023-07-03",
          "2023-07-10"
         ],
         "xaxis": "x",
         "y": [
          0.04501132670146755,
          0.0648084310056141,
          0.06205062543090712,
          0.04727666699497686,
          0,
          0.025115729341081455,
          0.012410125086181424,
          0.04373091697035359,
          0.06667979907416527,
          0.10932729242588397,
          0.05505761843790013,
          0.14340588988476313,
          0.16655175810105388,
          0.1733477789815818,
          0.24938441839850292,
          0.2785383630454053,
          0.3111395646606914,
          0.3959420860829312,
          0.42814931547325913,
          0.5248694967004827,
          0.4582881906825569,
          0.3600906136117404,
          0.2563774253915099,
          0.29203191175022164,
          0.26258248793460065,
          0.15473259135230966,
          0.14990643159657244,
          0.08066581306017927,
          0.13217768147345613,
          0.11878262582487935,
          0.1393676745789422,
          0.12370727863685611,
          0.07032404215502808,
          0.056436521225253625,
          0.12301782724317936,
          0.0605732295873141,
          0.12863193144883286,
          0.11188811188811189,
          0.13897370235398404,
          0.16783216783216784,
          0.1270560425490003,
          0.1029252437703142,
          0.14311041071604452,
          0.10479661183886536,
          0.08913621589677928,
          0.06894513936767459,
          0.04865556978233035,
          0.012804097311139566,
          0.07780951442923274,
          0.13848123707278637,
          0.28366000196986113,
          0.21097212646508423,
          0.31458682162907514,
          0.11937358416231657,
          0.09859154929577466,
          0.13986013986013987,
          0.21698020289569586,
          0.19068255687973998,
          0.3165566827538659,
          0.2734167241209495,
          0.3509307593814636,
          0.4373091697035359,
          0.5563872746971339,
          0.47611543386191274,
          0.5813060179257362,
          0.5244755244755245,
          0.5824879346006107,
          0.5429922190485571,
          0.5458485176795036,
          0.5040874618339407,
          0.5346203092681966,
          0.5424997537673594,
          0.5125578646705408,
          0.4713877671624151,
          0.4406579336156801,
          0.41298138481237073,
          0.3544765094060869,
          0.22939032798187728,
          0.22446567516990054,
          0.18319708460553533,
          0.15187629272136316,
          0.14320890377228407,
          0.18319708460553533,
          0.17827243179355856,
          0.4179060376243475,
          0.0950457992711514,
          0.1677336747759283,
          0.14567123017827244,
          0.14882300797793757,
          0.1800453068058702,
          0.22781443908204474,
          0.14064808431005615,
          0.33783118290160546,
          0.1814242095932237,
          0.18053777208706787,
          0.16389244558258642,
          0.11326701467546539,
          0.1637939525263469,
          0.24052004333694477,
          0.293213828425096,
          0.37072786368561017,
          0.3931842805082242,
          0.5207327883384222,
          0.28622082143208905,
          0.35319609967497295,
          0.35624938441839854,
          0.4134738500935684,
          0.548310844085492,
          0.37338717620407763,
          0.4709937949374569,
          0.46262188515709646,
          0.4915788436915198,
          0.5052693785088151,
          0.5611149413966315,
          0.5769723234511968,
          0.5974588791490201,
          0.6465084211563085,
          0.5993302472175712,
          0.7016645326504481,
          0.7876489707475623,
          0.7355461439968483,
          0.7545553038510785,
          0.925440756426672,
          0.8920516103614695,
          0.9369644440066975,
          1,
          0.8693982074263765,
          0.7768147345612134,
          0.769920220624446,
          0.5496897468728454,
          0.3797892248596474,
          0.4377031419284941,
          0.3912144193834335,
          0.3796907318034079,
          0.4716832463311337,
          0.3912144193834335,
          0.21402541120850982,
          0.206145966709347,
          0.08874224367182114,
          0.06766472963656063,
          0.24751305032995174,
          0.049935979513444306,
          0.07564266719196297,
          0.09770511178961884,
          0.09445484093371417,
          0.08716635477198859,
          0.21698020289569586,
          0.2923273909189402,
          0.20319117502216094,
          0.2549000295479169,
          0.2729242588397518,
          0.30976066187333795,
          0.3278833842214124,
          0.4433172461341476,
          0.4854722742046686,
          0.5594405594405595,
          0.39889687777011723,
          0.4372106766472964,
          0.22584457795725402,
          0.3046390229488821,
          0.242588397517975,
          0.19541022357923768,
          0.10735743130109328,
          0.08293115335368857,
          0.2386486752683936
         ],
         "yaxis": "y"
        },
        {
         "mode": "lines",
         "name": "promo_investment",
         "type": "scatter",
         "x": [
          "2020-05-18",
          "2020-05-25",
          "2020-06-01",
          "2020-06-08",
          "2020-06-15",
          "2020-06-22",
          "2020-06-29",
          "2020-07-06",
          "2020-07-13",
          "2020-07-20",
          "2020-07-27",
          "2020-08-03",
          "2020-08-10",
          "2020-08-17",
          "2020-08-24",
          "2020-08-31",
          "2020-09-07",
          "2020-09-14",
          "2020-09-21",
          "2020-09-28",
          "2020-10-05",
          "2020-10-12",
          "2020-10-19",
          "2020-10-26",
          "2020-11-02",
          "2020-11-09",
          "2020-11-16",
          "2020-11-23",
          "2020-11-30",
          "2020-12-07",
          "2020-12-14",
          "2020-12-21",
          "2020-12-28",
          "2021-01-04",
          "2021-01-11",
          "2021-01-18",
          "2021-01-25",
          "2021-02-01",
          "2021-02-08",
          "2021-02-15",
          "2021-02-22",
          "2021-03-01",
          "2021-03-08",
          "2021-03-15",
          "2021-03-22",
          "2021-03-29",
          "2021-04-05",
          "2021-04-12",
          "2021-04-19",
          "2021-04-26",
          "2021-05-03",
          "2021-05-10",
          "2021-05-17",
          "2021-05-24",
          "2021-05-31",
          "2021-06-07",
          "2021-06-14",
          "2021-06-21",
          "2021-06-28",
          "2021-07-05",
          "2021-07-12",
          "2021-07-19",
          "2021-07-26",
          "2021-08-02",
          "2021-08-09",
          "2021-08-16",
          "2021-08-23",
          "2021-08-30",
          "2021-09-06",
          "2021-09-13",
          "2021-09-20",
          "2021-09-27",
          "2021-10-04",
          "2021-10-11",
          "2021-10-18",
          "2021-10-25",
          "2021-11-01",
          "2021-11-08",
          "2021-11-15",
          "2021-11-22",
          "2021-11-29",
          "2021-12-06",
          "2021-12-13",
          "2021-12-20",
          "2021-12-27",
          "2022-01-03",
          "2022-01-10",
          "2022-01-17",
          "2022-01-24",
          "2022-01-31",
          "2022-02-07",
          "2022-02-14",
          "2022-02-21",
          "2022-02-28",
          "2022-03-07",
          "2022-03-14",
          "2022-03-21",
          "2022-03-28",
          "2022-04-04",
          "2022-04-11",
          "2022-04-18",
          "2022-04-25",
          "2022-05-02",
          "2022-05-09",
          "2022-05-16",
          "2022-05-23",
          "2022-05-30",
          "2022-06-06",
          "2022-06-13",
          "2022-06-20",
          "2022-06-27",
          "2022-07-04",
          "2022-07-11",
          "2022-07-18",
          "2022-07-25",
          "2022-08-01",
          "2022-08-08",
          "2022-08-15",
          "2022-08-22",
          "2022-08-29",
          "2022-09-05",
          "2022-09-12",
          "2022-09-19",
          "2022-09-26",
          "2022-10-03",
          "2022-10-10",
          "2022-10-17",
          "2022-10-24",
          "2022-10-31",
          "2022-11-07",
          "2022-11-14",
          "2022-11-21",
          "2022-11-28",
          "2022-12-05",
          "2022-12-12",
          "2022-12-19",
          "2022-12-26",
          "2023-01-02",
          "2023-01-09",
          "2023-01-16",
          "2023-01-23",
          "2023-01-30",
          "2023-02-06",
          "2023-02-13",
          "2023-02-20",
          "2023-02-27",
          "2023-03-06",
          "2023-03-13",
          "2023-03-20",
          "2023-03-27",
          "2023-04-03",
          "2023-04-10",
          "2023-04-17",
          "2023-04-24",
          "2023-05-01",
          "2023-05-08",
          "2023-05-15",
          "2023-05-22",
          "2023-05-29",
          "2023-06-05",
          "2023-06-12",
          "2023-06-19",
          "2023-06-26",
          "2023-07-03",
          "2023-07-10"
         ],
         "xaxis": "x",
         "y": [
          0.002746457497311473,
          0.008426290992922662,
          0.013814929864939202,
          0.0098612892101347,
          0.020745159149469335,
          0.026709189480708037,
          0.012723766649577,
          0.025009264073133846,
          0.015452782010965907,
          0.01864896755044109,
          0.006669819399094044,
          0.024111162578574725,
          0.04404704304592541,
          0.02648843105058889,
          0.03372090817509302,
          0.03597323147098113,
          0.035224320630841986,
          0.054585082296758715,
          0.04443337568287936,
          0.04372435229074102,
          0.05245881450015661,
          0.03223689202831413,
          0.06962607257082647,
          0.08020510796214424,
          0.05813640480124579,
          0.04041109748063628,
          0.036353075857769035,
          0.02699786855000108,
          0.020403826546012888,
          0.03348247322695331,
          0.0072423269251910075,
          0.022665625695356212,
          0.016036106144650657,
          0.026260648229374406,
          0.015815845921308566,
          0.017732137567466104,
          0.02849140745812984,
          0.02955066221852809,
          0.023606254046605348,
          0.05762468125769149,
          0.03821933559503966,
          0.023644438074039754,
          0.007607896548854295,
          0.01978683448104329,
          0.01831907043474629,
          0.042826988092923325,
          0.026205179652301017,
          0.02665926002651175,
          0.048492988002044754,
          0.0730576916797879,
          0.13936362614477193,
          0.0736121735657544,
          0.08350160290192721,
          0.042394233348821114,
          0.0502166711449213,
          0.06413869112062733,
          0.05573771685319804,
          0.07156633296916994,
          0.12888709372817614,
          0.053077450541345834,
          0.05315075543602328,
          0.04375751686539216,
          0.09035663376181043,
          0.06086020276516577,
          0.08131721786790197,
          0.1052065516631839,
          0.07930343559782527,
          0.054740377965619966,
          0.06543061861838166,
          0.059929732723832105,
          0.04441631408721043,
          0.06536518828313934,
          0.05663299244594915,
          0.05459818201862868,
          0.04124455590838555,
          0.05126798501720391,
          0.06237036565168987,
          0.051148799420010146,
          0.03989710347979471,
          0.06006372251821181,
          0.0469469504371714,
          0.025076967340139426,
          0.034876335875832075,
          0.03372543991502043,
          0.06471210485742489,
          0.031929006006061515,
          0.01207114954706669,
          0.02244821608844634,
          0.042654450784314596,
          0.033473120377389205,
          0.04154727908213862,
          0.031233375499252487,
          0.09341257313757455,
          0.03232912532495896,
          0.037958288825021856,
          0.051224103550655126,
          0.042256498791634685,
          0.0015481455924000126,
          0.05211412039640551,
          0.07180102158074958,
          0.09040963134524052,
          0.07812366126328525,
          0.1383282949765357,
          0.06718584697720999,
          0.06994511827889427,
          0.09407260756390427,
          0.08971847932857313,
          0.07878851525898242,
          0.06846325810721844,
          0.04420719658998002,
          0.0658091058605634,
          0.1020558807075791,
          0.1329456710199077,
          0.1727478023365059,
          0.22946940014236536,
          0.17546644883652496,
          0.23993730547755818,
          0.32938657631692064,
          0.6924649465061418,
          0.683022791797649,
          0.31408954990255433,
          0.35428263828006024,
          0.5485947955117283,
          0.5572757394597482,
          0.6420935616127686,
          0.9801155987990412,
          1,
          0.9686263713790375,
          0.7516016938204031,
          0.5414825628625859,
          0.3215971579083552,
          0.3241076025677129,
          0.26776137352808826,
          0.2457438282664534,
          0.45849862375337674,
          0.2677624107989577,
          0.026241499786554847,
          0.028833170175070026,
          0.026891091589360976,
          0.020478883845166447,
          0.026670096439952707,
          0.013614640568091363,
          0.017699702420789706,
          0.015154909791239918,
          0.014043237221489221,
          0,
          0.03321624063833407,
          0.0660708528503637,
          0.04200247203299017,
          0.043244732645573034,
          0.031002940732896687,
          0.11434155093929756,
          0.08466792951420517,
          0.36965121991023464,
          0.3010054387281291,
          0.2770375102513957,
          0.5006410721049552,
          0.3481142380769922,
          0.12984469551142322,
          0.028257243422066654,
          0.022866301141046708,
          0.02891018363622745,
          0.028237152953938627,
          0.022447749721712863,
          0.03176303011040695
         ],
         "yaxis": "y"
        },
        {
         "mode": "markers",
         "showlegend": false,
         "type": "scatter",
         "x": [
          1304.227029,
          3000.504127,
          4609.816216,
          3429.065037,
          6679.522877,
          8460.675101,
          4283.941316,
          7952.993927,
          5098.959267,
          6053.497166,
          2475.935486,
          7684.776734,
          13638.60927,
          8394.745797,
          10554.7185,
          11227.3728,
          11003.71126,
          16785.78509,
          13753.98716,
          13542.23797,
          16150.77715,
          10111.51843,
          21277.76313,
          24437.18241,
          17846.38432,
          12552.73744,
          11340.81298,
          8546.888842,
          6577.584206,
          10483.51012,
          2646.914337,
          7253.068461,
          5273.168488,
          8326.718665,
          5207.387973,
          5779.686727,
          8992.932876,
          9309.278345,
          7533.986261,
          17693.55855,
          11898.16975,
          7545.389886,
          2756.091372,
          6393.320088,
          5954.973693,
          13274.24097,
          8310.153025,
          8445.763715,
          14966.38668,
          22302.61305,
          42104.81996,
          22468.20856,
          25421.67762,
          13144.99916,
          15481.16308,
          19638.96166,
          17130.01835,
          21857.22013,
          38976.0131,
          16335.53224,
          16357.42468,
          13552.14254,
          27468.92634,
          18659.8441,
          24769.31302,
          31903.84079,
          24167.89878,
          16832.164,
          20024.79463,
          18381.96007,
          13748.89173,
          20005.25392,
          17397.39159,
          16789.69731,
          12801.64904,
          15795.13701,
          19110.85287,
          15759.54234,
          12399.2336,
          18421.976,
          14504.66397,
          7973.213446,
          10899.78593,
          10556.0719,
          19810.21115,
          10019.56855,
          4089.037813,
          7188.13928,
          13222.71286,
          10480.7169,
          12892.05704,
          9811.819133,
          28381.57985,
          10139.06382,
          11820.20837,
          15782.03185,
          13103.86486,
          946.3522705,
          16047.83457,
          21927.30967,
          27484.75402,
          23815.56025,
          41795.61925,
          20548.99198,
          21373.04584,
          28578.69853,
          27278.3421,
          24014.11829,
          20930.48965,
          13686.43898,
          20137.8295,
          30962.89578,
          40188.10351,
          52074.97376,
          69014.82726,
          52886.89506,
          72141.05765,
          98855.00088,
          207288.0253,
          204468.1344,
          94286.55788,
          106290.1871,
          164321.3358,
          166913.8918,
          192244.6571,
          293194.6305,
          299133.0888,
          289763.3832,
          224949.161,
          162197.274,
          96528.69817,
          97278.44018,
          80450.69022,
          73875.17039,
          137414.1962,
          80451,
          8321,
          9095,
          8515,
          6600,
          8449,
          4550,
          5770,
          5010,
          4678,
          484,
          10404,
          20216,
          13028,
          13399,
          9743,
          34632,
          25770,
          110880,
          90379,
          83221,
          150000,
          104448,
          39262,
          8923,
          7313,
          9118,
          8917,
          7188,
          9970
         ],
         "xaxis": "x2",
         "y": [
          777,
          978,
          950,
          800,
          320,
          575,
          446,
          764,
          997,
          1430,
          879,
          1776,
          2011,
          2080,
          2852,
          3148,
          3479,
          4340,
          4667,
          5649,
          4973,
          3976,
          2923,
          3285,
          2986,
          1891,
          1842,
          1139,
          1662,
          1526,
          1735,
          1576,
          1034,
          893,
          1569,
          935,
          1626,
          1456,
          1731,
          2024,
          1610,
          1365,
          1773,
          1384,
          1225,
          1020,
          814,
          450,
          1110,
          1726,
          3200,
          2462,
          3514,
          1532,
          1321,
          1740,
          2523,
          2256,
          3534,
          3096,
          3883,
          4760,
          5969,
          5154,
          6222,
          5645,
          6234,
          5833,
          5862,
          5438,
          5748,
          5828,
          5524,
          5106,
          4794,
          4513,
          3919,
          2649,
          2599,
          2180,
          1862,
          1774,
          2180,
          2130,
          4563,
          1285,
          2023,
          1799,
          1831,
          2148,
          2633,
          1748,
          3750,
          2162,
          2153,
          1984,
          1470,
          1983,
          2762,
          3297,
          4084,
          4312,
          5607,
          3226,
          3906,
          3937,
          4518,
          5887,
          4111,
          5102,
          5017,
          5311,
          5450,
          6017,
          6178,
          6386,
          6884,
          6405,
          7444,
          8317,
          7788,
          7981,
          9716,
          9377,
          9833,
          10473,
          9147,
          8207,
          8137,
          5901,
          4176,
          4764,
          4292,
          4175,
          5109,
          4292,
          2493,
          2413,
          1221,
          1007,
          2833,
          827,
          1088,
          1312,
          1279,
          1205,
          2523,
          3288,
          2383,
          2908,
          3091,
          3465,
          3649,
          4821,
          5249,
          6000,
          4370,
          4759,
          2613,
          3413,
          2783,
          2304,
          1410,
          1162,
          2743
         ],
         "yaxis": "y2"
        }
       ],
       "layout": {
        "annotations": [
         {
          "font": {
           "size": 16
          },
          "showarrow": false,
          "text": "Normalized Line Plot",
          "x": 0.225,
          "xanchor": "center",
          "xref": "paper",
          "y": 1,
          "yanchor": "bottom",
          "yref": "paper"
         },
         {
          "font": {
           "size": 16
          },
          "showarrow": false,
          "text": "Scatter Plot - Corr: 0.75",
          "x": 0.775,
          "xanchor": "center",
          "xref": "paper",
          "y": 1,
          "yanchor": "bottom",
          "yref": "paper"
         }
        ],
        "template": {
         "data": {
          "bar": [
           {
            "error_x": {
             "color": "#2a3f5f"
            },
            "error_y": {
             "color": "#2a3f5f"
            },
            "marker": {
             "line": {
              "color": "white",
              "width": 0.5
             },
             "pattern": {
              "fillmode": "overlay",
              "size": 10,
              "solidity": 0.2
             }
            },
            "type": "bar"
           }
          ],
          "barpolar": [
           {
            "marker": {
             "line": {
              "color": "white",
              "width": 0.5
             },
             "pattern": {
              "fillmode": "overlay",
              "size": 10,
              "solidity": 0.2
             }
            },
            "type": "barpolar"
           }
          ],
          "carpet": [
           {
            "aaxis": {
             "endlinecolor": "#2a3f5f",
             "gridcolor": "#C8D4E3",
             "linecolor": "#C8D4E3",
             "minorgridcolor": "#C8D4E3",
             "startlinecolor": "#2a3f5f"
            },
            "baxis": {
             "endlinecolor": "#2a3f5f",
             "gridcolor": "#C8D4E3",
             "linecolor": "#C8D4E3",
             "minorgridcolor": "#C8D4E3",
             "startlinecolor": "#2a3f5f"
            },
            "type": "carpet"
           }
          ],
          "choropleth": [
           {
            "colorbar": {
             "outlinewidth": 0,
             "ticks": ""
            },
            "type": "choropleth"
           }
          ],
          "contour": [
           {
            "colorbar": {
             "outlinewidth": 0,
             "ticks": ""
            },
            "colorscale": [
             [
              0,
              "#0d0887"
             ],
             [
              0.1111111111111111,
              "#46039f"
             ],
             [
              0.2222222222222222,
              "#7201a8"
             ],
             [
              0.3333333333333333,
              "#9c179e"
             ],
             [
              0.4444444444444444,
              "#bd3786"
             ],
             [
              0.5555555555555556,
              "#d8576b"
             ],
             [
              0.6666666666666666,
              "#ed7953"
             ],
             [
              0.7777777777777778,
              "#fb9f3a"
             ],
             [
              0.8888888888888888,
              "#fdca26"
             ],
             [
              1,
              "#f0f921"
             ]
            ],
            "type": "contour"
           }
          ],
          "contourcarpet": [
           {
            "colorbar": {
             "outlinewidth": 0,
             "ticks": ""
            },
            "type": "contourcarpet"
           }
          ],
          "heatmap": [
           {
            "colorbar": {
             "outlinewidth": 0,
             "ticks": ""
            },
            "colorscale": [
             [
              0,
              "#0d0887"
             ],
             [
              0.1111111111111111,
              "#46039f"
             ],
             [
              0.2222222222222222,
              "#7201a8"
             ],
             [
              0.3333333333333333,
              "#9c179e"
             ],
             [
              0.4444444444444444,
              "#bd3786"
             ],
             [
              0.5555555555555556,
              "#d8576b"
             ],
             [
              0.6666666666666666,
              "#ed7953"
             ],
             [
              0.7777777777777778,
              "#fb9f3a"
             ],
             [
              0.8888888888888888,
              "#fdca26"
             ],
             [
              1,
              "#f0f921"
             ]
            ],
            "type": "heatmap"
           }
          ],
          "histogram": [
           {
            "marker": {
             "pattern": {
              "fillmode": "overlay",
              "size": 10,
              "solidity": 0.2
             }
            },
            "type": "histogram"
           }
          ],
          "histogram2d": [
           {
            "colorbar": {
             "outlinewidth": 0,
             "ticks": ""
            },
            "colorscale": [
             [
              0,
              "#0d0887"
             ],
             [
              0.1111111111111111,
              "#46039f"
             ],
             [
              0.2222222222222222,
              "#7201a8"
             ],
             [
              0.3333333333333333,
              "#9c179e"
             ],
             [
              0.4444444444444444,
              "#bd3786"
             ],
             [
              0.5555555555555556,
              "#d8576b"
             ],
             [
              0.6666666666666666,
              "#ed7953"
             ],
             [
              0.7777777777777778,
              "#fb9f3a"
             ],
             [
              0.8888888888888888,
              "#fdca26"
             ],
             [
              1,
              "#f0f921"
             ]
            ],
            "type": "histogram2d"
           }
          ],
          "histogram2dcontour": [
           {
            "colorbar": {
             "outlinewidth": 0,
             "ticks": ""
            },
            "colorscale": [
             [
              0,
              "#0d0887"
             ],
             [
              0.1111111111111111,
              "#46039f"
             ],
             [
              0.2222222222222222,
              "#7201a8"
             ],
             [
              0.3333333333333333,
              "#9c179e"
             ],
             [
              0.4444444444444444,
              "#bd3786"
             ],
             [
              0.5555555555555556,
              "#d8576b"
             ],
             [
              0.6666666666666666,
              "#ed7953"
             ],
             [
              0.7777777777777778,
              "#fb9f3a"
             ],
             [
              0.8888888888888888,
              "#fdca26"
             ],
             [
              1,
              "#f0f921"
             ]
            ],
            "type": "histogram2dcontour"
           }
          ],
          "mesh3d": [
           {
            "colorbar": {
             "outlinewidth": 0,
             "ticks": ""
            },
            "type": "mesh3d"
           }
          ],
          "parcoords": [
           {
            "line": {
             "colorbar": {
              "outlinewidth": 0,
              "ticks": ""
             }
            },
            "type": "parcoords"
           }
          ],
          "pie": [
           {
            "automargin": true,
            "type": "pie"
           }
          ],
          "scatter": [
           {
            "fillpattern": {
             "fillmode": "overlay",
             "size": 10,
             "solidity": 0.2
            },
            "type": "scatter"
           }
          ],
          "scatter3d": [
           {
            "line": {
             "colorbar": {
              "outlinewidth": 0,
              "ticks": ""
             }
            },
            "marker": {
             "colorbar": {
              "outlinewidth": 0,
              "ticks": ""
             }
            },
            "type": "scatter3d"
           }
          ],
          "scattercarpet": [
           {
            "marker": {
             "colorbar": {
              "outlinewidth": 0,
              "ticks": ""
             }
            },
            "type": "scattercarpet"
           }
          ],
          "scattergeo": [
           {
            "marker": {
             "colorbar": {
              "outlinewidth": 0,
              "ticks": ""
             }
            },
            "type": "scattergeo"
           }
          ],
          "scattergl": [
           {
            "marker": {
             "colorbar": {
              "outlinewidth": 0,
              "ticks": ""
             }
            },
            "type": "scattergl"
           }
          ],
          "scattermap": [
           {
            "marker": {
             "colorbar": {
              "outlinewidth": 0,
              "ticks": ""
             }
            },
            "type": "scattermap"
           }
          ],
          "scattermapbox": [
           {
            "marker": {
             "colorbar": {
              "outlinewidth": 0,
              "ticks": ""
             }
            },
            "type": "scattermapbox"
           }
          ],
          "scatterpolar": [
           {
            "marker": {
             "colorbar": {
              "outlinewidth": 0,
              "ticks": ""
             }
            },
            "type": "scatterpolar"
           }
          ],
          "scatterpolargl": [
           {
            "marker": {
             "colorbar": {
              "outlinewidth": 0,
              "ticks": ""
             }
            },
            "type": "scatterpolargl"
           }
          ],
          "scatterternary": [
           {
            "marker": {
             "colorbar": {
              "outlinewidth": 0,
              "ticks": ""
             }
            },
            "type": "scatterternary"
           }
          ],
          "surface": [
           {
            "colorbar": {
             "outlinewidth": 0,
             "ticks": ""
            },
            "colorscale": [
             [
              0,
              "#0d0887"
             ],
             [
              0.1111111111111111,
              "#46039f"
             ],
             [
              0.2222222222222222,
              "#7201a8"
             ],
             [
              0.3333333333333333,
              "#9c179e"
             ],
             [
              0.4444444444444444,
              "#bd3786"
             ],
             [
              0.5555555555555556,
              "#d8576b"
             ],
             [
              0.6666666666666666,
              "#ed7953"
             ],
             [
              0.7777777777777778,
              "#fb9f3a"
             ],
             [
              0.8888888888888888,
              "#fdca26"
             ],
             [
              1,
              "#f0f921"
             ]
            ],
            "type": "surface"
           }
          ],
          "table": [
           {
            "cells": {
             "fill": {
              "color": "#EBF0F8"
             },
             "line": {
              "color": "white"
             }
            },
            "header": {
             "fill": {
              "color": "#C8D4E3"
             },
             "line": {
              "color": "white"
             }
            },
            "type": "table"
           }
          ]
         },
         "layout": {
          "annotationdefaults": {
           "arrowcolor": "#2a3f5f",
           "arrowhead": 0,
           "arrowwidth": 1
          },
          "autotypenumbers": "strict",
          "coloraxis": {
           "colorbar": {
            "outlinewidth": 0,
            "ticks": ""
           }
          },
          "colorscale": {
           "diverging": [
            [
             0,
             "#8e0152"
            ],
            [
             0.1,
             "#c51b7d"
            ],
            [
             0.2,
             "#de77ae"
            ],
            [
             0.3,
             "#f1b6da"
            ],
            [
             0.4,
             "#fde0ef"
            ],
            [
             0.5,
             "#f7f7f7"
            ],
            [
             0.6,
             "#e6f5d0"
            ],
            [
             0.7,
             "#b8e186"
            ],
            [
             0.8,
             "#7fbc41"
            ],
            [
             0.9,
             "#4d9221"
            ],
            [
             1,
             "#276419"
            ]
           ],
           "sequential": [
            [
             0,
             "#0d0887"
            ],
            [
             0.1111111111111111,
             "#46039f"
            ],
            [
             0.2222222222222222,
             "#7201a8"
            ],
            [
             0.3333333333333333,
             "#9c179e"
            ],
            [
             0.4444444444444444,
             "#bd3786"
            ],
            [
             0.5555555555555556,
             "#d8576b"
            ],
            [
             0.6666666666666666,
             "#ed7953"
            ],
            [
             0.7777777777777778,
             "#fb9f3a"
            ],
            [
             0.8888888888888888,
             "#fdca26"
            ],
            [
             1,
             "#f0f921"
            ]
           ],
           "sequentialminus": [
            [
             0,
             "#0d0887"
            ],
            [
             0.1111111111111111,
             "#46039f"
            ],
            [
             0.2222222222222222,
             "#7201a8"
            ],
            [
             0.3333333333333333,
             "#9c179e"
            ],
            [
             0.4444444444444444,
             "#bd3786"
            ],
            [
             0.5555555555555556,
             "#d8576b"
            ],
            [
             0.6666666666666666,
             "#ed7953"
            ],
            [
             0.7777777777777778,
             "#fb9f3a"
            ],
            [
             0.8888888888888888,
             "#fdca26"
            ],
            [
             1,
             "#f0f921"
            ]
           ]
          },
          "colorway": [
           "#636efa",
           "#EF553B",
           "#00cc96",
           "#ab63fa",
           "#FFA15A",
           "#19d3f3",
           "#FF6692",
           "#B6E880",
           "#FF97FF",
           "#FECB52"
          ],
          "font": {
           "color": "#2a3f5f"
          },
          "geo": {
           "bgcolor": "white",
           "lakecolor": "white",
           "landcolor": "white",
           "showlakes": true,
           "showland": true,
           "subunitcolor": "#C8D4E3"
          },
          "hoverlabel": {
           "align": "left"
          },
          "hovermode": "closest",
          "mapbox": {
           "style": "light"
          },
          "paper_bgcolor": "white",
          "plot_bgcolor": "white",
          "polar": {
           "angularaxis": {
            "gridcolor": "#EBF0F8",
            "linecolor": "#EBF0F8",
            "ticks": ""
           },
           "bgcolor": "white",
           "radialaxis": {
            "gridcolor": "#EBF0F8",
            "linecolor": "#EBF0F8",
            "ticks": ""
           }
          },
          "scene": {
           "xaxis": {
            "backgroundcolor": "white",
            "gridcolor": "#DFE8F3",
            "gridwidth": 2,
            "linecolor": "#EBF0F8",
            "showbackground": true,
            "ticks": "",
            "zerolinecolor": "#EBF0F8"
           },
           "yaxis": {
            "backgroundcolor": "white",
            "gridcolor": "#DFE8F3",
            "gridwidth": 2,
            "linecolor": "#EBF0F8",
            "showbackground": true,
            "ticks": "",
            "zerolinecolor": "#EBF0F8"
           },
           "zaxis": {
            "backgroundcolor": "white",
            "gridcolor": "#DFE8F3",
            "gridwidth": 2,
            "linecolor": "#EBF0F8",
            "showbackground": true,
            "ticks": "",
            "zerolinecolor": "#EBF0F8"
           }
          },
          "shapedefaults": {
           "line": {
            "color": "#2a3f5f"
           }
          },
          "ternary": {
           "aaxis": {
            "gridcolor": "#DFE8F3",
            "linecolor": "#A2B1C6",
            "ticks": ""
           },
           "baxis": {
            "gridcolor": "#DFE8F3",
            "linecolor": "#A2B1C6",
            "ticks": ""
           },
           "bgcolor": "white",
           "caxis": {
            "gridcolor": "#DFE8F3",
            "linecolor": "#A2B1C6",
            "ticks": ""
           }
          },
          "title": {
           "x": 0.05
          },
          "xaxis": {
           "automargin": true,
           "gridcolor": "#EBF0F8",
           "linecolor": "#EBF0F8",
           "ticks": "",
           "title": {
            "standoff": 15
           },
           "zerolinecolor": "#EBF0F8",
           "zerolinewidth": 2
          },
          "yaxis": {
           "automargin": true,
           "gridcolor": "#EBF0F8",
           "linecolor": "#EBF0F8",
           "ticks": "",
           "title": {
            "standoff": 15
           },
           "zerolinecolor": "#EBF0F8",
           "zerolinewidth": 2
          }
         }
        },
        "title": {
         "text": "new_customers vs promo_investment Relationship"
        },
        "xaxis": {
         "anchor": "y",
         "domain": [
          0,
          0.45
         ]
        },
        "xaxis2": {
         "anchor": "y2",
         "domain": [
          0.55,
          1
         ]
        },
        "yaxis": {
         "anchor": "x",
         "domain": [
          0,
          1
         ]
        },
        "yaxis2": {
         "anchor": "x2",
         "domain": [
          0,
          1
         ]
        }
       }
      }
     },
     "metadata": {},
     "output_type": "display_data"
    }
   ],
   "source": [
    "plot_title = f\"{target} vs {saturation_col} Relationship\"\n",
    "plot_target_channel_relationship(lagged_df,\n",
    "                                 col_to_scale=saturation_col,\n",
    "                                 col_to_corr=saturation_col,\n",
    "                                 plot_title=plot_title)"
   ]
  },
  {
   "cell_type": "code",
   "execution_count": 35,
   "metadata": {},
   "outputs": [
    {
     "data": {
      "application/vnd.plotly.v1+json": {
       "config": {
        "plotlyServerURL": "https://plot.ly"
       },
       "data": [
        {
         "mode": "lines",
         "name": "new_customers",
         "type": "scatter",
         "x": [
          "2020-05-18",
          "2020-05-25",
          "2020-06-01",
          "2020-06-08",
          "2020-06-15",
          "2020-06-22",
          "2020-06-29",
          "2020-07-06",
          "2020-07-13",
          "2020-07-20",
          "2020-07-27",
          "2020-08-03",
          "2020-08-10",
          "2020-08-17",
          "2020-08-24",
          "2020-08-31",
          "2020-09-07",
          "2020-09-14",
          "2020-09-21",
          "2020-09-28",
          "2020-10-05",
          "2020-10-12",
          "2020-10-19",
          "2020-10-26",
          "2020-11-02",
          "2020-11-09",
          "2020-11-16",
          "2020-11-23",
          "2020-11-30",
          "2020-12-07",
          "2020-12-14",
          "2020-12-21",
          "2020-12-28",
          "2021-01-04",
          "2021-01-11",
          "2021-01-18",
          "2021-01-25",
          "2021-02-01",
          "2021-02-08",
          "2021-02-15",
          "2021-02-22",
          "2021-03-01",
          "2021-03-08",
          "2021-03-15",
          "2021-03-22",
          "2021-03-29",
          "2021-04-05",
          "2021-04-12",
          "2021-04-19",
          "2021-04-26",
          "2021-05-03",
          "2021-05-10",
          "2021-05-17",
          "2021-05-24",
          "2021-05-31",
          "2021-06-07",
          "2021-06-14",
          "2021-06-21",
          "2021-06-28",
          "2021-07-05",
          "2021-07-12",
          "2021-07-19",
          "2021-07-26",
          "2021-08-02",
          "2021-08-09",
          "2021-08-16",
          "2021-08-23",
          "2021-08-30",
          "2021-09-06",
          "2021-09-13",
          "2021-09-20",
          "2021-09-27",
          "2021-10-04",
          "2021-10-11",
          "2021-10-18",
          "2021-10-25",
          "2021-11-01",
          "2021-11-08",
          "2021-11-15",
          "2021-11-22",
          "2021-11-29",
          "2021-12-06",
          "2021-12-13",
          "2021-12-20",
          "2021-12-27",
          "2022-01-03",
          "2022-01-10",
          "2022-01-17",
          "2022-01-24",
          "2022-01-31",
          "2022-02-07",
          "2022-02-14",
          "2022-02-21",
          "2022-02-28",
          "2022-03-07",
          "2022-03-14",
          "2022-03-21",
          "2022-03-28",
          "2022-04-04",
          "2022-04-11",
          "2022-04-18",
          "2022-04-25",
          "2022-05-02",
          "2022-05-09",
          "2022-05-16",
          "2022-05-23",
          "2022-05-30",
          "2022-06-06",
          "2022-06-13",
          "2022-06-20",
          "2022-06-27",
          "2022-07-04",
          "2022-07-11",
          "2022-07-18",
          "2022-07-25",
          "2022-08-01",
          "2022-08-08",
          "2022-08-15",
          "2022-08-22",
          "2022-08-29",
          "2022-09-05",
          "2022-09-12",
          "2022-09-19",
          "2022-09-26",
          "2022-10-03",
          "2022-10-10",
          "2022-10-17",
          "2022-10-24",
          "2022-10-31",
          "2022-11-07",
          "2022-11-14",
          "2022-11-21",
          "2022-11-28",
          "2022-12-05",
          "2022-12-12",
          "2022-12-19",
          "2022-12-26",
          "2023-01-02",
          "2023-01-09",
          "2023-01-16",
          "2023-01-23",
          "2023-01-30",
          "2023-02-06",
          "2023-02-13",
          "2023-02-20",
          "2023-02-27",
          "2023-03-06",
          "2023-03-13",
          "2023-03-20",
          "2023-03-27",
          "2023-04-03",
          "2023-04-10",
          "2023-04-17",
          "2023-04-24",
          "2023-05-01",
          "2023-05-08",
          "2023-05-15",
          "2023-05-22",
          "2023-05-29",
          "2023-06-05",
          "2023-06-12",
          "2023-06-19",
          "2023-06-26",
          "2023-07-03",
          "2023-07-10"
         ],
         "xaxis": "x",
         "y": [
          0.04501132670146755,
          0.0648084310056141,
          0.06205062543090712,
          0.04727666699497686,
          0,
          0.025115729341081455,
          0.012410125086181424,
          0.04373091697035359,
          0.06667979907416527,
          0.10932729242588397,
          0.05505761843790013,
          0.14340588988476313,
          0.16655175810105388,
          0.1733477789815818,
          0.24938441839850292,
          0.2785383630454053,
          0.3111395646606914,
          0.3959420860829312,
          0.42814931547325913,
          0.5248694967004827,
          0.4582881906825569,
          0.3600906136117404,
          0.2563774253915099,
          0.29203191175022164,
          0.26258248793460065,
          0.15473259135230966,
          0.14990643159657244,
          0.08066581306017927,
          0.13217768147345613,
          0.11878262582487935,
          0.1393676745789422,
          0.12370727863685611,
          0.07032404215502808,
          0.056436521225253625,
          0.12301782724317936,
          0.0605732295873141,
          0.12863193144883286,
          0.11188811188811189,
          0.13897370235398404,
          0.16783216783216784,
          0.1270560425490003,
          0.1029252437703142,
          0.14311041071604452,
          0.10479661183886536,
          0.08913621589677928,
          0.06894513936767459,
          0.04865556978233035,
          0.012804097311139566,
          0.07780951442923274,
          0.13848123707278637,
          0.28366000196986113,
          0.21097212646508423,
          0.31458682162907514,
          0.11937358416231657,
          0.09859154929577466,
          0.13986013986013987,
          0.21698020289569586,
          0.19068255687973998,
          0.3165566827538659,
          0.2734167241209495,
          0.3509307593814636,
          0.4373091697035359,
          0.5563872746971339,
          0.47611543386191274,
          0.5813060179257362,
          0.5244755244755245,
          0.5824879346006107,
          0.5429922190485571,
          0.5458485176795036,
          0.5040874618339407,
          0.5346203092681966,
          0.5424997537673594,
          0.5125578646705408,
          0.4713877671624151,
          0.4406579336156801,
          0.41298138481237073,
          0.3544765094060869,
          0.22939032798187728,
          0.22446567516990054,
          0.18319708460553533,
          0.15187629272136316,
          0.14320890377228407,
          0.18319708460553533,
          0.17827243179355856,
          0.4179060376243475,
          0.0950457992711514,
          0.1677336747759283,
          0.14567123017827244,
          0.14882300797793757,
          0.1800453068058702,
          0.22781443908204474,
          0.14064808431005615,
          0.33783118290160546,
          0.1814242095932237,
          0.18053777208706787,
          0.16389244558258642,
          0.11326701467546539,
          0.1637939525263469,
          0.24052004333694477,
          0.293213828425096,
          0.37072786368561017,
          0.3931842805082242,
          0.5207327883384222,
          0.28622082143208905,
          0.35319609967497295,
          0.35624938441839854,
          0.4134738500935684,
          0.548310844085492,
          0.37338717620407763,
          0.4709937949374569,
          0.46262188515709646,
          0.4915788436915198,
          0.5052693785088151,
          0.5611149413966315,
          0.5769723234511968,
          0.5974588791490201,
          0.6465084211563085,
          0.5993302472175712,
          0.7016645326504481,
          0.7876489707475623,
          0.7355461439968483,
          0.7545553038510785,
          0.925440756426672,
          0.8920516103614695,
          0.9369644440066975,
          1,
          0.8693982074263765,
          0.7768147345612134,
          0.769920220624446,
          0.5496897468728454,
          0.3797892248596474,
          0.4377031419284941,
          0.3912144193834335,
          0.3796907318034079,
          0.4716832463311337,
          0.3912144193834335,
          0.21402541120850982,
          0.206145966709347,
          0.08874224367182114,
          0.06766472963656063,
          0.24751305032995174,
          0.049935979513444306,
          0.07564266719196297,
          0.09770511178961884,
          0.09445484093371417,
          0.08716635477198859,
          0.21698020289569586,
          0.2923273909189402,
          0.20319117502216094,
          0.2549000295479169,
          0.2729242588397518,
          0.30976066187333795,
          0.3278833842214124,
          0.4433172461341476,
          0.4854722742046686,
          0.5594405594405595,
          0.39889687777011723,
          0.4372106766472964,
          0.22584457795725402,
          0.3046390229488821,
          0.242588397517975,
          0.19541022357923768,
          0.10735743130109328,
          0.08293115335368857,
          0.2386486752683936
         ],
         "yaxis": "y"
        },
        {
         "mode": "lines",
         "name": "promo_investment_transformed",
         "type": "scatter",
         "x": [
          "2020-05-18",
          "2020-05-25",
          "2020-06-01",
          "2020-06-08",
          "2020-06-15",
          "2020-06-22",
          "2020-06-29",
          "2020-07-06",
          "2020-07-13",
          "2020-07-20",
          "2020-07-27",
          "2020-08-03",
          "2020-08-10",
          "2020-08-17",
          "2020-08-24",
          "2020-08-31",
          "2020-09-07",
          "2020-09-14",
          "2020-09-21",
          "2020-09-28",
          "2020-10-05",
          "2020-10-12",
          "2020-10-19",
          "2020-10-26",
          "2020-11-02",
          "2020-11-09",
          "2020-11-16",
          "2020-11-23",
          "2020-11-30",
          "2020-12-07",
          "2020-12-14",
          "2020-12-21",
          "2020-12-28",
          "2021-01-04",
          "2021-01-11",
          "2021-01-18",
          "2021-01-25",
          "2021-02-01",
          "2021-02-08",
          "2021-02-15",
          "2021-02-22",
          "2021-03-01",
          "2021-03-08",
          "2021-03-15",
          "2021-03-22",
          "2021-03-29",
          "2021-04-05",
          "2021-04-12",
          "2021-04-19",
          "2021-04-26",
          "2021-05-03",
          "2021-05-10",
          "2021-05-17",
          "2021-05-24",
          "2021-05-31",
          "2021-06-07",
          "2021-06-14",
          "2021-06-21",
          "2021-06-28",
          "2021-07-05",
          "2021-07-12",
          "2021-07-19",
          "2021-07-26",
          "2021-08-02",
          "2021-08-09",
          "2021-08-16",
          "2021-08-23",
          "2021-08-30",
          "2021-09-06",
          "2021-09-13",
          "2021-09-20",
          "2021-09-27",
          "2021-10-04",
          "2021-10-11",
          "2021-10-18",
          "2021-10-25",
          "2021-11-01",
          "2021-11-08",
          "2021-11-15",
          "2021-11-22",
          "2021-11-29",
          "2021-12-06",
          "2021-12-13",
          "2021-12-20",
          "2021-12-27",
          "2022-01-03",
          "2022-01-10",
          "2022-01-17",
          "2022-01-24",
          "2022-01-31",
          "2022-02-07",
          "2022-02-14",
          "2022-02-21",
          "2022-02-28",
          "2022-03-07",
          "2022-03-14",
          "2022-03-21",
          "2022-03-28",
          "2022-04-04",
          "2022-04-11",
          "2022-04-18",
          "2022-04-25",
          "2022-05-02",
          "2022-05-09",
          "2022-05-16",
          "2022-05-23",
          "2022-05-30",
          "2022-06-06",
          "2022-06-13",
          "2022-06-20",
          "2022-06-27",
          "2022-07-04",
          "2022-07-11",
          "2022-07-18",
          "2022-07-25",
          "2022-08-01",
          "2022-08-08",
          "2022-08-15",
          "2022-08-22",
          "2022-08-29",
          "2022-09-05",
          "2022-09-12",
          "2022-09-19",
          "2022-09-26",
          "2022-10-03",
          "2022-10-10",
          "2022-10-17",
          "2022-10-24",
          "2022-10-31",
          "2022-11-07",
          "2022-11-14",
          "2022-11-21",
          "2022-11-28",
          "2022-12-05",
          "2022-12-12",
          "2022-12-19",
          "2022-12-26",
          "2023-01-02",
          "2023-01-09",
          "2023-01-16",
          "2023-01-23",
          "2023-01-30",
          "2023-02-06",
          "2023-02-13",
          "2023-02-20",
          "2023-02-27",
          "2023-03-06",
          "2023-03-13",
          "2023-03-20",
          "2023-03-27",
          "2023-04-03",
          "2023-04-10",
          "2023-04-17",
          "2023-04-24",
          "2023-05-01",
          "2023-05-08",
          "2023-05-15",
          "2023-05-22",
          "2023-05-29",
          "2023-06-05",
          "2023-06-12",
          "2023-06-19",
          "2023-06-26",
          "2023-07-03",
          "2023-07-10"
         ],
         "xaxis": "x",
         "y": [
          0.1540950488585873,
          0.28371397055281855,
          0.3505349633732207,
          0.30448846171450816,
          0.40825018819048325,
          0.4450391926077036,
          0.33912581758072935,
          0.43540840586549623,
          0.36622920954457155,
          0.39293460626055643,
          0.2538141364778707,
          0.4300690411013215,
          0.5193532986975483,
          0.443821660702156,
          0.4794575368155831,
          0.4890732463397687,
          0.4859414246488942,
          0.5516692802246513,
          0.5206644446219876,
          0.5182496131175767,
          0.54566696077241,
          0.4727809616214782,
          0.5885776195767914,
          0.6101259516030283,
          0.561205431168555,
          0.5064402933901139,
          0.4906379287704168,
          0.4466170865368259,
          0.4058567400488812,
          0.4784039433094149,
          0.264204081219919,
          0.42107083424531555,
          0.3714573969966807,
          0.4425553243291446,
          0.3695038379804333,
          0.38573111109093167,
          0.45453457506386347,
          0.45991534744915924,
          0.4269848415856851,
          0.5598668371482461,
          0.4981050438816119,
          0.4272202341901835,
          0.2704931303930529,
          0.4014346911277713,
          0.39038084557825853,
          0.5151386058702632,
          0.44224538601543967,
          0.44476465275852484,
          0.5338128879141772,
          0.5958994591969607,
          0.6948079272899848,
          0.5970508608496364,
          0.6162734873893179,
          0.5136158016448672,
          0.5390763307319246,
          0.5761029975229409,
          0.5548288707186007,
          0.5927596611293521,
          0.6827892599997835,
          0.5474373336900443,
          0.5476457848131836,
          0.5183634060105027,
          0.628328938167095,
          0.568143010912842,
          0.612227145774419,
          0.651625065137601,
          0.6084012831114588,
          0.552098732133568,
          0.5791312220339508,
          0.5658076880489994,
          0.520606773037493,
          0.5789792641157492,
          0.557239487846763,
          0.5517055517581049,
          0.5094963577803397,
          0.5422013723860256,
          0.5718602321355538,
          0.5418502288856855,
          0.504525262289782,
          0.5661461469923262,
          0.528935554402777,
          0.43580358583913037,
          0.48446448642064444,
          0.4794774927152807,
          0.5774543320457846,
          0.4713591744463295,
          0.33187970446987736,
          0.4196713437010981,
          0.5145332555060241,
          0.4783624693367125,
          0.5105916723735036,
          0.468098183651781,
          0.6334163008144199,
          0.4732043701141176,
          0.4970818681046168,
          0.5420721813345655,
          0.5131279905877691,
          0.1042139145561748,
          0.5446717314071131,
          0.5932579759787033,
          0.6284185974911232,
          0.606115426073055,
          0.6936606757809147,
          0.5831532289408005,
          0.5892730568462428,
          0.6344935915866539,
          0.6272452578278255,
          0.6074077313747868,
          0.5860163561915939,
          0.519898172896357,
          0.5800073361030923,
          0.6469654213483839,
          0.687555988190997,
          0.7278871971657762,
          0.7717244212972107,
          0.7302952917614008,
          0.7786201098024211,
          0.8276553871127768,
          0.9429094949804613,
          0.9407774927366789,
          0.8202906072791132,
          0.8389431356164373,
          0.9067535020370019,
          0.9091901267771131,
          0.9311825001422187,
          0.9968788437181949,
          0.9999999999999999,
          0.9950464911361111,
          0.9556365267355662,
          0.9047283694990477,
          0.8239487100357943,
          0.8251529985317231,
          0.7955894791299252,
          0.7823173822097966,
          0.8789189567952995,
          0.7955900784766644,
          0.44244839950375164,
          0.4562910595029487,
          0.4460353156065026,
          0.4063862127973801,
          0.4448242785299065,
          0.3485024458104492,
          0.3854700617895656,
          0.36349015413730923,
          0.35281989154313603,
          0,
          0.47721902877513117,
          0.580610350846263,
          0.5122242807385305,
          0.5165945931496196,
          0.46700270593950455,
          0.6643963717056703,
          0.6183916657536939,
          0.8455234436934513,
          0.8137023519841985,
          0.8008591284447163,
          0.8925597088775699,
          0.8362217617254492,
          0.6839271752969509,
          0.4533195465642381,
          0.4223515321011865,
          0.4566841473952821,
          0.4532148581774311,
          0.41966832807948196,
          0.47058729227413526
         ],
         "yaxis": "y"
        },
        {
         "mode": "markers",
         "showlegend": false,
         "type": "scatter",
         "x": [
          7.17413227320839,
          8.00686881767013,
          8.436160173680854,
          8.140334501204714,
          8.806951538467363,
          9.043302435482634,
          8.362862135722231,
          8.981429462252132,
          8.536987831817777,
          8.708556608112719,
          7.81477738393419,
          8.947126722303189,
          9.520733285092723,
          9.035480403802804,
          9.264423029969418,
          9.326199139638092,
          9.306078756451436,
          9.728347254072121,
          9.529156739879504,
          9.513642658940116,
          9.689785362844496,
          9.221529383861997,
          9.965464818176114,
          10.103902041043717,
          9.789612239775558,
          9.437773704209189,
          9.336251439282673,
          9.053439612376946,
          8.791574834906383,
          9.257654220260727,
          7.881527566458095,
          8.889317757487863,
          8.570576313312307,
          9.027344827903821,
          8.558025676697465,
          8.662277765508621,
          9.104305504105115,
          9.13887426724632,
          8.92731228770127,
          9.781012444743018,
          9.384223907758095,
          8.928824567093042,
          7.9219315522954386,
          8.763165389048682,
          8.692149976903615,
          9.493655998111116,
          9.025353629728606,
          9.041538654683242,
          9.613628891700193,
          10.01250396450373,
          10.647941251446188,
          10.019901142485187,
          10.143396874365244,
          9.483872744925756,
          9.647443871231982,
          9.88532162976806,
          9.748646037887436,
          9.992332337098158,
          10.570727343650479,
          9.701159120676838,
          9.702498314566922,
          9.514373721189369,
          10.22084709761503,
          9.834182709176726,
          10.117401159464519,
          10.370513026163056,
          10.092821911219774,
          9.731106267138804,
          9.904776453046882,
          9.81917943136497,
          9.528786228881897,
          9.903800199656922,
          9.764133043573702,
          9.7285802804778,
          9.457407384745219,
          9.667520696083788,
          9.858063990671283,
          9.665264775256324,
          9.425470590125359,
          9.821353860277233,
          9.582294470757763,
          8.983968295328223,
          9.296590169287615,
          9.264551236613467,
          9.89400327613771,
          9.212395114546084,
          8.316309494226385,
          8.880326732839874,
          9.489766925714,
          9.257387770792842,
          9.464444231507155,
          9.19144488467008,
          10.25353085038803,
          9.224249571010969,
          9.377650516699328,
          9.666690708390925,
          9.480738803609716,
          6.8536710097609905,
          9.683391513460691,
          9.995533760009867,
          10.22142311379148,
          10.07813642652037,
          10.640570736055347,
          9.930615829656665,
          9.96993265374428,
          10.26045190314271,
          10.213884995097674,
          10.086438839758248,
          9.949009985864848,
          9.524233828466727,
          9.910405046410837,
          10.340577152474733,
          10.601351180899359,
          10.860458965138214,
          11.142091137855404,
          10.875929764818434,
          11.186392477061569,
          11.501419533685864,
          12.241869355874345,
          12.228172311044268,
          11.45410451802886,
          11.57393765496653,
          12.0095852400078,
          12.025239331553298,
          12.166529297255778,
          12.58859534608686,
          12.608647209370885,
          12.576823400004486,
          12.323634149983665,
          11.996574779423108,
          11.477605993037814,
          11.485342942454817,
          11.295412161770994,
          11.210145597425543,
          11.830762250908124,
          11.295416012273112,
          9.026657889542886,
          9.115590035430372,
          9.049702026013371,
          8.79497643168877,
          9.041921720351219,
          8.423102268016642,
          8.660600654710967,
          8.519390774959724,
          8.450839690866216,
          6.184148890937483,
          9.250041738827735,
          9.914279113614327,
          9.474932921202932,
          9.503009985939002,
          9.184406989949679,
          10.452562263733816,
          10.15700510770532,
          11.61621283314208,
          11.41177828296527,
          11.329267014932602,
          11.918397239722838,
          11.556454192980048,
          10.57803787856365,
          9.096499555552423,
          8.897545598709327,
          9.118115427933665,
          9.095826985187422,
          8.880307358983872,
          9.207436158828793
         ],
         "xaxis": "x2",
         "y": [
          777,
          978,
          950,
          800,
          320,
          575,
          446,
          764,
          997,
          1430,
          879,
          1776,
          2011,
          2080,
          2852,
          3148,
          3479,
          4340,
          4667,
          5649,
          4973,
          3976,
          2923,
          3285,
          2986,
          1891,
          1842,
          1139,
          1662,
          1526,
          1735,
          1576,
          1034,
          893,
          1569,
          935,
          1626,
          1456,
          1731,
          2024,
          1610,
          1365,
          1773,
          1384,
          1225,
          1020,
          814,
          450,
          1110,
          1726,
          3200,
          2462,
          3514,
          1532,
          1321,
          1740,
          2523,
          2256,
          3534,
          3096,
          3883,
          4760,
          5969,
          5154,
          6222,
          5645,
          6234,
          5833,
          5862,
          5438,
          5748,
          5828,
          5524,
          5106,
          4794,
          4513,
          3919,
          2649,
          2599,
          2180,
          1862,
          1774,
          2180,
          2130,
          4563,
          1285,
          2023,
          1799,
          1831,
          2148,
          2633,
          1748,
          3750,
          2162,
          2153,
          1984,
          1470,
          1983,
          2762,
          3297,
          4084,
          4312,
          5607,
          3226,
          3906,
          3937,
          4518,
          5887,
          4111,
          5102,
          5017,
          5311,
          5450,
          6017,
          6178,
          6386,
          6884,
          6405,
          7444,
          8317,
          7788,
          7981,
          9716,
          9377,
          9833,
          10473,
          9147,
          8207,
          8137,
          5901,
          4176,
          4764,
          4292,
          4175,
          5109,
          4292,
          2493,
          2413,
          1221,
          1007,
          2833,
          827,
          1088,
          1312,
          1279,
          1205,
          2523,
          3288,
          2383,
          2908,
          3091,
          3465,
          3649,
          4821,
          5249,
          6000,
          4370,
          4759,
          2613,
          3413,
          2783,
          2304,
          1410,
          1162,
          2743
         ],
         "yaxis": "y2"
        }
       ],
       "layout": {
        "annotations": [
         {
          "font": {
           "size": 16
          },
          "showarrow": false,
          "text": "Normalized Line Plot",
          "x": 0.225,
          "xanchor": "center",
          "xref": "paper",
          "y": 1,
          "yanchor": "bottom",
          "yref": "paper"
         },
         {
          "font": {
           "size": 16
          },
          "showarrow": false,
          "text": "Scatter Plot - Corr: 0.81",
          "x": 0.775,
          "xanchor": "center",
          "xref": "paper",
          "y": 1,
          "yanchor": "bottom",
          "yref": "paper"
         }
        ],
        "template": {
         "data": {
          "bar": [
           {
            "error_x": {
             "color": "#2a3f5f"
            },
            "error_y": {
             "color": "#2a3f5f"
            },
            "marker": {
             "line": {
              "color": "white",
              "width": 0.5
             },
             "pattern": {
              "fillmode": "overlay",
              "size": 10,
              "solidity": 0.2
             }
            },
            "type": "bar"
           }
          ],
          "barpolar": [
           {
            "marker": {
             "line": {
              "color": "white",
              "width": 0.5
             },
             "pattern": {
              "fillmode": "overlay",
              "size": 10,
              "solidity": 0.2
             }
            },
            "type": "barpolar"
           }
          ],
          "carpet": [
           {
            "aaxis": {
             "endlinecolor": "#2a3f5f",
             "gridcolor": "#C8D4E3",
             "linecolor": "#C8D4E3",
             "minorgridcolor": "#C8D4E3",
             "startlinecolor": "#2a3f5f"
            },
            "baxis": {
             "endlinecolor": "#2a3f5f",
             "gridcolor": "#C8D4E3",
             "linecolor": "#C8D4E3",
             "minorgridcolor": "#C8D4E3",
             "startlinecolor": "#2a3f5f"
            },
            "type": "carpet"
           }
          ],
          "choropleth": [
           {
            "colorbar": {
             "outlinewidth": 0,
             "ticks": ""
            },
            "type": "choropleth"
           }
          ],
          "contour": [
           {
            "colorbar": {
             "outlinewidth": 0,
             "ticks": ""
            },
            "colorscale": [
             [
              0,
              "#0d0887"
             ],
             [
              0.1111111111111111,
              "#46039f"
             ],
             [
              0.2222222222222222,
              "#7201a8"
             ],
             [
              0.3333333333333333,
              "#9c179e"
             ],
             [
              0.4444444444444444,
              "#bd3786"
             ],
             [
              0.5555555555555556,
              "#d8576b"
             ],
             [
              0.6666666666666666,
              "#ed7953"
             ],
             [
              0.7777777777777778,
              "#fb9f3a"
             ],
             [
              0.8888888888888888,
              "#fdca26"
             ],
             [
              1,
              "#f0f921"
             ]
            ],
            "type": "contour"
           }
          ],
          "contourcarpet": [
           {
            "colorbar": {
             "outlinewidth": 0,
             "ticks": ""
            },
            "type": "contourcarpet"
           }
          ],
          "heatmap": [
           {
            "colorbar": {
             "outlinewidth": 0,
             "ticks": ""
            },
            "colorscale": [
             [
              0,
              "#0d0887"
             ],
             [
              0.1111111111111111,
              "#46039f"
             ],
             [
              0.2222222222222222,
              "#7201a8"
             ],
             [
              0.3333333333333333,
              "#9c179e"
             ],
             [
              0.4444444444444444,
              "#bd3786"
             ],
             [
              0.5555555555555556,
              "#d8576b"
             ],
             [
              0.6666666666666666,
              "#ed7953"
             ],
             [
              0.7777777777777778,
              "#fb9f3a"
             ],
             [
              0.8888888888888888,
              "#fdca26"
             ],
             [
              1,
              "#f0f921"
             ]
            ],
            "type": "heatmap"
           }
          ],
          "histogram": [
           {
            "marker": {
             "pattern": {
              "fillmode": "overlay",
              "size": 10,
              "solidity": 0.2
             }
            },
            "type": "histogram"
           }
          ],
          "histogram2d": [
           {
            "colorbar": {
             "outlinewidth": 0,
             "ticks": ""
            },
            "colorscale": [
             [
              0,
              "#0d0887"
             ],
             [
              0.1111111111111111,
              "#46039f"
             ],
             [
              0.2222222222222222,
              "#7201a8"
             ],
             [
              0.3333333333333333,
              "#9c179e"
             ],
             [
              0.4444444444444444,
              "#bd3786"
             ],
             [
              0.5555555555555556,
              "#d8576b"
             ],
             [
              0.6666666666666666,
              "#ed7953"
             ],
             [
              0.7777777777777778,
              "#fb9f3a"
             ],
             [
              0.8888888888888888,
              "#fdca26"
             ],
             [
              1,
              "#f0f921"
             ]
            ],
            "type": "histogram2d"
           }
          ],
          "histogram2dcontour": [
           {
            "colorbar": {
             "outlinewidth": 0,
             "ticks": ""
            },
            "colorscale": [
             [
              0,
              "#0d0887"
             ],
             [
              0.1111111111111111,
              "#46039f"
             ],
             [
              0.2222222222222222,
              "#7201a8"
             ],
             [
              0.3333333333333333,
              "#9c179e"
             ],
             [
              0.4444444444444444,
              "#bd3786"
             ],
             [
              0.5555555555555556,
              "#d8576b"
             ],
             [
              0.6666666666666666,
              "#ed7953"
             ],
             [
              0.7777777777777778,
              "#fb9f3a"
             ],
             [
              0.8888888888888888,
              "#fdca26"
             ],
             [
              1,
              "#f0f921"
             ]
            ],
            "type": "histogram2dcontour"
           }
          ],
          "mesh3d": [
           {
            "colorbar": {
             "outlinewidth": 0,
             "ticks": ""
            },
            "type": "mesh3d"
           }
          ],
          "parcoords": [
           {
            "line": {
             "colorbar": {
              "outlinewidth": 0,
              "ticks": ""
             }
            },
            "type": "parcoords"
           }
          ],
          "pie": [
           {
            "automargin": true,
            "type": "pie"
           }
          ],
          "scatter": [
           {
            "fillpattern": {
             "fillmode": "overlay",
             "size": 10,
             "solidity": 0.2
            },
            "type": "scatter"
           }
          ],
          "scatter3d": [
           {
            "line": {
             "colorbar": {
              "outlinewidth": 0,
              "ticks": ""
             }
            },
            "marker": {
             "colorbar": {
              "outlinewidth": 0,
              "ticks": ""
             }
            },
            "type": "scatter3d"
           }
          ],
          "scattercarpet": [
           {
            "marker": {
             "colorbar": {
              "outlinewidth": 0,
              "ticks": ""
             }
            },
            "type": "scattercarpet"
           }
          ],
          "scattergeo": [
           {
            "marker": {
             "colorbar": {
              "outlinewidth": 0,
              "ticks": ""
             }
            },
            "type": "scattergeo"
           }
          ],
          "scattergl": [
           {
            "marker": {
             "colorbar": {
              "outlinewidth": 0,
              "ticks": ""
             }
            },
            "type": "scattergl"
           }
          ],
          "scattermap": [
           {
            "marker": {
             "colorbar": {
              "outlinewidth": 0,
              "ticks": ""
             }
            },
            "type": "scattermap"
           }
          ],
          "scattermapbox": [
           {
            "marker": {
             "colorbar": {
              "outlinewidth": 0,
              "ticks": ""
             }
            },
            "type": "scattermapbox"
           }
          ],
          "scatterpolar": [
           {
            "marker": {
             "colorbar": {
              "outlinewidth": 0,
              "ticks": ""
             }
            },
            "type": "scatterpolar"
           }
          ],
          "scatterpolargl": [
           {
            "marker": {
             "colorbar": {
              "outlinewidth": 0,
              "ticks": ""
             }
            },
            "type": "scatterpolargl"
           }
          ],
          "scatterternary": [
           {
            "marker": {
             "colorbar": {
              "outlinewidth": 0,
              "ticks": ""
             }
            },
            "type": "scatterternary"
           }
          ],
          "surface": [
           {
            "colorbar": {
             "outlinewidth": 0,
             "ticks": ""
            },
            "colorscale": [
             [
              0,
              "#0d0887"
             ],
             [
              0.1111111111111111,
              "#46039f"
             ],
             [
              0.2222222222222222,
              "#7201a8"
             ],
             [
              0.3333333333333333,
              "#9c179e"
             ],
             [
              0.4444444444444444,
              "#bd3786"
             ],
             [
              0.5555555555555556,
              "#d8576b"
             ],
             [
              0.6666666666666666,
              "#ed7953"
             ],
             [
              0.7777777777777778,
              "#fb9f3a"
             ],
             [
              0.8888888888888888,
              "#fdca26"
             ],
             [
              1,
              "#f0f921"
             ]
            ],
            "type": "surface"
           }
          ],
          "table": [
           {
            "cells": {
             "fill": {
              "color": "#EBF0F8"
             },
             "line": {
              "color": "white"
             }
            },
            "header": {
             "fill": {
              "color": "#C8D4E3"
             },
             "line": {
              "color": "white"
             }
            },
            "type": "table"
           }
          ]
         },
         "layout": {
          "annotationdefaults": {
           "arrowcolor": "#2a3f5f",
           "arrowhead": 0,
           "arrowwidth": 1
          },
          "autotypenumbers": "strict",
          "coloraxis": {
           "colorbar": {
            "outlinewidth": 0,
            "ticks": ""
           }
          },
          "colorscale": {
           "diverging": [
            [
             0,
             "#8e0152"
            ],
            [
             0.1,
             "#c51b7d"
            ],
            [
             0.2,
             "#de77ae"
            ],
            [
             0.3,
             "#f1b6da"
            ],
            [
             0.4,
             "#fde0ef"
            ],
            [
             0.5,
             "#f7f7f7"
            ],
            [
             0.6,
             "#e6f5d0"
            ],
            [
             0.7,
             "#b8e186"
            ],
            [
             0.8,
             "#7fbc41"
            ],
            [
             0.9,
             "#4d9221"
            ],
            [
             1,
             "#276419"
            ]
           ],
           "sequential": [
            [
             0,
             "#0d0887"
            ],
            [
             0.1111111111111111,
             "#46039f"
            ],
            [
             0.2222222222222222,
             "#7201a8"
            ],
            [
             0.3333333333333333,
             "#9c179e"
            ],
            [
             0.4444444444444444,
             "#bd3786"
            ],
            [
             0.5555555555555556,
             "#d8576b"
            ],
            [
             0.6666666666666666,
             "#ed7953"
            ],
            [
             0.7777777777777778,
             "#fb9f3a"
            ],
            [
             0.8888888888888888,
             "#fdca26"
            ],
            [
             1,
             "#f0f921"
            ]
           ],
           "sequentialminus": [
            [
             0,
             "#0d0887"
            ],
            [
             0.1111111111111111,
             "#46039f"
            ],
            [
             0.2222222222222222,
             "#7201a8"
            ],
            [
             0.3333333333333333,
             "#9c179e"
            ],
            [
             0.4444444444444444,
             "#bd3786"
            ],
            [
             0.5555555555555556,
             "#d8576b"
            ],
            [
             0.6666666666666666,
             "#ed7953"
            ],
            [
             0.7777777777777778,
             "#fb9f3a"
            ],
            [
             0.8888888888888888,
             "#fdca26"
            ],
            [
             1,
             "#f0f921"
            ]
           ]
          },
          "colorway": [
           "#636efa",
           "#EF553B",
           "#00cc96",
           "#ab63fa",
           "#FFA15A",
           "#19d3f3",
           "#FF6692",
           "#B6E880",
           "#FF97FF",
           "#FECB52"
          ],
          "font": {
           "color": "#2a3f5f"
          },
          "geo": {
           "bgcolor": "white",
           "lakecolor": "white",
           "landcolor": "white",
           "showlakes": true,
           "showland": true,
           "subunitcolor": "#C8D4E3"
          },
          "hoverlabel": {
           "align": "left"
          },
          "hovermode": "closest",
          "mapbox": {
           "style": "light"
          },
          "paper_bgcolor": "white",
          "plot_bgcolor": "white",
          "polar": {
           "angularaxis": {
            "gridcolor": "#EBF0F8",
            "linecolor": "#EBF0F8",
            "ticks": ""
           },
           "bgcolor": "white",
           "radialaxis": {
            "gridcolor": "#EBF0F8",
            "linecolor": "#EBF0F8",
            "ticks": ""
           }
          },
          "scene": {
           "xaxis": {
            "backgroundcolor": "white",
            "gridcolor": "#DFE8F3",
            "gridwidth": 2,
            "linecolor": "#EBF0F8",
            "showbackground": true,
            "ticks": "",
            "zerolinecolor": "#EBF0F8"
           },
           "yaxis": {
            "backgroundcolor": "white",
            "gridcolor": "#DFE8F3",
            "gridwidth": 2,
            "linecolor": "#EBF0F8",
            "showbackground": true,
            "ticks": "",
            "zerolinecolor": "#EBF0F8"
           },
           "zaxis": {
            "backgroundcolor": "white",
            "gridcolor": "#DFE8F3",
            "gridwidth": 2,
            "linecolor": "#EBF0F8",
            "showbackground": true,
            "ticks": "",
            "zerolinecolor": "#EBF0F8"
           }
          },
          "shapedefaults": {
           "line": {
            "color": "#2a3f5f"
           }
          },
          "ternary": {
           "aaxis": {
            "gridcolor": "#DFE8F3",
            "linecolor": "#A2B1C6",
            "ticks": ""
           },
           "baxis": {
            "gridcolor": "#DFE8F3",
            "linecolor": "#A2B1C6",
            "ticks": ""
           },
           "bgcolor": "white",
           "caxis": {
            "gridcolor": "#DFE8F3",
            "linecolor": "#A2B1C6",
            "ticks": ""
           }
          },
          "title": {
           "x": 0.05
          },
          "xaxis": {
           "automargin": true,
           "gridcolor": "#EBF0F8",
           "linecolor": "#EBF0F8",
           "ticks": "",
           "title": {
            "standoff": 15
           },
           "zerolinecolor": "#EBF0F8",
           "zerolinewidth": 2
          },
          "yaxis": {
           "automargin": true,
           "gridcolor": "#EBF0F8",
           "linecolor": "#EBF0F8",
           "ticks": "",
           "title": {
            "standoff": 15
           },
           "zerolinecolor": "#EBF0F8",
           "zerolinewidth": 2
          }
         }
        },
        "title": {
         "text": "new_customers vs Log promo_investment Relationship"
        },
        "xaxis": {
         "anchor": "y",
         "domain": [
          0,
          0.45
         ]
        },
        "xaxis2": {
         "anchor": "y2",
         "domain": [
          0.55,
          1
         ]
        },
        "yaxis": {
         "anchor": "x",
         "domain": [
          0,
          1
         ]
        },
        "yaxis2": {
         "anchor": "x2",
         "domain": [
          0,
          1
         ]
        }
       }
      }
     },
     "metadata": {},
     "output_type": "display_data"
    }
   ],
   "source": [
    "saturated_col_name = f\"{saturation_col}_transformed\"\n",
    "\n",
    "saturation_df = df.select(date_col, target, saturation_col).sort(date_col)\n",
    "log_col = log_transformation(saturation_df[saturation_col].to_numpy())\n",
    "saturation_df = saturation_df.with_columns(\n",
    "      pl.Series(name=saturated_col_name, values=log_col)\n",
    "  )\n",
    "\n",
    "plot_title = f\"{target} vs Log {saturation_col} Relationship\"\n",
    "plot_target_channel_relationship(saturation_df,\n",
    "                                 col_to_scale=saturated_col_name,\n",
    "                                 col_to_corr=saturated_col_name,\n",
    "                                 plot_title=plot_title)"
   ]
  },
  {
   "cell_type": "code",
   "execution_count": 36,
   "metadata": {},
   "outputs": [],
   "source": [
    "logistic_param_widget = widgets.FloatSlider(min=0.01, max=10, step=0.01)\n",
    "\n",
    "def plot_logistic_transformation_beta_change(beta: float):\n",
    "\n",
    "  logistic_df = df.select(date_col, target, saturation_col).sort(date_col)\n",
    "  logistic_col = logistic_transformation(\n",
    "      logistic_df[saturation_col].to_numpy(),\n",
    "      beta)\n",
    "  logistic_df = logistic_df.with_columns(\n",
    "      pl.Series(name=saturated_col_name, values=logistic_col)\n",
    "  )\n",
    "\n",
    "  beta_param = np.round(logistic_param_widget.value, 2)\n",
    "  plot_title = f\"{target} vs Logistic {saturation_col} Relationship - Beta: {beta_param} \"\n",
    "  plot_target_channel_relationship(logistic_df,\n",
    "                                   col_to_scale=saturated_col_name,\n",
    "                                   col_to_corr=saturated_col_name,\n",
    "                                   plot_title=plot_title)"
   ]
  },
  {
   "cell_type": "code",
   "execution_count": 37,
   "metadata": {},
   "outputs": [
    {
     "data": {
      "application/vnd.plotly.v1+json": {
       "config": {
        "plotlyServerURL": "https://plot.ly"
       },
       "data": [
        {
         "mode": "lines",
         "name": "new_customers",
         "type": "scatter",
         "x": [
          "2020-05-18",
          "2020-05-25",
          "2020-06-01",
          "2020-06-08",
          "2020-06-15",
          "2020-06-22",
          "2020-06-29",
          "2020-07-06",
          "2020-07-13",
          "2020-07-20",
          "2020-07-27",
          "2020-08-03",
          "2020-08-10",
          "2020-08-17",
          "2020-08-24",
          "2020-08-31",
          "2020-09-07",
          "2020-09-14",
          "2020-09-21",
          "2020-09-28",
          "2020-10-05",
          "2020-10-12",
          "2020-10-19",
          "2020-10-26",
          "2020-11-02",
          "2020-11-09",
          "2020-11-16",
          "2020-11-23",
          "2020-11-30",
          "2020-12-07",
          "2020-12-14",
          "2020-12-21",
          "2020-12-28",
          "2021-01-04",
          "2021-01-11",
          "2021-01-18",
          "2021-01-25",
          "2021-02-01",
          "2021-02-08",
          "2021-02-15",
          "2021-02-22",
          "2021-03-01",
          "2021-03-08",
          "2021-03-15",
          "2021-03-22",
          "2021-03-29",
          "2021-04-05",
          "2021-04-12",
          "2021-04-19",
          "2021-04-26",
          "2021-05-03",
          "2021-05-10",
          "2021-05-17",
          "2021-05-24",
          "2021-05-31",
          "2021-06-07",
          "2021-06-14",
          "2021-06-21",
          "2021-06-28",
          "2021-07-05",
          "2021-07-12",
          "2021-07-19",
          "2021-07-26",
          "2021-08-02",
          "2021-08-09",
          "2021-08-16",
          "2021-08-23",
          "2021-08-30",
          "2021-09-06",
          "2021-09-13",
          "2021-09-20",
          "2021-09-27",
          "2021-10-04",
          "2021-10-11",
          "2021-10-18",
          "2021-10-25",
          "2021-11-01",
          "2021-11-08",
          "2021-11-15",
          "2021-11-22",
          "2021-11-29",
          "2021-12-06",
          "2021-12-13",
          "2021-12-20",
          "2021-12-27",
          "2022-01-03",
          "2022-01-10",
          "2022-01-17",
          "2022-01-24",
          "2022-01-31",
          "2022-02-07",
          "2022-02-14",
          "2022-02-21",
          "2022-02-28",
          "2022-03-07",
          "2022-03-14",
          "2022-03-21",
          "2022-03-28",
          "2022-04-04",
          "2022-04-11",
          "2022-04-18",
          "2022-04-25",
          "2022-05-02",
          "2022-05-09",
          "2022-05-16",
          "2022-05-23",
          "2022-05-30",
          "2022-06-06",
          "2022-06-13",
          "2022-06-20",
          "2022-06-27",
          "2022-07-04",
          "2022-07-11",
          "2022-07-18",
          "2022-07-25",
          "2022-08-01",
          "2022-08-08",
          "2022-08-15",
          "2022-08-22",
          "2022-08-29",
          "2022-09-05",
          "2022-09-12",
          "2022-09-19",
          "2022-09-26",
          "2022-10-03",
          "2022-10-10",
          "2022-10-17",
          "2022-10-24",
          "2022-10-31",
          "2022-11-07",
          "2022-11-14",
          "2022-11-21",
          "2022-11-28",
          "2022-12-05",
          "2022-12-12",
          "2022-12-19",
          "2022-12-26",
          "2023-01-02",
          "2023-01-09",
          "2023-01-16",
          "2023-01-23",
          "2023-01-30",
          "2023-02-06",
          "2023-02-13",
          "2023-02-20",
          "2023-02-27",
          "2023-03-06",
          "2023-03-13",
          "2023-03-20",
          "2023-03-27",
          "2023-04-03",
          "2023-04-10",
          "2023-04-17",
          "2023-04-24",
          "2023-05-01",
          "2023-05-08",
          "2023-05-15",
          "2023-05-22",
          "2023-05-29",
          "2023-06-05",
          "2023-06-12",
          "2023-06-19",
          "2023-06-26",
          "2023-07-03",
          "2023-07-10"
         ],
         "xaxis": "x",
         "y": [
          0.04501132670146755,
          0.0648084310056141,
          0.06205062543090712,
          0.04727666699497686,
          0,
          0.025115729341081455,
          0.012410125086181424,
          0.04373091697035359,
          0.06667979907416527,
          0.10932729242588397,
          0.05505761843790013,
          0.14340588988476313,
          0.16655175810105388,
          0.1733477789815818,
          0.24938441839850292,
          0.2785383630454053,
          0.3111395646606914,
          0.3959420860829312,
          0.42814931547325913,
          0.5248694967004827,
          0.4582881906825569,
          0.3600906136117404,
          0.2563774253915099,
          0.29203191175022164,
          0.26258248793460065,
          0.15473259135230966,
          0.14990643159657244,
          0.08066581306017927,
          0.13217768147345613,
          0.11878262582487935,
          0.1393676745789422,
          0.12370727863685611,
          0.07032404215502808,
          0.056436521225253625,
          0.12301782724317936,
          0.0605732295873141,
          0.12863193144883286,
          0.11188811188811189,
          0.13897370235398404,
          0.16783216783216784,
          0.1270560425490003,
          0.1029252437703142,
          0.14311041071604452,
          0.10479661183886536,
          0.08913621589677928,
          0.06894513936767459,
          0.04865556978233035,
          0.012804097311139566,
          0.07780951442923274,
          0.13848123707278637,
          0.28366000196986113,
          0.21097212646508423,
          0.31458682162907514,
          0.11937358416231657,
          0.09859154929577466,
          0.13986013986013987,
          0.21698020289569586,
          0.19068255687973998,
          0.3165566827538659,
          0.2734167241209495,
          0.3509307593814636,
          0.4373091697035359,
          0.5563872746971339,
          0.47611543386191274,
          0.5813060179257362,
          0.5244755244755245,
          0.5824879346006107,
          0.5429922190485571,
          0.5458485176795036,
          0.5040874618339407,
          0.5346203092681966,
          0.5424997537673594,
          0.5125578646705408,
          0.4713877671624151,
          0.4406579336156801,
          0.41298138481237073,
          0.3544765094060869,
          0.22939032798187728,
          0.22446567516990054,
          0.18319708460553533,
          0.15187629272136316,
          0.14320890377228407,
          0.18319708460553533,
          0.17827243179355856,
          0.4179060376243475,
          0.0950457992711514,
          0.1677336747759283,
          0.14567123017827244,
          0.14882300797793757,
          0.1800453068058702,
          0.22781443908204474,
          0.14064808431005615,
          0.33783118290160546,
          0.1814242095932237,
          0.18053777208706787,
          0.16389244558258642,
          0.11326701467546539,
          0.1637939525263469,
          0.24052004333694477,
          0.293213828425096,
          0.37072786368561017,
          0.3931842805082242,
          0.5207327883384222,
          0.28622082143208905,
          0.35319609967497295,
          0.35624938441839854,
          0.4134738500935684,
          0.548310844085492,
          0.37338717620407763,
          0.4709937949374569,
          0.46262188515709646,
          0.4915788436915198,
          0.5052693785088151,
          0.5611149413966315,
          0.5769723234511968,
          0.5974588791490201,
          0.6465084211563085,
          0.5993302472175712,
          0.7016645326504481,
          0.7876489707475623,
          0.7355461439968483,
          0.7545553038510785,
          0.925440756426672,
          0.8920516103614695,
          0.9369644440066975,
          1,
          0.8693982074263765,
          0.7768147345612134,
          0.769920220624446,
          0.5496897468728454,
          0.3797892248596474,
          0.4377031419284941,
          0.3912144193834335,
          0.3796907318034079,
          0.4716832463311337,
          0.3912144193834335,
          0.21402541120850982,
          0.206145966709347,
          0.08874224367182114,
          0.06766472963656063,
          0.24751305032995174,
          0.049935979513444306,
          0.07564266719196297,
          0.09770511178961884,
          0.09445484093371417,
          0.08716635477198859,
          0.21698020289569586,
          0.2923273909189402,
          0.20319117502216094,
          0.2549000295479169,
          0.2729242588397518,
          0.30976066187333795,
          0.3278833842214124,
          0.4433172461341476,
          0.4854722742046686,
          0.5594405594405595,
          0.39889687777011723,
          0.4372106766472964,
          0.22584457795725402,
          0.3046390229488821,
          0.242588397517975,
          0.19541022357923768,
          0.10735743130109328,
          0.08293115335368857,
          0.2386486752683936
         ],
         "yaxis": "y"
        },
        {
         "mode": "lines",
         "name": "promo_investment_transformed",
         "type": "scatter",
         "x": [
          "2020-05-18",
          "2020-05-25",
          "2020-06-01",
          "2020-06-08",
          "2020-06-15",
          "2020-06-22",
          "2020-06-29",
          "2020-07-06",
          "2020-07-13",
          "2020-07-20",
          "2020-07-27",
          "2020-08-03",
          "2020-08-10",
          "2020-08-17",
          "2020-08-24",
          "2020-08-31",
          "2020-09-07",
          "2020-09-14",
          "2020-09-21",
          "2020-09-28",
          "2020-10-05",
          "2020-10-12",
          "2020-10-19",
          "2020-10-26",
          "2020-11-02",
          "2020-11-09",
          "2020-11-16",
          "2020-11-23",
          "2020-11-30",
          "2020-12-07",
          "2020-12-14",
          "2020-12-21",
          "2020-12-28",
          "2021-01-04",
          "2021-01-11",
          "2021-01-18",
          "2021-01-25",
          "2021-02-01",
          "2021-02-08",
          "2021-02-15",
          "2021-02-22",
          "2021-03-01",
          "2021-03-08",
          "2021-03-15",
          "2021-03-22",
          "2021-03-29",
          "2021-04-05",
          "2021-04-12",
          "2021-04-19",
          "2021-04-26",
          "2021-05-03",
          "2021-05-10",
          "2021-05-17",
          "2021-05-24",
          "2021-05-31",
          "2021-06-07",
          "2021-06-14",
          "2021-06-21",
          "2021-06-28",
          "2021-07-05",
          "2021-07-12",
          "2021-07-19",
          "2021-07-26",
          "2021-08-02",
          "2021-08-09",
          "2021-08-16",
          "2021-08-23",
          "2021-08-30",
          "2021-09-06",
          "2021-09-13",
          "2021-09-20",
          "2021-09-27",
          "2021-10-04",
          "2021-10-11",
          "2021-10-18",
          "2021-10-25",
          "2021-11-01",
          "2021-11-08",
          "2021-11-15",
          "2021-11-22",
          "2021-11-29",
          "2021-12-06",
          "2021-12-13",
          "2021-12-20",
          "2021-12-27",
          "2022-01-03",
          "2022-01-10",
          "2022-01-17",
          "2022-01-24",
          "2022-01-31",
          "2022-02-07",
          "2022-02-14",
          "2022-02-21",
          "2022-02-28",
          "2022-03-07",
          "2022-03-14",
          "2022-03-21",
          "2022-03-28",
          "2022-04-04",
          "2022-04-11",
          "2022-04-18",
          "2022-04-25",
          "2022-05-02",
          "2022-05-09",
          "2022-05-16",
          "2022-05-23",
          "2022-05-30",
          "2022-06-06",
          "2022-06-13",
          "2022-06-20",
          "2022-06-27",
          "2022-07-04",
          "2022-07-11",
          "2022-07-18",
          "2022-07-25",
          "2022-08-01",
          "2022-08-08",
          "2022-08-15",
          "2022-08-22",
          "2022-08-29",
          "2022-09-05",
          "2022-09-12",
          "2022-09-19",
          "2022-09-26",
          "2022-10-03",
          "2022-10-10",
          "2022-10-17",
          "2022-10-24",
          "2022-10-31",
          "2022-11-07",
          "2022-11-14",
          "2022-11-21",
          "2022-11-28",
          "2022-12-05",
          "2022-12-12",
          "2022-12-19",
          "2022-12-26",
          "2023-01-02",
          "2023-01-09",
          "2023-01-16",
          "2023-01-23",
          "2023-01-30",
          "2023-02-06",
          "2023-02-13",
          "2023-02-20",
          "2023-02-27",
          "2023-03-06",
          "2023-03-13",
          "2023-03-20",
          "2023-03-27",
          "2023-04-03",
          "2023-04-10",
          "2023-04-17",
          "2023-04-24",
          "2023-05-01",
          "2023-05-08",
          "2023-05-15",
          "2023-05-22",
          "2023-05-29",
          "2023-06-05",
          "2023-06-12",
          "2023-06-19",
          "2023-06-26",
          "2023-07-03",
          "2023-07-10"
         ],
         "xaxis": "x",
         "y": [
          0.0027464803842514617,
          0.008426361206913723,
          0.013815044967193242,
          0.009861371379417798,
          0.020745331951108475,
          0.026709411898136907,
          0.01272387266362274,
          0.025009472352970335,
          0.015452910753181576,
          0.018649122904194265,
          0.006669874978358814,
          0.02411136338778881,
          0.044047409391849444,
          0.026488651632272316,
          0.03372118886265774,
          0.035973530859477014,
          0.03522461380215032,
          0.054585535816361795,
          0.04443374522933619,
          0.043724715963121295,
          0.0524592504531774,
          0.032237160389456135,
          0.06962664997433543,
          0.08020577203732203,
          0.0581368876330308,
          0.04041143368927264,
          0.03635337839921218,
          0.02699809336788152,
          0.0204039965068293,
          0.03348275193428951,
          0.007242387274651828,
          0.022665814478221476,
          0.01603623974428201,
          0.02626086691683187,
          0.01581597768683133,
          0.017732285288568194,
          0.028491644693387944,
          0.02955090825859012,
          0.02360645065543657,
          0.057625159867984735,
          0.03821965362373879,
          0.02364463500053508,
          0.007607959944219505,
          0.019786999306499672,
          0.018319223042177004,
          0.04282734432929677,
          0.026205397878474642,
          0.0266594820287434,
          0.04849339115930911,
          0.07305829724334163,
          0.1393647649499475,
          0.07361278367542952,
          0.08350229389561363,
          0.0423945859985534,
          0.05021708856120968,
          0.06413922341004703,
          0.05573817989038982,
          0.07156692629972473,
          0.12888814994321143,
          0.053077891606594284,
          0.05315119710697632,
          0.043757880812561115,
          0.0903573805849464,
          0.060860708054122636,
          0.08131789102930702,
          0.10520741867899233,
          0.07930409230246589,
          0.05474083276774356,
          0.06543116153828475,
          0.05993023034374366,
          0.044416683492329585,
          0.06536573066478309,
          0.05663346287310293,
          0.054598635646420875,
          0.04124489902775683,
          0.05126841112674971,
          0.06237088338198496,
          0.05114922454415856,
          0.039897435425868,
          0.060064221242647736,
          0.04694734079883844,
          0.02507717618310664,
          0.03487662615796198,
          0.033725720640221134,
          0.06471264186578597,
          0.03192927180941549,
          0.012071250125151745,
          0.022448403062330445,
          0.0426548055907548,
          0.03347339900705277,
          0.04154762471123829,
          0.031233635523038625,
          0.09341334478175545,
          0.03232939445230994,
          0.0379586046877972,
          0.05122452929739813,
          0.042256850299755844,
          0.0015481584935593312,
          0.05211455350053947,
          0.07180161683688972,
          0.09041037859920296,
          0.07812430831923638,
          0.1383294256529575,
          0.06718640433103676,
          0.0699456983022681,
          0.09407338456334995,
          0.08971922096309853,
          0.07878916775306906,
          0.06846382595920987,
          0.04420756426272038,
          0.06580965189377329,
          0.1020567223138149,
          0.13294675931719838,
          0.17274919893956636,
          0.2294712116918289,
          0.17546786603459474,
          0.2399391898411354,
          0.3293890233902686,
          0.6924679500089994,
          0.6830258282693169,
          0.3140919090955565,
          0.3542852200594496,
          0.548597991261479,
          0.5572789411967648,
          0.6420967063326389,
          0.9801159203828842,
          1,
          0.9686268699170762,
          0.7516044189509598,
          0.5414857521650253,
          0.32159956070235624,
          0.3241100197401477,
          0.26776344488909004,
          0.24574575245668362,
          0.45850164134692467,
          0.2677644821667525,
          0.026241718314772188,
          0.028833410251328136,
          0.02689131551936317,
          0.02047905443067479,
          0.026670318532296833,
          0.013614754002211085,
          0.017699849871856684,
          0.015155036052936317,
          0.014043354225197107,
          0,
          0.033216517134474995,
          0.06607140103633773,
          0.042002821435498404,
          0.043245092343807946,
          0.031003198841979017,
          0.11434249132636116,
          0.08466863002110306,
          0.36965387941323874,
          0.3010077198310942,
          0.277039641704061,
          0.5006441984223422,
          0.34811678747405606,
          0.12984575930580017,
          0.02825747871068374,
          0.022866491593602552,
          0.028910424352661092,
          0.028237388075532183,
          0.02244793669172057,
          0.031763294534838185
         ],
         "yaxis": "y"
        },
        {
         "mode": "markers",
         "showlegend": false,
         "type": "scatter",
         "x": [
          0.000013732287485718914,
          0.00004213145493969572,
          0.00006907464921484842,
          0.000049306446010723456,
          0.00010372579537535434,
          0.00013354594660965023,
          0.00006361883316205394,
          0.0001250463197139235,
          0.00007726390990106474,
          0.00009324483748195355,
          0.00003334909698311555,
          0.00012055581230884856,
          0.00022023521166887432,
          0.0001324421544785797,
          0.00016860453927780222,
          0.0001798661554152538,
          0.0001761216013331857,
          0.0002729254047072256,
          0.00022216687475914244,
          0.00021862175797065866,
          0.0002622940664856412,
          0.0001611844587456956,
          0.0003481303487902705,
          0.0004010255183128585,
          0.0002906820158190579,
          0.000202055484653463,
          0.0001817653772871071,
          0.000134989341930099,
          0.00010201913237612643,
          0.00016741236457073377,
          0.000036211634610140136,
          0.00011332812799161418,
          0.0000801805305514353,
          0.00013130324039231238,
          0.00007907922944167587,
          0.00008866068760500853,
          0.00014245703632694814,
          0.00014775331001741845,
          0.00011803126968490751,
          0.00028812339831560456,
          0.00019109667564904997,
          0.00011822218981940158,
          0.00003803948272593626,
          0.0000989341720824379,
          0.00009159535191755737,
          0.00021413493719164687,
          0.00013102589751171306,
          0.00013329629934307312,
          0.00024246493525878469,
          0.00036528844215142844,
          0.0006968180179425957,
          0.00036806085120849754,
          0.0004175079902506126,
          0.00021197116356934685,
          0.0002510833504482806,
          0.00032069344460931577,
          0.00027868857705100954,
          0.00035783164957317853,
          0.0006444353794301756,
          0.00026538724647626866,
          0.00026575377092381353,
          0.00021878758083600282,
          0.0004517831380715204,
          0.00030430100443313435,
          0.00040658606693495553,
          0.0005260327097963499,
          0.00039651715720819117,
          0.00027370188299349283,
          0.00032715308142028734,
          0.0002996486546507564,
          0.000222081566785008,
          0.0003268259297790381,
          0.0002831649546614905,
          0.0002729909033117002,
          0.0002062227766185088,
          0.0002563399194713119,
          0.0003118518181491032,
          0.00025574399152441407,
          0.00019948551475281996,
          0.0003003186035623785,
          0.0002347347478745522,
          0.0001253848360436403,
          0.00017438167761158418,
          0.000168627197976797,
          0.00032356051299581377,
          0.00015964502867405495,
          0.00006035574766203283,
          0.00011224107997087744,
          0.00021327225068797927,
          0.00016736560032425146,
          0.00020773639242247204,
          0.00015616687622672606,
          0.0004670628317249974,
          0.0001616456252169171,
          0.00018979144184627227,
          0.00025612051215294525,
          0.00021128249081428914,
          0.000007740727961837776,
          0.00026057059608468097,
          0.00035900509248032886,
          0.00045204812593457476,
          0.000390618286449218,
          0.0006916413645963516,
          0.00033592922224966225,
          0.0003497255771363865,
          0.0004703630031315873,
          0.00044859236655199946,
          0.000393942555916182,
          0.0003423162771651589,
          0.00022103597935017608,
          0.0003290455174274562,
          0.0005102793592481653,
          0.0006647282571930774,
          0.0008637387968865162,
          0.0011473464972542634,
          0.0008773320190849952,
          0.001199685951839401,
          0.001646931392545937,
          0.0034623108975022536,
          0.0034151006822216467,
          0.0015704464584457656,
          0.001771411338560687,
          0.002742967098286325,
          0.0027863714862601235,
          0.003210456777901285,
          0.0049005387641594235,
          0.004999958333749969,
          0.004843093990536033,
          0.003757990778217155,
          0.002707406199144389,
          0.0016079844036640753,
          0.0016205365942516185,
          0.0013388060677468065,
          0.0012287185229794522,
          0.0022924891026905956,
          0.0013388112540918993,
          0.0001312074981798644,
          0.00014416584987655991,
          0.00013445545713653976,
          0.00010239441886797166,
          0.0001333504814093238,
          0.00006807320273531107,
          0.00008849851187291316,
          0.00007577454881116018,
          0.00007021618599207712,
          0,
          0.0001660812016646669,
          0.00033035425223417315,
          0.00021001235707743208,
          0.00021622365985820953,
          0.00015501470242286039,
          0.0005717076924089731,
          0.0004233396222812071,
          0.0018482539949752294,
          0.0015050260572925553,
          0.0013851866653173252,
          0.002503200132145363,
          0.0017405694326491736,
          0.0006492233863431282,
          0.0001412862161702455,
          0.0001143315052070567,
          0.0001445509171743359,
          0.00014118576383158915,
          0.00011223874813725999,
          0.00015881514921681903
         ],
         "xaxis": "x2",
         "y": [
          777,
          978,
          950,
          800,
          320,
          575,
          446,
          764,
          997,
          1430,
          879,
          1776,
          2011,
          2080,
          2852,
          3148,
          3479,
          4340,
          4667,
          5649,
          4973,
          3976,
          2923,
          3285,
          2986,
          1891,
          1842,
          1139,
          1662,
          1526,
          1735,
          1576,
          1034,
          893,
          1569,
          935,
          1626,
          1456,
          1731,
          2024,
          1610,
          1365,
          1773,
          1384,
          1225,
          1020,
          814,
          450,
          1110,
          1726,
          3200,
          2462,
          3514,
          1532,
          1321,
          1740,
          2523,
          2256,
          3534,
          3096,
          3883,
          4760,
          5969,
          5154,
          6222,
          5645,
          6234,
          5833,
          5862,
          5438,
          5748,
          5828,
          5524,
          5106,
          4794,
          4513,
          3919,
          2649,
          2599,
          2180,
          1862,
          1774,
          2180,
          2130,
          4563,
          1285,
          2023,
          1799,
          1831,
          2148,
          2633,
          1748,
          3750,
          2162,
          2153,
          1984,
          1470,
          1983,
          2762,
          3297,
          4084,
          4312,
          5607,
          3226,
          3906,
          3937,
          4518,
          5887,
          4111,
          5102,
          5017,
          5311,
          5450,
          6017,
          6178,
          6386,
          6884,
          6405,
          7444,
          8317,
          7788,
          7981,
          9716,
          9377,
          9833,
          10473,
          9147,
          8207,
          8137,
          5901,
          4176,
          4764,
          4292,
          4175,
          5109,
          4292,
          2493,
          2413,
          1221,
          1007,
          2833,
          827,
          1088,
          1312,
          1279,
          1205,
          2523,
          3288,
          2383,
          2908,
          3091,
          3465,
          3649,
          4821,
          5249,
          6000,
          4370,
          4759,
          2613,
          3413,
          2783,
          2304,
          1410,
          1162,
          2743
         ],
         "yaxis": "y2"
        }
       ],
       "layout": {
        "annotations": [
         {
          "font": {
           "size": 16
          },
          "showarrow": false,
          "text": "Normalized Line Plot",
          "x": 0.225,
          "xanchor": "center",
          "xref": "paper",
          "y": 1,
          "yanchor": "bottom",
          "yref": "paper"
         },
         {
          "font": {
           "size": 16
          },
          "showarrow": false,
          "text": "Scatter Plot - Corr: 0.75",
          "x": 0.775,
          "xanchor": "center",
          "xref": "paper",
          "y": 1,
          "yanchor": "bottom",
          "yref": "paper"
         }
        ],
        "template": {
         "data": {
          "bar": [
           {
            "error_x": {
             "color": "#2a3f5f"
            },
            "error_y": {
             "color": "#2a3f5f"
            },
            "marker": {
             "line": {
              "color": "white",
              "width": 0.5
             },
             "pattern": {
              "fillmode": "overlay",
              "size": 10,
              "solidity": 0.2
             }
            },
            "type": "bar"
           }
          ],
          "barpolar": [
           {
            "marker": {
             "line": {
              "color": "white",
              "width": 0.5
             },
             "pattern": {
              "fillmode": "overlay",
              "size": 10,
              "solidity": 0.2
             }
            },
            "type": "barpolar"
           }
          ],
          "carpet": [
           {
            "aaxis": {
             "endlinecolor": "#2a3f5f",
             "gridcolor": "#C8D4E3",
             "linecolor": "#C8D4E3",
             "minorgridcolor": "#C8D4E3",
             "startlinecolor": "#2a3f5f"
            },
            "baxis": {
             "endlinecolor": "#2a3f5f",
             "gridcolor": "#C8D4E3",
             "linecolor": "#C8D4E3",
             "minorgridcolor": "#C8D4E3",
             "startlinecolor": "#2a3f5f"
            },
            "type": "carpet"
           }
          ],
          "choropleth": [
           {
            "colorbar": {
             "outlinewidth": 0,
             "ticks": ""
            },
            "type": "choropleth"
           }
          ],
          "contour": [
           {
            "colorbar": {
             "outlinewidth": 0,
             "ticks": ""
            },
            "colorscale": [
             [
              0,
              "#0d0887"
             ],
             [
              0.1111111111111111,
              "#46039f"
             ],
             [
              0.2222222222222222,
              "#7201a8"
             ],
             [
              0.3333333333333333,
              "#9c179e"
             ],
             [
              0.4444444444444444,
              "#bd3786"
             ],
             [
              0.5555555555555556,
              "#d8576b"
             ],
             [
              0.6666666666666666,
              "#ed7953"
             ],
             [
              0.7777777777777778,
              "#fb9f3a"
             ],
             [
              0.8888888888888888,
              "#fdca26"
             ],
             [
              1,
              "#f0f921"
             ]
            ],
            "type": "contour"
           }
          ],
          "contourcarpet": [
           {
            "colorbar": {
             "outlinewidth": 0,
             "ticks": ""
            },
            "type": "contourcarpet"
           }
          ],
          "heatmap": [
           {
            "colorbar": {
             "outlinewidth": 0,
             "ticks": ""
            },
            "colorscale": [
             [
              0,
              "#0d0887"
             ],
             [
              0.1111111111111111,
              "#46039f"
             ],
             [
              0.2222222222222222,
              "#7201a8"
             ],
             [
              0.3333333333333333,
              "#9c179e"
             ],
             [
              0.4444444444444444,
              "#bd3786"
             ],
             [
              0.5555555555555556,
              "#d8576b"
             ],
             [
              0.6666666666666666,
              "#ed7953"
             ],
             [
              0.7777777777777778,
              "#fb9f3a"
             ],
             [
              0.8888888888888888,
              "#fdca26"
             ],
             [
              1,
              "#f0f921"
             ]
            ],
            "type": "heatmap"
           }
          ],
          "histogram": [
           {
            "marker": {
             "pattern": {
              "fillmode": "overlay",
              "size": 10,
              "solidity": 0.2
             }
            },
            "type": "histogram"
           }
          ],
          "histogram2d": [
           {
            "colorbar": {
             "outlinewidth": 0,
             "ticks": ""
            },
            "colorscale": [
             [
              0,
              "#0d0887"
             ],
             [
              0.1111111111111111,
              "#46039f"
             ],
             [
              0.2222222222222222,
              "#7201a8"
             ],
             [
              0.3333333333333333,
              "#9c179e"
             ],
             [
              0.4444444444444444,
              "#bd3786"
             ],
             [
              0.5555555555555556,
              "#d8576b"
             ],
             [
              0.6666666666666666,
              "#ed7953"
             ],
             [
              0.7777777777777778,
              "#fb9f3a"
             ],
             [
              0.8888888888888888,
              "#fdca26"
             ],
             [
              1,
              "#f0f921"
             ]
            ],
            "type": "histogram2d"
           }
          ],
          "histogram2dcontour": [
           {
            "colorbar": {
             "outlinewidth": 0,
             "ticks": ""
            },
            "colorscale": [
             [
              0,
              "#0d0887"
             ],
             [
              0.1111111111111111,
              "#46039f"
             ],
             [
              0.2222222222222222,
              "#7201a8"
             ],
             [
              0.3333333333333333,
              "#9c179e"
             ],
             [
              0.4444444444444444,
              "#bd3786"
             ],
             [
              0.5555555555555556,
              "#d8576b"
             ],
             [
              0.6666666666666666,
              "#ed7953"
             ],
             [
              0.7777777777777778,
              "#fb9f3a"
             ],
             [
              0.8888888888888888,
              "#fdca26"
             ],
             [
              1,
              "#f0f921"
             ]
            ],
            "type": "histogram2dcontour"
           }
          ],
          "mesh3d": [
           {
            "colorbar": {
             "outlinewidth": 0,
             "ticks": ""
            },
            "type": "mesh3d"
           }
          ],
          "parcoords": [
           {
            "line": {
             "colorbar": {
              "outlinewidth": 0,
              "ticks": ""
             }
            },
            "type": "parcoords"
           }
          ],
          "pie": [
           {
            "automargin": true,
            "type": "pie"
           }
          ],
          "scatter": [
           {
            "fillpattern": {
             "fillmode": "overlay",
             "size": 10,
             "solidity": 0.2
            },
            "type": "scatter"
           }
          ],
          "scatter3d": [
           {
            "line": {
             "colorbar": {
              "outlinewidth": 0,
              "ticks": ""
             }
            },
            "marker": {
             "colorbar": {
              "outlinewidth": 0,
              "ticks": ""
             }
            },
            "type": "scatter3d"
           }
          ],
          "scattercarpet": [
           {
            "marker": {
             "colorbar": {
              "outlinewidth": 0,
              "ticks": ""
             }
            },
            "type": "scattercarpet"
           }
          ],
          "scattergeo": [
           {
            "marker": {
             "colorbar": {
              "outlinewidth": 0,
              "ticks": ""
             }
            },
            "type": "scattergeo"
           }
          ],
          "scattergl": [
           {
            "marker": {
             "colorbar": {
              "outlinewidth": 0,
              "ticks": ""
             }
            },
            "type": "scattergl"
           }
          ],
          "scattermap": [
           {
            "marker": {
             "colorbar": {
              "outlinewidth": 0,
              "ticks": ""
             }
            },
            "type": "scattermap"
           }
          ],
          "scattermapbox": [
           {
            "marker": {
             "colorbar": {
              "outlinewidth": 0,
              "ticks": ""
             }
            },
            "type": "scattermapbox"
           }
          ],
          "scatterpolar": [
           {
            "marker": {
             "colorbar": {
              "outlinewidth": 0,
              "ticks": ""
             }
            },
            "type": "scatterpolar"
           }
          ],
          "scatterpolargl": [
           {
            "marker": {
             "colorbar": {
              "outlinewidth": 0,
              "ticks": ""
             }
            },
            "type": "scatterpolargl"
           }
          ],
          "scatterternary": [
           {
            "marker": {
             "colorbar": {
              "outlinewidth": 0,
              "ticks": ""
             }
            },
            "type": "scatterternary"
           }
          ],
          "surface": [
           {
            "colorbar": {
             "outlinewidth": 0,
             "ticks": ""
            },
            "colorscale": [
             [
              0,
              "#0d0887"
             ],
             [
              0.1111111111111111,
              "#46039f"
             ],
             [
              0.2222222222222222,
              "#7201a8"
             ],
             [
              0.3333333333333333,
              "#9c179e"
             ],
             [
              0.4444444444444444,
              "#bd3786"
             ],
             [
              0.5555555555555556,
              "#d8576b"
             ],
             [
              0.6666666666666666,
              "#ed7953"
             ],
             [
              0.7777777777777778,
              "#fb9f3a"
             ],
             [
              0.8888888888888888,
              "#fdca26"
             ],
             [
              1,
              "#f0f921"
             ]
            ],
            "type": "surface"
           }
          ],
          "table": [
           {
            "cells": {
             "fill": {
              "color": "#EBF0F8"
             },
             "line": {
              "color": "white"
             }
            },
            "header": {
             "fill": {
              "color": "#C8D4E3"
             },
             "line": {
              "color": "white"
             }
            },
            "type": "table"
           }
          ]
         },
         "layout": {
          "annotationdefaults": {
           "arrowcolor": "#2a3f5f",
           "arrowhead": 0,
           "arrowwidth": 1
          },
          "autotypenumbers": "strict",
          "coloraxis": {
           "colorbar": {
            "outlinewidth": 0,
            "ticks": ""
           }
          },
          "colorscale": {
           "diverging": [
            [
             0,
             "#8e0152"
            ],
            [
             0.1,
             "#c51b7d"
            ],
            [
             0.2,
             "#de77ae"
            ],
            [
             0.3,
             "#f1b6da"
            ],
            [
             0.4,
             "#fde0ef"
            ],
            [
             0.5,
             "#f7f7f7"
            ],
            [
             0.6,
             "#e6f5d0"
            ],
            [
             0.7,
             "#b8e186"
            ],
            [
             0.8,
             "#7fbc41"
            ],
            [
             0.9,
             "#4d9221"
            ],
            [
             1,
             "#276419"
            ]
           ],
           "sequential": [
            [
             0,
             "#0d0887"
            ],
            [
             0.1111111111111111,
             "#46039f"
            ],
            [
             0.2222222222222222,
             "#7201a8"
            ],
            [
             0.3333333333333333,
             "#9c179e"
            ],
            [
             0.4444444444444444,
             "#bd3786"
            ],
            [
             0.5555555555555556,
             "#d8576b"
            ],
            [
             0.6666666666666666,
             "#ed7953"
            ],
            [
             0.7777777777777778,
             "#fb9f3a"
            ],
            [
             0.8888888888888888,
             "#fdca26"
            ],
            [
             1,
             "#f0f921"
            ]
           ],
           "sequentialminus": [
            [
             0,
             "#0d0887"
            ],
            [
             0.1111111111111111,
             "#46039f"
            ],
            [
             0.2222222222222222,
             "#7201a8"
            ],
            [
             0.3333333333333333,
             "#9c179e"
            ],
            [
             0.4444444444444444,
             "#bd3786"
            ],
            [
             0.5555555555555556,
             "#d8576b"
            ],
            [
             0.6666666666666666,
             "#ed7953"
            ],
            [
             0.7777777777777778,
             "#fb9f3a"
            ],
            [
             0.8888888888888888,
             "#fdca26"
            ],
            [
             1,
             "#f0f921"
            ]
           ]
          },
          "colorway": [
           "#636efa",
           "#EF553B",
           "#00cc96",
           "#ab63fa",
           "#FFA15A",
           "#19d3f3",
           "#FF6692",
           "#B6E880",
           "#FF97FF",
           "#FECB52"
          ],
          "font": {
           "color": "#2a3f5f"
          },
          "geo": {
           "bgcolor": "white",
           "lakecolor": "white",
           "landcolor": "white",
           "showlakes": true,
           "showland": true,
           "subunitcolor": "#C8D4E3"
          },
          "hoverlabel": {
           "align": "left"
          },
          "hovermode": "closest",
          "mapbox": {
           "style": "light"
          },
          "paper_bgcolor": "white",
          "plot_bgcolor": "white",
          "polar": {
           "angularaxis": {
            "gridcolor": "#EBF0F8",
            "linecolor": "#EBF0F8",
            "ticks": ""
           },
           "bgcolor": "white",
           "radialaxis": {
            "gridcolor": "#EBF0F8",
            "linecolor": "#EBF0F8",
            "ticks": ""
           }
          },
          "scene": {
           "xaxis": {
            "backgroundcolor": "white",
            "gridcolor": "#DFE8F3",
            "gridwidth": 2,
            "linecolor": "#EBF0F8",
            "showbackground": true,
            "ticks": "",
            "zerolinecolor": "#EBF0F8"
           },
           "yaxis": {
            "backgroundcolor": "white",
            "gridcolor": "#DFE8F3",
            "gridwidth": 2,
            "linecolor": "#EBF0F8",
            "showbackground": true,
            "ticks": "",
            "zerolinecolor": "#EBF0F8"
           },
           "zaxis": {
            "backgroundcolor": "white",
            "gridcolor": "#DFE8F3",
            "gridwidth": 2,
            "linecolor": "#EBF0F8",
            "showbackground": true,
            "ticks": "",
            "zerolinecolor": "#EBF0F8"
           }
          },
          "shapedefaults": {
           "line": {
            "color": "#2a3f5f"
           }
          },
          "ternary": {
           "aaxis": {
            "gridcolor": "#DFE8F3",
            "linecolor": "#A2B1C6",
            "ticks": ""
           },
           "baxis": {
            "gridcolor": "#DFE8F3",
            "linecolor": "#A2B1C6",
            "ticks": ""
           },
           "bgcolor": "white",
           "caxis": {
            "gridcolor": "#DFE8F3",
            "linecolor": "#A2B1C6",
            "ticks": ""
           }
          },
          "title": {
           "x": 0.05
          },
          "xaxis": {
           "automargin": true,
           "gridcolor": "#EBF0F8",
           "linecolor": "#EBF0F8",
           "ticks": "",
           "title": {
            "standoff": 15
           },
           "zerolinecolor": "#EBF0F8",
           "zerolinewidth": 2
          },
          "yaxis": {
           "automargin": true,
           "gridcolor": "#EBF0F8",
           "linecolor": "#EBF0F8",
           "ticks": "",
           "title": {
            "standoff": 15
           },
           "zerolinecolor": "#EBF0F8",
           "zerolinewidth": 2
          }
         }
        },
        "title": {
         "text": "new_customers vs Logistic promo_investment Relationship - Beta: 0.01 "
        },
        "xaxis": {
         "anchor": "y",
         "domain": [
          0,
          0.45
         ]
        },
        "xaxis2": {
         "anchor": "y2",
         "domain": [
          0.55,
          1
         ]
        },
        "yaxis": {
         "anchor": "x",
         "domain": [
          0,
          1
         ]
        },
        "yaxis2": {
         "anchor": "x2",
         "domain": [
          0,
          1
         ]
        }
       }
      }
     },
     "metadata": {},
     "output_type": "display_data"
    },
    {
     "data": {
      "application/vnd.jupyter.widget-view+json": {
       "model_id": "e91cece8698e4c519401fd3bad9aecb6",
       "version_major": 2,
       "version_minor": 0
      },
      "text/plain": [
       "interactive(children=(FloatSlider(value=0.01, description='beta', max=10.0, min=0.01, step=0.01), Output()), _…"
      ]
     },
     "metadata": {},
     "output_type": "display_data"
    }
   ],
   "source": [
    "interactive_logistic_plot = interactive(plot_logistic_transformation_beta_change,\n",
    "                                        beta=logistic_param_widget\n",
    "                                        )\n",
    "\n",
    "display(interactive_logistic_plot)"
   ]
  },
  {
   "cell_type": "code",
   "execution_count": 38,
   "metadata": {},
   "outputs": [],
   "source": [
    "root_param_widget = widgets.FloatSlider(min=0.001, max=1, step=0.001)\n",
    "\n",
    "def plot_root_transformation_beta_change(beta: float):\n",
    "\n",
    "  root_df = df.select(date_col, target, saturation_col).sort(date_col)\n",
    "  root_col = root_transformation(\n",
    "      root_df[saturation_col].to_numpy(),\n",
    "      beta)\n",
    "  root_df = root_df.with_columns(\n",
    "      pl.Series(name=saturated_col_name, values=root_col)\n",
    "  )\n",
    "\n",
    "  beta_param = np.round(beta, 3)\n",
    "  plot_title = f\"{target} vs Root {saturation_col} Relationship - Beta: {beta_param} \"\n",
    "  plot_target_channel_relationship(root_df,\n",
    "                                   col_to_scale=saturated_col_name,\n",
    "                                   col_to_corr=saturated_col_name,\n",
    "                                   plot_title=plot_title)"
   ]
  },
  {
   "cell_type": "code",
   "execution_count": 39,
   "metadata": {},
   "outputs": [
    {
     "data": {
      "application/vnd.plotly.v1+json": {
       "config": {
        "plotlyServerURL": "https://plot.ly"
       },
       "data": [
        {
         "mode": "lines",
         "name": "new_customers",
         "type": "scatter",
         "x": [
          "2020-05-18",
          "2020-05-25",
          "2020-06-01",
          "2020-06-08",
          "2020-06-15",
          "2020-06-22",
          "2020-06-29",
          "2020-07-06",
          "2020-07-13",
          "2020-07-20",
          "2020-07-27",
          "2020-08-03",
          "2020-08-10",
          "2020-08-17",
          "2020-08-24",
          "2020-08-31",
          "2020-09-07",
          "2020-09-14",
          "2020-09-21",
          "2020-09-28",
          "2020-10-05",
          "2020-10-12",
          "2020-10-19",
          "2020-10-26",
          "2020-11-02",
          "2020-11-09",
          "2020-11-16",
          "2020-11-23",
          "2020-11-30",
          "2020-12-07",
          "2020-12-14",
          "2020-12-21",
          "2020-12-28",
          "2021-01-04",
          "2021-01-11",
          "2021-01-18",
          "2021-01-25",
          "2021-02-01",
          "2021-02-08",
          "2021-02-15",
          "2021-02-22",
          "2021-03-01",
          "2021-03-08",
          "2021-03-15",
          "2021-03-22",
          "2021-03-29",
          "2021-04-05",
          "2021-04-12",
          "2021-04-19",
          "2021-04-26",
          "2021-05-03",
          "2021-05-10",
          "2021-05-17",
          "2021-05-24",
          "2021-05-31",
          "2021-06-07",
          "2021-06-14",
          "2021-06-21",
          "2021-06-28",
          "2021-07-05",
          "2021-07-12",
          "2021-07-19",
          "2021-07-26",
          "2021-08-02",
          "2021-08-09",
          "2021-08-16",
          "2021-08-23",
          "2021-08-30",
          "2021-09-06",
          "2021-09-13",
          "2021-09-20",
          "2021-09-27",
          "2021-10-04",
          "2021-10-11",
          "2021-10-18",
          "2021-10-25",
          "2021-11-01",
          "2021-11-08",
          "2021-11-15",
          "2021-11-22",
          "2021-11-29",
          "2021-12-06",
          "2021-12-13",
          "2021-12-20",
          "2021-12-27",
          "2022-01-03",
          "2022-01-10",
          "2022-01-17",
          "2022-01-24",
          "2022-01-31",
          "2022-02-07",
          "2022-02-14",
          "2022-02-21",
          "2022-02-28",
          "2022-03-07",
          "2022-03-14",
          "2022-03-21",
          "2022-03-28",
          "2022-04-04",
          "2022-04-11",
          "2022-04-18",
          "2022-04-25",
          "2022-05-02",
          "2022-05-09",
          "2022-05-16",
          "2022-05-23",
          "2022-05-30",
          "2022-06-06",
          "2022-06-13",
          "2022-06-20",
          "2022-06-27",
          "2022-07-04",
          "2022-07-11",
          "2022-07-18",
          "2022-07-25",
          "2022-08-01",
          "2022-08-08",
          "2022-08-15",
          "2022-08-22",
          "2022-08-29",
          "2022-09-05",
          "2022-09-12",
          "2022-09-19",
          "2022-09-26",
          "2022-10-03",
          "2022-10-10",
          "2022-10-17",
          "2022-10-24",
          "2022-10-31",
          "2022-11-07",
          "2022-11-14",
          "2022-11-21",
          "2022-11-28",
          "2022-12-05",
          "2022-12-12",
          "2022-12-19",
          "2022-12-26",
          "2023-01-02",
          "2023-01-09",
          "2023-01-16",
          "2023-01-23",
          "2023-01-30",
          "2023-02-06",
          "2023-02-13",
          "2023-02-20",
          "2023-02-27",
          "2023-03-06",
          "2023-03-13",
          "2023-03-20",
          "2023-03-27",
          "2023-04-03",
          "2023-04-10",
          "2023-04-17",
          "2023-04-24",
          "2023-05-01",
          "2023-05-08",
          "2023-05-15",
          "2023-05-22",
          "2023-05-29",
          "2023-06-05",
          "2023-06-12",
          "2023-06-19",
          "2023-06-26",
          "2023-07-03",
          "2023-07-10"
         ],
         "xaxis": "x",
         "y": [
          0.04501132670146755,
          0.0648084310056141,
          0.06205062543090712,
          0.04727666699497686,
          0,
          0.025115729341081455,
          0.012410125086181424,
          0.04373091697035359,
          0.06667979907416527,
          0.10932729242588397,
          0.05505761843790013,
          0.14340588988476313,
          0.16655175810105388,
          0.1733477789815818,
          0.24938441839850292,
          0.2785383630454053,
          0.3111395646606914,
          0.3959420860829312,
          0.42814931547325913,
          0.5248694967004827,
          0.4582881906825569,
          0.3600906136117404,
          0.2563774253915099,
          0.29203191175022164,
          0.26258248793460065,
          0.15473259135230966,
          0.14990643159657244,
          0.08066581306017927,
          0.13217768147345613,
          0.11878262582487935,
          0.1393676745789422,
          0.12370727863685611,
          0.07032404215502808,
          0.056436521225253625,
          0.12301782724317936,
          0.0605732295873141,
          0.12863193144883286,
          0.11188811188811189,
          0.13897370235398404,
          0.16783216783216784,
          0.1270560425490003,
          0.1029252437703142,
          0.14311041071604452,
          0.10479661183886536,
          0.08913621589677928,
          0.06894513936767459,
          0.04865556978233035,
          0.012804097311139566,
          0.07780951442923274,
          0.13848123707278637,
          0.28366000196986113,
          0.21097212646508423,
          0.31458682162907514,
          0.11937358416231657,
          0.09859154929577466,
          0.13986013986013987,
          0.21698020289569586,
          0.19068255687973998,
          0.3165566827538659,
          0.2734167241209495,
          0.3509307593814636,
          0.4373091697035359,
          0.5563872746971339,
          0.47611543386191274,
          0.5813060179257362,
          0.5244755244755245,
          0.5824879346006107,
          0.5429922190485571,
          0.5458485176795036,
          0.5040874618339407,
          0.5346203092681966,
          0.5424997537673594,
          0.5125578646705408,
          0.4713877671624151,
          0.4406579336156801,
          0.41298138481237073,
          0.3544765094060869,
          0.22939032798187728,
          0.22446567516990054,
          0.18319708460553533,
          0.15187629272136316,
          0.14320890377228407,
          0.18319708460553533,
          0.17827243179355856,
          0.4179060376243475,
          0.0950457992711514,
          0.1677336747759283,
          0.14567123017827244,
          0.14882300797793757,
          0.1800453068058702,
          0.22781443908204474,
          0.14064808431005615,
          0.33783118290160546,
          0.1814242095932237,
          0.18053777208706787,
          0.16389244558258642,
          0.11326701467546539,
          0.1637939525263469,
          0.24052004333694477,
          0.293213828425096,
          0.37072786368561017,
          0.3931842805082242,
          0.5207327883384222,
          0.28622082143208905,
          0.35319609967497295,
          0.35624938441839854,
          0.4134738500935684,
          0.548310844085492,
          0.37338717620407763,
          0.4709937949374569,
          0.46262188515709646,
          0.4915788436915198,
          0.5052693785088151,
          0.5611149413966315,
          0.5769723234511968,
          0.5974588791490201,
          0.6465084211563085,
          0.5993302472175712,
          0.7016645326504481,
          0.7876489707475623,
          0.7355461439968483,
          0.7545553038510785,
          0.925440756426672,
          0.8920516103614695,
          0.9369644440066975,
          1,
          0.8693982074263765,
          0.7768147345612134,
          0.769920220624446,
          0.5496897468728454,
          0.3797892248596474,
          0.4377031419284941,
          0.3912144193834335,
          0.3796907318034079,
          0.4716832463311337,
          0.3912144193834335,
          0.21402541120850982,
          0.206145966709347,
          0.08874224367182114,
          0.06766472963656063,
          0.24751305032995174,
          0.049935979513444306,
          0.07564266719196297,
          0.09770511178961884,
          0.09445484093371417,
          0.08716635477198859,
          0.21698020289569586,
          0.2923273909189402,
          0.20319117502216094,
          0.2549000295479169,
          0.2729242588397518,
          0.30976066187333795,
          0.3278833842214124,
          0.4433172461341476,
          0.4854722742046686,
          0.5594405594405595,
          0.39889687777011723,
          0.4372106766472964,
          0.22584457795725402,
          0.3046390229488821,
          0.242588397517975,
          0.19541022357923768,
          0.10735743130109328,
          0.08293115335368857,
          0.2386486752683936
         ],
         "yaxis": "y"
        },
        {
         "mode": "lines",
         "name": "promo_investment_transformed",
         "type": "scatter",
         "x": [
          "2020-05-18",
          "2020-05-25",
          "2020-06-01",
          "2020-06-08",
          "2020-06-15",
          "2020-06-22",
          "2020-06-29",
          "2020-07-06",
          "2020-07-13",
          "2020-07-20",
          "2020-07-27",
          "2020-08-03",
          "2020-08-10",
          "2020-08-17",
          "2020-08-24",
          "2020-08-31",
          "2020-09-07",
          "2020-09-14",
          "2020-09-21",
          "2020-09-28",
          "2020-10-05",
          "2020-10-12",
          "2020-10-19",
          "2020-10-26",
          "2020-11-02",
          "2020-11-09",
          "2020-11-16",
          "2020-11-23",
          "2020-11-30",
          "2020-12-07",
          "2020-12-14",
          "2020-12-21",
          "2020-12-28",
          "2021-01-04",
          "2021-01-11",
          "2021-01-18",
          "2021-01-25",
          "2021-02-01",
          "2021-02-08",
          "2021-02-15",
          "2021-02-22",
          "2021-03-01",
          "2021-03-08",
          "2021-03-15",
          "2021-03-22",
          "2021-03-29",
          "2021-04-05",
          "2021-04-12",
          "2021-04-19",
          "2021-04-26",
          "2021-05-03",
          "2021-05-10",
          "2021-05-17",
          "2021-05-24",
          "2021-05-31",
          "2021-06-07",
          "2021-06-14",
          "2021-06-21",
          "2021-06-28",
          "2021-07-05",
          "2021-07-12",
          "2021-07-19",
          "2021-07-26",
          "2021-08-02",
          "2021-08-09",
          "2021-08-16",
          "2021-08-23",
          "2021-08-30",
          "2021-09-06",
          "2021-09-13",
          "2021-09-20",
          "2021-09-27",
          "2021-10-04",
          "2021-10-11",
          "2021-10-18",
          "2021-10-25",
          "2021-11-01",
          "2021-11-08",
          "2021-11-15",
          "2021-11-22",
          "2021-11-29",
          "2021-12-06",
          "2021-12-13",
          "2021-12-20",
          "2021-12-27",
          "2022-01-03",
          "2022-01-10",
          "2022-01-17",
          "2022-01-24",
          "2022-01-31",
          "2022-02-07",
          "2022-02-14",
          "2022-02-21",
          "2022-02-28",
          "2022-03-07",
          "2022-03-14",
          "2022-03-21",
          "2022-03-28",
          "2022-04-04",
          "2022-04-11",
          "2022-04-18",
          "2022-04-25",
          "2022-05-02",
          "2022-05-09",
          "2022-05-16",
          "2022-05-23",
          "2022-05-30",
          "2022-06-06",
          "2022-06-13",
          "2022-06-20",
          "2022-06-27",
          "2022-07-04",
          "2022-07-11",
          "2022-07-18",
          "2022-07-25",
          "2022-08-01",
          "2022-08-08",
          "2022-08-15",
          "2022-08-22",
          "2022-08-29",
          "2022-09-05",
          "2022-09-12",
          "2022-09-19",
          "2022-09-26",
          "2022-10-03",
          "2022-10-10",
          "2022-10-17",
          "2022-10-24",
          "2022-10-31",
          "2022-11-07",
          "2022-11-14",
          "2022-11-21",
          "2022-11-28",
          "2022-12-05",
          "2022-12-12",
          "2022-12-19",
          "2022-12-26",
          "2023-01-02",
          "2023-01-09",
          "2023-01-16",
          "2023-01-23",
          "2023-01-30",
          "2023-02-06",
          "2023-02-13",
          "2023-02-20",
          "2023-02-27",
          "2023-03-06",
          "2023-03-13",
          "2023-03-20",
          "2023-03-27",
          "2023-04-03",
          "2023-04-10",
          "2023-04-17",
          "2023-04-24",
          "2023-05-01",
          "2023-05-08",
          "2023-05-15",
          "2023-05-22",
          "2023-05-29",
          "2023-06-05",
          "2023-06-12",
          "2023-06-19",
          "2023-06-26",
          "2023-07-03",
          "2023-07-10"
         ],
         "xaxis": "x",
         "y": [
          0.1538286634607142,
          0.2832393645206293,
          0.3499785103778178,
          0.30398619102262575,
          0.40764093997060485,
          0.44440569141621317,
          0.3385818330067513,
          0.43478052372579523,
          0.36565667683897857,
          0.3923376495425433,
          0.2533825534451641,
          0.42944449885667946,
          0.518694395686676,
          0.44318884096499256,
          0.47880827593211067,
          0.4884208061712495,
          0.485289960723992,
          0.5510095015346806,
          0.5200053844159979,
          0.5175908503626788,
          0.5450068701914543,
          0.4721342246776585,
          0.5879245628752524,
          0.6094806698069637,
          0.5605465958900141,
          0.5057834841583554,
          0.4899850223542931,
          0.4459827146860706,
          0.4052493288415518,
          0.4777550635223082,
          0.2637571386900705,
          0.420452280465198,
          0.3708797883577206,
          0.44192322225855013,
          0.3689281094296442,
          0.38514037169581244,
          0.4538960479886646,
          0.4592742005306594,
          0.426362301189178,
          0.5592078362102427,
          0.4974501101354242,
          0.426597539139154,
          0.270037099055166,
          0.4008307558988793,
          0.3897860613182164,
          0.5144802774540922,
          0.4416134609757986,
          0.4441313044946892,
          0.5331528187290602,
          0.59524872436564,
          0.6942210691839832,
          0.5964005210721152,
          0.6156309477044583,
          0.5129577067964793,
          0.5384161477870667,
          0.5754467407426123,
          0.55416934363156,
          0.5921078903589231,
          0.6821913851095326,
          0.5467773124971614,
          0.5469857730341133,
          0.5177046284596791,
          0.6276924536968703,
          0.5674852084623483,
          0.6115827749912721,
          0.6510028347244032,
          0.6077552738907809,
          0.5514389840974093,
          0.5784756546867224,
          0.5651495052848189,
          0.5199477195305533,
          0.578323660838629,
          0.5565801933376813,
          0.5510457756140659,
          0.5088389637172728,
          0.5415412006461587,
          0.5712031034698469,
          0.5411900529572982,
          0.5038688476793067,
          0.5654880172930795,
          0.5282757389073967,
          0.4351754628567287,
          0.48381350276409724,
          0.4788282246758021,
          0.5767983760086968,
          0.4707130083392976,
          0.3313439722326471,
          0.41905376168722835,
          0.5138750182896304,
          0.47771360468315777,
          0.5099340821619951,
          0.4674533709322375,
          0.6327826415689485,
          0.47255746543525873,
          0.4964271927886738,
          0.5414120079673913,
          0.5124699734710642,
          0.10403729546134698,
          0.5440116101148559,
          0.5926063655835456,
          0.6277821614241043,
          0.6054684809728617,
          0.6930727269366518,
          0.5824986638529895,
          0.5886202065547341,
          0.6338605511928256,
          0.6266081922631335,
          0.6067613114180881,
          0.5853625648299592,
          0.5192392033165891,
          0.5793519786596183,
          0.646340070027678,
          0.6869623742775868,
          0.7273353486673723,
          0.7712296077306527,
          0.7297462610546214,
          0.7781353755738896,
          0.8272510388521122,
          0.942754483042392,
          0.940617096906039,
          0.8198732093842689,
          0.83855945883911,
          0.9065111268107641,
          0.9089533760686336,
          0.9309982348629571,
          0.9968698286429227,
          1,
          0.9950322126771087,
          0.9555142602111854,
          0.9044813485269573,
          0.8235377507418803,
          0.8247441775447357,
          0.7951308339800535,
          0.7818381764729854,
          0.8786150256783701,
          0.7951314342805683,
          0.44181635844530487,
          0.4556516590102928,
          0.4454012631265736,
          0.40577839252093967,
          0.44419089701626857,
          0.34794816652892296,
          0.3848795528945015,
          0.36292033710376354,
          0.352261019687424,
          0,
          0.4765705852899524,
          0.5799551405996451,
          0.5115664113568152,
          0.5159360542952569,
          0.46635836163959465,
          0.663783388751347,
          0.6177501249194378,
          0.845152192363777,
          0.8132735730540118,
          0.8004089572048587,
          0.8922853250204706,
          0.8358330269449292,
          0.6833303046487409,
          0.452681633971509,
          0.4217320985415017,
          0.4560445538524747,
          0.45257699892330094,
          0.41905074817126703,
          0.4699414409675706
         ],
         "yaxis": "y"
        },
        {
         "mode": "markers",
         "showlegend": false,
         "type": "scatter",
         "x": [
          1.0071991560486653,
          1.0080386736161329,
          1.0084716261071247,
          1.0081732631452442,
          1.0088456958110172,
          1.009084197375798,
          1.008397693188244,
          1.009021756655674,
          1.0085733340498375,
          1.008746419777048,
          1.007844985480599,
          1.0089871406109314,
          1.0095661256227564,
          1.0090763033815424,
          1.009307375009725,
          1.0093697337477388,
          1.0093494232190694,
          1.0097757612930045,
          1.0095746303140996,
          1.0095589666654337,
          1.0097368208157302,
          1.0092640788740237,
          1.010015237953325,
          1.0101550774743782,
          1.0098376306607486,
          1.0094823695117758,
          1.0093798811849617,
          1.0090944278955967,
          1.008830180868737,
          1.0093005425738208,
          1.0079122878481541,
          1.0089288059813504,
          1.0086072175991956,
          1.009068093016178,
          1.008594556600277,
          1.0086997293477342,
          1.0091457635445835,
          1.00918065288142,
          1.0089671456718183,
          1.009828945812737,
          1.0094283089601273,
          1.0089686717155684,
          1.007953027423833,
          1.008801516549804,
          1.0087298670258324,
          1.009538787649477,
          1.0090660835220908,
          1.0090824173634882,
          1.0096599208038546,
          1.010062751506592,
          1.010704808318648,
          1.010070223481949,
          1.0101949757694764,
          1.0095289103765444,
          1.0096940652538218,
          1.0099342913948233,
          1.0097962599297403,
          1.010042376179795,
          1.0106267689368282,
          1.0097483060901755,
          1.0097496584225674,
          1.0095597047706324,
          1.010273221587541,
          1.0098826430677645,
          1.0101687143236993,
          1.0104244414960701,
          1.010143884426426,
          1.0097785474471122,
          1.0099539406699265,
          1.0098674908134775,
          1.009574256228464,
          1.009952954650188,
          1.0098118996771819,
          1.0097759966114646,
          1.0095021911242525,
          1.0097143382046132,
          1.0099067619246074,
          1.0097120602272036,
          1.0094699488159113,
          1.0098696868202637,
          1.0096282820432676,
          1.0090243187184385,
          1.0093398450900213,
          1.0093075044219038,
          1.009943059769783,
          1.0092548591103299,
          1.0083507394879627,
          1.0089197334620539,
          1.0095348611913304,
          1.0093002736206083,
          1.0095092954144331,
          1.0092337130780127,
          1.0103062428300296,
          1.0092668245360776,
          1.009421673055402,
          1.0097135001014075,
          1.009525746336078,
          1.0068761477672685,
          1.0097303643302027,
          1.0100456099054806,
          1.010273803542606,
          1.0101290494644637,
          1.0106973587531778,
          1.0099800388738733,
          1.0100197507570177,
          1.0103132354825535,
          1.0102661877293369,
          1.0101374363587594,
          1.0099986176711595,
          1.0095696599176212,
          1.0099596255890562,
          1.0103941930479603,
          1.0106577194624646,
          1.010919628415693,
          1.011204380768418,
          1.0109352685697617,
          1.0112491801039734,
          1.0115678049303762,
          1.012317102860969,
          1.0123032371358378,
          1.011519943220353,
          1.0116411653029083,
          1.01208198370922,
          1.0120978271529177,
          1.012240837321927,
          1.0126681617991335,
          1.0126884679548218,
          1.0126562407534014,
          1.012399878527915,
          1.0120688160614648,
          1.0115437159595564,
          1.0115515423331605,
          1.0113594336284677,
          1.011273201041795,
          1.0119010151589172,
          1.011359437522758,
          1.0090673997655595,
          1.0091571526050107,
          1.0090906558829669,
          1.0088336130289024,
          1.0090828039541515,
          1.008458454790416,
          1.0086980373550023,
          1.0085555827722426,
          1.0084864332803154,
          1.0062012334325476,
          1.009292858585741,
          1.009963538442016,
          1.0095198847167375,
          1.0095482316152578,
          1.0092266094959272,
          1.0105073519473675,
          1.0102087233690642,
          1.0116839339114256,
          1.011477129831717,
          1.0113936740516645,
          1.011989697596739,
          1.0116234782998017,
          1.010634157374981,
          1.009137885356047,
          1.0089371084613572,
          1.0091597014059945,
          1.0091372065639501,
          1.008919713912669,
          1.0092498537718397
         ],
         "xaxis": "x2",
         "y": [
          777,
          978,
          950,
          800,
          320,
          575,
          446,
          764,
          997,
          1430,
          879,
          1776,
          2011,
          2080,
          2852,
          3148,
          3479,
          4340,
          4667,
          5649,
          4973,
          3976,
          2923,
          3285,
          2986,
          1891,
          1842,
          1139,
          1662,
          1526,
          1735,
          1576,
          1034,
          893,
          1569,
          935,
          1626,
          1456,
          1731,
          2024,
          1610,
          1365,
          1773,
          1384,
          1225,
          1020,
          814,
          450,
          1110,
          1726,
          3200,
          2462,
          3514,
          1532,
          1321,
          1740,
          2523,
          2256,
          3534,
          3096,
          3883,
          4760,
          5969,
          5154,
          6222,
          5645,
          6234,
          5833,
          5862,
          5438,
          5748,
          5828,
          5524,
          5106,
          4794,
          4513,
          3919,
          2649,
          2599,
          2180,
          1862,
          1774,
          2180,
          2130,
          4563,
          1285,
          2023,
          1799,
          1831,
          2148,
          2633,
          1748,
          3750,
          2162,
          2153,
          1984,
          1470,
          1983,
          2762,
          3297,
          4084,
          4312,
          5607,
          3226,
          3906,
          3937,
          4518,
          5887,
          4111,
          5102,
          5017,
          5311,
          5450,
          6017,
          6178,
          6386,
          6884,
          6405,
          7444,
          8317,
          7788,
          7981,
          9716,
          9377,
          9833,
          10473,
          9147,
          8207,
          8137,
          5901,
          4176,
          4764,
          4292,
          4175,
          5109,
          4292,
          2493,
          2413,
          1221,
          1007,
          2833,
          827,
          1088,
          1312,
          1279,
          1205,
          2523,
          3288,
          2383,
          2908,
          3091,
          3465,
          3649,
          4821,
          5249,
          6000,
          4370,
          4759,
          2613,
          3413,
          2783,
          2304,
          1410,
          1162,
          2743
         ],
         "yaxis": "y2"
        }
       ],
       "layout": {
        "annotations": [
         {
          "font": {
           "size": 16
          },
          "showarrow": false,
          "text": "Normalized Line Plot",
          "x": 0.225,
          "xanchor": "center",
          "xref": "paper",
          "y": 1,
          "yanchor": "bottom",
          "yref": "paper"
         },
         {
          "font": {
           "size": 16
          },
          "showarrow": false,
          "text": "Scatter Plot - Corr: 0.81",
          "x": 0.775,
          "xanchor": "center",
          "xref": "paper",
          "y": 1,
          "yanchor": "bottom",
          "yref": "paper"
         }
        ],
        "template": {
         "data": {
          "bar": [
           {
            "error_x": {
             "color": "#2a3f5f"
            },
            "error_y": {
             "color": "#2a3f5f"
            },
            "marker": {
             "line": {
              "color": "white",
              "width": 0.5
             },
             "pattern": {
              "fillmode": "overlay",
              "size": 10,
              "solidity": 0.2
             }
            },
            "type": "bar"
           }
          ],
          "barpolar": [
           {
            "marker": {
             "line": {
              "color": "white",
              "width": 0.5
             },
             "pattern": {
              "fillmode": "overlay",
              "size": 10,
              "solidity": 0.2
             }
            },
            "type": "barpolar"
           }
          ],
          "carpet": [
           {
            "aaxis": {
             "endlinecolor": "#2a3f5f",
             "gridcolor": "#C8D4E3",
             "linecolor": "#C8D4E3",
             "minorgridcolor": "#C8D4E3",
             "startlinecolor": "#2a3f5f"
            },
            "baxis": {
             "endlinecolor": "#2a3f5f",
             "gridcolor": "#C8D4E3",
             "linecolor": "#C8D4E3",
             "minorgridcolor": "#C8D4E3",
             "startlinecolor": "#2a3f5f"
            },
            "type": "carpet"
           }
          ],
          "choropleth": [
           {
            "colorbar": {
             "outlinewidth": 0,
             "ticks": ""
            },
            "type": "choropleth"
           }
          ],
          "contour": [
           {
            "colorbar": {
             "outlinewidth": 0,
             "ticks": ""
            },
            "colorscale": [
             [
              0,
              "#0d0887"
             ],
             [
              0.1111111111111111,
              "#46039f"
             ],
             [
              0.2222222222222222,
              "#7201a8"
             ],
             [
              0.3333333333333333,
              "#9c179e"
             ],
             [
              0.4444444444444444,
              "#bd3786"
             ],
             [
              0.5555555555555556,
              "#d8576b"
             ],
             [
              0.6666666666666666,
              "#ed7953"
             ],
             [
              0.7777777777777778,
              "#fb9f3a"
             ],
             [
              0.8888888888888888,
              "#fdca26"
             ],
             [
              1,
              "#f0f921"
             ]
            ],
            "type": "contour"
           }
          ],
          "contourcarpet": [
           {
            "colorbar": {
             "outlinewidth": 0,
             "ticks": ""
            },
            "type": "contourcarpet"
           }
          ],
          "heatmap": [
           {
            "colorbar": {
             "outlinewidth": 0,
             "ticks": ""
            },
            "colorscale": [
             [
              0,
              "#0d0887"
             ],
             [
              0.1111111111111111,
              "#46039f"
             ],
             [
              0.2222222222222222,
              "#7201a8"
             ],
             [
              0.3333333333333333,
              "#9c179e"
             ],
             [
              0.4444444444444444,
              "#bd3786"
             ],
             [
              0.5555555555555556,
              "#d8576b"
             ],
             [
              0.6666666666666666,
              "#ed7953"
             ],
             [
              0.7777777777777778,
              "#fb9f3a"
             ],
             [
              0.8888888888888888,
              "#fdca26"
             ],
             [
              1,
              "#f0f921"
             ]
            ],
            "type": "heatmap"
           }
          ],
          "histogram": [
           {
            "marker": {
             "pattern": {
              "fillmode": "overlay",
              "size": 10,
              "solidity": 0.2
             }
            },
            "type": "histogram"
           }
          ],
          "histogram2d": [
           {
            "colorbar": {
             "outlinewidth": 0,
             "ticks": ""
            },
            "colorscale": [
             [
              0,
              "#0d0887"
             ],
             [
              0.1111111111111111,
              "#46039f"
             ],
             [
              0.2222222222222222,
              "#7201a8"
             ],
             [
              0.3333333333333333,
              "#9c179e"
             ],
             [
              0.4444444444444444,
              "#bd3786"
             ],
             [
              0.5555555555555556,
              "#d8576b"
             ],
             [
              0.6666666666666666,
              "#ed7953"
             ],
             [
              0.7777777777777778,
              "#fb9f3a"
             ],
             [
              0.8888888888888888,
              "#fdca26"
             ],
             [
              1,
              "#f0f921"
             ]
            ],
            "type": "histogram2d"
           }
          ],
          "histogram2dcontour": [
           {
            "colorbar": {
             "outlinewidth": 0,
             "ticks": ""
            },
            "colorscale": [
             [
              0,
              "#0d0887"
             ],
             [
              0.1111111111111111,
              "#46039f"
             ],
             [
              0.2222222222222222,
              "#7201a8"
             ],
             [
              0.3333333333333333,
              "#9c179e"
             ],
             [
              0.4444444444444444,
              "#bd3786"
             ],
             [
              0.5555555555555556,
              "#d8576b"
             ],
             [
              0.6666666666666666,
              "#ed7953"
             ],
             [
              0.7777777777777778,
              "#fb9f3a"
             ],
             [
              0.8888888888888888,
              "#fdca26"
             ],
             [
              1,
              "#f0f921"
             ]
            ],
            "type": "histogram2dcontour"
           }
          ],
          "mesh3d": [
           {
            "colorbar": {
             "outlinewidth": 0,
             "ticks": ""
            },
            "type": "mesh3d"
           }
          ],
          "parcoords": [
           {
            "line": {
             "colorbar": {
              "outlinewidth": 0,
              "ticks": ""
             }
            },
            "type": "parcoords"
           }
          ],
          "pie": [
           {
            "automargin": true,
            "type": "pie"
           }
          ],
          "scatter": [
           {
            "fillpattern": {
             "fillmode": "overlay",
             "size": 10,
             "solidity": 0.2
            },
            "type": "scatter"
           }
          ],
          "scatter3d": [
           {
            "line": {
             "colorbar": {
              "outlinewidth": 0,
              "ticks": ""
             }
            },
            "marker": {
             "colorbar": {
              "outlinewidth": 0,
              "ticks": ""
             }
            },
            "type": "scatter3d"
           }
          ],
          "scattercarpet": [
           {
            "marker": {
             "colorbar": {
              "outlinewidth": 0,
              "ticks": ""
             }
            },
            "type": "scattercarpet"
           }
          ],
          "scattergeo": [
           {
            "marker": {
             "colorbar": {
              "outlinewidth": 0,
              "ticks": ""
             }
            },
            "type": "scattergeo"
           }
          ],
          "scattergl": [
           {
            "marker": {
             "colorbar": {
              "outlinewidth": 0,
              "ticks": ""
             }
            },
            "type": "scattergl"
           }
          ],
          "scattermap": [
           {
            "marker": {
             "colorbar": {
              "outlinewidth": 0,
              "ticks": ""
             }
            },
            "type": "scattermap"
           }
          ],
          "scattermapbox": [
           {
            "marker": {
             "colorbar": {
              "outlinewidth": 0,
              "ticks": ""
             }
            },
            "type": "scattermapbox"
           }
          ],
          "scatterpolar": [
           {
            "marker": {
             "colorbar": {
              "outlinewidth": 0,
              "ticks": ""
             }
            },
            "type": "scatterpolar"
           }
          ],
          "scatterpolargl": [
           {
            "marker": {
             "colorbar": {
              "outlinewidth": 0,
              "ticks": ""
             }
            },
            "type": "scatterpolargl"
           }
          ],
          "scatterternary": [
           {
            "marker": {
             "colorbar": {
              "outlinewidth": 0,
              "ticks": ""
             }
            },
            "type": "scatterternary"
           }
          ],
          "surface": [
           {
            "colorbar": {
             "outlinewidth": 0,
             "ticks": ""
            },
            "colorscale": [
             [
              0,
              "#0d0887"
             ],
             [
              0.1111111111111111,
              "#46039f"
             ],
             [
              0.2222222222222222,
              "#7201a8"
             ],
             [
              0.3333333333333333,
              "#9c179e"
             ],
             [
              0.4444444444444444,
              "#bd3786"
             ],
             [
              0.5555555555555556,
              "#d8576b"
             ],
             [
              0.6666666666666666,
              "#ed7953"
             ],
             [
              0.7777777777777778,
              "#fb9f3a"
             ],
             [
              0.8888888888888888,
              "#fdca26"
             ],
             [
              1,
              "#f0f921"
             ]
            ],
            "type": "surface"
           }
          ],
          "table": [
           {
            "cells": {
             "fill": {
              "color": "#EBF0F8"
             },
             "line": {
              "color": "white"
             }
            },
            "header": {
             "fill": {
              "color": "#C8D4E3"
             },
             "line": {
              "color": "white"
             }
            },
            "type": "table"
           }
          ]
         },
         "layout": {
          "annotationdefaults": {
           "arrowcolor": "#2a3f5f",
           "arrowhead": 0,
           "arrowwidth": 1
          },
          "autotypenumbers": "strict",
          "coloraxis": {
           "colorbar": {
            "outlinewidth": 0,
            "ticks": ""
           }
          },
          "colorscale": {
           "diverging": [
            [
             0,
             "#8e0152"
            ],
            [
             0.1,
             "#c51b7d"
            ],
            [
             0.2,
             "#de77ae"
            ],
            [
             0.3,
             "#f1b6da"
            ],
            [
             0.4,
             "#fde0ef"
            ],
            [
             0.5,
             "#f7f7f7"
            ],
            [
             0.6,
             "#e6f5d0"
            ],
            [
             0.7,
             "#b8e186"
            ],
            [
             0.8,
             "#7fbc41"
            ],
            [
             0.9,
             "#4d9221"
            ],
            [
             1,
             "#276419"
            ]
           ],
           "sequential": [
            [
             0,
             "#0d0887"
            ],
            [
             0.1111111111111111,
             "#46039f"
            ],
            [
             0.2222222222222222,
             "#7201a8"
            ],
            [
             0.3333333333333333,
             "#9c179e"
            ],
            [
             0.4444444444444444,
             "#bd3786"
            ],
            [
             0.5555555555555556,
             "#d8576b"
            ],
            [
             0.6666666666666666,
             "#ed7953"
            ],
            [
             0.7777777777777778,
             "#fb9f3a"
            ],
            [
             0.8888888888888888,
             "#fdca26"
            ],
            [
             1,
             "#f0f921"
            ]
           ],
           "sequentialminus": [
            [
             0,
             "#0d0887"
            ],
            [
             0.1111111111111111,
             "#46039f"
            ],
            [
             0.2222222222222222,
             "#7201a8"
            ],
            [
             0.3333333333333333,
             "#9c179e"
            ],
            [
             0.4444444444444444,
             "#bd3786"
            ],
            [
             0.5555555555555556,
             "#d8576b"
            ],
            [
             0.6666666666666666,
             "#ed7953"
            ],
            [
             0.7777777777777778,
             "#fb9f3a"
            ],
            [
             0.8888888888888888,
             "#fdca26"
            ],
            [
             1,
             "#f0f921"
            ]
           ]
          },
          "colorway": [
           "#636efa",
           "#EF553B",
           "#00cc96",
           "#ab63fa",
           "#FFA15A",
           "#19d3f3",
           "#FF6692",
           "#B6E880",
           "#FF97FF",
           "#FECB52"
          ],
          "font": {
           "color": "#2a3f5f"
          },
          "geo": {
           "bgcolor": "white",
           "lakecolor": "white",
           "landcolor": "white",
           "showlakes": true,
           "showland": true,
           "subunitcolor": "#C8D4E3"
          },
          "hoverlabel": {
           "align": "left"
          },
          "hovermode": "closest",
          "mapbox": {
           "style": "light"
          },
          "paper_bgcolor": "white",
          "plot_bgcolor": "white",
          "polar": {
           "angularaxis": {
            "gridcolor": "#EBF0F8",
            "linecolor": "#EBF0F8",
            "ticks": ""
           },
           "bgcolor": "white",
           "radialaxis": {
            "gridcolor": "#EBF0F8",
            "linecolor": "#EBF0F8",
            "ticks": ""
           }
          },
          "scene": {
           "xaxis": {
            "backgroundcolor": "white",
            "gridcolor": "#DFE8F3",
            "gridwidth": 2,
            "linecolor": "#EBF0F8",
            "showbackground": true,
            "ticks": "",
            "zerolinecolor": "#EBF0F8"
           },
           "yaxis": {
            "backgroundcolor": "white",
            "gridcolor": "#DFE8F3",
            "gridwidth": 2,
            "linecolor": "#EBF0F8",
            "showbackground": true,
            "ticks": "",
            "zerolinecolor": "#EBF0F8"
           },
           "zaxis": {
            "backgroundcolor": "white",
            "gridcolor": "#DFE8F3",
            "gridwidth": 2,
            "linecolor": "#EBF0F8",
            "showbackground": true,
            "ticks": "",
            "zerolinecolor": "#EBF0F8"
           }
          },
          "shapedefaults": {
           "line": {
            "color": "#2a3f5f"
           }
          },
          "ternary": {
           "aaxis": {
            "gridcolor": "#DFE8F3",
            "linecolor": "#A2B1C6",
            "ticks": ""
           },
           "baxis": {
            "gridcolor": "#DFE8F3",
            "linecolor": "#A2B1C6",
            "ticks": ""
           },
           "bgcolor": "white",
           "caxis": {
            "gridcolor": "#DFE8F3",
            "linecolor": "#A2B1C6",
            "ticks": ""
           }
          },
          "title": {
           "x": 0.05
          },
          "xaxis": {
           "automargin": true,
           "gridcolor": "#EBF0F8",
           "linecolor": "#EBF0F8",
           "ticks": "",
           "title": {
            "standoff": 15
           },
           "zerolinecolor": "#EBF0F8",
           "zerolinewidth": 2
          },
          "yaxis": {
           "automargin": true,
           "gridcolor": "#EBF0F8",
           "linecolor": "#EBF0F8",
           "ticks": "",
           "title": {
            "standoff": 15
           },
           "zerolinecolor": "#EBF0F8",
           "zerolinewidth": 2
          }
         }
        },
        "title": {
         "text": "new_customers vs Root promo_investment Relationship - Beta: 0.001 "
        },
        "xaxis": {
         "anchor": "y",
         "domain": [
          0,
          0.45
         ]
        },
        "xaxis2": {
         "anchor": "y2",
         "domain": [
          0.55,
          1
         ]
        },
        "yaxis": {
         "anchor": "x",
         "domain": [
          0,
          1
         ]
        },
        "yaxis2": {
         "anchor": "x2",
         "domain": [
          0,
          1
         ]
        }
       }
      }
     },
     "metadata": {},
     "output_type": "display_data"
    },
    {
     "data": {
      "application/vnd.jupyter.widget-view+json": {
       "model_id": "bc4f9d09d11642dc90afdde6e47b29a3",
       "version_major": 2,
       "version_minor": 0
      },
      "text/plain": [
       "interactive(children=(FloatSlider(value=0.001, description='beta', max=1.0, min=0.001, step=0.001), Output()),…"
      ]
     },
     "metadata": {},
     "output_type": "display_data"
    }
   ],
   "source": [
    "interactive_root_plot = interactive(plot_root_transformation_beta_change,\n",
    "                                        beta=root_param_widget\n",
    "                                        )\n",
    "\n",
    "display(interactive_root_plot)"
   ]
  },
  {
   "cell_type": "markdown",
   "metadata": {},
   "source": [
    "### It's Model Time! 💃"
   ]
  },
  {
   "cell_type": "code",
   "execution_count": 40,
   "metadata": {},
   "outputs": [],
   "source": [
    "DAWN_OF_TIME = date(2018, 3, 16)\n",
    "\n",
    "\n",
    "def build_harmonics(df: pl.DataFrame, period: int, n_harms: int,\n",
    "                    date_col: str = 'week_start') -> pl.DataFrame:\n",
    "    if 'time' not in df.columns:\n",
    "        df = df.with_columns(\n",
    "            ((pl.col(date_col) - DAWN_OF_TIME).dt.total_days() // 7).alias('time')\n",
    "        )\n",
    "\n",
    "    # Add sine and cosine harmonics\n",
    "    for i in range(1, n_harms + 1):\n",
    "        df = df.with_columns([\n",
    "            (np.sin(2 * np.pi * i / period * pl.col('time'))).alias(f'sin_{period}_{i}'),\n",
    "            (np.cos(2 * np.pi * i / period * pl.col('time'))).alias(f'cos_{period}_{i}')\n",
    "        ])\n",
    "\n",
    "    return df"
   ]
  },
  {
   "cell_type": "code",
   "execution_count": 41,
   "metadata": {},
   "outputs": [
    {
     "data": {
      "text/html": [
       "<div><style>\n",
       ".dataframe > thead > tr,\n",
       ".dataframe > tbody > tr {\n",
       "  text-align: right;\n",
       "  white-space: pre-wrap;\n",
       "}\n",
       "</style>\n",
       "<small>shape: (5, 19)</small><table border=\"1\" class=\"dataframe\"><thead><tr><th>week_start</th><th>new_customers</th><th>promo_investment</th><th>ppc_brand_investment</th><th>ppc_generic_investment</th><th>facebook_investment</th><th>instagram_investment</th><th>year</th><th>week</th><th>promo_investment_lag0</th><th>ppc_brand_investment_lag0</th><th>ppc_generic_investment_lag3</th><th>facebook_investment_lag2</th><th>instagram_investment_lag6</th><th>time</th><th>sin_52_1</th><th>cos_52_1</th><th>sin_52_2</th><th>cos_52_2</th></tr><tr><td>date</td><td>i64</td><td>f64</td><td>f64</td><td>f64</td><td>f64</td><td>f64</td><td>i64</td><td>i64</td><td>f64</td><td>f64</td><td>f64</td><td>f64</td><td>f64</td><td>i64</td><td>f64</td><td>f64</td><td>f64</td><td>f64</td></tr></thead><tbody><tr><td>2020-06-29</td><td>446</td><td>4283.941316</td><td>163.599912</td><td>3409.906904</td><td>5034.139691</td><td>7252.096261</td><td>2020</td><td>27</td><td>4283.941316</td><td>163.599912</td><td>1181.626485</td><td>2351.488377</td><td>4593.059512</td><td>119</td><td>0.970942</td><td>-0.239316</td><td>-0.464723</td><td>-0.885456</td></tr><tr><td>2020-07-06</td><td>764</td><td>7952.993927</td><td>131.742894</td><td>6006.420011</td><td>7480.250899</td><td>7751.358813</td><td>2020</td><td>28</td><td>7952.993927</td><td>131.742894</td><td>1962.369223</td><td>5352.093706</td><td>792.564928</td><td>120</td><td>0.935016</td><td>-0.354605</td><td>-0.663123</td><td>-0.748511</td></tr><tr><td>2020-07-13</td><td>997</td><td>5098.959267</td><td>320.576875</td><td>7803.252636</td><td>13020.01212</td><td>11572.21548</td><td>2020</td><td>29</td><td>5098.959267</td><td>320.576875</td><td>971.45887</td><td>5034.139691</td><td>3281.127107</td><td>121</td><td>0.885456</td><td>-0.464723</td><td>-0.822984</td><td>-0.568065</td></tr><tr><td>2020-07-20</td><td>1430</td><td>6053.497166</td><td>512.642013</td><td>11362.36704</td><td>13247.68606</td><td>12050.97701</td><td>2020</td><td>30</td><td>6053.497166</td><td>512.642013</td><td>3409.906904</td><td>7480.250899</td><td>4510.560793</td><td>122</td><td>0.822984</td><td>-0.568065</td><td>-0.935016</td><td>-0.354605</td></tr><tr><td>2020-07-27</td><td>879</td><td>2475.935486</td><td>739.987066</td><td>13460.3604</td><td>13434.57924</td><td>10765.7933</td><td>2020</td><td>31</td><td>2475.935486</td><td>739.987066</td><td>6006.420011</td><td>13020.01212</td><td>3760.098884</td><td>123</td><td>0.748511</td><td>-0.663123</td><td>-0.992709</td><td>-0.120537</td></tr></tbody></table></div>"
      ],
      "text/plain": [
       "shape: (5, 19)\n",
       "┌───────────┬───────────┬───────────┬───────────┬───┬──────────┬───────────┬───────────┬───────────┐\n",
       "│ week_star ┆ new_custo ┆ promo_inv ┆ ppc_brand ┆ … ┆ sin_52_1 ┆ cos_52_1  ┆ sin_52_2  ┆ cos_52_2  │\n",
       "│ t         ┆ mers      ┆ estment   ┆ _investme ┆   ┆ ---      ┆ ---       ┆ ---       ┆ ---       │\n",
       "│ ---       ┆ ---       ┆ ---       ┆ nt        ┆   ┆ f64      ┆ f64       ┆ f64       ┆ f64       │\n",
       "│ date      ┆ i64       ┆ f64       ┆ ---       ┆   ┆          ┆           ┆           ┆           │\n",
       "│           ┆           ┆           ┆ f64       ┆   ┆          ┆           ┆           ┆           │\n",
       "╞═══════════╪═══════════╪═══════════╪═══════════╪═══╪══════════╪═══════════╪═══════════╪═══════════╡\n",
       "│ 2020-06-2 ┆ 446       ┆ 4283.9413 ┆ 163.59991 ┆ … ┆ 0.970942 ┆ -0.239316 ┆ -0.464723 ┆ -0.885456 │\n",
       "│ 9         ┆           ┆ 16        ┆ 2         ┆   ┆          ┆           ┆           ┆           │\n",
       "│ 2020-07-0 ┆ 764       ┆ 7952.9939 ┆ 131.74289 ┆ … ┆ 0.935016 ┆ -0.354605 ┆ -0.663123 ┆ -0.748511 │\n",
       "│ 6         ┆           ┆ 27        ┆ 4         ┆   ┆          ┆           ┆           ┆           │\n",
       "│ 2020-07-1 ┆ 997       ┆ 5098.9592 ┆ 320.57687 ┆ … ┆ 0.885456 ┆ -0.464723 ┆ -0.822984 ┆ -0.568065 │\n",
       "│ 3         ┆           ┆ 67        ┆ 5         ┆   ┆          ┆           ┆           ┆           │\n",
       "│ 2020-07-2 ┆ 1430      ┆ 6053.4971 ┆ 512.64201 ┆ … ┆ 0.822984 ┆ -0.568065 ┆ -0.935016 ┆ -0.354605 │\n",
       "│ 0         ┆           ┆ 66        ┆ 3         ┆   ┆          ┆           ┆           ┆           │\n",
       "│ 2020-07-2 ┆ 879       ┆ 2475.9354 ┆ 739.98706 ┆ … ┆ 0.748511 ┆ -0.663123 ┆ -0.992709 ┆ -0.120537 │\n",
       "│ 7         ┆           ┆ 86        ┆ 6         ┆   ┆          ┆           ┆           ┆           │\n",
       "└───────────┴───────────┴───────────┴───────────┴───┴──────────┴───────────┴───────────┴───────────┘"
      ]
     },
     "execution_count": 41,
     "metadata": {},
     "output_type": "execute_result"
    }
   ],
   "source": [
    "regression_df = lagged_df.clone()\n",
    "regression_df = regression_df.sort(date_col).drop_nulls()\n",
    "regression_df = build_harmonics(regression_df, period=52, n_harms=2)\n",
    "regression_df = regression_df.drop_nulls().sort(date_col)\n",
    "regression_df.head()"
   ]
  },
  {
   "cell_type": "code",
   "execution_count": 42,
   "metadata": {},
   "outputs": [
    {
     "data": {
      "application/vnd.plotly.v1+json": {
       "config": {
        "plotlyServerURL": "https://plot.ly"
       },
       "data": [
        {
         "hovertemplate": "variable=sin_52_1<br>week_start=%{x}<br>value=%{y}<extra></extra>",
         "legendgroup": "sin_52_1",
         "line": {
          "color": "#636efa",
          "dash": "solid"
         },
         "marker": {
          "symbol": "circle"
         },
         "mode": "lines",
         "name": "sin_52_1",
         "orientation": "v",
         "showlegend": true,
         "type": "scatter",
         "x": [
          "2020-06-29",
          "2020-07-06",
          "2020-07-13",
          "2020-07-20",
          "2020-07-27",
          "2020-08-03",
          "2020-08-10",
          "2020-08-17",
          "2020-08-24",
          "2020-08-31",
          "2020-09-07",
          "2020-09-14",
          "2020-09-21",
          "2020-09-28",
          "2020-10-05",
          "2020-10-12",
          "2020-10-19",
          "2020-10-26",
          "2020-11-02",
          "2020-11-09",
          "2020-11-16",
          "2020-11-23",
          "2020-11-30",
          "2020-12-07",
          "2020-12-14",
          "2020-12-21",
          "2020-12-28",
          "2021-01-04",
          "2021-01-11",
          "2021-01-18",
          "2021-01-25",
          "2021-02-01",
          "2021-02-08",
          "2021-02-15",
          "2021-02-22",
          "2021-03-01",
          "2021-03-08",
          "2021-03-15",
          "2021-03-22",
          "2021-03-29",
          "2021-04-05",
          "2021-04-12",
          "2021-04-19",
          "2021-04-26",
          "2021-05-03",
          "2021-05-10",
          "2021-05-17",
          "2021-05-24",
          "2021-05-31",
          "2021-06-07",
          "2021-06-14",
          "2021-06-21",
          "2021-06-28",
          "2021-07-05",
          "2021-07-12",
          "2021-07-19",
          "2021-07-26",
          "2021-08-02",
          "2021-08-09",
          "2021-08-16",
          "2021-08-23",
          "2021-08-30",
          "2021-09-06",
          "2021-09-13",
          "2021-09-20",
          "2021-09-27",
          "2021-10-04",
          "2021-10-11",
          "2021-10-18",
          "2021-10-25",
          "2021-11-01",
          "2021-11-08",
          "2021-11-15",
          "2021-11-22",
          "2021-11-29",
          "2021-12-06",
          "2021-12-13",
          "2021-12-20",
          "2021-12-27",
          "2022-01-03",
          "2022-01-10",
          "2022-01-17",
          "2022-01-24",
          "2022-01-31",
          "2022-02-07",
          "2022-02-14",
          "2022-02-21",
          "2022-02-28",
          "2022-03-07",
          "2022-03-14",
          "2022-03-21",
          "2022-03-28",
          "2022-04-04",
          "2022-04-11",
          "2022-04-18",
          "2022-04-25",
          "2022-05-02",
          "2022-05-09",
          "2022-05-16",
          "2022-05-23",
          "2022-05-30",
          "2022-06-06",
          "2022-06-13",
          "2022-06-20",
          "2022-06-27",
          "2022-07-04",
          "2022-07-11",
          "2022-07-18",
          "2022-07-25",
          "2022-08-01",
          "2022-08-08",
          "2022-08-15",
          "2022-08-22",
          "2022-08-29",
          "2022-09-05",
          "2022-09-12",
          "2022-09-19",
          "2022-09-26",
          "2022-10-03",
          "2022-10-10",
          "2022-10-17",
          "2022-10-24",
          "2022-10-31",
          "2022-11-07",
          "2022-11-14",
          "2022-11-21",
          "2022-11-28",
          "2022-12-05",
          "2022-12-12",
          "2022-12-19",
          "2022-12-26",
          "2023-01-02",
          "2023-01-09",
          "2023-01-16",
          "2023-01-23",
          "2023-01-30",
          "2023-02-06",
          "2023-02-13",
          "2023-02-20",
          "2023-02-27",
          "2023-03-06",
          "2023-03-13",
          "2023-03-20",
          "2023-03-27",
          "2023-04-03",
          "2023-04-10",
          "2023-04-17",
          "2023-04-24",
          "2023-05-01",
          "2023-05-08",
          "2023-05-15",
          "2023-05-22",
          "2023-05-29",
          "2023-06-05",
          "2023-06-12",
          "2023-06-19",
          "2023-06-26",
          "2023-07-03",
          "2023-07-10"
         ],
         "xaxis": "x",
         "y": {
          "bdata": "BD0Fk/QR7z9IAfIup+vtP+1AB+CnVew/2sOkQuJV6j8ZLgPQzPPnP4ovTAJNOOU/IxGnHpYt4j+bxGdCBr7dP61dNrLYsdY/7I3ES+Whzj9cP6rrfdu+Pwlz2b+vD8Y8hT6q633bvr+DjcRL5aHOv5ldNrLYsda/T8RnQga+3b8NEaceli3iv4IvTAJNOOW//C0D0Mzz57/Lw6RC4lXqv+hAB+CnVey/PwHyLqfr7b/9PAWT9BHvv2lnlmZFxO+/AAAAAAAA8L9rZ5ZmRcTvvwA9BZP0Ee+/TgHyLqfr7b/uQAfgp1Xsv9LDpELiVeq/GS4D0Mzz57+LL0wCTTjlvxcRpx6WLeK/ncRnQga+3b+wXTay2LHWvy6OxEvloc6/ZT+q633bvr8Kip5MOXnKvP09qut9274/f43ES+Whzj+XXTay2LHWP03EZ0IGvt0/DBGnHpYt4j+BL0wCTTjlP/stA9DM8+c/ysOkQuJV6j/nQAfgp1XsPz4B8i6n6+0//TwFk/QR7z9pZ5ZmRcTvPwAAAAAAAPA/a2eWZkXE7z8APQWT9BHvP08B8i6n6+0/7kAH4KdV7D/Sw6RC4lXqPxouA9DM8+c/iy9MAk045T8yEaceli3iP5/EZ0IGvt0/sl02stix1j8zjsRL5aHOP20/qut9274/DKFj2cLizjz1Parrfdu+v3qNxEvloc6/lV02stix1r9LxGdCBr7dvwsRpx6WLeK/gC9MAk045b/6LQPQzPPnv8rDpELiVeq/50AH4KdV7L8+AfIup+vtv/08BZP0Ee+/aWeWZkXE778AAAAAAADwv2tnlmZFxO+/AT0Fk/QR779PAfIup+vtv+5AB+CnVey/5cOkQuJV6r8bLgPQzPPnv4wvTAJNOOW/MxGnHpYt4r+hxGdCBr7dv7RdNrLYsda/N47ES+Whzr92P6rrfdu+vwdcFDMmptG87D2q633bvj92jcRL5aHOP5NdNrLYsdY/ScRnQga+3T8KEaceli3iP38vTAJNOOU/+i0D0Mzz5z/Jw6RC4lXqP+ZAB+CnVew/PQHyLqfr7T/8PAWT9BHvP2lnlmZFxO8/AAAAAAAA8D9rZ5ZmRcTvPwk9BZP0Ee8/TwHyLqfr7T/vQAfgp1XsP+bDpELiVeo/Gy4D0Mzz5z+NL0wCTTjlPzQRpx6WLeI/o8RnQga+3T+2XTay2LHWPzuOxEvloc4/fz+q633bvj+I53b56trTPOM9qut9276/co3ES+Whzr+RXTay2LHWv0fEZ0IGvt2/ChGnHpYt4r9+L0wCTTjlv/ktA9DM8+e/yMOkQuJV6r/mQAfgp1Xsvz0B8i6n6+2//DwFk/QR779lZ5ZmRcTvvwAAAAAAAPC/a2eWZkXE778JPQWT9BHvv1AB8i6n6+2/8EAH4KdV7L/nw6RC4lXqvxwuA9DM8+e/ji9MAk045b81Eaceli3iv6XEZ0IGvt2/uF02stix1r9AjsRL5aHOv4g/qut9276/CXPZv68P1rzaParrfdu+P26NxEvloc4/jl02stix1j9FxGdCBr7dPwkRpx6WLeI/fi9MAk045T8OLgPQzPPnP7bDpELiVeo/1kAH4KdV7D89AfIup+vtP/w8BZP0Ee8/aGeWZkXE7z8AAAAAAADwP29nlmZFxO8/CT0Fk/QR7z9QAfIup+vtP/BAB+CnVew/",
          "dtype": "f8"
         },
         "yaxis": "y"
        },
        {
         "hovertemplate": "variable=cos_52_1<br>week_start=%{x}<br>value=%{y}<extra></extra>",
         "legendgroup": "cos_52_1",
         "line": {
          "color": "#EF553B",
          "dash": "solid"
         },
         "marker": {
          "symbol": "circle"
         },
         "mode": "lines",
         "name": "cos_52_1",
         "orientation": "v",
         "showlegend": true,
         "type": "scatter",
         "x": [
          "2020-06-29",
          "2020-07-06",
          "2020-07-13",
          "2020-07-20",
          "2020-07-27",
          "2020-08-03",
          "2020-08-10",
          "2020-08-17",
          "2020-08-24",
          "2020-08-31",
          "2020-09-07",
          "2020-09-14",
          "2020-09-21",
          "2020-09-28",
          "2020-10-05",
          "2020-10-12",
          "2020-10-19",
          "2020-10-26",
          "2020-11-02",
          "2020-11-09",
          "2020-11-16",
          "2020-11-23",
          "2020-11-30",
          "2020-12-07",
          "2020-12-14",
          "2020-12-21",
          "2020-12-28",
          "2021-01-04",
          "2021-01-11",
          "2021-01-18",
          "2021-01-25",
          "2021-02-01",
          "2021-02-08",
          "2021-02-15",
          "2021-02-22",
          "2021-03-01",
          "2021-03-08",
          "2021-03-15",
          "2021-03-22",
          "2021-03-29",
          "2021-04-05",
          "2021-04-12",
          "2021-04-19",
          "2021-04-26",
          "2021-05-03",
          "2021-05-10",
          "2021-05-17",
          "2021-05-24",
          "2021-05-31",
          "2021-06-07",
          "2021-06-14",
          "2021-06-21",
          "2021-06-28",
          "2021-07-05",
          "2021-07-12",
          "2021-07-19",
          "2021-07-26",
          "2021-08-02",
          "2021-08-09",
          "2021-08-16",
          "2021-08-23",
          "2021-08-30",
          "2021-09-06",
          "2021-09-13",
          "2021-09-20",
          "2021-09-27",
          "2021-10-04",
          "2021-10-11",
          "2021-10-18",
          "2021-10-25",
          "2021-11-01",
          "2021-11-08",
          "2021-11-15",
          "2021-11-22",
          "2021-11-29",
          "2021-12-06",
          "2021-12-13",
          "2021-12-20",
          "2021-12-27",
          "2022-01-03",
          "2022-01-10",
          "2022-01-17",
          "2022-01-24",
          "2022-01-31",
          "2022-02-07",
          "2022-02-14",
          "2022-02-21",
          "2022-02-28",
          "2022-03-07",
          "2022-03-14",
          "2022-03-21",
          "2022-03-28",
          "2022-04-04",
          "2022-04-11",
          "2022-04-18",
          "2022-04-25",
          "2022-05-02",
          "2022-05-09",
          "2022-05-16",
          "2022-05-23",
          "2022-05-30",
          "2022-06-06",
          "2022-06-13",
          "2022-06-20",
          "2022-06-27",
          "2022-07-04",
          "2022-07-11",
          "2022-07-18",
          "2022-07-25",
          "2022-08-01",
          "2022-08-08",
          "2022-08-15",
          "2022-08-22",
          "2022-08-29",
          "2022-09-05",
          "2022-09-12",
          "2022-09-19",
          "2022-09-26",
          "2022-10-03",
          "2022-10-10",
          "2022-10-17",
          "2022-10-24",
          "2022-10-31",
          "2022-11-07",
          "2022-11-14",
          "2022-11-21",
          "2022-11-28",
          "2022-12-05",
          "2022-12-12",
          "2022-12-19",
          "2022-12-26",
          "2023-01-02",
          "2023-01-09",
          "2023-01-16",
          "2023-01-23",
          "2023-01-30",
          "2023-02-06",
          "2023-02-13",
          "2023-02-20",
          "2023-02-27",
          "2023-03-06",
          "2023-03-13",
          "2023-03-20",
          "2023-03-27",
          "2023-04-03",
          "2023-04-10",
          "2023-04-17",
          "2023-04-24",
          "2023-05-01",
          "2023-05-08",
          "2023-05-15",
          "2023-05-22",
          "2023-05-29",
          "2023-06-05",
          "2023-06-12",
          "2023-06-19",
          "2023-06-26",
          "2023-07-03",
          "2023-07-10"
         ],
         "xaxis": "x",
         "y": {
          "bdata": "hY3ES+Whzr+aXTay2LHWv2zEZ0IGvt2/DhGnHpYt4r92L0wCTTjlvwcuA9DM8+e/y8OkQuJV6r/hQAfgp1Xsv0UB8i6n6+2//TwFk/QR779nZ5ZmRcTvvwAAAAAAAPC/ameWZkXE778EPQWT9BHvv0kB8i6n6+2/9UAH4KdV7L/bw6RC4lXqvw4uA9DM8+e/li9MAk045b8kEaceli3iv4DEZ0IGvt2/zF02stix1r/ujcRL5aHOv+E+qut9276/ov+OIR0R5ryBPqrrfdu+P7+NxEvloc4/el02stix1j9qxGdCBr7dPxoRpx6WLeI/dS9MAk045T8GLgPQzPPnP9TDpELiVeo/4EAH4KdV7D9EAfIup+vtP/k8BZP0Ee8/Z2eWZkXE7z8AAAAAAADwP21nlmZFxO8/BD0Fk/QR7z9JAfIup+vtP/VAB+CnVew/28OkQuJV6j8PLgPQzPPnP5cvTAJNOOU/JRGnHpYt4j+CxGdCBr7dP85dNrLYsdY/8o3ES+Whzj/qPqrrfdu+P2NFwIR/K+c8eD6q633bvr+7jcRL5aHOv3hdNrLYsda/aMRnQga+3b8ZEaceli3iv3QvTAJNOOW/BS4D0Mzz57/Bw6RC4lXqv+BAB+CnVey/RAHyLqfr7b/5PAWT9BHvv2dnlmZFxO+/AAAAAAAA8L9tZ5ZmRcTvvwQ9BZP0Ee+/SQHyLqfr7b/2QAfgp1Xsv9zDpELiVeq/EC4D0Mzz57+YL0wCTTjlvyYRpx6WLeK/hMRnQga+3b/QXTay2LHWv/eNxEvloc6/8z6q633bvr8ji/Hn4UXovG8+qut9274/to3ES+Whzj92XTay2LHWP2bEZ0IGvt0//hCnHpYt4j90L0wCTTjlPwUuA9DM8+c/wMOkQuJV6j/fQAfgp1XsP0MB8i6n6+0/+TwFk/QR7z9nZ5ZmRcTvPwAAAAAAAPA/bWeWZkXE7z8FPQWT9BHvP0oB8i6n6+0/9kAH4KdV7D/cw6RC4lXqPxAuA9DM8+c/mS9MAk045T8nEaceli3iP4bEZ0IGvt0/0102stix1j/7jcRL5aHOP/s+qut9274/5NAiS0Rg6TxnPqrrfdu+vzaNxEvloc6/dF02stix1r9kxGdCBr7dv/0Qpx6WLeK/cy9MAk045b8ELgPQzPPnv8DDpELiVeq/30AH4KdV7L9DAfIup+vtv/g8BZP0Ee+/Z2eWZkXE778AAAAAAADwv21nlmZFxO+/BT0Fk/QR779KAfIup+vtv/dAB+CnVey/3cOkQuJV6r8RLgPQzPPnv5ovTAJNOOW/KBGnHpYt4r+HxGdCBr7dv9VdNrLYsda//43ES+Whzr8CQKrrfdu+v6QWVK6meuq8Xj6q633bvj8yjcRL5aHOP3JdNrLYsdY/YsRnQga+3T/8EKceli3iP3IvTAJNOOU/BC4D0Mzz5z+/w6RC4lXqP95AB+CnVew/QwHyLqfr7T/4PAWT9BHvP2dnlmZFxO8/AAAAAAAA8D9tZ5ZmRcTvPwU9BZP0Ee8/SgHyLqfr7T/3QAfgp1XsP93DpELiVeo/Ei4D0Mzz5z+CL0wCTTjlP0MRpx6WLeI/wsRnQga+3T/XXTay2LHWPwSOxEvloc4/DT+q633bvj9ujuq526vBvFc9qut9276/LY3ES+Whzr9wXTay2LHWv2DEZ0IGvt2/",
          "dtype": "f8"
         },
         "yaxis": "y"
        },
        {
         "hovertemplate": "variable=sin_52_2<br>week_start=%{x}<br>value=%{y}<extra></extra>",
         "legendgroup": "sin_52_2",
         "line": {
          "color": "#00cc96",
          "dash": "solid"
         },
         "marker": {
          "symbol": "circle"
         },
         "mode": "lines",
         "name": "sin_52_2",
         "orientation": "v",
         "showlegend": true,
         "type": "scatter",
         "x": [
          "2020-06-29",
          "2020-07-06",
          "2020-07-13",
          "2020-07-20",
          "2020-07-27",
          "2020-08-03",
          "2020-08-10",
          "2020-08-17",
          "2020-08-24",
          "2020-08-31",
          "2020-09-07",
          "2020-09-14",
          "2020-09-21",
          "2020-09-28",
          "2020-10-05",
          "2020-10-12",
          "2020-10-19",
          "2020-10-26",
          "2020-11-02",
          "2020-11-09",
          "2020-11-16",
          "2020-11-23",
          "2020-11-30",
          "2020-12-07",
          "2020-12-14",
          "2020-12-21",
          "2020-12-28",
          "2021-01-04",
          "2021-01-11",
          "2021-01-18",
          "2021-01-25",
          "2021-02-01",
          "2021-02-08",
          "2021-02-15",
          "2021-02-22",
          "2021-03-01",
          "2021-03-08",
          "2021-03-15",
          "2021-03-22",
          "2021-03-29",
          "2021-04-05",
          "2021-04-12",
          "2021-04-19",
          "2021-04-26",
          "2021-05-03",
          "2021-05-10",
          "2021-05-17",
          "2021-05-24",
          "2021-05-31",
          "2021-06-07",
          "2021-06-14",
          "2021-06-21",
          "2021-06-28",
          "2021-07-05",
          "2021-07-12",
          "2021-07-19",
          "2021-07-26",
          "2021-08-02",
          "2021-08-09",
          "2021-08-16",
          "2021-08-23",
          "2021-08-30",
          "2021-09-06",
          "2021-09-13",
          "2021-09-20",
          "2021-09-27",
          "2021-10-04",
          "2021-10-11",
          "2021-10-18",
          "2021-10-25",
          "2021-11-01",
          "2021-11-08",
          "2021-11-15",
          "2021-11-22",
          "2021-11-29",
          "2021-12-06",
          "2021-12-13",
          "2021-12-20",
          "2021-12-27",
          "2022-01-03",
          "2022-01-10",
          "2022-01-17",
          "2022-01-24",
          "2022-01-31",
          "2022-02-07",
          "2022-02-14",
          "2022-02-21",
          "2022-02-28",
          "2022-03-07",
          "2022-03-14",
          "2022-03-21",
          "2022-03-28",
          "2022-04-04",
          "2022-04-11",
          "2022-04-18",
          "2022-04-25",
          "2022-05-02",
          "2022-05-09",
          "2022-05-16",
          "2022-05-23",
          "2022-05-30",
          "2022-06-06",
          "2022-06-13",
          "2022-06-20",
          "2022-06-27",
          "2022-07-04",
          "2022-07-11",
          "2022-07-18",
          "2022-07-25",
          "2022-08-01",
          "2022-08-08",
          "2022-08-15",
          "2022-08-22",
          "2022-08-29",
          "2022-09-05",
          "2022-09-12",
          "2022-09-19",
          "2022-09-26",
          "2022-10-03",
          "2022-10-10",
          "2022-10-17",
          "2022-10-24",
          "2022-10-31",
          "2022-11-07",
          "2022-11-14",
          "2022-11-21",
          "2022-11-28",
          "2022-12-05",
          "2022-12-12",
          "2022-12-19",
          "2022-12-26",
          "2023-01-02",
          "2023-01-09",
          "2023-01-16",
          "2023-01-23",
          "2023-01-30",
          "2023-02-06",
          "2023-02-13",
          "2023-02-20",
          "2023-02-27",
          "2023-03-06",
          "2023-03-13",
          "2023-03-20",
          "2023-03-27",
          "2023-04-03",
          "2023-04-10",
          "2023-04-17",
          "2023-04-24",
          "2023-05-01",
          "2023-05-08",
          "2023-05-15",
          "2023-05-22",
          "2023-05-29",
          "2023-06-05",
          "2023-06-12",
          "2023-06-19",
          "2023-06-26",
          "2023-07-03",
          "2023-07-10"
         ],
         "xaxis": "x",
         "y": {
          "bdata": "R8RnQga+3b9+L0wCTTjlv8jDpELiVeq/PQHyLqfr7b9lZ5ZmRcTvv2tnlmZFxO+/UAHyLqfr7b/nw6RC4lXqv44vTAJNOOW/pcRnQga+3b9AjsRL5aHOvwlz2b+vD9a8bo3ES+Whzj9FxGdCBr7dP34vTAJNOOU/tsOkQuJV6j89AfIup+vtP2hnlmZFxO8/b2eWZkXE7z9QAfIup+vtP9XDpELiVeo/py9MAk045T+nxGdCBr7dP8iNxEvloc4/ov+OIR0R9jxpjcRL5aHOv3zEZ0IGvt2/ZS9MAk045b/Hw6RC4lXqv0gB8i6n6+2/ZGeWZkXE779rZ5ZmRcTvv0UB8i6n6+2/6MOkQuJV6r+QL0wCTTjlv+HEZ0IGvt2/SI7ES+Whzr8Kip5MOXnavOmMxEvloc4/QcRnQga+3T98L0wCTTjlP7TDpELiVeo/PAHyLqfr7T9oZ5ZmRcTvP29nlmZFxO8/UQHyLqfr7T/Ww6RC4lXqP6kvTAJNOOU/q8RnQga+3T/QjcRL5aHOP2NFwIR/K/c8YY3ES+Whzr94xGdCBr7dv2MvTAJNOOW/xsOkQuJV6r9HAfIup+vtv2RnlmZFxO+/bGeWZkXE779dAfIup+vtv+nDpELiVeq/ki9MAk045b/lxGdCBr7dv1GOxEvloc6/DKFj2cLi3rzgjMRL5aHOPz3EZ0IGvt0/ei9MAk045T+zw6RC4lXqPzsB8i6n6+0/aGeWZkXE7z9wZ5ZmRcTvP1IB8i6n6+0/2MOkQuJV6j+qL0wCTTjlP6/EZ0IGvt0/2Y3ES+Whzj8ji/Hn4UX4PFiNxEvloc6/dMRnQga+3b9iL0wCTTjlv8XDpELiVeq/LwHyLqfr7b9kZ5ZmRcTvv2xnlmZFxO+/XgHyLqfr7b/qw6RC4lXqv5MvTAJNOOW/6cRnQga+3b9ZjsRL5aHOvwdcFDMmpuG82IzES+Whzj85xGdCBr7dP3kvTAJNOOU/ssOkQuJV6j86AfIup+vtP2hnlmZFxO8/cGeWZkXE7z9TAfIup+vtP9nDpELiVeo/rC9MAk045T+yxGdCBr7dP+GNxEvloc4/5NAiS0Rg+TxQjcRL5aHOv//DZ0IGvt2/YC9MAk045b/Dw6RC4lXqvy8B8i6n6+2/ZGeWZkXE779sZ5ZmRcTvv14B8i6n6+2/68OkQuJV6r+VL0wCTTjlv+3EZ0IGvt2/Yo7ES+Whzr+I53b56trjvM+MxEvloc4/NcRnQga+3T93L0wCTTjlP7DDpELiVeo/OgHyLqfr7T9nZ5ZmRcTvP3BnlmZFxO8/UwHyLqfr7T/aw6RC4lXqP64vTAJNOOU/tsRnQga+3T/ijsRL5aHOP6QWVK6mevo8R43ES+Whzr/7w2dCBr7dv14vTAJNOOW/wsOkQuJV6r8uAfIup+vtv2NnlmZFxO+/bGeWZkXE779fAfIup+vtv+3DpELiVeq/li9MAk045b/xxGdCBr7dv2qOxEvloc6/CXPZv68P5rzGjMRL5aHOPzLEZ0IGvt0/dS9MAk045T+vw6RC4lXqPzkB8i6n6+0/Z2eWZkXE7z9pZ5ZmRcTvP2sB8i6n6+0//8OkQuJV6j+vL0wCTTjlP7rEZ0IGvt0/8o3ES+Whzj9ujuq526vRvEaMxEvloc6/98NnQga+3b9cL0wCTTjlv8HDpELiVeq/",
          "dtype": "f8"
         },
         "yaxis": "y"
        },
        {
         "hovertemplate": "variable=cos_52_2<br>week_start=%{x}<br>value=%{y}<extra></extra>",
         "legendgroup": "cos_52_2",
         "line": {
          "color": "#ab63fa",
          "dash": "solid"
         },
         "marker": {
          "symbol": "circle"
         },
         "mode": "lines",
         "name": "cos_52_2",
         "orientation": "v",
         "showlegend": true,
         "type": "scatter",
         "x": [
          "2020-06-29",
          "2020-07-06",
          "2020-07-13",
          "2020-07-20",
          "2020-07-27",
          "2020-08-03",
          "2020-08-10",
          "2020-08-17",
          "2020-08-24",
          "2020-08-31",
          "2020-09-07",
          "2020-09-14",
          "2020-09-21",
          "2020-09-28",
          "2020-10-05",
          "2020-10-12",
          "2020-10-19",
          "2020-10-26",
          "2020-11-02",
          "2020-11-09",
          "2020-11-16",
          "2020-11-23",
          "2020-11-30",
          "2020-12-07",
          "2020-12-14",
          "2020-12-21",
          "2020-12-28",
          "2021-01-04",
          "2021-01-11",
          "2021-01-18",
          "2021-01-25",
          "2021-02-01",
          "2021-02-08",
          "2021-02-15",
          "2021-02-22",
          "2021-03-01",
          "2021-03-08",
          "2021-03-15",
          "2021-03-22",
          "2021-03-29",
          "2021-04-05",
          "2021-04-12",
          "2021-04-19",
          "2021-04-26",
          "2021-05-03",
          "2021-05-10",
          "2021-05-17",
          "2021-05-24",
          "2021-05-31",
          "2021-06-07",
          "2021-06-14",
          "2021-06-21",
          "2021-06-28",
          "2021-07-05",
          "2021-07-12",
          "2021-07-19",
          "2021-07-26",
          "2021-08-02",
          "2021-08-09",
          "2021-08-16",
          "2021-08-23",
          "2021-08-30",
          "2021-09-06",
          "2021-09-13",
          "2021-09-20",
          "2021-09-27",
          "2021-10-04",
          "2021-10-11",
          "2021-10-18",
          "2021-10-25",
          "2021-11-01",
          "2021-11-08",
          "2021-11-15",
          "2021-11-22",
          "2021-11-29",
          "2021-12-06",
          "2021-12-13",
          "2021-12-20",
          "2021-12-27",
          "2022-01-03",
          "2022-01-10",
          "2022-01-17",
          "2022-01-24",
          "2022-01-31",
          "2022-02-07",
          "2022-02-14",
          "2022-02-21",
          "2022-02-28",
          "2022-03-07",
          "2022-03-14",
          "2022-03-21",
          "2022-03-28",
          "2022-04-04",
          "2022-04-11",
          "2022-04-18",
          "2022-04-25",
          "2022-05-02",
          "2022-05-09",
          "2022-05-16",
          "2022-05-23",
          "2022-05-30",
          "2022-06-06",
          "2022-06-13",
          "2022-06-20",
          "2022-06-27",
          "2022-07-04",
          "2022-07-11",
          "2022-07-18",
          "2022-07-25",
          "2022-08-01",
          "2022-08-08",
          "2022-08-15",
          "2022-08-22",
          "2022-08-29",
          "2022-09-05",
          "2022-09-12",
          "2022-09-19",
          "2022-09-26",
          "2022-10-03",
          "2022-10-10",
          "2022-10-17",
          "2022-10-24",
          "2022-10-31",
          "2022-11-07",
          "2022-11-14",
          "2022-11-21",
          "2022-11-28",
          "2022-12-05",
          "2022-12-12",
          "2022-12-19",
          "2022-12-26",
          "2023-01-02",
          "2023-01-09",
          "2023-01-16",
          "2023-01-23",
          "2023-01-30",
          "2023-02-06",
          "2023-02-13",
          "2023-02-20",
          "2023-02-27",
          "2023-03-06",
          "2023-03-13",
          "2023-03-20",
          "2023-03-27",
          "2023-04-03",
          "2023-04-10",
          "2023-04-17",
          "2023-04-24",
          "2023-05-01",
          "2023-05-08",
          "2023-05-15",
          "2023-05-22",
          "2023-05-29",
          "2023-06-05",
          "2023-06-12",
          "2023-06-19",
          "2023-06-26",
          "2023-07-03",
          "2023-07-10"
         ],
         "xaxis": "x",
         "y": {
          "bdata": "90AH4KdV7L8RLgPQzPPnvygRpx6WLeK/1V02stix1r8CQKrrfdu+v14+qut9274/cl02stix1j/8EKceli3iPwQuA9DM8+c/3kAH4KdV7D/4PAWT9BHvPwAAAAAAAPA/BT0Fk/QR7z/3QAfgp1XsPxIuA9DM8+c/QxGnHpYt4j/XXTay2LHWPw0/qut9274/Vz2q633bvr9wXTay2LHWvxURpx6WLeK/7i0D0Mzz57/eQAfgp1XsvwA9BZP0Ee+/AAAAAAAA8L8FPQWT9BHvv+lAB+CnVey/KC4D0Mzz578pEaceli3iv51dNrLYsda/FECq633bvr9MPqrrfdu+P6ldNrLYsdY/+hCnHpYt4j8CLgPQzPPnP85AB+CnVew/+DwFk/QR7z8AAAAAAADwPw09BZP0Ee8/+EAH4KdV7D8TLgPQzPPnP0QRpx6WLeI/2102stix1j8fP6rrfdu+P0U9qut9276/a102stix1r8UEaceli3iv+wtA9DM8+e/3UAH4KdV7L//PAWT9BHvvwAAAAAAAPC/Bj0Fk/QR77/qQAfgp1XsvyouA9DM8+e/KxGnHpYt4r+hXTay2LHWvyVAqut9276/Oz6q633bvj8uXTay2LHWP/gQpx6WLeI/AC4D0Mzz5z/NQAfgp1XsP/c8BZP0Ee8/AAAAAAAA8D8OPQWT9BHvP/lAB+CnVew/FS4D0Mzz5z9GEaceli3iP99dNrLYsdY/MD+q633bvj80Parrfdu+v2ddNrLYsda/EhGnHpYt4r/rLQPQzPPnv9tAB+CnVey//zwFk/QR778AAAAAAADwvwY9BZP0Ee+/60AH4KdV7L8rLgPQzPPnvy0Rpx6WLeK/HV42stix1r83QKrrfdu+vyk+qut9274/KV02stix1j/2EKceli3iP/8tA9DM8+c/zEAH4KdV7D/3PAWT9BHvPwAAAAAAAPA/Dj0Fk/QR7z/6QAfgp1XsPxYuA9DM8+c/SBGnHpYt4j/jXTay2LHWP0I/qut9274/Ij2q633bvr9jXTay2LHWvxARpx6WLeK/6S0D0Mzz57/aQAfgp1Xsv/48BZP0Ee+/AAAAAAAA8L8HPQWT9BHvvwpBB+CnVey/LC4D0Mzz578vEaceli3ivyFeNrLYsda/SECq633bvr8YPqrrfdu+PyVdNrLYsdY/9RCnHpYt4j/+LQPQzPPnP8tAB+CnVew/9jwFk/QR7z8AAAAAAADwPw89BZP0Ee8/+0AH4KdV7D8YLgPQzPPnP0oRpx6WLeI/5102stix1j9TP6rrfdu+PxE9qut9276/X102stix1r8OEaceli3iv+gtA9DM8+e/2kAH4KdV7L/uPAWT9BHvvwAAAAAAAPC/CD0Fk/QR778LQQfgp1Xsvy4uA9DM8+e/MBGnHpYt4r8lXjay2LHWv1pAqut9276/Bj6q633bvj8hXTay2LHWP/MQpx6WLeI//C0D0Mzz5z/KQAfgp1XsP/Y8BZP0Ee8/AAAAAAAA8D8PPQWT9BHvP/xAB+CnVew/GS4D0Mzz5z9MEaceli3iP+tdNrLYsdY/ZT+q633bvj/8Pqrrfdu+v+NcNrLYsda/2BCnHpYt4r/mLQPQzPPnv9lAB+CnVey//TwFk/QR778AAAAAAADwvxc9BZP0Ee+/DEEH4KdV7L8wLgPQzPPnvzIRpx6WLeK/",
          "dtype": "f8"
         },
         "yaxis": "y"
        }
       ],
       "layout": {
        "legend": {
         "title": {
          "text": "variable"
         },
         "tracegroupgap": 0
        },
        "template": {
         "data": {
          "bar": [
           {
            "error_x": {
             "color": "#2a3f5f"
            },
            "error_y": {
             "color": "#2a3f5f"
            },
            "marker": {
             "line": {
              "color": "white",
              "width": 0.5
             },
             "pattern": {
              "fillmode": "overlay",
              "size": 10,
              "solidity": 0.2
             }
            },
            "type": "bar"
           }
          ],
          "barpolar": [
           {
            "marker": {
             "line": {
              "color": "white",
              "width": 0.5
             },
             "pattern": {
              "fillmode": "overlay",
              "size": 10,
              "solidity": 0.2
             }
            },
            "type": "barpolar"
           }
          ],
          "carpet": [
           {
            "aaxis": {
             "endlinecolor": "#2a3f5f",
             "gridcolor": "#C8D4E3",
             "linecolor": "#C8D4E3",
             "minorgridcolor": "#C8D4E3",
             "startlinecolor": "#2a3f5f"
            },
            "baxis": {
             "endlinecolor": "#2a3f5f",
             "gridcolor": "#C8D4E3",
             "linecolor": "#C8D4E3",
             "minorgridcolor": "#C8D4E3",
             "startlinecolor": "#2a3f5f"
            },
            "type": "carpet"
           }
          ],
          "choropleth": [
           {
            "colorbar": {
             "outlinewidth": 0,
             "ticks": ""
            },
            "type": "choropleth"
           }
          ],
          "contour": [
           {
            "colorbar": {
             "outlinewidth": 0,
             "ticks": ""
            },
            "colorscale": [
             [
              0,
              "#0d0887"
             ],
             [
              0.1111111111111111,
              "#46039f"
             ],
             [
              0.2222222222222222,
              "#7201a8"
             ],
             [
              0.3333333333333333,
              "#9c179e"
             ],
             [
              0.4444444444444444,
              "#bd3786"
             ],
             [
              0.5555555555555556,
              "#d8576b"
             ],
             [
              0.6666666666666666,
              "#ed7953"
             ],
             [
              0.7777777777777778,
              "#fb9f3a"
             ],
             [
              0.8888888888888888,
              "#fdca26"
             ],
             [
              1,
              "#f0f921"
             ]
            ],
            "type": "contour"
           }
          ],
          "contourcarpet": [
           {
            "colorbar": {
             "outlinewidth": 0,
             "ticks": ""
            },
            "type": "contourcarpet"
           }
          ],
          "heatmap": [
           {
            "colorbar": {
             "outlinewidth": 0,
             "ticks": ""
            },
            "colorscale": [
             [
              0,
              "#0d0887"
             ],
             [
              0.1111111111111111,
              "#46039f"
             ],
             [
              0.2222222222222222,
              "#7201a8"
             ],
             [
              0.3333333333333333,
              "#9c179e"
             ],
             [
              0.4444444444444444,
              "#bd3786"
             ],
             [
              0.5555555555555556,
              "#d8576b"
             ],
             [
              0.6666666666666666,
              "#ed7953"
             ],
             [
              0.7777777777777778,
              "#fb9f3a"
             ],
             [
              0.8888888888888888,
              "#fdca26"
             ],
             [
              1,
              "#f0f921"
             ]
            ],
            "type": "heatmap"
           }
          ],
          "histogram": [
           {
            "marker": {
             "pattern": {
              "fillmode": "overlay",
              "size": 10,
              "solidity": 0.2
             }
            },
            "type": "histogram"
           }
          ],
          "histogram2d": [
           {
            "colorbar": {
             "outlinewidth": 0,
             "ticks": ""
            },
            "colorscale": [
             [
              0,
              "#0d0887"
             ],
             [
              0.1111111111111111,
              "#46039f"
             ],
             [
              0.2222222222222222,
              "#7201a8"
             ],
             [
              0.3333333333333333,
              "#9c179e"
             ],
             [
              0.4444444444444444,
              "#bd3786"
             ],
             [
              0.5555555555555556,
              "#d8576b"
             ],
             [
              0.6666666666666666,
              "#ed7953"
             ],
             [
              0.7777777777777778,
              "#fb9f3a"
             ],
             [
              0.8888888888888888,
              "#fdca26"
             ],
             [
              1,
              "#f0f921"
             ]
            ],
            "type": "histogram2d"
           }
          ],
          "histogram2dcontour": [
           {
            "colorbar": {
             "outlinewidth": 0,
             "ticks": ""
            },
            "colorscale": [
             [
              0,
              "#0d0887"
             ],
             [
              0.1111111111111111,
              "#46039f"
             ],
             [
              0.2222222222222222,
              "#7201a8"
             ],
             [
              0.3333333333333333,
              "#9c179e"
             ],
             [
              0.4444444444444444,
              "#bd3786"
             ],
             [
              0.5555555555555556,
              "#d8576b"
             ],
             [
              0.6666666666666666,
              "#ed7953"
             ],
             [
              0.7777777777777778,
              "#fb9f3a"
             ],
             [
              0.8888888888888888,
              "#fdca26"
             ],
             [
              1,
              "#f0f921"
             ]
            ],
            "type": "histogram2dcontour"
           }
          ],
          "mesh3d": [
           {
            "colorbar": {
             "outlinewidth": 0,
             "ticks": ""
            },
            "type": "mesh3d"
           }
          ],
          "parcoords": [
           {
            "line": {
             "colorbar": {
              "outlinewidth": 0,
              "ticks": ""
             }
            },
            "type": "parcoords"
           }
          ],
          "pie": [
           {
            "automargin": true,
            "type": "pie"
           }
          ],
          "scatter": [
           {
            "fillpattern": {
             "fillmode": "overlay",
             "size": 10,
             "solidity": 0.2
            },
            "type": "scatter"
           }
          ],
          "scatter3d": [
           {
            "line": {
             "colorbar": {
              "outlinewidth": 0,
              "ticks": ""
             }
            },
            "marker": {
             "colorbar": {
              "outlinewidth": 0,
              "ticks": ""
             }
            },
            "type": "scatter3d"
           }
          ],
          "scattercarpet": [
           {
            "marker": {
             "colorbar": {
              "outlinewidth": 0,
              "ticks": ""
             }
            },
            "type": "scattercarpet"
           }
          ],
          "scattergeo": [
           {
            "marker": {
             "colorbar": {
              "outlinewidth": 0,
              "ticks": ""
             }
            },
            "type": "scattergeo"
           }
          ],
          "scattergl": [
           {
            "marker": {
             "colorbar": {
              "outlinewidth": 0,
              "ticks": ""
             }
            },
            "type": "scattergl"
           }
          ],
          "scattermap": [
           {
            "marker": {
             "colorbar": {
              "outlinewidth": 0,
              "ticks": ""
             }
            },
            "type": "scattermap"
           }
          ],
          "scattermapbox": [
           {
            "marker": {
             "colorbar": {
              "outlinewidth": 0,
              "ticks": ""
             }
            },
            "type": "scattermapbox"
           }
          ],
          "scatterpolar": [
           {
            "marker": {
             "colorbar": {
              "outlinewidth": 0,
              "ticks": ""
             }
            },
            "type": "scatterpolar"
           }
          ],
          "scatterpolargl": [
           {
            "marker": {
             "colorbar": {
              "outlinewidth": 0,
              "ticks": ""
             }
            },
            "type": "scatterpolargl"
           }
          ],
          "scatterternary": [
           {
            "marker": {
             "colorbar": {
              "outlinewidth": 0,
              "ticks": ""
             }
            },
            "type": "scatterternary"
           }
          ],
          "surface": [
           {
            "colorbar": {
             "outlinewidth": 0,
             "ticks": ""
            },
            "colorscale": [
             [
              0,
              "#0d0887"
             ],
             [
              0.1111111111111111,
              "#46039f"
             ],
             [
              0.2222222222222222,
              "#7201a8"
             ],
             [
              0.3333333333333333,
              "#9c179e"
             ],
             [
              0.4444444444444444,
              "#bd3786"
             ],
             [
              0.5555555555555556,
              "#d8576b"
             ],
             [
              0.6666666666666666,
              "#ed7953"
             ],
             [
              0.7777777777777778,
              "#fb9f3a"
             ],
             [
              0.8888888888888888,
              "#fdca26"
             ],
             [
              1,
              "#f0f921"
             ]
            ],
            "type": "surface"
           }
          ],
          "table": [
           {
            "cells": {
             "fill": {
              "color": "#EBF0F8"
             },
             "line": {
              "color": "white"
             }
            },
            "header": {
             "fill": {
              "color": "#C8D4E3"
             },
             "line": {
              "color": "white"
             }
            },
            "type": "table"
           }
          ]
         },
         "layout": {
          "annotationdefaults": {
           "arrowcolor": "#2a3f5f",
           "arrowhead": 0,
           "arrowwidth": 1
          },
          "autotypenumbers": "strict",
          "coloraxis": {
           "colorbar": {
            "outlinewidth": 0,
            "ticks": ""
           }
          },
          "colorscale": {
           "diverging": [
            [
             0,
             "#8e0152"
            ],
            [
             0.1,
             "#c51b7d"
            ],
            [
             0.2,
             "#de77ae"
            ],
            [
             0.3,
             "#f1b6da"
            ],
            [
             0.4,
             "#fde0ef"
            ],
            [
             0.5,
             "#f7f7f7"
            ],
            [
             0.6,
             "#e6f5d0"
            ],
            [
             0.7,
             "#b8e186"
            ],
            [
             0.8,
             "#7fbc41"
            ],
            [
             0.9,
             "#4d9221"
            ],
            [
             1,
             "#276419"
            ]
           ],
           "sequential": [
            [
             0,
             "#0d0887"
            ],
            [
             0.1111111111111111,
             "#46039f"
            ],
            [
             0.2222222222222222,
             "#7201a8"
            ],
            [
             0.3333333333333333,
             "#9c179e"
            ],
            [
             0.4444444444444444,
             "#bd3786"
            ],
            [
             0.5555555555555556,
             "#d8576b"
            ],
            [
             0.6666666666666666,
             "#ed7953"
            ],
            [
             0.7777777777777778,
             "#fb9f3a"
            ],
            [
             0.8888888888888888,
             "#fdca26"
            ],
            [
             1,
             "#f0f921"
            ]
           ],
           "sequentialminus": [
            [
             0,
             "#0d0887"
            ],
            [
             0.1111111111111111,
             "#46039f"
            ],
            [
             0.2222222222222222,
             "#7201a8"
            ],
            [
             0.3333333333333333,
             "#9c179e"
            ],
            [
             0.4444444444444444,
             "#bd3786"
            ],
            [
             0.5555555555555556,
             "#d8576b"
            ],
            [
             0.6666666666666666,
             "#ed7953"
            ],
            [
             0.7777777777777778,
             "#fb9f3a"
            ],
            [
             0.8888888888888888,
             "#fdca26"
            ],
            [
             1,
             "#f0f921"
            ]
           ]
          },
          "colorway": [
           "#636efa",
           "#EF553B",
           "#00cc96",
           "#ab63fa",
           "#FFA15A",
           "#19d3f3",
           "#FF6692",
           "#B6E880",
           "#FF97FF",
           "#FECB52"
          ],
          "font": {
           "color": "#2a3f5f"
          },
          "geo": {
           "bgcolor": "white",
           "lakecolor": "white",
           "landcolor": "white",
           "showlakes": true,
           "showland": true,
           "subunitcolor": "#C8D4E3"
          },
          "hoverlabel": {
           "align": "left"
          },
          "hovermode": "closest",
          "mapbox": {
           "style": "light"
          },
          "paper_bgcolor": "white",
          "plot_bgcolor": "white",
          "polar": {
           "angularaxis": {
            "gridcolor": "#EBF0F8",
            "linecolor": "#EBF0F8",
            "ticks": ""
           },
           "bgcolor": "white",
           "radialaxis": {
            "gridcolor": "#EBF0F8",
            "linecolor": "#EBF0F8",
            "ticks": ""
           }
          },
          "scene": {
           "xaxis": {
            "backgroundcolor": "white",
            "gridcolor": "#DFE8F3",
            "gridwidth": 2,
            "linecolor": "#EBF0F8",
            "showbackground": true,
            "ticks": "",
            "zerolinecolor": "#EBF0F8"
           },
           "yaxis": {
            "backgroundcolor": "white",
            "gridcolor": "#DFE8F3",
            "gridwidth": 2,
            "linecolor": "#EBF0F8",
            "showbackground": true,
            "ticks": "",
            "zerolinecolor": "#EBF0F8"
           },
           "zaxis": {
            "backgroundcolor": "white",
            "gridcolor": "#DFE8F3",
            "gridwidth": 2,
            "linecolor": "#EBF0F8",
            "showbackground": true,
            "ticks": "",
            "zerolinecolor": "#EBF0F8"
           }
          },
          "shapedefaults": {
           "line": {
            "color": "#2a3f5f"
           }
          },
          "ternary": {
           "aaxis": {
            "gridcolor": "#DFE8F3",
            "linecolor": "#A2B1C6",
            "ticks": ""
           },
           "baxis": {
            "gridcolor": "#DFE8F3",
            "linecolor": "#A2B1C6",
            "ticks": ""
           },
           "bgcolor": "white",
           "caxis": {
            "gridcolor": "#DFE8F3",
            "linecolor": "#A2B1C6",
            "ticks": ""
           }
          },
          "title": {
           "x": 0.05
          },
          "xaxis": {
           "automargin": true,
           "gridcolor": "#EBF0F8",
           "linecolor": "#EBF0F8",
           "ticks": "",
           "title": {
            "standoff": 15
           },
           "zerolinecolor": "#EBF0F8",
           "zerolinewidth": 2
          },
          "yaxis": {
           "automargin": true,
           "gridcolor": "#EBF0F8",
           "linecolor": "#EBF0F8",
           "ticks": "",
           "title": {
            "standoff": 15
           },
           "zerolinecolor": "#EBF0F8",
           "zerolinewidth": 2
          }
         }
        },
        "title": {
         "text": "Harmonics"
        },
        "xaxis": {
         "anchor": "y",
         "domain": [
          0,
          1
         ],
         "title": {
          "text": "week_start"
         }
        },
        "yaxis": {
         "anchor": "x",
         "domain": [
          0,
          1
         ],
         "title": {
          "text": "value"
         }
        }
       }
      }
     },
     "metadata": {},
     "output_type": "display_data"
    }
   ],
   "source": [
    "cos_sin_columns = [col for col in regression_df.columns if 'sin' in col or 'cos' in col]\n",
    "px.line(regression_df, x='week_start', y=cos_sin_columns, title='Harmonics')"
   ]
  },
  {
   "cell_type": "code",
   "execution_count": 43,
   "metadata": {},
   "outputs": [
    {
     "data": {
      "text/html": [
       "<div><style>\n",
       ".dataframe > thead > tr,\n",
       ".dataframe > tbody > tr {\n",
       "  text-align: right;\n",
       "  white-space: pre-wrap;\n",
       "}\n",
       "</style>\n",
       "<small>shape: (5, 5)</small><table border=\"1\" class=\"dataframe\"><thead><tr><th>Delayed Channel</th><th>Decay Rate</th><th>Half Life [Week]</th><th>Adstock Corr</th><th>Corr</th></tr><tr><td>str</td><td>f64</td><td>f64</td><td>f64</td><td>f64</td></tr></thead><tbody><tr><td>&quot;promo_investment_lag0&quot;</td><td>0.018</td><td>0.17</td><td>0.75</td><td>0.75</td></tr><tr><td>&quot;ppc_brand_investment_lag0&quot;</td><td>0.542</td><td>1.13</td><td>0.86</td><td>0.84</td></tr><tr><td>&quot;ppc_generic_investment_lag3&quot;</td><td>0.799</td><td>3.09</td><td>0.7</td><td>0.63</td></tr><tr><td>&quot;facebook_investment_lag2&quot;</td><td>0.799</td><td>3.09</td><td>0.75</td><td>0.62</td></tr><tr><td>&quot;instagram_investment_lag6&quot;</td><td>0.743</td><td>2.33</td><td>0.82</td><td>0.75</td></tr></tbody></table></div>"
      ],
      "text/plain": [
       "shape: (5, 5)\n",
       "┌─────────────────────────────┬────────────┬──────────────────┬──────────────┬──────┐\n",
       "│ Delayed Channel             ┆ Decay Rate ┆ Half Life [Week] ┆ Adstock Corr ┆ Corr │\n",
       "│ ---                         ┆ ---        ┆ ---              ┆ ---          ┆ ---  │\n",
       "│ str                         ┆ f64        ┆ f64              ┆ f64          ┆ f64  │\n",
       "╞═════════════════════════════╪════════════╪══════════════════╪══════════════╪══════╡\n",
       "│ promo_investment_lag0       ┆ 0.018      ┆ 0.17             ┆ 0.75         ┆ 0.75 │\n",
       "│ ppc_brand_investment_lag0   ┆ 0.542      ┆ 1.13             ┆ 0.86         ┆ 0.84 │\n",
       "│ ppc_generic_investment_lag3 ┆ 0.799      ┆ 3.09             ┆ 0.7          ┆ 0.63 │\n",
       "│ facebook_investment_lag2    ┆ 0.799      ┆ 3.09             ┆ 0.75         ┆ 0.62 │\n",
       "│ instagram_investment_lag6   ┆ 0.743      ┆ 2.33             ┆ 0.82         ┆ 0.75 │\n",
       "└─────────────────────────────┴────────────┴──────────────────┴──────────────┴──────┘"
      ]
     },
     "execution_count": 43,
     "metadata": {},
     "output_type": "execute_result"
    }
   ],
   "source": [
    "half_life_df"
   ]
  },
  {
   "cell_type": "code",
   "execution_count": 44,
   "metadata": {},
   "outputs": [],
   "source": [
    "adstock_params = {\n",
    "    \"ppc_brand_investment_lag0\": 0.55,\n",
    "    \"ppc_generic_investment_lag3\": 0.8,\n",
    "    \"facebook_investment_lag2\": 0.8,\n",
    "    \"instagram_investment_lag6\": 0.75\n",
    "}\n",
    "\n",
    "saturation_param = 0.26\n",
    "rename_dict = {\n",
    "    \"promo_investment_lag0\": \"promo_regressor\",\n",
    "    \"ppc_brand_investment_lag0\": \"brand_regressor\",\n",
    "    \"ppc_generic_investment_lag3\": \"generic_regressor\",\n",
    "    \"facebook_investment_lag2\": \"facebook_regressor\",\n",
    "    \"instagram_investment_lag6\": \"instagram_regressor\"\n",
    "}"
   ]
  },
  {
   "cell_type": "code",
   "execution_count": 45,
   "metadata": {},
   "outputs": [],
   "source": [
    "# Transform Marketing Investments\n",
    "\n",
    "regression_df = regression_df.with_columns(\n",
    "    pl.Series(name=rename_dict[\"promo_investment_lag0\"],\n",
    "              values=root_transformation(regression_df[\"promo_investment_lag0\"].to_numpy(), beta=saturation_param))\n",
    "\n",
    "    )\n",
    "\n",
    "\n",
    "for channel, param in adstock_params.items():\n",
    "  regression_df = regression_df.with_columns(\n",
    "      pl.Series(name=rename_dict[channel],\n",
    "                values=geometric_adstock(regression_df[channel].to_numpy(), decay_rate=param))\n",
    "\n",
    "      )"
   ]
  },
  {
   "cell_type": "code",
   "execution_count": 46,
   "metadata": {},
   "outputs": [],
   "source": [
    "regressors = ['time',\n",
    " 'sin_52_1',\n",
    " 'cos_52_1',\n",
    " 'sin_52_2',\n",
    " 'cos_52_2',\n",
    " 'promo_regressor',\n",
    " 'brand_regressor',\n",
    " 'facebook_regressor',\n",
    " 'instagram_regressor',\n",
    " 'generic_regressor']"
   ]
  },
  {
   "cell_type": "markdown",
   "metadata": {},
   "source": [
    "Fit & Evaluate 🪡"
   ]
  },
  {
   "cell_type": "code",
   "execution_count": 47,
   "metadata": {},
   "outputs": [],
   "source": [
    "def fit_lr_model(train_df: pl.DataFrame, reg_cols: list[str],\n",
    "                 target: str = target):\n",
    "  train_df = train_df.to_pandas()\n",
    "  train_x, train_y = train_df[reg_cols], train_df[target]\n",
    "  train_x = sm.add_constant(train_x)\n",
    "  model = sm.OLS(train_y, train_x)\n",
    "  fitted_model = model.fit()\n",
    "  print(fitted_model.summary())\n",
    "  return fitted_model\n",
    "\n",
    "\n",
    "def evaluate_model(model, train_df: pl.DataFrame):\n",
    "  fitted_values = np.clip(model.fittedvalues, 0, None)\n",
    "  train_df = train_df.to_pandas()\n",
    "  train_y = train_df[target]\n",
    "  fig = px.scatter(x = fitted_values, y = train_y)\n",
    "  max_new_customers = max(train_y)\n",
    "  fig.add_trace(go.Scatter(x=np.linspace(0, max_new_customers, 50), y=np.linspace(0, max_new_customers, 50), mode='lines', name='markers', line={'color':'black'}))\n",
    "  fig.update_layout(showlegend=False, title = 'Goodness Of Fit' ,xaxis_title=\"Fitted\", yaxis_title=\"Actual\")\n",
    "  fig.show()\n",
    "  fig = px.line(x = list(range(len(train_df))), y = [train_y, fitted_values], title='Compare Fitted & Actual',\n",
    "                labels={'y': 'New Customers', 'x': 'Time'})\n",
    "  fig.update_layout(showlegend=False)\n",
    "  fig.show()\n",
    "  print(f\"MAE: {mean_absolute_error(train_y, fitted_values)}\")"
   ]
  },
  {
   "cell_type": "code",
   "execution_count": 48,
   "metadata": {},
   "outputs": [
    {
     "name": "stdout",
     "output_type": "stream",
     "text": [
      "                            OLS Regression Results                            \n",
      "==============================================================================\n",
      "Dep. Variable:          new_customers   R-squared:                       0.885\n",
      "Model:                            OLS   Adj. R-squared:                  0.877\n",
      "Method:                 Least Squares   F-statistic:                     113.8\n",
      "Date:                Sun, 23 Mar 2025   Prob (F-statistic):           2.90e-64\n",
      "Time:                        07:49:27   Log-Likelihood:                -1276.0\n",
      "No. Observations:                 159   AIC:                             2574.\n",
      "Df Residuals:                     148   BIC:                             2608.\n",
      "Df Model:                          10                                         \n",
      "Covariance Type:            nonrobust                                         \n",
      "=======================================================================================\n",
      "                          coef    std err          t      P>|t|      [0.025      0.975]\n",
      "---------------------------------------------------------------------------------------\n",
      "const               -1419.0916    573.379     -2.475      0.014   -2552.159    -286.024\n",
      "time                    3.2154      2.393      1.344      0.181      -1.512       7.943\n",
      "sin_52_1              176.1920     91.821      1.919      0.057      -5.258     357.642\n",
      "cos_52_1             -903.3984    125.422     -7.203      0.000   -1151.248    -655.548\n",
      "sin_52_2               14.7924    119.275      0.124      0.901    -220.911     250.495\n",
      "cos_52_2              565.3972     96.087      5.884      0.000     375.518     755.276\n",
      "promo_regressor       219.1010     29.276      7.484      0.000     161.248     276.954\n",
      "brand_regressor         0.0105      0.016      0.644      0.521      -0.022       0.043\n",
      "facebook_regressor      0.0015      0.007      0.217      0.829      -0.012       0.015\n",
      "instagram_regressor     0.0106      0.004      2.475      0.014       0.002       0.019\n",
      "generic_regressor       0.0022      0.002      0.995      0.321      -0.002       0.007\n",
      "==============================================================================\n",
      "Omnibus:                        2.321   Durbin-Watson:                   1.038\n",
      "Prob(Omnibus):                  0.313   Jarque-Bera (JB):                1.887\n",
      "Skew:                           0.242   Prob(JB):                        0.389\n",
      "Kurtosis:                       3.224   Cond. No.                     2.26e+06\n",
      "==============================================================================\n",
      "\n",
      "Notes:\n",
      "[1] Standard Errors assume that the covariance matrix of the errors is correctly specified.\n",
      "[2] The condition number is large, 2.26e+06. This might indicate that there are\n",
      "strong multicollinearity or other numerical problems.\n"
     ]
    },
    {
     "data": {
      "application/vnd.plotly.v1+json": {
       "config": {
        "plotlyServerURL": "https://plot.ly"
       },
       "data": [
        {
         "hovertemplate": "x=%{x}<br>y=%{y}<extra></extra>",
         "legendgroup": "",
         "marker": {
          "color": "#636efa",
          "symbol": "circle"
         },
         "mode": "markers",
         "name": "",
         "orientation": "v",
         "showlegend": false,
         "type": "scatter",
         "x": {
          "bdata": "RLdUWQXXiUDpVtLDNguVQDeUL6PZtZRAPxBCZUcYmkANVsVjejOXQOV1qz6tTqJAV33wZiEkp0DwiHE8Y4mmQM/fnQahiqlA35deye9Zq0A7CaGpfyesQO4dd8FhL69A87CC8iifrkBAGeLaaN6uQG7u863h769ATKznh2aprUATFgdk/aWwQJVJCu/VxrBAe2ZuOI3irUDrG5x5hDupQJUySi1BqqVAr2S5M5AsoUAjSdAWqTGaQGk/UFBymJlAb+qIXdgZhEBnbBMWbvCNQCxnh+e6LYRAg4DSVyOTikDMbTcGl86CQMCbgT0+4YVARI5X0UE4kECHEMXTu8WSQGfzItOkRJNAl3s5khYJnkCixXem2YKbQPOfjEZsZ5hA4vVbwA8PkUAOyxTpmZ6XQNNHFpzXo5ZAb1eGouTqnUBWdp3ErFuYQFA/ordSwZZAeAaVpYL4mkDHqza0+6SeQH+/yMLUMaNAbex010XYnUC1AEY1gzegQDaP8I36kZtAUYDnp4AioECafuXuGZmiQIrnVP4EN6NAnPIJuGy2pUBjjKi83AGrQLk3DVBUIqhAaYgSQx8Uq0DO9KfzImCtQLXz/fZJ9bFAADe1f3SssUD+A0+QrHezQCRz4NlLOLVAKs/hfomttEBdpU3QWZqzQICv5QK+TbRAwSZ9lFdGtEAbb/F11zazQK+CjHcY4bNAqetgBnfcskAArtwzXRiyQErvrS/WgbBAjc7E7tryr0AQfqU5SNquQCIjqKU7ZKtA9sB9O0Kep0AOmDoyPTynQLq7LqYWvqNAWVV/vU9xnUC8o/r0fmGcQLQ8uRMk4phApg3nx00unkAGSQ4aeYuWQK3IyNTYEY9Av6SI2jn2lkA7SekyajygQLyIa7vP66BAEDfFc3Oeo0BHOMMH/bujQP8WALbN+KpAYHV6MaUCpkCscDR+SGinQDuL8tbKRKlAQLFpF8nvqEDzNv9sIjafQKt3Nlldv6pAtDwIdNcMrEDSZryOGRWtQC2oaHgk+6tALXpT5/HGr0BoTtH6jXarQJUMVBDmlqxAl1B9Hatmr0CkIzPyFniwQNrLds/k+rBASuhjKcJbsUDfJ3TUhsGwQPofd3VKerJAgIYvXmhwtEB0l+q9q+S1QBCqOpzFrrdA30EMhFv0uUAtZ6AVZBW6QE31WUC3KbxAbStynicZvkDSfI1U8zPBQPJaD8RA2cFAFMCrlWtTwEAIMEuf4KnAQOhQ0ehKnMFAFnzF7VJlwUBjgJwYgWDBQC4l/o8f/8FAL5SOoWiEwUDt5OR0SLLAQORmgey2Tb5Ai2KMrWTkukA1cTMn7LS2QE7xpjwNNLVAZCWO7oP9skDSidqTR2mxQO0wWss+IbNAEGHfqXKIr0C5L6I8U/2eQHqmEarlhZ5APzMRGyTunEBym/ILaseaQLYsMHQ+855ApRkiX+0ymUCNvAaNuWWaQF5xhKlQAJlABoNs41LUmECz74uS6zaHQOgJiYMNIqFATA+K235ipUDvDcMXt3yjQPGGH85GCKRAgXyuzCHJokAETRx7wjKqQDugH0lsGKlATdCnQxdJskCbEc9A36mxQMMx3OtIK7FAd9xaoVSos0AsmH1alDeyQOHA7CEDxqxAIqLQuylxpECtJo7k+tujQLXELUsY6KRAqheMAfNCpUAT6h/R9p6kQKTXhHdYo6ZA",
          "dtype": "f8"
         },
         "xaxis": "x",
         "y": {
          "bdata": "vgH8AuUDlgVvA/AG2wcgCCQLTAyXDfQQOxIRFm0TiA9rC9UMqgtjBzIHcwR+BvYFxwYoBgoEfQMhBqcDWgawBcMG6AdKBlUF7QZoBckE/AMuA8IBVgS+BoAMngm6DfwFKQXMBtsJ0AjODRgMKw+YElEXIhROGA0WWhjJFuYWPhV0FsQWlBXyE7oSoRFPD1kKJwqECEYH7gaECFII0xEFBecHBwcnB2QISQrUBqYOcghpCMAHvgW/B8oK4Qz0D9gQ5xWaDEIPYQ+mEf8WDxDuE5kTvxRKFYEXIhjyGOQaBRkUHX0gbB4tH/QloSRpJukouyMPIMkfDRdQEJwSxBBPEPUTxBC9CW0JxQTvAxELOwNABCAF/wS1BNsJ2AxPCVwLEwyJDUEO1RKBFHAXEhGXEjUKVQ3fCgAJggWKBLcK",
          "dtype": "i2"
         },
         "yaxis": "y"
        },
        {
         "line": {
          "color": "black"
         },
         "mode": "lines",
         "name": "markers",
         "type": "scatter",
         "x": {
          "bdata": "AAAAAAAAAADmFLycgrdqQOYUvJyCt3pArA+N9aEJhEDmFLycgreKQBCN9aGxspBArA+N9aEJlEBJkiRJkmCXQOYUvJyCt5pAg5dT8HIOnkAQjfWhsbKgQF5OwcspXqJArA+N9aEJpED70FgfGrWlQEmSJEmSYKdAmFPwcgoMqUDmFLycgreqQDTWh8b6YqxAg5dT8HIOrkDRWB8a67mvQBCN9aGxsrBAt23btm2IsUBeTsHLKV6yQAUvp+DlM7NArA+N9aEJtEBU8HIKXt+0QPvQWB8atbVAorE+NNaKtkBJkiRJkmC3QPByCl5ONrhAmFPwcgoMuUA/NNaHxuG5QOYUvJyCt7pAjfWhsT6Nu0A01ofG+mK8QNy2bdu2OL1Ag5dT8HIOvkAqeDkFL+S+QNFYHxrrub9AvJyCl9NHwEAQjfWhsbLAQGN9aKyPHcFAt23btm2IwUALXk7BS/PBQF5OwcspXsJAsj401gfJwkAFL6fg5TPDQFkfGuvDnsNArA+N9aEJxEAAAAAAgHTEQA==",
          "dtype": "f8"
         },
         "y": {
          "bdata": "AAAAAAAAAADmFLycgrdqQOYUvJyCt3pArA+N9aEJhEDmFLycgreKQBCN9aGxspBArA+N9aEJlEBJkiRJkmCXQOYUvJyCt5pAg5dT8HIOnkAQjfWhsbKgQF5OwcspXqJArA+N9aEJpED70FgfGrWlQEmSJEmSYKdAmFPwcgoMqUDmFLycgreqQDTWh8b6YqxAg5dT8HIOrkDRWB8a67mvQBCN9aGxsrBAt23btm2IsUBeTsHLKV6yQAUvp+DlM7NArA+N9aEJtEBU8HIKXt+0QPvQWB8atbVAorE+NNaKtkBJkiRJkmC3QPByCl5ONrhAmFPwcgoMuUA/NNaHxuG5QOYUvJyCt7pAjfWhsT6Nu0A01ofG+mK8QNy2bdu2OL1Ag5dT8HIOvkAqeDkFL+S+QNFYHxrrub9AvJyCl9NHwEAQjfWhsbLAQGN9aKyPHcFAt23btm2IwUALXk7BS/PBQF5OwcspXsJAsj401gfJwkAFL6fg5TPDQFkfGuvDnsNArA+N9aEJxEAAAAAAgHTEQA==",
          "dtype": "f8"
         }
        }
       ],
       "layout": {
        "legend": {
         "tracegroupgap": 0
        },
        "margin": {
         "t": 60
        },
        "showlegend": false,
        "template": {
         "data": {
          "bar": [
           {
            "error_x": {
             "color": "#2a3f5f"
            },
            "error_y": {
             "color": "#2a3f5f"
            },
            "marker": {
             "line": {
              "color": "white",
              "width": 0.5
             },
             "pattern": {
              "fillmode": "overlay",
              "size": 10,
              "solidity": 0.2
             }
            },
            "type": "bar"
           }
          ],
          "barpolar": [
           {
            "marker": {
             "line": {
              "color": "white",
              "width": 0.5
             },
             "pattern": {
              "fillmode": "overlay",
              "size": 10,
              "solidity": 0.2
             }
            },
            "type": "barpolar"
           }
          ],
          "carpet": [
           {
            "aaxis": {
             "endlinecolor": "#2a3f5f",
             "gridcolor": "#C8D4E3",
             "linecolor": "#C8D4E3",
             "minorgridcolor": "#C8D4E3",
             "startlinecolor": "#2a3f5f"
            },
            "baxis": {
             "endlinecolor": "#2a3f5f",
             "gridcolor": "#C8D4E3",
             "linecolor": "#C8D4E3",
             "minorgridcolor": "#C8D4E3",
             "startlinecolor": "#2a3f5f"
            },
            "type": "carpet"
           }
          ],
          "choropleth": [
           {
            "colorbar": {
             "outlinewidth": 0,
             "ticks": ""
            },
            "type": "choropleth"
           }
          ],
          "contour": [
           {
            "colorbar": {
             "outlinewidth": 0,
             "ticks": ""
            },
            "colorscale": [
             [
              0,
              "#0d0887"
             ],
             [
              0.1111111111111111,
              "#46039f"
             ],
             [
              0.2222222222222222,
              "#7201a8"
             ],
             [
              0.3333333333333333,
              "#9c179e"
             ],
             [
              0.4444444444444444,
              "#bd3786"
             ],
             [
              0.5555555555555556,
              "#d8576b"
             ],
             [
              0.6666666666666666,
              "#ed7953"
             ],
             [
              0.7777777777777778,
              "#fb9f3a"
             ],
             [
              0.8888888888888888,
              "#fdca26"
             ],
             [
              1,
              "#f0f921"
             ]
            ],
            "type": "contour"
           }
          ],
          "contourcarpet": [
           {
            "colorbar": {
             "outlinewidth": 0,
             "ticks": ""
            },
            "type": "contourcarpet"
           }
          ],
          "heatmap": [
           {
            "colorbar": {
             "outlinewidth": 0,
             "ticks": ""
            },
            "colorscale": [
             [
              0,
              "#0d0887"
             ],
             [
              0.1111111111111111,
              "#46039f"
             ],
             [
              0.2222222222222222,
              "#7201a8"
             ],
             [
              0.3333333333333333,
              "#9c179e"
             ],
             [
              0.4444444444444444,
              "#bd3786"
             ],
             [
              0.5555555555555556,
              "#d8576b"
             ],
             [
              0.6666666666666666,
              "#ed7953"
             ],
             [
              0.7777777777777778,
              "#fb9f3a"
             ],
             [
              0.8888888888888888,
              "#fdca26"
             ],
             [
              1,
              "#f0f921"
             ]
            ],
            "type": "heatmap"
           }
          ],
          "histogram": [
           {
            "marker": {
             "pattern": {
              "fillmode": "overlay",
              "size": 10,
              "solidity": 0.2
             }
            },
            "type": "histogram"
           }
          ],
          "histogram2d": [
           {
            "colorbar": {
             "outlinewidth": 0,
             "ticks": ""
            },
            "colorscale": [
             [
              0,
              "#0d0887"
             ],
             [
              0.1111111111111111,
              "#46039f"
             ],
             [
              0.2222222222222222,
              "#7201a8"
             ],
             [
              0.3333333333333333,
              "#9c179e"
             ],
             [
              0.4444444444444444,
              "#bd3786"
             ],
             [
              0.5555555555555556,
              "#d8576b"
             ],
             [
              0.6666666666666666,
              "#ed7953"
             ],
             [
              0.7777777777777778,
              "#fb9f3a"
             ],
             [
              0.8888888888888888,
              "#fdca26"
             ],
             [
              1,
              "#f0f921"
             ]
            ],
            "type": "histogram2d"
           }
          ],
          "histogram2dcontour": [
           {
            "colorbar": {
             "outlinewidth": 0,
             "ticks": ""
            },
            "colorscale": [
             [
              0,
              "#0d0887"
             ],
             [
              0.1111111111111111,
              "#46039f"
             ],
             [
              0.2222222222222222,
              "#7201a8"
             ],
             [
              0.3333333333333333,
              "#9c179e"
             ],
             [
              0.4444444444444444,
              "#bd3786"
             ],
             [
              0.5555555555555556,
              "#d8576b"
             ],
             [
              0.6666666666666666,
              "#ed7953"
             ],
             [
              0.7777777777777778,
              "#fb9f3a"
             ],
             [
              0.8888888888888888,
              "#fdca26"
             ],
             [
              1,
              "#f0f921"
             ]
            ],
            "type": "histogram2dcontour"
           }
          ],
          "mesh3d": [
           {
            "colorbar": {
             "outlinewidth": 0,
             "ticks": ""
            },
            "type": "mesh3d"
           }
          ],
          "parcoords": [
           {
            "line": {
             "colorbar": {
              "outlinewidth": 0,
              "ticks": ""
             }
            },
            "type": "parcoords"
           }
          ],
          "pie": [
           {
            "automargin": true,
            "type": "pie"
           }
          ],
          "scatter": [
           {
            "fillpattern": {
             "fillmode": "overlay",
             "size": 10,
             "solidity": 0.2
            },
            "type": "scatter"
           }
          ],
          "scatter3d": [
           {
            "line": {
             "colorbar": {
              "outlinewidth": 0,
              "ticks": ""
             }
            },
            "marker": {
             "colorbar": {
              "outlinewidth": 0,
              "ticks": ""
             }
            },
            "type": "scatter3d"
           }
          ],
          "scattercarpet": [
           {
            "marker": {
             "colorbar": {
              "outlinewidth": 0,
              "ticks": ""
             }
            },
            "type": "scattercarpet"
           }
          ],
          "scattergeo": [
           {
            "marker": {
             "colorbar": {
              "outlinewidth": 0,
              "ticks": ""
             }
            },
            "type": "scattergeo"
           }
          ],
          "scattergl": [
           {
            "marker": {
             "colorbar": {
              "outlinewidth": 0,
              "ticks": ""
             }
            },
            "type": "scattergl"
           }
          ],
          "scattermap": [
           {
            "marker": {
             "colorbar": {
              "outlinewidth": 0,
              "ticks": ""
             }
            },
            "type": "scattermap"
           }
          ],
          "scattermapbox": [
           {
            "marker": {
             "colorbar": {
              "outlinewidth": 0,
              "ticks": ""
             }
            },
            "type": "scattermapbox"
           }
          ],
          "scatterpolar": [
           {
            "marker": {
             "colorbar": {
              "outlinewidth": 0,
              "ticks": ""
             }
            },
            "type": "scatterpolar"
           }
          ],
          "scatterpolargl": [
           {
            "marker": {
             "colorbar": {
              "outlinewidth": 0,
              "ticks": ""
             }
            },
            "type": "scatterpolargl"
           }
          ],
          "scatterternary": [
           {
            "marker": {
             "colorbar": {
              "outlinewidth": 0,
              "ticks": ""
             }
            },
            "type": "scatterternary"
           }
          ],
          "surface": [
           {
            "colorbar": {
             "outlinewidth": 0,
             "ticks": ""
            },
            "colorscale": [
             [
              0,
              "#0d0887"
             ],
             [
              0.1111111111111111,
              "#46039f"
             ],
             [
              0.2222222222222222,
              "#7201a8"
             ],
             [
              0.3333333333333333,
              "#9c179e"
             ],
             [
              0.4444444444444444,
              "#bd3786"
             ],
             [
              0.5555555555555556,
              "#d8576b"
             ],
             [
              0.6666666666666666,
              "#ed7953"
             ],
             [
              0.7777777777777778,
              "#fb9f3a"
             ],
             [
              0.8888888888888888,
              "#fdca26"
             ],
             [
              1,
              "#f0f921"
             ]
            ],
            "type": "surface"
           }
          ],
          "table": [
           {
            "cells": {
             "fill": {
              "color": "#EBF0F8"
             },
             "line": {
              "color": "white"
             }
            },
            "header": {
             "fill": {
              "color": "#C8D4E3"
             },
             "line": {
              "color": "white"
             }
            },
            "type": "table"
           }
          ]
         },
         "layout": {
          "annotationdefaults": {
           "arrowcolor": "#2a3f5f",
           "arrowhead": 0,
           "arrowwidth": 1
          },
          "autotypenumbers": "strict",
          "coloraxis": {
           "colorbar": {
            "outlinewidth": 0,
            "ticks": ""
           }
          },
          "colorscale": {
           "diverging": [
            [
             0,
             "#8e0152"
            ],
            [
             0.1,
             "#c51b7d"
            ],
            [
             0.2,
             "#de77ae"
            ],
            [
             0.3,
             "#f1b6da"
            ],
            [
             0.4,
             "#fde0ef"
            ],
            [
             0.5,
             "#f7f7f7"
            ],
            [
             0.6,
             "#e6f5d0"
            ],
            [
             0.7,
             "#b8e186"
            ],
            [
             0.8,
             "#7fbc41"
            ],
            [
             0.9,
             "#4d9221"
            ],
            [
             1,
             "#276419"
            ]
           ],
           "sequential": [
            [
             0,
             "#0d0887"
            ],
            [
             0.1111111111111111,
             "#46039f"
            ],
            [
             0.2222222222222222,
             "#7201a8"
            ],
            [
             0.3333333333333333,
             "#9c179e"
            ],
            [
             0.4444444444444444,
             "#bd3786"
            ],
            [
             0.5555555555555556,
             "#d8576b"
            ],
            [
             0.6666666666666666,
             "#ed7953"
            ],
            [
             0.7777777777777778,
             "#fb9f3a"
            ],
            [
             0.8888888888888888,
             "#fdca26"
            ],
            [
             1,
             "#f0f921"
            ]
           ],
           "sequentialminus": [
            [
             0,
             "#0d0887"
            ],
            [
             0.1111111111111111,
             "#46039f"
            ],
            [
             0.2222222222222222,
             "#7201a8"
            ],
            [
             0.3333333333333333,
             "#9c179e"
            ],
            [
             0.4444444444444444,
             "#bd3786"
            ],
            [
             0.5555555555555556,
             "#d8576b"
            ],
            [
             0.6666666666666666,
             "#ed7953"
            ],
            [
             0.7777777777777778,
             "#fb9f3a"
            ],
            [
             0.8888888888888888,
             "#fdca26"
            ],
            [
             1,
             "#f0f921"
            ]
           ]
          },
          "colorway": [
           "#636efa",
           "#EF553B",
           "#00cc96",
           "#ab63fa",
           "#FFA15A",
           "#19d3f3",
           "#FF6692",
           "#B6E880",
           "#FF97FF",
           "#FECB52"
          ],
          "font": {
           "color": "#2a3f5f"
          },
          "geo": {
           "bgcolor": "white",
           "lakecolor": "white",
           "landcolor": "white",
           "showlakes": true,
           "showland": true,
           "subunitcolor": "#C8D4E3"
          },
          "hoverlabel": {
           "align": "left"
          },
          "hovermode": "closest",
          "mapbox": {
           "style": "light"
          },
          "paper_bgcolor": "white",
          "plot_bgcolor": "white",
          "polar": {
           "angularaxis": {
            "gridcolor": "#EBF0F8",
            "linecolor": "#EBF0F8",
            "ticks": ""
           },
           "bgcolor": "white",
           "radialaxis": {
            "gridcolor": "#EBF0F8",
            "linecolor": "#EBF0F8",
            "ticks": ""
           }
          },
          "scene": {
           "xaxis": {
            "backgroundcolor": "white",
            "gridcolor": "#DFE8F3",
            "gridwidth": 2,
            "linecolor": "#EBF0F8",
            "showbackground": true,
            "ticks": "",
            "zerolinecolor": "#EBF0F8"
           },
           "yaxis": {
            "backgroundcolor": "white",
            "gridcolor": "#DFE8F3",
            "gridwidth": 2,
            "linecolor": "#EBF0F8",
            "showbackground": true,
            "ticks": "",
            "zerolinecolor": "#EBF0F8"
           },
           "zaxis": {
            "backgroundcolor": "white",
            "gridcolor": "#DFE8F3",
            "gridwidth": 2,
            "linecolor": "#EBF0F8",
            "showbackground": true,
            "ticks": "",
            "zerolinecolor": "#EBF0F8"
           }
          },
          "shapedefaults": {
           "line": {
            "color": "#2a3f5f"
           }
          },
          "ternary": {
           "aaxis": {
            "gridcolor": "#DFE8F3",
            "linecolor": "#A2B1C6",
            "ticks": ""
           },
           "baxis": {
            "gridcolor": "#DFE8F3",
            "linecolor": "#A2B1C6",
            "ticks": ""
           },
           "bgcolor": "white",
           "caxis": {
            "gridcolor": "#DFE8F3",
            "linecolor": "#A2B1C6",
            "ticks": ""
           }
          },
          "title": {
           "x": 0.05
          },
          "xaxis": {
           "automargin": true,
           "gridcolor": "#EBF0F8",
           "linecolor": "#EBF0F8",
           "ticks": "",
           "title": {
            "standoff": 15
           },
           "zerolinecolor": "#EBF0F8",
           "zerolinewidth": 2
          },
          "yaxis": {
           "automargin": true,
           "gridcolor": "#EBF0F8",
           "linecolor": "#EBF0F8",
           "ticks": "",
           "title": {
            "standoff": 15
           },
           "zerolinecolor": "#EBF0F8",
           "zerolinewidth": 2
          }
         }
        },
        "title": {
         "text": "Goodness Of Fit"
        },
        "xaxis": {
         "anchor": "y",
         "domain": [
          0,
          1
         ],
         "title": {
          "text": "Fitted"
         }
        },
        "yaxis": {
         "anchor": "x",
         "domain": [
          0,
          1
         ],
         "title": {
          "text": "Actual"
         }
        }
       }
      }
     },
     "metadata": {},
     "output_type": "display_data"
    },
    {
     "data": {
      "application/vnd.plotly.v1+json": {
       "config": {
        "plotlyServerURL": "https://plot.ly"
       },
       "data": [
        {
         "hovertemplate": "variable=wide_variable_0<br>Time=%{x}<br>value=%{y}<extra></extra>",
         "legendgroup": "wide_variable_0",
         "line": {
          "color": "#636efa",
          "dash": "solid"
         },
         "marker": {
          "symbol": "circle"
         },
         "mode": "lines",
         "name": "wide_variable_0",
         "orientation": "v",
         "showlegend": true,
         "type": "scatter",
         "x": {
          "bdata": "AAABAAIAAwAEAAUABgAHAAgACQAKAAsADAANAA4ADwAQABEAEgATABQAFQAWABcAGAAZABoAGwAcAB0AHgAfACAAIQAiACMAJAAlACYAJwAoACkAKgArACwALQAuAC8AMAAxADIAMwA0ADUANgA3ADgAOQA6ADsAPAA9AD4APwBAAEEAQgBDAEQARQBGAEcASABJAEoASwBMAE0ATgBPAFAAUQBSAFMAVABVAFYAVwBYAFkAWgBbAFwAXQBeAF8AYABhAGIAYwBkAGUAZgBnAGgAaQBqAGsAbABtAG4AbwBwAHEAcgBzAHQAdQB2AHcAeAB5AHoAewB8AH0AfgB/AIAAgQCCAIMAhACFAIYAhwCIAIkAigCLAIwAjQCOAI8AkACRAJIAkwCUAJUAlgCXAJgAmQCaAJsAnACdAJ4A",
          "dtype": "i2"
         },
         "xaxis": "x",
         "y": {
          "bdata": "AAAAAADge0AAAAAAAOCHQAAAAAAAKI9AAAAAAABYlkAAAAAAAHiLQAAAAAAAwJtAAAAAAABsn0AAAAAAAECgQAAAAAAASKZAAAAAAACYqEAAAAAAAC6rQAAAAAAA9LBAAAAAAAA7skAAAAAAABG2QAAAAAAAbbNAAAAAAAAQr0AAAAAAANamQAAAAAAAqqlAAAAAAABUp0AAAAAAAIydQAAAAAAAyJxAAAAAAADMkUAAAAAAAPiZQAAAAAAA2JdAAAAAAAAcm0AAAAAAAKCYQAAAAAAAKJBAAAAAAADoi0AAAAAAAISYQAAAAAAAOI1AAAAAAABomUAAAAAAAMCWQAAAAAAADJtAAAAAAACgn0AAAAAAACiZQAAAAAAAVJVAAAAAAAC0m0AAAAAAAKCVQAAAAAAAJJNAAAAAAADgj0AAAAAAAHCJQAAAAAAAIHxAAAAAAABYkUAAAAAAAPiaQAAAAAAAAKlAAAAAAAA8o0AAAAAAAHSrQAAAAAAA8JdAAAAAAACklEAAAAAAADCbQAAAAAAAtqNAAAAAAACgoUAAAAAAAJyrQAAAAAAAMKhAAAAAAABWrkAAAAAAAJiyQAAAAAAAUbdAAAAAAAAitEAAAAAAAE64QAAAAAAADbZAAAAAAABauEAAAAAAAMm2QAAAAAAA5rZAAAAAAAA+tUAAAAAAAHS2QAAAAAAAxLZAAAAAAACUtUAAAAAAAPKzQAAAAAAAurJAAAAAAAChsUAAAAAAAJ6uQAAAAAAAsqRAAAAAAABOpEAAAAAAAAihQAAAAAAAGJ1AAAAAAAC4m0AAAAAAAAihQAAAAAAApKBAAAAAAADTsUAAAAAAABSUQAAAAAAAnJ9AAAAAAAAcnEAAAAAAAJycQAAAAAAAyKBAAAAAAACSpEAAAAAAAFCbQAAAAAAATK1AAAAAAADkoEAAAAAAANKgQAAAAAAAAJ9AAAAAAAD4lkAAAAAAAPyeQAAAAAAAlKVAAAAAAADCqUAAAAAAAOivQAAAAAAA2LBAAAAAAADntUAAAAAAADSpQAAAAAAAhK5AAAAAAADCrkAAAAAAAKaxQAAAAAAA/7ZAAAAAAAAPsEAAAAAAAO6zQAAAAAAAmbNAAAAAAAC/tEAAAAAAAEq1QAAAAAAAgbdAAAAAAAAiuEAAAAAAAPK4QAAAAAAA5LpAAAAAAAAFuUAAAAAAABS9QAAAAACAPsBAAAAAAABsvkAAAAAAAC2/QAAAAAAA+sJAAAAAAIBQwkAAAAAAgDTDQAAAAACAdMRAAAAAAIDdwUAAAAAAgAfAQAAAAAAAyb9AAAAAAAANt0AAAAAAAFCwQAAAAAAAnLJAAAAAAADEsEAAAAAAAE+wQAAAAAAA9bNAAAAAAADEsEAAAAAAAHqjQAAAAAAA2qJAAAAAAAAUk0AAAAAAAHiPQAAAAAAAIqZAAAAAAADYiUAAAAAAAACRQAAAAAAAgJRAAAAAAAD8k0AAAAAAANSSQAAAAAAAtqNAAAAAAACwqUAAAAAAAJ6iQAAAAAAAuKZAAAAAAAAmqEAAAAAAABKrQAAAAAAAgqxAAAAAAADVskAAAAAAAIG0QAAAAAAAcLdAAAAAAAASsUAAAAAAAJeyQAAAAAAAaqRAAAAAAACqqkAAAAAAAL6lQAAAAAAAAKJAAAAAAAAIlkAAAAAAACiSQAAAAAAAbqVA",
          "dtype": "f8"
         },
         "yaxis": "y"
        },
        {
         "hovertemplate": "variable=wide_variable_1<br>Time=%{x}<br>value=%{y}<extra></extra>",
         "legendgroup": "wide_variable_1",
         "line": {
          "color": "#EF553B",
          "dash": "solid"
         },
         "marker": {
          "symbol": "circle"
         },
         "mode": "lines",
         "name": "wide_variable_1",
         "orientation": "v",
         "showlegend": true,
         "type": "scatter",
         "x": {
          "bdata": "AAABAAIAAwAEAAUABgAHAAgACQAKAAsADAANAA4ADwAQABEAEgATABQAFQAWABcAGAAZABoAGwAcAB0AHgAfACAAIQAiACMAJAAlACYAJwAoACkAKgArACwALQAuAC8AMAAxADIAMwA0ADUANgA3ADgAOQA6ADsAPAA9AD4APwBAAEEAQgBDAEQARQBGAEcASABJAEoASwBMAE0ATgBPAFAAUQBSAFMAVABVAFYAVwBYAFkAWgBbAFwAXQBeAF8AYABhAGIAYwBkAGUAZgBnAGgAaQBqAGsAbABtAG4AbwBwAHEAcgBzAHQAdQB2AHcAeAB5AHoAewB8AH0AfgB/AIAAgQCCAIMAhACFAIYAhwCIAIkAigCLAIwAjQCOAI8AkACRAJIAkwCUAJUAlgCXAJgAmQCaAJsAnACdAJ4A",
          "dtype": "i2"
         },
         "xaxis": "x",
         "y": {
          "bdata": "RLdUWQXXiUDpVtLDNguVQDeUL6PZtZRAPxBCZUcYmkANVsVjejOXQOV1qz6tTqJAV33wZiEkp0DwiHE8Y4mmQM/fnQahiqlA35deye9Zq0A7CaGpfyesQO4dd8FhL69A87CC8iifrkBAGeLaaN6uQG7u863h769ATKznh2aprUATFgdk/aWwQJVJCu/VxrBAe2ZuOI3irUDrG5x5hDupQJUySi1BqqVAr2S5M5AsoUAjSdAWqTGaQGk/UFBymJlAb+qIXdgZhEBnbBMWbvCNQCxnh+e6LYRAg4DSVyOTikDMbTcGl86CQMCbgT0+4YVARI5X0UE4kECHEMXTu8WSQGfzItOkRJNAl3s5khYJnkCixXem2YKbQPOfjEZsZ5hA4vVbwA8PkUAOyxTpmZ6XQNNHFpzXo5ZAb1eGouTqnUBWdp3ErFuYQFA/ordSwZZAeAaVpYL4mkDHqza0+6SeQH+/yMLUMaNAbex010XYnUC1AEY1gzegQDaP8I36kZtAUYDnp4AioECafuXuGZmiQIrnVP4EN6NAnPIJuGy2pUBjjKi83AGrQLk3DVBUIqhAaYgSQx8Uq0DO9KfzImCtQLXz/fZJ9bFAADe1f3SssUD+A0+QrHezQCRz4NlLOLVAKs/hfomttEBdpU3QWZqzQICv5QK+TbRAwSZ9lFdGtEAbb/F11zazQK+CjHcY4bNAqetgBnfcskAArtwzXRiyQErvrS/WgbBAjc7E7tryr0AQfqU5SNquQCIjqKU7ZKtA9sB9O0Kep0AOmDoyPTynQLq7LqYWvqNAWVV/vU9xnUC8o/r0fmGcQLQ8uRMk4phApg3nx00unkAGSQ4aeYuWQK3IyNTYEY9Av6SI2jn2lkA7SekyajygQLyIa7vP66BAEDfFc3Oeo0BHOMMH/bujQP8WALbN+KpAYHV6MaUCpkCscDR+SGinQDuL8tbKRKlAQLFpF8nvqEDzNv9sIjafQKt3Nlldv6pAtDwIdNcMrEDSZryOGRWtQC2oaHgk+6tALXpT5/HGr0BoTtH6jXarQJUMVBDmlqxAl1B9Hatmr0CkIzPyFniwQNrLds/k+rBASuhjKcJbsUDfJ3TUhsGwQPofd3VKerJAgIYvXmhwtEB0l+q9q+S1QBCqOpzFrrdA30EMhFv0uUAtZ6AVZBW6QE31WUC3KbxAbStynicZvkDSfI1U8zPBQPJaD8RA2cFAFMCrlWtTwEAIMEuf4KnAQOhQ0ehKnMFAFnzF7VJlwUBjgJwYgWDBQC4l/o8f/8FAL5SOoWiEwUDt5OR0SLLAQORmgey2Tb5Ai2KMrWTkukA1cTMn7LS2QE7xpjwNNLVAZCWO7oP9skDSidqTR2mxQO0wWss+IbNAEGHfqXKIr0C5L6I8U/2eQHqmEarlhZ5APzMRGyTunEBym/ILaseaQLYsMHQ+855ApRkiX+0ymUCNvAaNuWWaQF5xhKlQAJlABoNs41LUmECz74uS6zaHQOgJiYMNIqFATA+K235ipUDvDcMXt3yjQPGGH85GCKRAgXyuzCHJokAETRx7wjKqQDugH0lsGKlATdCnQxdJskCbEc9A36mxQMMx3OtIK7FAd9xaoVSos0AsmH1alDeyQOHA7CEDxqxAIqLQuylxpECtJo7k+tujQLXELUsY6KRAqheMAfNCpUAT6h/R9p6kQKTXhHdYo6ZA",
          "dtype": "f8"
         },
         "yaxis": "y"
        }
       ],
       "layout": {
        "legend": {
         "title": {
          "text": "variable"
         },
         "tracegroupgap": 0
        },
        "showlegend": false,
        "template": {
         "data": {
          "bar": [
           {
            "error_x": {
             "color": "#2a3f5f"
            },
            "error_y": {
             "color": "#2a3f5f"
            },
            "marker": {
             "line": {
              "color": "white",
              "width": 0.5
             },
             "pattern": {
              "fillmode": "overlay",
              "size": 10,
              "solidity": 0.2
             }
            },
            "type": "bar"
           }
          ],
          "barpolar": [
           {
            "marker": {
             "line": {
              "color": "white",
              "width": 0.5
             },
             "pattern": {
              "fillmode": "overlay",
              "size": 10,
              "solidity": 0.2
             }
            },
            "type": "barpolar"
           }
          ],
          "carpet": [
           {
            "aaxis": {
             "endlinecolor": "#2a3f5f",
             "gridcolor": "#C8D4E3",
             "linecolor": "#C8D4E3",
             "minorgridcolor": "#C8D4E3",
             "startlinecolor": "#2a3f5f"
            },
            "baxis": {
             "endlinecolor": "#2a3f5f",
             "gridcolor": "#C8D4E3",
             "linecolor": "#C8D4E3",
             "minorgridcolor": "#C8D4E3",
             "startlinecolor": "#2a3f5f"
            },
            "type": "carpet"
           }
          ],
          "choropleth": [
           {
            "colorbar": {
             "outlinewidth": 0,
             "ticks": ""
            },
            "type": "choropleth"
           }
          ],
          "contour": [
           {
            "colorbar": {
             "outlinewidth": 0,
             "ticks": ""
            },
            "colorscale": [
             [
              0,
              "#0d0887"
             ],
             [
              0.1111111111111111,
              "#46039f"
             ],
             [
              0.2222222222222222,
              "#7201a8"
             ],
             [
              0.3333333333333333,
              "#9c179e"
             ],
             [
              0.4444444444444444,
              "#bd3786"
             ],
             [
              0.5555555555555556,
              "#d8576b"
             ],
             [
              0.6666666666666666,
              "#ed7953"
             ],
             [
              0.7777777777777778,
              "#fb9f3a"
             ],
             [
              0.8888888888888888,
              "#fdca26"
             ],
             [
              1,
              "#f0f921"
             ]
            ],
            "type": "contour"
           }
          ],
          "contourcarpet": [
           {
            "colorbar": {
             "outlinewidth": 0,
             "ticks": ""
            },
            "type": "contourcarpet"
           }
          ],
          "heatmap": [
           {
            "colorbar": {
             "outlinewidth": 0,
             "ticks": ""
            },
            "colorscale": [
             [
              0,
              "#0d0887"
             ],
             [
              0.1111111111111111,
              "#46039f"
             ],
             [
              0.2222222222222222,
              "#7201a8"
             ],
             [
              0.3333333333333333,
              "#9c179e"
             ],
             [
              0.4444444444444444,
              "#bd3786"
             ],
             [
              0.5555555555555556,
              "#d8576b"
             ],
             [
              0.6666666666666666,
              "#ed7953"
             ],
             [
              0.7777777777777778,
              "#fb9f3a"
             ],
             [
              0.8888888888888888,
              "#fdca26"
             ],
             [
              1,
              "#f0f921"
             ]
            ],
            "type": "heatmap"
           }
          ],
          "histogram": [
           {
            "marker": {
             "pattern": {
              "fillmode": "overlay",
              "size": 10,
              "solidity": 0.2
             }
            },
            "type": "histogram"
           }
          ],
          "histogram2d": [
           {
            "colorbar": {
             "outlinewidth": 0,
             "ticks": ""
            },
            "colorscale": [
             [
              0,
              "#0d0887"
             ],
             [
              0.1111111111111111,
              "#46039f"
             ],
             [
              0.2222222222222222,
              "#7201a8"
             ],
             [
              0.3333333333333333,
              "#9c179e"
             ],
             [
              0.4444444444444444,
              "#bd3786"
             ],
             [
              0.5555555555555556,
              "#d8576b"
             ],
             [
              0.6666666666666666,
              "#ed7953"
             ],
             [
              0.7777777777777778,
              "#fb9f3a"
             ],
             [
              0.8888888888888888,
              "#fdca26"
             ],
             [
              1,
              "#f0f921"
             ]
            ],
            "type": "histogram2d"
           }
          ],
          "histogram2dcontour": [
           {
            "colorbar": {
             "outlinewidth": 0,
             "ticks": ""
            },
            "colorscale": [
             [
              0,
              "#0d0887"
             ],
             [
              0.1111111111111111,
              "#46039f"
             ],
             [
              0.2222222222222222,
              "#7201a8"
             ],
             [
              0.3333333333333333,
              "#9c179e"
             ],
             [
              0.4444444444444444,
              "#bd3786"
             ],
             [
              0.5555555555555556,
              "#d8576b"
             ],
             [
              0.6666666666666666,
              "#ed7953"
             ],
             [
              0.7777777777777778,
              "#fb9f3a"
             ],
             [
              0.8888888888888888,
              "#fdca26"
             ],
             [
              1,
              "#f0f921"
             ]
            ],
            "type": "histogram2dcontour"
           }
          ],
          "mesh3d": [
           {
            "colorbar": {
             "outlinewidth": 0,
             "ticks": ""
            },
            "type": "mesh3d"
           }
          ],
          "parcoords": [
           {
            "line": {
             "colorbar": {
              "outlinewidth": 0,
              "ticks": ""
             }
            },
            "type": "parcoords"
           }
          ],
          "pie": [
           {
            "automargin": true,
            "type": "pie"
           }
          ],
          "scatter": [
           {
            "fillpattern": {
             "fillmode": "overlay",
             "size": 10,
             "solidity": 0.2
            },
            "type": "scatter"
           }
          ],
          "scatter3d": [
           {
            "line": {
             "colorbar": {
              "outlinewidth": 0,
              "ticks": ""
             }
            },
            "marker": {
             "colorbar": {
              "outlinewidth": 0,
              "ticks": ""
             }
            },
            "type": "scatter3d"
           }
          ],
          "scattercarpet": [
           {
            "marker": {
             "colorbar": {
              "outlinewidth": 0,
              "ticks": ""
             }
            },
            "type": "scattercarpet"
           }
          ],
          "scattergeo": [
           {
            "marker": {
             "colorbar": {
              "outlinewidth": 0,
              "ticks": ""
             }
            },
            "type": "scattergeo"
           }
          ],
          "scattergl": [
           {
            "marker": {
             "colorbar": {
              "outlinewidth": 0,
              "ticks": ""
             }
            },
            "type": "scattergl"
           }
          ],
          "scattermap": [
           {
            "marker": {
             "colorbar": {
              "outlinewidth": 0,
              "ticks": ""
             }
            },
            "type": "scattermap"
           }
          ],
          "scattermapbox": [
           {
            "marker": {
             "colorbar": {
              "outlinewidth": 0,
              "ticks": ""
             }
            },
            "type": "scattermapbox"
           }
          ],
          "scatterpolar": [
           {
            "marker": {
             "colorbar": {
              "outlinewidth": 0,
              "ticks": ""
             }
            },
            "type": "scatterpolar"
           }
          ],
          "scatterpolargl": [
           {
            "marker": {
             "colorbar": {
              "outlinewidth": 0,
              "ticks": ""
             }
            },
            "type": "scatterpolargl"
           }
          ],
          "scatterternary": [
           {
            "marker": {
             "colorbar": {
              "outlinewidth": 0,
              "ticks": ""
             }
            },
            "type": "scatterternary"
           }
          ],
          "surface": [
           {
            "colorbar": {
             "outlinewidth": 0,
             "ticks": ""
            },
            "colorscale": [
             [
              0,
              "#0d0887"
             ],
             [
              0.1111111111111111,
              "#46039f"
             ],
             [
              0.2222222222222222,
              "#7201a8"
             ],
             [
              0.3333333333333333,
              "#9c179e"
             ],
             [
              0.4444444444444444,
              "#bd3786"
             ],
             [
              0.5555555555555556,
              "#d8576b"
             ],
             [
              0.6666666666666666,
              "#ed7953"
             ],
             [
              0.7777777777777778,
              "#fb9f3a"
             ],
             [
              0.8888888888888888,
              "#fdca26"
             ],
             [
              1,
              "#f0f921"
             ]
            ],
            "type": "surface"
           }
          ],
          "table": [
           {
            "cells": {
             "fill": {
              "color": "#EBF0F8"
             },
             "line": {
              "color": "white"
             }
            },
            "header": {
             "fill": {
              "color": "#C8D4E3"
             },
             "line": {
              "color": "white"
             }
            },
            "type": "table"
           }
          ]
         },
         "layout": {
          "annotationdefaults": {
           "arrowcolor": "#2a3f5f",
           "arrowhead": 0,
           "arrowwidth": 1
          },
          "autotypenumbers": "strict",
          "coloraxis": {
           "colorbar": {
            "outlinewidth": 0,
            "ticks": ""
           }
          },
          "colorscale": {
           "diverging": [
            [
             0,
             "#8e0152"
            ],
            [
             0.1,
             "#c51b7d"
            ],
            [
             0.2,
             "#de77ae"
            ],
            [
             0.3,
             "#f1b6da"
            ],
            [
             0.4,
             "#fde0ef"
            ],
            [
             0.5,
             "#f7f7f7"
            ],
            [
             0.6,
             "#e6f5d0"
            ],
            [
             0.7,
             "#b8e186"
            ],
            [
             0.8,
             "#7fbc41"
            ],
            [
             0.9,
             "#4d9221"
            ],
            [
             1,
             "#276419"
            ]
           ],
           "sequential": [
            [
             0,
             "#0d0887"
            ],
            [
             0.1111111111111111,
             "#46039f"
            ],
            [
             0.2222222222222222,
             "#7201a8"
            ],
            [
             0.3333333333333333,
             "#9c179e"
            ],
            [
             0.4444444444444444,
             "#bd3786"
            ],
            [
             0.5555555555555556,
             "#d8576b"
            ],
            [
             0.6666666666666666,
             "#ed7953"
            ],
            [
             0.7777777777777778,
             "#fb9f3a"
            ],
            [
             0.8888888888888888,
             "#fdca26"
            ],
            [
             1,
             "#f0f921"
            ]
           ],
           "sequentialminus": [
            [
             0,
             "#0d0887"
            ],
            [
             0.1111111111111111,
             "#46039f"
            ],
            [
             0.2222222222222222,
             "#7201a8"
            ],
            [
             0.3333333333333333,
             "#9c179e"
            ],
            [
             0.4444444444444444,
             "#bd3786"
            ],
            [
             0.5555555555555556,
             "#d8576b"
            ],
            [
             0.6666666666666666,
             "#ed7953"
            ],
            [
             0.7777777777777778,
             "#fb9f3a"
            ],
            [
             0.8888888888888888,
             "#fdca26"
            ],
            [
             1,
             "#f0f921"
            ]
           ]
          },
          "colorway": [
           "#636efa",
           "#EF553B",
           "#00cc96",
           "#ab63fa",
           "#FFA15A",
           "#19d3f3",
           "#FF6692",
           "#B6E880",
           "#FF97FF",
           "#FECB52"
          ],
          "font": {
           "color": "#2a3f5f"
          },
          "geo": {
           "bgcolor": "white",
           "lakecolor": "white",
           "landcolor": "white",
           "showlakes": true,
           "showland": true,
           "subunitcolor": "#C8D4E3"
          },
          "hoverlabel": {
           "align": "left"
          },
          "hovermode": "closest",
          "mapbox": {
           "style": "light"
          },
          "paper_bgcolor": "white",
          "plot_bgcolor": "white",
          "polar": {
           "angularaxis": {
            "gridcolor": "#EBF0F8",
            "linecolor": "#EBF0F8",
            "ticks": ""
           },
           "bgcolor": "white",
           "radialaxis": {
            "gridcolor": "#EBF0F8",
            "linecolor": "#EBF0F8",
            "ticks": ""
           }
          },
          "scene": {
           "xaxis": {
            "backgroundcolor": "white",
            "gridcolor": "#DFE8F3",
            "gridwidth": 2,
            "linecolor": "#EBF0F8",
            "showbackground": true,
            "ticks": "",
            "zerolinecolor": "#EBF0F8"
           },
           "yaxis": {
            "backgroundcolor": "white",
            "gridcolor": "#DFE8F3",
            "gridwidth": 2,
            "linecolor": "#EBF0F8",
            "showbackground": true,
            "ticks": "",
            "zerolinecolor": "#EBF0F8"
           },
           "zaxis": {
            "backgroundcolor": "white",
            "gridcolor": "#DFE8F3",
            "gridwidth": 2,
            "linecolor": "#EBF0F8",
            "showbackground": true,
            "ticks": "",
            "zerolinecolor": "#EBF0F8"
           }
          },
          "shapedefaults": {
           "line": {
            "color": "#2a3f5f"
           }
          },
          "ternary": {
           "aaxis": {
            "gridcolor": "#DFE8F3",
            "linecolor": "#A2B1C6",
            "ticks": ""
           },
           "baxis": {
            "gridcolor": "#DFE8F3",
            "linecolor": "#A2B1C6",
            "ticks": ""
           },
           "bgcolor": "white",
           "caxis": {
            "gridcolor": "#DFE8F3",
            "linecolor": "#A2B1C6",
            "ticks": ""
           }
          },
          "title": {
           "x": 0.05
          },
          "xaxis": {
           "automargin": true,
           "gridcolor": "#EBF0F8",
           "linecolor": "#EBF0F8",
           "ticks": "",
           "title": {
            "standoff": 15
           },
           "zerolinecolor": "#EBF0F8",
           "zerolinewidth": 2
          },
          "yaxis": {
           "automargin": true,
           "gridcolor": "#EBF0F8",
           "linecolor": "#EBF0F8",
           "ticks": "",
           "title": {
            "standoff": 15
           },
           "zerolinecolor": "#EBF0F8",
           "zerolinewidth": 2
          }
         }
        },
        "title": {
         "text": "Compare Fitted & Actual"
        },
        "xaxis": {
         "anchor": "y",
         "domain": [
          0,
          1
         ],
         "title": {
          "text": "Time"
         }
        },
        "yaxis": {
         "anchor": "x",
         "domain": [
          0,
          1
         ],
         "title": {
          "text": "value"
         }
        }
       }
      }
     },
     "metadata": {},
     "output_type": "display_data"
    },
    {
     "name": "stdout",
     "output_type": "stream",
     "text": [
      "MAE: 596.4092069878992\n"
     ]
    }
   ],
   "source": [
    "model = fit_lr_model(regression_df, regressors)\n",
    "evaluate_model(model, regression_df)"
   ]
  },
  {
   "cell_type": "code",
   "execution_count": 49,
   "metadata": {},
   "outputs": [
    {
     "data": {
      "image/png": "[encoded data removed]",
      "text/plain": [
       "<Figure size 1000x1000 with 2 Axes>"
      ]
     },
     "metadata": {},
     "output_type": "display_data"
    }
   ],
   "source": [
    "# Collinearity Inspection\n",
    "\n",
    "plt.figure(figsize=(10, 10))\n",
    "sns.heatmap(regression_df.to_pandas()[regressors + [target]].corr(), annot=True, cmap= sns.color_palette(\"ch:start=.2,rot=-.3\", as_cmap=True), linewidths=0.5)\n",
    "plt.title('Macro Effect Correlation')\n",
    "plt.show()"
   ]
  },
  {
   "cell_type": "code",
   "execution_count": null,
   "metadata": {},
   "outputs": [],
   "source": []
  }
 ],
 "metadata": {
  "kernelspec": {
   "display_name": "env_Bayes",
   "language": "python",
   "name": "python3"
  },
  "language_info": {
   "codemirror_mode": {
    "name": "ipython",
    "version": 3
   },
   "file_extension": ".py",
   "mimetype": "text/x-python",
   "name": "python",
   "nbconvert_exporter": "python",
   "pygments_lexer": "ipython3",
   "version": "3.11.11"
  }
 },
 "nbformat": 4,
 "nbformat_minor": 2
}
