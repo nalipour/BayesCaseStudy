{
 "cells": [
  {
   "cell_type": "markdown",
   "metadata": {},
   "source": [
    "# Explanatory Analysis"
   ]
  },
  {
   "cell_type": "markdown",
   "metadata": {},
   "source": [
    "Set up libraries"
   ]
  },
  {
   "cell_type": "code",
   "execution_count": 1,
   "metadata": {},
   "outputs": [],
   "source": [
    "from typing import List\n",
    "\n",
    "import pymc\n",
    "import arviz\n",
    "import pytensor.tensor as pt\n",
    "from scipy.stats import kstest, lognorm, norm, beta, truncnorm, halfnorm, ks_1samp\n",
    "import scipy.stats as stats\n",
    "\n",
    "from typing import Any\n",
    "from pymc.distributions.dist_math import check_parameters\n",
    "\n",
    "\n",
    "import plotly.graph_objects as go\n",
    "import plotly.graph_objects as go\n",
    "from plotly.subplots import make_subplots\n",
    "import matplotlib.pyplot as plt\n",
    "import numpy as np\n",
    "import plotly.graph_objects as go\n",
    "from ipywidgets import FloatSlider, interactive, VBox, HBox, Checkbox, FloatText\n",
    "import ipywidgets as widgets\n",
    "from IPython.display import display\n",
    "from ipywidgets import interact, interactive\n",
    "import plotly.figure_factory as ff\n",
    "import pytensor.tensor as pt\n",
    "from pytensor.scan import scan\n",
    "\n",
    "\n",
    "\n",
    "import polars as pl\n",
    "import numpy as np\n",
    "import plotly.express as px\n",
    "from sklearn.metrics import r2_score, mean_absolute_error\n",
    "\n",
    "import plotly.graph_objects as go"
   ]
  },
  {
   "cell_type": "code",
   "execution_count": 2,
   "metadata": {},
   "outputs": [],
   "source": [
    "import plotly.io as pio\n",
    "pio.templates.default = 'plotly_white'\n"
   ]
  },
  {
   "cell_type": "code",
   "execution_count": 3,
   "metadata": {},
   "outputs": [
    {
     "data": {
      "text/html": [
       "<div><style>\n",
       ".dataframe > thead > tr,\n",
       ".dataframe > tbody > tr {\n",
       "  text-align: right;\n",
       "  white-space: pre-wrap;\n",
       "}\n",
       "</style>\n",
       "<small>shape: (4, 19)</small><table border=\"1\" class=\"dataframe\"><thead><tr><th>week_start</th><th>new_customers</th><th>promo_investment</th><th>ppc_brand_investment</th><th>ppc_generic_investment</th><th>facebook_investment</th><th>instagram_investment</th><th>year</th><th>week</th><th>promo_investment_lag0</th><th>ppc_brand_investment_lag0</th><th>ppc_generic_investment_lag3</th><th>facebook_investment_lag2</th><th>instagram_investment_lag6</th><th>time</th><th>sin_52_1</th><th>cos_52_1</th><th>sin_52_2</th><th>cos_52_2</th></tr><tr><td>date</td><td>i64</td><td>f64</td><td>f64</td><td>f64</td><td>f64</td><td>f64</td><td>i64</td><td>i64</td><td>f64</td><td>f64</td><td>f64</td><td>f64</td><td>f64</td><td>i64</td><td>f64</td><td>f64</td><td>f64</td><td>f64</td></tr></thead><tbody><tr><td>2020-05-18</td><td>777</td><td>1304.227029</td><td>756.818857</td><td>1512.071585</td><td>297.193399</td><td>4593.059512</td><td>2020</td><td>21</td><td>1304.227029</td><td>756.818857</td><td>2300.295763</td><td>999.081772</td><td>82.890357</td><td>113</td><td>0.885456</td><td>0.464723</td><td>0.822984</td><td>-0.568065</td></tr><tr><td>2020-05-25</td><td>978</td><td>3000.504127</td><td>69.654279</td><td>399.82446</td><td>0.0</td><td>792.564928</td><td>2020</td><td>22</td><td>3000.504127</td><td>69.654279</td><td>4268.329032</td><td>637.97411</td><td>1246.32403</td><td>114</td><td>0.935016</td><td>0.354605</td><td>0.663123</td><td>-0.748511</td></tr><tr><td>2020-06-01</td><td>950</td><td>4609.816216</td><td>357.467625</td><td>471.992936</td><td>1769.420849</td><td>3281.127107</td><td>2020</td><td>23</td><td>4609.816216</td><td>357.467625</td><td>4219.098648</td><td>297.193399</td><td>1969.201111</td><td>115</td><td>0.970942</td><td>0.239316</td><td>0.464723</td><td>-0.885456</td></tr><tr><td>2020-06-08</td><td>800</td><td>3429.065037</td><td>425.663469</td><td>1181.626485</td><td>2353.024023</td><td>4510.560793</td><td>2020</td><td>24</td><td>3429.065037</td><td>425.663469</td><td>1512.071585</td><td>0.0</td><td>2889.605271</td><td>116</td><td>0.992709</td><td>0.120537</td><td>0.239316</td><td>-0.970942</td></tr></tbody></table></div>"
      ],
      "text/plain": [
       "shape: (4, 19)\n",
       "┌────────────┬────────────┬───────────┬───────────┬───┬──────────┬──────────┬──────────┬───────────┐\n",
       "│ week_start ┆ new_custom ┆ promo_inv ┆ ppc_brand ┆ … ┆ sin_52_1 ┆ cos_52_1 ┆ sin_52_2 ┆ cos_52_2  │\n",
       "│ ---        ┆ ers        ┆ estment   ┆ _investme ┆   ┆ ---      ┆ ---      ┆ ---      ┆ ---       │\n",
       "│ date       ┆ ---        ┆ ---       ┆ nt        ┆   ┆ f64      ┆ f64      ┆ f64      ┆ f64       │\n",
       "│            ┆ i64        ┆ f64       ┆ ---       ┆   ┆          ┆          ┆          ┆           │\n",
       "│            ┆            ┆           ┆ f64       ┆   ┆          ┆          ┆          ┆           │\n",
       "╞════════════╪════════════╪═══════════╪═══════════╪═══╪══════════╪══════════╪══════════╪═══════════╡\n",
       "│ 2020-05-18 ┆ 777        ┆ 1304.2270 ┆ 756.81885 ┆ … ┆ 0.885456 ┆ 0.464723 ┆ 0.822984 ┆ -0.568065 │\n",
       "│            ┆            ┆ 29        ┆ 7         ┆   ┆          ┆          ┆          ┆           │\n",
       "│ 2020-05-25 ┆ 978        ┆ 3000.5041 ┆ 69.654279 ┆ … ┆ 0.935016 ┆ 0.354605 ┆ 0.663123 ┆ -0.748511 │\n",
       "│            ┆            ┆ 27        ┆           ┆   ┆          ┆          ┆          ┆           │\n",
       "│ 2020-06-01 ┆ 950        ┆ 4609.8162 ┆ 357.46762 ┆ … ┆ 0.970942 ┆ 0.239316 ┆ 0.464723 ┆ -0.885456 │\n",
       "│            ┆            ┆ 16        ┆ 5         ┆   ┆          ┆          ┆          ┆           │\n",
       "│ 2020-06-08 ┆ 800        ┆ 3429.0650 ┆ 425.66346 ┆ … ┆ 0.992709 ┆ 0.120537 ┆ 0.239316 ┆ -0.970942 │\n",
       "│            ┆            ┆ 37        ┆ 9         ┆   ┆          ┆          ┆          ┆           │\n",
       "└────────────┴────────────┴───────────┴───────────┴───┴──────────┴──────────┴──────────┴───────────┘"
      ]
     },
     "execution_count": 3,
     "metadata": {},
     "output_type": "execute_result"
    }
   ],
   "source": [
    "data_link = \"./Data/data.csv\"\n",
    "df = pl.read_csv(data_link).with_columns(pl.col('week_start').cast(pl.Date)).sort('week_start')\n",
    "\n",
    "df.head(4)"
   ]
  },
  {
   "cell_type": "code",
   "execution_count": 4,
   "metadata": {},
   "outputs": [],
   "source": [
    "target = 'new_customers'\n",
    "date_col = 'week_start'\n",
    "raw_regressors = ['promo_investment_lag0',\n",
    " 'ppc_brand_investment_lag0',\n",
    " 'ppc_generic_investment_lag3',\n",
    " 'facebook_investment_lag2',\n",
    " 'instagram_investment_lag6',\n",
    " 'time',\n",
    " 'sin_52_1',\n",
    " 'cos_52_1',\n",
    " 'sin_52_2',\n",
    " 'cos_52_2']"
   ]
  },
  {
   "cell_type": "markdown",
   "metadata": {},
   "source": [
    "How to chose priors? Stan has the answer :wink:\n",
    "https://github.com/stan-dev/stan/wiki/Prior-Choice-Recommendations "
   ]
  },
  {
   "cell_type": "code",
   "execution_count": 5,
   "metadata": {},
   "outputs": [
    {
     "data": {
      "application/vnd.plotly.v1+json": {
       "config": {
        "plotlyServerURL": "https://plot.ly"
       },
       "data": [
        {
         "fill": "tozeroy",
         "hovertemplate": "x: %{x:.2f}PDF: %{y:.2f}",
         "line": {
          "color": "blue"
         },
         "mode": "lines",
         "name": "PDF",
         "type": "scatter",
         "x": {
          "bdata": "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",
          "dtype": "f8"
         },
         "y": {
          "bdata": "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",
          "dtype": "f8"
         }
        },
        {
         "hovertemplate": "x: %{x:.2f}CDF: %{y:.2f}",
         "line": {
          "color": "orange",
          "dash": "dot"
         },
         "mode": "lines",
         "name": "CDF",
         "type": "scatter",
         "x": {
          "bdata": "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",
          "dtype": "f8"
         },
         "y": {
          "bdata": "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",
          "dtype": "f8"
         }
        },
        {
         "marker": {
          "color": "red",
          "size": 10
         },
         "mode": "markers+text",
         "name": "Mean",
         "text": [
          "Mean: 0.29\nStd Dev: 0.16"
         ],
         "textposition": "top right",
         "type": "scatter",
         "x": [
          0.2857142857142857
         ],
         "y": [
          2.2312131849824457
         ]
        }
       ],
       "layout": {
        "height": 600,
        "template": {
         "data": {
          "bar": [
           {
            "error_x": {
             "color": "#2a3f5f"
            },
            "error_y": {
             "color": "#2a3f5f"
            },
            "marker": {
             "line": {
              "color": "white",
              "width": 0.5
             },
             "pattern": {
              "fillmode": "overlay",
              "size": 10,
              "solidity": 0.2
             }
            },
            "type": "bar"
           }
          ],
          "barpolar": [
           {
            "marker": {
             "line": {
              "color": "white",
              "width": 0.5
             },
             "pattern": {
              "fillmode": "overlay",
              "size": 10,
              "solidity": 0.2
             }
            },
            "type": "barpolar"
           }
          ],
          "carpet": [
           {
            "aaxis": {
             "endlinecolor": "#2a3f5f",
             "gridcolor": "#C8D4E3",
             "linecolor": "#C8D4E3",
             "minorgridcolor": "#C8D4E3",
             "startlinecolor": "#2a3f5f"
            },
            "baxis": {
             "endlinecolor": "#2a3f5f",
             "gridcolor": "#C8D4E3",
             "linecolor": "#C8D4E3",
             "minorgridcolor": "#C8D4E3",
             "startlinecolor": "#2a3f5f"
            },
            "type": "carpet"
           }
          ],
          "choropleth": [
           {
            "colorbar": {
             "outlinewidth": 0,
             "ticks": ""
            },
            "type": "choropleth"
           }
          ],
          "contour": [
           {
            "colorbar": {
             "outlinewidth": 0,
             "ticks": ""
            },
            "colorscale": [
             [
              0,
              "#0d0887"
             ],
             [
              0.1111111111111111,
              "#46039f"
             ],
             [
              0.2222222222222222,
              "#7201a8"
             ],
             [
              0.3333333333333333,
              "#9c179e"
             ],
             [
              0.4444444444444444,
              "#bd3786"
             ],
             [
              0.5555555555555556,
              "#d8576b"
             ],
             [
              0.6666666666666666,
              "#ed7953"
             ],
             [
              0.7777777777777778,
              "#fb9f3a"
             ],
             [
              0.8888888888888888,
              "#fdca26"
             ],
             [
              1,
              "#f0f921"
             ]
            ],
            "type": "contour"
           }
          ],
          "contourcarpet": [
           {
            "colorbar": {
             "outlinewidth": 0,
             "ticks": ""
            },
            "type": "contourcarpet"
           }
          ],
          "heatmap": [
           {
            "colorbar": {
             "outlinewidth": 0,
             "ticks": ""
            },
            "colorscale": [
             [
              0,
              "#0d0887"
             ],
             [
              0.1111111111111111,
              "#46039f"
             ],
             [
              0.2222222222222222,
              "#7201a8"
             ],
             [
              0.3333333333333333,
              "#9c179e"
             ],
             [
              0.4444444444444444,
              "#bd3786"
             ],
             [
              0.5555555555555556,
              "#d8576b"
             ],
             [
              0.6666666666666666,
              "#ed7953"
             ],
             [
              0.7777777777777778,
              "#fb9f3a"
             ],
             [
              0.8888888888888888,
              "#fdca26"
             ],
             [
              1,
              "#f0f921"
             ]
            ],
            "type": "heatmap"
           }
          ],
          "histogram": [
           {
            "marker": {
             "pattern": {
              "fillmode": "overlay",
              "size": 10,
              "solidity": 0.2
             }
            },
            "type": "histogram"
           }
          ],
          "histogram2d": [
           {
            "colorbar": {
             "outlinewidth": 0,
             "ticks": ""
            },
            "colorscale": [
             [
              0,
              "#0d0887"
             ],
             [
              0.1111111111111111,
              "#46039f"
             ],
             [
              0.2222222222222222,
              "#7201a8"
             ],
             [
              0.3333333333333333,
              "#9c179e"
             ],
             [
              0.4444444444444444,
              "#bd3786"
             ],
             [
              0.5555555555555556,
              "#d8576b"
             ],
             [
              0.6666666666666666,
              "#ed7953"
             ],
             [
              0.7777777777777778,
              "#fb9f3a"
             ],
             [
              0.8888888888888888,
              "#fdca26"
             ],
             [
              1,
              "#f0f921"
             ]
            ],
            "type": "histogram2d"
           }
          ],
          "histogram2dcontour": [
           {
            "colorbar": {
             "outlinewidth": 0,
             "ticks": ""
            },
            "colorscale": [
             [
              0,
              "#0d0887"
             ],
             [
              0.1111111111111111,
              "#46039f"
             ],
             [
              0.2222222222222222,
              "#7201a8"
             ],
             [
              0.3333333333333333,
              "#9c179e"
             ],
             [
              0.4444444444444444,
              "#bd3786"
             ],
             [
              0.5555555555555556,
              "#d8576b"
             ],
             [
              0.6666666666666666,
              "#ed7953"
             ],
             [
              0.7777777777777778,
              "#fb9f3a"
             ],
             [
              0.8888888888888888,
              "#fdca26"
             ],
             [
              1,
              "#f0f921"
             ]
            ],
            "type": "histogram2dcontour"
           }
          ],
          "mesh3d": [
           {
            "colorbar": {
             "outlinewidth": 0,
             "ticks": ""
            },
            "type": "mesh3d"
           }
          ],
          "parcoords": [
           {
            "line": {
             "colorbar": {
              "outlinewidth": 0,
              "ticks": ""
             }
            },
            "type": "parcoords"
           }
          ],
          "pie": [
           {
            "automargin": true,
            "type": "pie"
           }
          ],
          "scatter": [
           {
            "fillpattern": {
             "fillmode": "overlay",
             "size": 10,
             "solidity": 0.2
            },
            "type": "scatter"
           }
          ],
          "scatter3d": [
           {
            "line": {
             "colorbar": {
              "outlinewidth": 0,
              "ticks": ""
             }
            },
            "marker": {
             "colorbar": {
              "outlinewidth": 0,
              "ticks": ""
             }
            },
            "type": "scatter3d"
           }
          ],
          "scattercarpet": [
           {
            "marker": {
             "colorbar": {
              "outlinewidth": 0,
              "ticks": ""
             }
            },
            "type": "scattercarpet"
           }
          ],
          "scattergeo": [
           {
            "marker": {
             "colorbar": {
              "outlinewidth": 0,
              "ticks": ""
             }
            },
            "type": "scattergeo"
           }
          ],
          "scattergl": [
           {
            "marker": {
             "colorbar": {
              "outlinewidth": 0,
              "ticks": ""
             }
            },
            "type": "scattergl"
           }
          ],
          "scattermap": [
           {
            "marker": {
             "colorbar": {
              "outlinewidth": 0,
              "ticks": ""
             }
            },
            "type": "scattermap"
           }
          ],
          "scattermapbox": [
           {
            "marker": {
             "colorbar": {
              "outlinewidth": 0,
              "ticks": ""
             }
            },
            "type": "scattermapbox"
           }
          ],
          "scatterpolar": [
           {
            "marker": {
             "colorbar": {
              "outlinewidth": 0,
              "ticks": ""
             }
            },
            "type": "scatterpolar"
           }
          ],
          "scatterpolargl": [
           {
            "marker": {
             "colorbar": {
              "outlinewidth": 0,
              "ticks": ""
             }
            },
            "type": "scatterpolargl"
           }
          ],
          "scatterternary": [
           {
            "marker": {
             "colorbar": {
              "outlinewidth": 0,
              "ticks": ""
             }
            },
            "type": "scatterternary"
           }
          ],
          "surface": [
           {
            "colorbar": {
             "outlinewidth": 0,
             "ticks": ""
            },
            "colorscale": [
             [
              0,
              "#0d0887"
             ],
             [
              0.1111111111111111,
              "#46039f"
             ],
             [
              0.2222222222222222,
              "#7201a8"
             ],
             [
              0.3333333333333333,
              "#9c179e"
             ],
             [
              0.4444444444444444,
              "#bd3786"
             ],
             [
              0.5555555555555556,
              "#d8576b"
             ],
             [
              0.6666666666666666,
              "#ed7953"
             ],
             [
              0.7777777777777778,
              "#fb9f3a"
             ],
             [
              0.8888888888888888,
              "#fdca26"
             ],
             [
              1,
              "#f0f921"
             ]
            ],
            "type": "surface"
           }
          ],
          "table": [
           {
            "cells": {
             "fill": {
              "color": "#EBF0F8"
             },
             "line": {
              "color": "white"
             }
            },
            "header": {
             "fill": {
              "color": "#C8D4E3"
             },
             "line": {
              "color": "white"
             }
            },
            "type": "table"
           }
          ]
         },
         "layout": {
          "annotationdefaults": {
           "arrowcolor": "#2a3f5f",
           "arrowhead": 0,
           "arrowwidth": 1
          },
          "autotypenumbers": "strict",
          "coloraxis": {
           "colorbar": {
            "outlinewidth": 0,
            "ticks": ""
           }
          },
          "colorscale": {
           "diverging": [
            [
             0,
             "#8e0152"
            ],
            [
             0.1,
             "#c51b7d"
            ],
            [
             0.2,
             "#de77ae"
            ],
            [
             0.3,
             "#f1b6da"
            ],
            [
             0.4,
             "#fde0ef"
            ],
            [
             0.5,
             "#f7f7f7"
            ],
            [
             0.6,
             "#e6f5d0"
            ],
            [
             0.7,
             "#b8e186"
            ],
            [
             0.8,
             "#7fbc41"
            ],
            [
             0.9,
             "#4d9221"
            ],
            [
             1,
             "#276419"
            ]
           ],
           "sequential": [
            [
             0,
             "#0d0887"
            ],
            [
             0.1111111111111111,
             "#46039f"
            ],
            [
             0.2222222222222222,
             "#7201a8"
            ],
            [
             0.3333333333333333,
             "#9c179e"
            ],
            [
             0.4444444444444444,
             "#bd3786"
            ],
            [
             0.5555555555555556,
             "#d8576b"
            ],
            [
             0.6666666666666666,
             "#ed7953"
            ],
            [
             0.7777777777777778,
             "#fb9f3a"
            ],
            [
             0.8888888888888888,
             "#fdca26"
            ],
            [
             1,
             "#f0f921"
            ]
           ],
           "sequentialminus": [
            [
             0,
             "#0d0887"
            ],
            [
             0.1111111111111111,
             "#46039f"
            ],
            [
             0.2222222222222222,
             "#7201a8"
            ],
            [
             0.3333333333333333,
             "#9c179e"
            ],
            [
             0.4444444444444444,
             "#bd3786"
            ],
            [
             0.5555555555555556,
             "#d8576b"
            ],
            [
             0.6666666666666666,
             "#ed7953"
            ],
            [
             0.7777777777777778,
             "#fb9f3a"
            ],
            [
             0.8888888888888888,
             "#fdca26"
            ],
            [
             1,
             "#f0f921"
            ]
           ]
          },
          "colorway": [
           "#636efa",
           "#EF553B",
           "#00cc96",
           "#ab63fa",
           "#FFA15A",
           "#19d3f3",
           "#FF6692",
           "#B6E880",
           "#FF97FF",
           "#FECB52"
          ],
          "font": {
           "color": "#2a3f5f"
          },
          "geo": {
           "bgcolor": "white",
           "lakecolor": "white",
           "landcolor": "white",
           "showlakes": true,
           "showland": true,
           "subunitcolor": "#C8D4E3"
          },
          "hoverlabel": {
           "align": "left"
          },
          "hovermode": "closest",
          "mapbox": {
           "style": "light"
          },
          "paper_bgcolor": "white",
          "plot_bgcolor": "white",
          "polar": {
           "angularaxis": {
            "gridcolor": "#EBF0F8",
            "linecolor": "#EBF0F8",
            "ticks": ""
           },
           "bgcolor": "white",
           "radialaxis": {
            "gridcolor": "#EBF0F8",
            "linecolor": "#EBF0F8",
            "ticks": ""
           }
          },
          "scene": {
           "xaxis": {
            "backgroundcolor": "white",
            "gridcolor": "#DFE8F3",
            "gridwidth": 2,
            "linecolor": "#EBF0F8",
            "showbackground": true,
            "ticks": "",
            "zerolinecolor": "#EBF0F8"
           },
           "yaxis": {
            "backgroundcolor": "white",
            "gridcolor": "#DFE8F3",
            "gridwidth": 2,
            "linecolor": "#EBF0F8",
            "showbackground": true,
            "ticks": "",
            "zerolinecolor": "#EBF0F8"
           },
           "zaxis": {
            "backgroundcolor": "white",
            "gridcolor": "#DFE8F3",
            "gridwidth": 2,
            "linecolor": "#EBF0F8",
            "showbackground": true,
            "ticks": "",
            "zerolinecolor": "#EBF0F8"
           }
          },
          "shapedefaults": {
           "line": {
            "color": "#2a3f5f"
           }
          },
          "ternary": {
           "aaxis": {
            "gridcolor": "#DFE8F3",
            "linecolor": "#A2B1C6",
            "ticks": ""
           },
           "baxis": {
            "gridcolor": "#DFE8F3",
            "linecolor": "#A2B1C6",
            "ticks": ""
           },
           "bgcolor": "white",
           "caxis": {
            "gridcolor": "#DFE8F3",
            "linecolor": "#A2B1C6",
            "ticks": ""
           }
          },
          "title": {
           "x": 0.05
          },
          "xaxis": {
           "automargin": true,
           "gridcolor": "#EBF0F8",
           "linecolor": "#EBF0F8",
           "ticks": "",
           "title": {
            "standoff": 15
           },
           "zerolinecolor": "#EBF0F8",
           "zerolinewidth": 2
          },
          "yaxis": {
           "automargin": true,
           "gridcolor": "#EBF0F8",
           "linecolor": "#EBF0F8",
           "ticks": "",
           "title": {
            "standoff": 15
           },
           "zerolinecolor": "#EBF0F8",
           "zerolinewidth": 2
          }
         }
        },
        "title": {
         "text": "Beta Distribution (α=2, β=5)"
        },
        "width": 1300,
        "xaxis": {
         "title": {
          "text": "x"
         }
        },
        "yaxis": {
         "title": {
          "text": "Density / Cumulative Probability"
         }
        }
       }
      }
     },
     "metadata": {},
     "output_type": "display_data"
    }
   ],
   "source": [
    "alpha_widget = widgets.IntSlider(value=2,\n",
    "    min=1,\n",
    "    max=10,\n",
    "    step=1,\n",
    "    description='alpha')\n",
    "\n",
    "beta_widget = widgets.IntSlider(value=2,\n",
    "    min=1,\n",
    "    max=10,\n",
    "    step=1,\n",
    "    description='beta')\n",
    "\n",
    "def plot_beta_distribution(alpha, beta_param):\n",
    "\n",
    "    # Calculate mean and standard deviation\n",
    "    mean = alpha / (alpha + beta_param)\n",
    "    std_dev = np.sqrt((alpha * beta_param) / ((alpha + beta_param)**2 * (alpha + beta_param + 1)))\n",
    "\n",
    "    # Generate x values\n",
    "    x = np.linspace(0, 1, 500)\n",
    "\n",
    "    # Generate PDF and CDF values\n",
    "    pdf_values = beta.pdf(x, alpha, beta_param)\n",
    "    cdf_values = beta.cdf(x, alpha, beta_param)\n",
    "\n",
    "    # Create the figure with both plots\n",
    "    fig = go.Figure()\n",
    "\n",
    "    # Add the PDF plot\n",
    "    fig.add_trace(go.Scatter(\n",
    "        x=x, y=pdf_values,\n",
    "        mode='lines',\n",
    "        name='PDF',\n",
    "        line=dict(color='blue'),\n",
    "        fill='tozeroy',\n",
    "        hovertemplate='x: %{x:.2f}PDF: %{y:.2f}'\n",
    "    ))\n",
    "    # Add the CDF plot\n",
    "    fig.add_trace(go.Scatter(\n",
    "        x=x, y=cdf_values,\n",
    "        mode='lines',\n",
    "        name='CDF',\n",
    "        line=dict(color='orange', dash='dot'),\n",
    "        hovertemplate='x: %{x:.2f}CDF: %{y:.2f}'\n",
    "    ))\n",
    "\n",
    "    # Add annotations for mean and std deviation\n",
    "    fig.add_trace(go.Scatter(\n",
    "        x=[mean], y=[beta.pdf(mean, alpha, beta_param)],\n",
    "        mode='markers+text',\n",
    "        name='Mean',\n",
    "        text=[f\"Mean: {mean:.2f}\\nStd Dev: {std_dev:.2f}\"],\n",
    "        textposition='top right',\n",
    "        marker=dict(color='red', size=10)\n",
    "    ))\n",
    "\n",
    "    # Layout adjustments\n",
    "    fig.update_layout(\n",
    "        title=f\"Beta Distribution (\\u03B1={alpha}, \\u03B2={beta_param})\",\n",
    "        xaxis_title=\"x\",\n",
    "        yaxis_title=\"Density / Cumulative Probability\",\n",
    "        width=1300, height=600\n",
    "    )\n",
    "\n",
    "    # Show the plot\n",
    "    fig.show()\n",
    "\n",
    "# Example usage\n",
    "plot_beta_distribution(alpha=2, beta_param=5)"
   ]
  },
  {
   "cell_type": "code",
   "execution_count": 6,
   "metadata": {},
   "outputs": [],
   "source": [
    "std_half_widget = widgets.FloatSlider(\n",
    "    value=1, min=0.01, max=10, step=0.1, description=\"Std Dev\"\n",
    ")\n",
    "\n",
    "def plot_halfnormal_distribution(std: float):\n",
    "    std = np.round(std, 2)\n",
    "    if std <= 0:\n",
    "        raise ValueError(\"Standard deviation must be positive.\")\n",
    "\n",
    "    # Define the x range (only positive side for Half-Normal)\n",
    "    x = np.linspace(0, 4 * std, 500)\n",
    "\n",
    "    # Calculate PDF and CDF using scipy.stats.halfnorm\n",
    "    pdf = halfnorm.pdf(x, scale=std)\n",
    "    cdf = halfnorm.cdf(x, scale=std)\n",
    "\n",
    "    # Create the plotly figure\n",
    "    fig = go.Figure()\n",
    "\n",
    "    # Add PDF to the plot\n",
    "    fig.add_trace(\n",
    "        go.Scatter(\n",
    "            x=x, y=pdf, mode=\"lines\", name=\"PDF\",\n",
    "            line=dict(color=\"blue\"),\n",
    "            fill=\"tozeroy\",\n",
    "            hovertemplate=\"PDF: %{y:.4f}X: %{x:.2f}\",\n",
    "        )\n",
    "    )\n",
    "\n",
    "    # Add CDF to the plot\n",
    "    fig.add_trace(\n",
    "        go.Scatter(\n",
    "            x=x, y=cdf, mode=\"lines\", name=\"CDF\",\n",
    "            line=dict(color=\"green\", dash=\"dash\"),\n",
    "            hovertemplate=\"CDF: %{y:.4f}X: %{x:.2f}\",\n",
    "        )\n",
    "    )\n",
    "\n",
    "    # Add annotations for mean and std deviation\n",
    "    mean = std * np.sqrt(2 / np.pi)  # Mean of the Half-Normal distribution\n",
    "    fig.add_trace(\n",
    "        go.Scatter(\n",
    "            x=[mean],\n",
    "            y=[halfnorm.pdf(mean, scale=std)],\n",
    "            mode=\"markers\",\n",
    "            name=\"Mean\",\n",
    "            marker=dict(color=\"red\", size=10, symbol=\"x\"),\n",
    "            hovertemplate=f\"Mean: {mean:.4f}\",\n",
    "        )\n",
    "    )\n",
    "\n",
    "    # Update layout\n",
    "    fig.update_layout(\n",
    "        title=f\"Half-Normal Distribution (std={std})\",\n",
    "        xaxis_title=\"X\",\n",
    "        yaxis_title=\"Density\",\n",
    "        legend=dict(title=\"Legend\", orientation=\"h\", y=-0.2),\n",
    "        template=\"plotly_white\",\n",
    "        width=1300, height=600,\n",
    "    )\n",
    "\n",
    "    # Show the plot\n",
    "    fig.show()"
   ]
  },
  {
   "cell_type": "code",
   "execution_count": null,
   "metadata": {},
   "outputs": [],
   "source": []
  }
 ],
 "metadata": {
  "kernelspec": {
   "display_name": "env_Bayes",
   "language": "python",
   "name": "python3"
  },
  "language_info": {
   "codemirror_mode": {
    "name": "ipython",
    "version": 3
   },
   "file_extension": ".py",
   "mimetype": "text/x-python",
   "name": "python",
   "nbconvert_exporter": "python",
   "pygments_lexer": "ipython3",
   "version": "3.11.11"
  }
 },
 "nbformat": 4,
 "nbformat_minor": 2
}
