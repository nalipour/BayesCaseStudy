{
 "cells": [
  {
   "cell_type": "markdown",
   "metadata": {},
   "source": [
    "# Explanatory Analysis"
   ]
  },
  {
   "cell_type": "markdown",
   "metadata": {},
   "source": [
    "Set up libraries"
   ]
  },
  {
   "cell_type": "code",
   "execution_count": 2,
   "metadata": {},
   "outputs": [],
   "source": [
    "import scipy\n",
    "from datetime import date\n",
    "import polars as pl\n",
    "import plotly.express as px\n",
    "import plotly.io as pio\n",
    "import plotly.graph_objects as go\n",
    "from plotly.subplots import make_subplots\n",
    "import ipywidgets as widgets\n",
    "from IPython.display import display\n",
    "from ipywidgets import interact, interactive\n",
    "import numpy as np\n",
    "import statsmodels.api as sm\n",
    "from sklearn.metrics import r2_score, mean_absolute_error\n",
    "import matplotlib.pyplot as plt\n",
    "import seaborn as sns\n"
   ]
  },
  {
   "cell_type": "code",
   "execution_count": 3,
   "metadata": {},
   "outputs": [],
   "source": [
    "import plotly.io as pio\n",
    "pio.templates.default = 'plotly_white'\n"
   ]
  },
  {
   "cell_type": "code",
   "execution_count": 4,
   "metadata": {},
   "outputs": [
    {
     "data": {
      "text/html": [
       "<div><style>\n",
       ".dataframe > thead > tr,\n",
       ".dataframe > tbody > tr {\n",
       "  text-align: right;\n",
       "  white-space: pre-wrap;\n",
       "}\n",
       "</style>\n",
       "<small>shape: (4, 19)</small><table border=\"1\" class=\"dataframe\"><thead><tr><th>week_start</th><th>new_customers</th><th>promo_investment</th><th>ppc_brand_investment</th><th>ppc_generic_investment</th><th>facebook_investment</th><th>instagram_investment</th><th>year</th><th>week</th><th>promo_investment_lag0</th><th>ppc_brand_investment_lag0</th><th>ppc_generic_investment_lag3</th><th>facebook_investment_lag2</th><th>instagram_investment_lag6</th><th>time</th><th>sin_52_1</th><th>cos_52_1</th><th>sin_52_2</th><th>cos_52_2</th></tr><tr><td>date</td><td>i64</td><td>f64</td><td>f64</td><td>f64</td><td>f64</td><td>f64</td><td>i64</td><td>i64</td><td>f64</td><td>f64</td><td>f64</td><td>f64</td><td>f64</td><td>i64</td><td>f64</td><td>f64</td><td>f64</td><td>f64</td></tr></thead><tbody><tr><td>2020-05-18</td><td>777</td><td>1304.227029</td><td>756.818857</td><td>1512.071585</td><td>297.193399</td><td>4593.059512</td><td>2020</td><td>21</td><td>1304.227029</td><td>756.818857</td><td>2300.295763</td><td>999.081772</td><td>82.890357</td><td>113</td><td>0.885456</td><td>0.464723</td><td>0.822984</td><td>-0.568065</td></tr><tr><td>2020-05-25</td><td>978</td><td>3000.504127</td><td>69.654279</td><td>399.82446</td><td>0.0</td><td>792.564928</td><td>2020</td><td>22</td><td>3000.504127</td><td>69.654279</td><td>4268.329032</td><td>637.97411</td><td>1246.32403</td><td>114</td><td>0.935016</td><td>0.354605</td><td>0.663123</td><td>-0.748511</td></tr><tr><td>2020-06-01</td><td>950</td><td>4609.816216</td><td>357.467625</td><td>471.992936</td><td>1769.420849</td><td>3281.127107</td><td>2020</td><td>23</td><td>4609.816216</td><td>357.467625</td><td>4219.098648</td><td>297.193399</td><td>1969.201111</td><td>115</td><td>0.970942</td><td>0.239316</td><td>0.464723</td><td>-0.885456</td></tr><tr><td>2020-06-08</td><td>800</td><td>3429.065037</td><td>425.663469</td><td>1181.626485</td><td>2353.024023</td><td>4510.560793</td><td>2020</td><td>24</td><td>3429.065037</td><td>425.663469</td><td>1512.071585</td><td>0.0</td><td>2889.605271</td><td>116</td><td>0.992709</td><td>0.120537</td><td>0.239316</td><td>-0.970942</td></tr></tbody></table></div>"
      ],
      "text/plain": [
       "shape: (4, 19)\n",
       "┌────────────┬────────────┬───────────┬───────────┬───┬──────────┬──────────┬──────────┬───────────┐\n",
       "│ week_start ┆ new_custom ┆ promo_inv ┆ ppc_brand ┆ … ┆ sin_52_1 ┆ cos_52_1 ┆ sin_52_2 ┆ cos_52_2  │\n",
       "│ ---        ┆ ers        ┆ estment   ┆ _investme ┆   ┆ ---      ┆ ---      ┆ ---      ┆ ---       │\n",
       "│ date       ┆ ---        ┆ ---       ┆ nt        ┆   ┆ f64      ┆ f64      ┆ f64      ┆ f64       │\n",
       "│            ┆ i64        ┆ f64       ┆ ---       ┆   ┆          ┆          ┆          ┆           │\n",
       "│            ┆            ┆           ┆ f64       ┆   ┆          ┆          ┆          ┆           │\n",
       "╞════════════╪════════════╪═══════════╪═══════════╪═══╪══════════╪══════════╪══════════╪═══════════╡\n",
       "│ 2020-05-18 ┆ 777        ┆ 1304.2270 ┆ 756.81885 ┆ … ┆ 0.885456 ┆ 0.464723 ┆ 0.822984 ┆ -0.568065 │\n",
       "│            ┆            ┆ 29        ┆ 7         ┆   ┆          ┆          ┆          ┆           │\n",
       "│ 2020-05-25 ┆ 978        ┆ 3000.5041 ┆ 69.654279 ┆ … ┆ 0.935016 ┆ 0.354605 ┆ 0.663123 ┆ -0.748511 │\n",
       "│            ┆            ┆ 27        ┆           ┆   ┆          ┆          ┆          ┆           │\n",
       "│ 2020-06-01 ┆ 950        ┆ 4609.8162 ┆ 357.46762 ┆ … ┆ 0.970942 ┆ 0.239316 ┆ 0.464723 ┆ -0.885456 │\n",
       "│            ┆            ┆ 16        ┆ 5         ┆   ┆          ┆          ┆          ┆           │\n",
       "│ 2020-06-08 ┆ 800        ┆ 3429.0650 ┆ 425.66346 ┆ … ┆ 0.992709 ┆ 0.120537 ┆ 0.239316 ┆ -0.970942 │\n",
       "│            ┆            ┆ 37        ┆ 9         ┆   ┆          ┆          ┆          ┆           │\n",
       "└────────────┴────────────┴───────────┴───────────┴───┴──────────┴──────────┴──────────┴───────────┘"
      ]
     },
     "execution_count": 4,
     "metadata": {},
     "output_type": "execute_result"
    }
   ],
   "source": [
    "data_link = \"./Data/data.csv\"\n",
    "df = pl.read_csv(data_link).with_columns(pl.col('week_start').cast(pl.Date)).sort('week_start')\n",
    "\n",
    "df.head(4)"
   ]
  },
  {
   "cell_type": "markdown",
   "metadata": {},
   "source": [
    "### Quality Check \t✅"
   ]
  },
  {
   "cell_type": "code",
   "execution_count": 11,
   "metadata": {},
   "outputs": [],
   "source": [
    "def check_complete_datarange(df: pl.DataFrame,\n",
    "                             date_col: str = 'week_start'):\n",
    "\n",
    "  min_date = df.select(pl.col(date_col).min()).item()\n",
    "  max_date = df.select(pl.col(date_col).max()).item()\n",
    "  date_range = pl.date_range(start=min_date, end=max_date, interval=\"1w\",\n",
    "                             eager=True).to_list()\n",
    "  print(set(date_range))\n",
    "  assert set(date_range) == set(df[date_col].to_list())\n"
   ]
  },
  {
   "cell_type": "code",
   "execution_count": null,
   "metadata": {},
   "outputs": [],
   "source": [
    "check_complete_datarange(df)"
   ]
  },
  {
   "cell_type": "code",
   "execution_count": null,
   "metadata": {},
   "outputs": [],
   "source": [
    "df.describe()"
   ]
  },
  {
   "cell_type": "markdown",
   "metadata": {},
   "source": [
    "### Know your target ⭕"
   ]
  },
  {
   "cell_type": "code",
   "execution_count": 6,
   "metadata": {},
   "outputs": [
    {
     "data": {
      "text/plain": [
       "['week_start',\n",
       " 'new_customers',\n",
       " 'promo_investment',\n",
       " 'ppc_brand_investment',\n",
       " 'ppc_generic_investment',\n",
       " 'facebook_investment',\n",
       " 'instagram_investment',\n",
       " 'year',\n",
       " 'week',\n",
       " 'promo_investment_lag0',\n",
       " 'ppc_brand_investment_lag0',\n",
       " 'ppc_generic_investment_lag3',\n",
       " 'facebook_investment_lag2',\n",
       " 'instagram_investment_lag6',\n",
       " 'time',\n",
       " 'sin_52_1',\n",
       " 'cos_52_1',\n",
       " 'sin_52_2',\n",
       " 'cos_52_2']"
      ]
     },
     "execution_count": 6,
     "metadata": {},
     "output_type": "execute_result"
    }
   ],
   "source": [
    "df.columns"
   ]
  },
  {
   "cell_type": "code",
   "execution_count": 7,
   "metadata": {},
   "outputs": [],
   "source": [
    "target = \"new_customers\"\n",
    "date_col = 'week_start'\n",
    "channels = ['promo_investment',\n",
    "            'ppc_brand_investment',\n",
    "            'ppc_generic_investment',\n",
    "            'facebook_investment',\n",
    "            'instagram_investment']"
   ]
  },
  {
   "cell_type": "markdown",
   "metadata": {},
   "source": [
    "### Trend Analysis 📈"
   ]
  },
  {
   "cell_type": "code",
   "execution_count": 10,
   "metadata": {},
   "outputs": [
    {
     "data": {
      "application/vnd.jupyter.widget-view+json": {
       "model_id": "b6cd3aee4aee44a893e0e3716a56ef14",
       "version_major": 2,
       "version_minor": 0
      },
      "text/plain": [
       "interactive(children=(IntSlider(value=1, description='Window', max=40, min=1), Output()), _dom_classes=('widge…"
      ]
     },
     "metadata": {},
     "output_type": "display_data"
    }
   ],
   "source": [
    "rolling_window_widget = widgets.IntSlider(value=1,\n",
    "    min=1,\n",
    "    max=40,\n",
    "    step=1,\n",
    "    description='Window')\n",
    "\n",
    "\n",
    "def update_rolling_plot(window):\n",
    "\n",
    "  base_title = f\"{target} Evolution Over Time\"\n",
    "  title = base_title if window == 1 else base_title +  f\"- Rolling Mean (Window = {window})\"\n",
    "\n",
    "  rolled_df = df.with_columns(pl.col(target).rolling_mean(window))\n",
    "  fig = px.line(rolled_df, x=date_col, y=target,\n",
    "                title=title)\n",
    "  #fig.update_layout(width=1300, height=400)\n",
    "  fig.show(renderer=\"colab\")\n",
    "\n",
    "interactive_plot = interactive(update_rolling_plot,\n",
    "                               window=rolling_window_widget)\n",
    "\n",
    "display(interactive_plot)"
   ]
  },
  {
   "cell_type": "markdown",
   "metadata": {},
   "source": [
    "🔍 Observations <br>\n",
    "⬛ Increasing trend over time, except in 2023, where sales show a decline. <br>\n",
    "⬛ Presence of seasonality."
   ]
  },
  {
   "cell_type": "markdown",
   "metadata": {},
   "source": [
    "### Seasonality Analysis 📈"
   ]
  },
  {
   "cell_type": "code",
   "execution_count": 15,
   "metadata": {},
   "outputs": [
    {
     "data": {
      "application/vnd.plotly.v1+json": {
       "config": {
        "plotlyServerURL": "https://plot.ly"
       },
       "data": [
        {
         "customdata": [
          [
           "2020-05-18"
          ],
          [
           "2020-05-25"
          ],
          [
           "2020-06-01"
          ],
          [
           "2020-06-08"
          ],
          [
           "2020-06-15"
          ],
          [
           "2020-06-22"
          ],
          [
           "2020-06-29"
          ],
          [
           "2020-07-06"
          ],
          [
           "2020-07-13"
          ],
          [
           "2020-07-20"
          ],
          [
           "2020-07-27"
          ],
          [
           "2020-08-03"
          ],
          [
           "2020-08-10"
          ],
          [
           "2020-08-17"
          ],
          [
           "2020-08-24"
          ],
          [
           "2020-08-31"
          ],
          [
           "2020-09-07"
          ],
          [
           "2020-09-14"
          ],
          [
           "2020-09-21"
          ],
          [
           "2020-09-28"
          ],
          [
           "2020-10-05"
          ],
          [
           "2020-10-12"
          ],
          [
           "2020-10-19"
          ],
          [
           "2020-10-26"
          ],
          [
           "2020-11-02"
          ],
          [
           "2020-11-09"
          ],
          [
           "2020-11-16"
          ],
          [
           "2020-11-23"
          ],
          [
           "2020-11-30"
          ],
          [
           "2020-12-07"
          ],
          [
           "2020-12-14"
          ],
          [
           "2020-12-21"
          ],
          [
           "2020-12-28"
          ]
         ],
         "hovertemplate": "year=2020<br>week=%{x}<br>new_customers=%{y}<br>week_start=%{customdata[0]}<extra></extra>",
         "legendgroup": "2020",
         "line": {
          "color": "#636efa",
          "dash": "solid"
         },
         "marker": {
          "symbol": "circle"
         },
         "mode": "lines",
         "name": "2020",
         "orientation": "v",
         "showlegend": true,
         "type": "scatter",
         "x": {
          "bdata": "FRYXGBkaGxwdHh8gISIjJCUmJygpKissLS4vMDEyMzQ1",
          "dtype": "i1"
         },
         "xaxis": "x",
         "y": {
          "bdata": "AAAAAAAA+H8AAAAAAAD4fwAAAAAAAPh/AAAAAAAA+H8AAAAAAOiHQM3MzMzMpIZAmpmZmZlRg0AAAAAAACiCQDMzMzMzY4NAMzMzMzNTikCamZmZmTmMQM3MzMzMRJJAZmZmZmYqlkDNzMzMzIyZQGZmZmZm/p1AzczMzMyKokAAAAAAADSlQJqZmZmZ16hAZmZmZmbirECamZmZmaCwQJqZmZmZDbJAAAAAAABxskCamZmZmVWxQDMzMzMzQbBAMzMzMzNZrEBmZmZmZoinQM3MzMzMMqRAMzMzMzNpoUAAAAAAAMCdQAAAAAAAMJlAMzMzMzOzmEBmZmZmZt6XQGZmZmZmipdA",
          "dtype": "f8"
         },
         "yaxis": "y"
        },
        {
         "customdata": [
          [
           "2021-01-04"
          ],
          [
           "2021-01-11"
          ],
          [
           "2021-01-18"
          ],
          [
           "2021-01-25"
          ],
          [
           "2021-02-01"
          ],
          [
           "2021-02-08"
          ],
          [
           "2021-02-15"
          ],
          [
           "2021-02-22"
          ],
          [
           "2021-03-01"
          ],
          [
           "2021-03-08"
          ],
          [
           "2021-03-15"
          ],
          [
           "2021-03-22"
          ],
          [
           "2021-03-29"
          ],
          [
           "2021-04-05"
          ],
          [
           "2021-04-12"
          ],
          [
           "2021-04-19"
          ],
          [
           "2021-04-26"
          ],
          [
           "2021-05-03"
          ],
          [
           "2021-05-10"
          ],
          [
           "2021-05-17"
          ],
          [
           "2021-05-24"
          ],
          [
           "2021-05-31"
          ],
          [
           "2021-06-07"
          ],
          [
           "2021-06-14"
          ],
          [
           "2021-06-21"
          ],
          [
           "2021-06-28"
          ],
          [
           "2021-07-05"
          ],
          [
           "2021-07-12"
          ],
          [
           "2021-07-19"
          ],
          [
           "2021-07-26"
          ],
          [
           "2021-08-02"
          ],
          [
           "2021-08-09"
          ],
          [
           "2021-08-16"
          ],
          [
           "2021-08-23"
          ],
          [
           "2021-08-30"
          ],
          [
           "2021-09-06"
          ],
          [
           "2021-09-13"
          ],
          [
           "2021-09-20"
          ],
          [
           "2021-09-27"
          ],
          [
           "2021-10-04"
          ],
          [
           "2021-10-11"
          ],
          [
           "2021-10-18"
          ],
          [
           "2021-10-25"
          ],
          [
           "2021-11-01"
          ],
          [
           "2021-11-08"
          ],
          [
           "2021-11-15"
          ],
          [
           "2021-11-22"
          ],
          [
           "2021-11-29"
          ],
          [
           "2021-12-06"
          ],
          [
           "2021-12-13"
          ],
          [
           "2021-12-20"
          ],
          [
           "2021-12-27"
          ]
         ],
         "hovertemplate": "year=2021<br>week=%{x}<br>new_customers=%{y}<br>week_start=%{customdata[0]}<extra></extra>",
         "legendgroup": "2021",
         "line": {
          "color": "#EF553B",
          "dash": "solid"
         },
         "marker": {
          "symbol": "circle"
         },
         "mode": "lines",
         "name": "2021",
         "orientation": "v",
         "showlegend": true,
         "type": "scatter",
         "x": {
          "bdata": "AQIDBAUGBwgJCgsMDQ4PEBESExQVFhcYGRobHB0eHyAhIiMkJSYnKCkqKywtLi8wMTIzNA==",
          "dtype": "i1"
         },
         "xaxis": "x",
         "y": {
          "bdata": "MzMzMzMjlUCamZmZmUWVQJqZmZmZxZJAmpmZmZntkkAzMzMzMz+UQJqZmZmZ3ZZAmpmZmZlJmECamZmZmWWaQM3MzMzMlJlAZmZmZmaSmkDNzMzMzHyZQJqZmZmZ/ZZAmpmZmZkllUDNzMzMzGyTQM3MzMzMlI5AZmZmZmbejEAAAAAAAACQQAAAAAAA0JZAZmZmZmb2m0DNzMzMzMSiQJqZmZmZbaNAmpmZmZnLokCamZmZmYOgQAAAAAAAnKBAmpmZmZlJnUCamZmZmcWhQJqZmZmZi6RAzczMzMzkp0CamZmZmWOrQGZmZmZmmLBAZmZmZmbcsUCamZmZmU20QAAAAAAArrVAzczMzMzUtkCamZmZmbm2QDMzMzMzR7dAZmZmZmaqtkAAAAAAAL+2QM3MzMzMbbZAAAAAAAAwtkDNzMzMzJi1QAAAAAAAGLVAAAAAAAAhtEAzMzMzM6OyQDMzMzMzZLBAmpmZmZndrEAAAAAAAMioQJqZmZmZo6RAmpmZmZlJoUAAAAAAAI6gQM3MzMzMpJ9AmpmZmZmLo0A=",
          "dtype": "f8"
         },
         "yaxis": "y"
        },
        {
         "customdata": [
          [
           "2022-01-03"
          ],
          [
           "2022-01-10"
          ],
          [
           "2022-01-17"
          ],
          [
           "2022-01-24"
          ],
          [
           "2022-01-31"
          ],
          [
           "2022-02-07"
          ],
          [
           "2022-02-14"
          ],
          [
           "2022-02-21"
          ],
          [
           "2022-02-28"
          ],
          [
           "2022-03-07"
          ],
          [
           "2022-03-14"
          ],
          [
           "2022-03-21"
          ],
          [
           "2022-03-28"
          ],
          [
           "2022-04-04"
          ],
          [
           "2022-04-11"
          ],
          [
           "2022-04-18"
          ],
          [
           "2022-04-25"
          ],
          [
           "2022-05-02"
          ],
          [
           "2022-05-09"
          ],
          [
           "2022-05-16"
          ],
          [
           "2022-05-23"
          ],
          [
           "2022-05-30"
          ],
          [
           "2022-06-06"
          ],
          [
           "2022-06-13"
          ],
          [
           "2022-06-20"
          ],
          [
           "2022-06-27"
          ],
          [
           "2022-07-04"
          ],
          [
           "2022-07-11"
          ],
          [
           "2022-07-18"
          ],
          [
           "2022-07-25"
          ],
          [
           "2022-08-01"
          ],
          [
           "2022-08-08"
          ],
          [
           "2022-08-15"
          ],
          [
           "2022-08-22"
          ],
          [
           "2022-08-29"
          ],
          [
           "2022-09-05"
          ],
          [
           "2022-09-12"
          ],
          [
           "2022-09-19"
          ],
          [
           "2022-09-26"
          ],
          [
           "2022-10-03"
          ],
          [
           "2022-10-10"
          ],
          [
           "2022-10-17"
          ],
          [
           "2022-10-24"
          ],
          [
           "2022-10-31"
          ],
          [
           "2022-11-07"
          ],
          [
           "2022-11-14"
          ],
          [
           "2022-11-21"
          ],
          [
           "2022-11-28"
          ],
          [
           "2022-12-05"
          ],
          [
           "2022-12-12"
          ],
          [
           "2022-12-19"
          ],
          [
           "2022-12-26"
          ]
         ],
         "hovertemplate": "year=2022<br>week=%{x}<br>new_customers=%{y}<br>week_start=%{customdata[0]}<extra></extra>",
         "legendgroup": "2022",
         "line": {
          "color": "#00cc96",
          "dash": "solid"
         },
         "marker": {
          "symbol": "circle"
         },
         "mode": "lines",
         "name": "2022",
         "orientation": "v",
         "showlegend": true,
         "type": "scatter",
         "x": {
          "bdata": "AQIDBAUGBwgJCgsMDQ4PEBESExQVFhcYGRobHB0eHyAhIiMkJSYnKCkqKywtLi8wMTIzNA==",
          "dtype": "i1"
         },
         "xaxis": "x",
         "y": {
          "bdata": "zczMzMykokBmZmZmZgijQAAAAAAAcKJAZmZmZmb4oUDNzMzMzGScQJqZmZmZTaBAMzMzMzO/n0AAAAAAAOyiQGZmZmZmcKNAZmZmZmZyo0DNzMzMzG6iQJqZmZmZ/6FAmpmZmZl5nkDNzMzMzCygQGZmZmZm9qFAZmZmZmY+pUAzMzMzM6+pQM3MzMzMWK9AMzMzMzMJsEAAAAAAAIOwQJqZmZmZZbBAzczMzMyOsEDNzMzMzMawQM3MzMzMd7FAAAAAAABnskAAAAAAAD+zQJqZmZmZ3bNAMzMzMzOGs0BmZmZmZgO1QJqZmZmZ2rVAZmZmZmbstkAAAAAAACe4QAAAAAAA5rhAZmZmZmYDukAzMzMzM6+7QJqZmZmZx7xAAAAAAACjvUCamZmZmRzAQGZmZmbm3cBAAAAAAIB1wUAAAAAAAILCQJqZmZmZ9sJAMzMzM7NfwkAzMzMzs+PBQAAAAACAWsBAmpmZmZnJu0AAAAAAAF24QAAAAAAATrVAmpmZmZk1skAzMzMzM5exQGZmZmZmrrFAZmZmZmbQr0A=",
          "dtype": "f8"
         },
         "yaxis": "y"
        },
        {
         "customdata": [
          [
           "2023-01-02"
          ],
          [
           "2023-01-09"
          ],
          [
           "2023-01-16"
          ],
          [
           "2023-01-23"
          ],
          [
           "2023-01-30"
          ],
          [
           "2023-02-06"
          ],
          [
           "2023-02-13"
          ],
          [
           "2023-02-20"
          ],
          [
           "2023-02-27"
          ],
          [
           "2023-03-06"
          ],
          [
           "2023-03-13"
          ],
          [
           "2023-03-20"
          ],
          [
           "2023-03-27"
          ],
          [
           "2023-04-03"
          ],
          [
           "2023-04-10"
          ],
          [
           "2023-04-17"
          ],
          [
           "2023-04-24"
          ],
          [
           "2023-05-01"
          ],
          [
           "2023-05-08"
          ],
          [
           "2023-05-15"
          ],
          [
           "2023-05-22"
          ],
          [
           "2023-05-29"
          ],
          [
           "2023-06-05"
          ],
          [
           "2023-06-12"
          ],
          [
           "2023-06-19"
          ],
          [
           "2023-06-26"
          ],
          [
           "2023-07-03"
          ],
          [
           "2023-07-10"
          ]
         ],
         "hovertemplate": "year=2023<br>week=%{x}<br>new_customers=%{y}<br>week_start=%{customdata[0]}<extra></extra>",
         "legendgroup": "2023",
         "line": {
          "color": "#ab63fa",
          "dash": "solid"
         },
         "marker": {
          "symbol": "circle"
         },
         "mode": "lines",
         "name": "2023",
         "orientation": "v",
         "showlegend": true,
         "type": "scatter",
         "x": {
          "bdata": "AQIDBAUGBwgJCgsMDQ4PEBESExQVFhcYGRobHA==",
          "dtype": "i1"
         },
         "xaxis": "x",
         "y": {
          "bdata": "zczMzMzgrEAzMzMzM0OoQGZmZmZm2qFAmpmZmZkln0DNzMzMzPCZQM3MzMzMzJVAmpmZmZkVlkAzMzMzM++WQM3MzMzM2JFAmpmZmZkll0CamZmZmQWeQDMzMzMzr6BAzczMzMw6o0AzMzMzMy2mQAAAAAAApqdAZmZmZmY2qECamZmZmQWsQAAAAAAArq9AzczMzMwcskDNzMzMzNGyQM3MzMzMr7NAMzMzMzP2sUAAAAAAAIewQDMzMzMzB6xAzczMzMzMqEAzMzMzM5GjQM3MzMzMTKFAzczMzMxAoEA=",
          "dtype": "f8"
         },
         "yaxis": "y"
        }
       ],
       "layout": {
        "legend": {
         "title": {
          "text": "year"
         },
         "tracegroupgap": 0
        },
        "template": {
         "data": {
          "bar": [
           {
            "error_x": {
             "color": "#2a3f5f"
            },
            "error_y": {
             "color": "#2a3f5f"
            },
            "marker": {
             "line": {
              "color": "white",
              "width": 0.5
             },
             "pattern": {
              "fillmode": "overlay",
              "size": 10,
              "solidity": 0.2
             }
            },
            "type": "bar"
           }
          ],
          "barpolar": [
           {
            "marker": {
             "line": {
              "color": "white",
              "width": 0.5
             },
             "pattern": {
              "fillmode": "overlay",
              "size": 10,
              "solidity": 0.2
             }
            },
            "type": "barpolar"
           }
          ],
          "carpet": [
           {
            "aaxis": {
             "endlinecolor": "#2a3f5f",
             "gridcolor": "#C8D4E3",
             "linecolor": "#C8D4E3",
             "minorgridcolor": "#C8D4E3",
             "startlinecolor": "#2a3f5f"
            },
            "baxis": {
             "endlinecolor": "#2a3f5f",
             "gridcolor": "#C8D4E3",
             "linecolor": "#C8D4E3",
             "minorgridcolor": "#C8D4E3",
             "startlinecolor": "#2a3f5f"
            },
            "type": "carpet"
           }
          ],
          "choropleth": [
           {
            "colorbar": {
             "outlinewidth": 0,
             "ticks": ""
            },
            "type": "choropleth"
           }
          ],
          "contour": [
           {
            "colorbar": {
             "outlinewidth": 0,
             "ticks": ""
            },
            "colorscale": [
             [
              0,
              "#0d0887"
             ],
             [
              0.1111111111111111,
              "#46039f"
             ],
             [
              0.2222222222222222,
              "#7201a8"
             ],
             [
              0.3333333333333333,
              "#9c179e"
             ],
             [
              0.4444444444444444,
              "#bd3786"
             ],
             [
              0.5555555555555556,
              "#d8576b"
             ],
             [
              0.6666666666666666,
              "#ed7953"
             ],
             [
              0.7777777777777778,
              "#fb9f3a"
             ],
             [
              0.8888888888888888,
              "#fdca26"
             ],
             [
              1,
              "#f0f921"
             ]
            ],
            "type": "contour"
           }
          ],
          "contourcarpet": [
           {
            "colorbar": {
             "outlinewidth": 0,
             "ticks": ""
            },
            "type": "contourcarpet"
           }
          ],
          "heatmap": [
           {
            "colorbar": {
             "outlinewidth": 0,
             "ticks": ""
            },
            "colorscale": [
             [
              0,
              "#0d0887"
             ],
             [
              0.1111111111111111,
              "#46039f"
             ],
             [
              0.2222222222222222,
              "#7201a8"
             ],
             [
              0.3333333333333333,
              "#9c179e"
             ],
             [
              0.4444444444444444,
              "#bd3786"
             ],
             [
              0.5555555555555556,
              "#d8576b"
             ],
             [
              0.6666666666666666,
              "#ed7953"
             ],
             [
              0.7777777777777778,
              "#fb9f3a"
             ],
             [
              0.8888888888888888,
              "#fdca26"
             ],
             [
              1,
              "#f0f921"
             ]
            ],
            "type": "heatmap"
           }
          ],
          "histogram": [
           {
            "marker": {
             "pattern": {
              "fillmode": "overlay",
              "size": 10,
              "solidity": 0.2
             }
            },
            "type": "histogram"
           }
          ],
          "histogram2d": [
           {
            "colorbar": {
             "outlinewidth": 0,
             "ticks": ""
            },
            "colorscale": [
             [
              0,
              "#0d0887"
             ],
             [
              0.1111111111111111,
              "#46039f"
             ],
             [
              0.2222222222222222,
              "#7201a8"
             ],
             [
              0.3333333333333333,
              "#9c179e"
             ],
             [
              0.4444444444444444,
              "#bd3786"
             ],
             [
              0.5555555555555556,
              "#d8576b"
             ],
             [
              0.6666666666666666,
              "#ed7953"
             ],
             [
              0.7777777777777778,
              "#fb9f3a"
             ],
             [
              0.8888888888888888,
              "#fdca26"
             ],
             [
              1,
              "#f0f921"
             ]
            ],
            "type": "histogram2d"
           }
          ],
          "histogram2dcontour": [
           {
            "colorbar": {
             "outlinewidth": 0,
             "ticks": ""
            },
            "colorscale": [
             [
              0,
              "#0d0887"
             ],
             [
              0.1111111111111111,
              "#46039f"
             ],
             [
              0.2222222222222222,
              "#7201a8"
             ],
             [
              0.3333333333333333,
              "#9c179e"
             ],
             [
              0.4444444444444444,
              "#bd3786"
             ],
             [
              0.5555555555555556,
              "#d8576b"
             ],
             [
              0.6666666666666666,
              "#ed7953"
             ],
             [
              0.7777777777777778,
              "#fb9f3a"
             ],
             [
              0.8888888888888888,
              "#fdca26"
             ],
             [
              1,
              "#f0f921"
             ]
            ],
            "type": "histogram2dcontour"
           }
          ],
          "mesh3d": [
           {
            "colorbar": {
             "outlinewidth": 0,
             "ticks": ""
            },
            "type": "mesh3d"
           }
          ],
          "parcoords": [
           {
            "line": {
             "colorbar": {
              "outlinewidth": 0,
              "ticks": ""
             }
            },
            "type": "parcoords"
           }
          ],
          "pie": [
           {
            "automargin": true,
            "type": "pie"
           }
          ],
          "scatter": [
           {
            "fillpattern": {
             "fillmode": "overlay",
             "size": 10,
             "solidity": 0.2
            },
            "type": "scatter"
           }
          ],
          "scatter3d": [
           {
            "line": {
             "colorbar": {
              "outlinewidth": 0,
              "ticks": ""
             }
            },
            "marker": {
             "colorbar": {
              "outlinewidth": 0,
              "ticks": ""
             }
            },
            "type": "scatter3d"
           }
          ],
          "scattercarpet": [
           {
            "marker": {
             "colorbar": {
              "outlinewidth": 0,
              "ticks": ""
             }
            },
            "type": "scattercarpet"
           }
          ],
          "scattergeo": [
           {
            "marker": {
             "colorbar": {
              "outlinewidth": 0,
              "ticks": ""
             }
            },
            "type": "scattergeo"
           }
          ],
          "scattergl": [
           {
            "marker": {
             "colorbar": {
              "outlinewidth": 0,
              "ticks": ""
             }
            },
            "type": "scattergl"
           }
          ],
          "scattermap": [
           {
            "marker": {
             "colorbar": {
              "outlinewidth": 0,
              "ticks": ""
             }
            },
            "type": "scattermap"
           }
          ],
          "scattermapbox": [
           {
            "marker": {
             "colorbar": {
              "outlinewidth": 0,
              "ticks": ""
             }
            },
            "type": "scattermapbox"
           }
          ],
          "scatterpolar": [
           {
            "marker": {
             "colorbar": {
              "outlinewidth": 0,
              "ticks": ""
             }
            },
            "type": "scatterpolar"
           }
          ],
          "scatterpolargl": [
           {
            "marker": {
             "colorbar": {
              "outlinewidth": 0,
              "ticks": ""
             }
            },
            "type": "scatterpolargl"
           }
          ],
          "scatterternary": [
           {
            "marker": {
             "colorbar": {
              "outlinewidth": 0,
              "ticks": ""
             }
            },
            "type": "scatterternary"
           }
          ],
          "surface": [
           {
            "colorbar": {
             "outlinewidth": 0,
             "ticks": ""
            },
            "colorscale": [
             [
              0,
              "#0d0887"
             ],
             [
              0.1111111111111111,
              "#46039f"
             ],
             [
              0.2222222222222222,
              "#7201a8"
             ],
             [
              0.3333333333333333,
              "#9c179e"
             ],
             [
              0.4444444444444444,
              "#bd3786"
             ],
             [
              0.5555555555555556,
              "#d8576b"
             ],
             [
              0.6666666666666666,
              "#ed7953"
             ],
             [
              0.7777777777777778,
              "#fb9f3a"
             ],
             [
              0.8888888888888888,
              "#fdca26"
             ],
             [
              1,
              "#f0f921"
             ]
            ],
            "type": "surface"
           }
          ],
          "table": [
           {
            "cells": {
             "fill": {
              "color": "#EBF0F8"
             },
             "line": {
              "color": "white"
             }
            },
            "header": {
             "fill": {
              "color": "#C8D4E3"
             },
             "line": {
              "color": "white"
             }
            },
            "type": "table"
           }
          ]
         },
         "layout": {
          "annotationdefaults": {
           "arrowcolor": "#2a3f5f",
           "arrowhead": 0,
           "arrowwidth": 1
          },
          "autotypenumbers": "strict",
          "coloraxis": {
           "colorbar": {
            "outlinewidth": 0,
            "ticks": ""
           }
          },
          "colorscale": {
           "diverging": [
            [
             0,
             "#8e0152"
            ],
            [
             0.1,
             "#c51b7d"
            ],
            [
             0.2,
             "#de77ae"
            ],
            [
             0.3,
             "#f1b6da"
            ],
            [
             0.4,
             "#fde0ef"
            ],
            [
             0.5,
             "#f7f7f7"
            ],
            [
             0.6,
             "#e6f5d0"
            ],
            [
             0.7,
             "#b8e186"
            ],
            [
             0.8,
             "#7fbc41"
            ],
            [
             0.9,
             "#4d9221"
            ],
            [
             1,
             "#276419"
            ]
           ],
           "sequential": [
            [
             0,
             "#0d0887"
            ],
            [
             0.1111111111111111,
             "#46039f"
            ],
            [
             0.2222222222222222,
             "#7201a8"
            ],
            [
             0.3333333333333333,
             "#9c179e"
            ],
            [
             0.4444444444444444,
             "#bd3786"
            ],
            [
             0.5555555555555556,
             "#d8576b"
            ],
            [
             0.6666666666666666,
             "#ed7953"
            ],
            [
             0.7777777777777778,
             "#fb9f3a"
            ],
            [
             0.8888888888888888,
             "#fdca26"
            ],
            [
             1,
             "#f0f921"
            ]
           ],
           "sequentialminus": [
            [
             0,
             "#0d0887"
            ],
            [
             0.1111111111111111,
             "#46039f"
            ],
            [
             0.2222222222222222,
             "#7201a8"
            ],
            [
             0.3333333333333333,
             "#9c179e"
            ],
            [
             0.4444444444444444,
             "#bd3786"
            ],
            [
             0.5555555555555556,
             "#d8576b"
            ],
            [
             0.6666666666666666,
             "#ed7953"
            ],
            [
             0.7777777777777778,
             "#fb9f3a"
            ],
            [
             0.8888888888888888,
             "#fdca26"
            ],
            [
             1,
             "#f0f921"
            ]
           ]
          },
          "colorway": [
           "#636efa",
           "#EF553B",
           "#00cc96",
           "#ab63fa",
           "#FFA15A",
           "#19d3f3",
           "#FF6692",
           "#B6E880",
           "#FF97FF",
           "#FECB52"
          ],
          "font": {
           "color": "#2a3f5f"
          },
          "geo": {
           "bgcolor": "white",
           "lakecolor": "white",
           "landcolor": "white",
           "showlakes": true,
           "showland": true,
           "subunitcolor": "#C8D4E3"
          },
          "hoverlabel": {
           "align": "left"
          },
          "hovermode": "closest",
          "mapbox": {
           "style": "light"
          },
          "paper_bgcolor": "white",
          "plot_bgcolor": "white",
          "polar": {
           "angularaxis": {
            "gridcolor": "#EBF0F8",
            "linecolor": "#EBF0F8",
            "ticks": ""
           },
           "bgcolor": "white",
           "radialaxis": {
            "gridcolor": "#EBF0F8",
            "linecolor": "#EBF0F8",
            "ticks": ""
           }
          },
          "scene": {
           "xaxis": {
            "backgroundcolor": "white",
            "gridcolor": "#DFE8F3",
            "gridwidth": 2,
            "linecolor": "#EBF0F8",
            "showbackground": true,
            "ticks": "",
            "zerolinecolor": "#EBF0F8"
           },
           "yaxis": {
            "backgroundcolor": "white",
            "gridcolor": "#DFE8F3",
            "gridwidth": 2,
            "linecolor": "#EBF0F8",
            "showbackground": true,
            "ticks": "",
            "zerolinecolor": "#EBF0F8"
           },
           "zaxis": {
            "backgroundcolor": "white",
            "gridcolor": "#DFE8F3",
            "gridwidth": 2,
            "linecolor": "#EBF0F8",
            "showbackground": true,
            "ticks": "",
            "zerolinecolor": "#EBF0F8"
           }
          },
          "shapedefaults": {
           "line": {
            "color": "#2a3f5f"
           }
          },
          "ternary": {
           "aaxis": {
            "gridcolor": "#DFE8F3",
            "linecolor": "#A2B1C6",
            "ticks": ""
           },
           "baxis": {
            "gridcolor": "#DFE8F3",
            "linecolor": "#A2B1C6",
            "ticks": ""
           },
           "bgcolor": "white",
           "caxis": {
            "gridcolor": "#DFE8F3",
            "linecolor": "#A2B1C6",
            "ticks": ""
           }
          },
          "title": {
           "x": 0.05
          },
          "xaxis": {
           "automargin": true,
           "gridcolor": "#EBF0F8",
           "linecolor": "#EBF0F8",
           "ticks": "",
           "title": {
            "standoff": 15
           },
           "zerolinecolor": "#EBF0F8",
           "zerolinewidth": 2
          },
          "yaxis": {
           "automargin": true,
           "gridcolor": "#EBF0F8",
           "linecolor": "#EBF0F8",
           "ticks": "",
           "title": {
            "standoff": 15
           },
           "zerolinecolor": "#EBF0F8",
           "zerolinewidth": 2
          }
         }
        },
        "title": {
         "text": "New Customers Comparison Over Years"
        },
        "xaxis": {
         "anchor": "y",
         "domain": [
          0,
          1
         ],
         "title": {
          "text": "week"
         }
        },
        "yaxis": {
         "anchor": "x",
         "domain": [
          0,
          1
         ],
         "title": {
          "text": "new_customers"
         }
        }
       }
      }
     },
     "metadata": {},
     "output_type": "display_data"
    }
   ],
   "source": [
    "fig = px.line(df.with_columns(pl.col(target).rolling_mean(5)),\n",
    "        x='week',\n",
    "        y=target,\n",
    "        color = 'year',\n",
    "        hover_data=[date_col],\n",
    "        title='New Customers Comparison Over Years')\n",
    "\n",
    "fig.show()"
   ]
  },
  {
   "cell_type": "markdown",
   "metadata": {},
   "source": [
    "🔍 Observations \n",
    "\n",
    "⬛ In 2020, the summer spike in new customers begins at the end of July. <br>\n",
    "⬛ In 2021, the summer spike shifts earlier, starting at the end of May. <br>\n",
    "⬛ In 2022, the summer spike occurs even earlier, at the beginning of May. <br>\n",
    "⬛ In 2023, an unusual decrease in new customers is observed at the beginning of June. <br>\n",
    "⬛ This pattern suggests that a potential yearly seasonality is disrupted by the lingering effects of COVID and an anomalous event in 2023, making it less clean."
   ]
  },
  {
   "cell_type": "code",
   "execution_count": 19,
   "metadata": {},
   "outputs": [
    {
     "data": {
      "application/vnd.plotly.v1+json": {
       "config": {
        "plotlyServerURL": "https://plot.ly"
       },
       "data": [
        {
         "hovertemplate": "Lag=%{x}<br>new_customers=%{y}<extra></extra>",
         "legendgroup": "",
         "line": {
          "color": "#636efa",
          "dash": "solid"
         },
         "marker": {
          "symbol": "circle"
         },
         "mode": "lines",
         "name": "",
         "orientation": "v",
         "showlegend": false,
         "type": "scatter",
         "x": {
          "bdata": "AAECAwQFBgcICQoLDA0ODxAREhMUFRYXGBkaGxwdHh8gISIjJCUmJygpKissLS4vMDEyMzQ1Njc4OTo7PA==",
          "dtype": "i1"
         },
         "xaxis": "x",
         "y": {
          "bdata": "AAAAAAAA8D/PN1YBG4ntP7G8h/JgSOw/TP81tVIc6j8XAdOpFrHnP3/lUPeZW+U/GaHowmp14z+0IcVbUJLgP2OqxCGp7dw/dK9blcMj2D8Nver77XXTP7GEUQ3gIsw/C8K8raoixT9SmgK6FFq2P7gjTdslnZo/1G/Ipn0Jlb9SGWbQ0/uwv0aX3gBKjri/Rcgezl5Pub9MMzpWbIu/v0W3Y6oz1b6/Mb6C/3s5wL9I+cJ0E8/Av+sRv2MXUcO/K+ycdhHlw7+UAJCRVbbEv7cNyBWzPMS/nmTuhsUOxb+lmWgtYenEv00mgkOLCsW/iCxZYORlwr+eeK78qFfAv+K2f5SlIbu/qxIPXYUXu7/WkJkPjsC8vy5a3ej5iL6/nJYJPiqYvb8vpdCNi/+8v9NV2q5XvLO/FtkzTturp78eId89H22JP7EGLyOuqa8/d0ldwZsCvj+Q3MR2Q8nEP7H/hZlqWMs/aqmW7YMW0T99m8dFrPjTP1SCJETINdg/AJGYVjdo3D9A/KSL7j3fP0Ow4qET1eE/xA14/X2A4j+RfAtjigvjP6Udv9xLVOM/7vaqkExw4j/cKuRGDH3hP9LiXfyHAOA/s+kiewEd3D8eB6MHD9LYP7iQUlzLw9Q/KokiuWvF0D8=",
          "dtype": "f8"
         },
         "yaxis": "y"
        }
       ],
       "layout": {
        "legend": {
         "tracegroupgap": 0
        },
        "template": {
         "data": {
          "bar": [
           {
            "error_x": {
             "color": "#2a3f5f"
            },
            "error_y": {
             "color": "#2a3f5f"
            },
            "marker": {
             "line": {
              "color": "white",
              "width": 0.5
             },
             "pattern": {
              "fillmode": "overlay",
              "size": 10,
              "solidity": 0.2
             }
            },
            "type": "bar"
           }
          ],
          "barpolar": [
           {
            "marker": {
             "line": {
              "color": "white",
              "width": 0.5
             },
             "pattern": {
              "fillmode": "overlay",
              "size": 10,
              "solidity": 0.2
             }
            },
            "type": "barpolar"
           }
          ],
          "carpet": [
           {
            "aaxis": {
             "endlinecolor": "#2a3f5f",
             "gridcolor": "#C8D4E3",
             "linecolor": "#C8D4E3",
             "minorgridcolor": "#C8D4E3",
             "startlinecolor": "#2a3f5f"
            },
            "baxis": {
             "endlinecolor": "#2a3f5f",
             "gridcolor": "#C8D4E3",
             "linecolor": "#C8D4E3",
             "minorgridcolor": "#C8D4E3",
             "startlinecolor": "#2a3f5f"
            },
            "type": "carpet"
           }
          ],
          "choropleth": [
           {
            "colorbar": {
             "outlinewidth": 0,
             "ticks": ""
            },
            "type": "choropleth"
           }
          ],
          "contour": [
           {
            "colorbar": {
             "outlinewidth": 0,
             "ticks": ""
            },
            "colorscale": [
             [
              0,
              "#0d0887"
             ],
             [
              0.1111111111111111,
              "#46039f"
             ],
             [
              0.2222222222222222,
              "#7201a8"
             ],
             [
              0.3333333333333333,
              "#9c179e"
             ],
             [
              0.4444444444444444,
              "#bd3786"
             ],
             [
              0.5555555555555556,
              "#d8576b"
             ],
             [
              0.6666666666666666,
              "#ed7953"
             ],
             [
              0.7777777777777778,
              "#fb9f3a"
             ],
             [
              0.8888888888888888,
              "#fdca26"
             ],
             [
              1,
              "#f0f921"
             ]
            ],
            "type": "contour"
           }
          ],
          "contourcarpet": [
           {
            "colorbar": {
             "outlinewidth": 0,
             "ticks": ""
            },
            "type": "contourcarpet"
           }
          ],
          "heatmap": [
           {
            "colorbar": {
             "outlinewidth": 0,
             "ticks": ""
            },
            "colorscale": [
             [
              0,
              "#0d0887"
             ],
             [
              0.1111111111111111,
              "#46039f"
             ],
             [
              0.2222222222222222,
              "#7201a8"
             ],
             [
              0.3333333333333333,
              "#9c179e"
             ],
             [
              0.4444444444444444,
              "#bd3786"
             ],
             [
              0.5555555555555556,
              "#d8576b"
             ],
             [
              0.6666666666666666,
              "#ed7953"
             ],
             [
              0.7777777777777778,
              "#fb9f3a"
             ],
             [
              0.8888888888888888,
              "#fdca26"
             ],
             [
              1,
              "#f0f921"
             ]
            ],
            "type": "heatmap"
           }
          ],
          "histogram": [
           {
            "marker": {
             "pattern": {
              "fillmode": "overlay",
              "size": 10,
              "solidity": 0.2
             }
            },
            "type": "histogram"
           }
          ],
          "histogram2d": [
           {
            "colorbar": {
             "outlinewidth": 0,
             "ticks": ""
            },
            "colorscale": [
             [
              0,
              "#0d0887"
             ],
             [
              0.1111111111111111,
              "#46039f"
             ],
             [
              0.2222222222222222,
              "#7201a8"
             ],
             [
              0.3333333333333333,
              "#9c179e"
             ],
             [
              0.4444444444444444,
              "#bd3786"
             ],
             [
              0.5555555555555556,
              "#d8576b"
             ],
             [
              0.6666666666666666,
              "#ed7953"
             ],
             [
              0.7777777777777778,
              "#fb9f3a"
             ],
             [
              0.8888888888888888,
              "#fdca26"
             ],
             [
              1,
              "#f0f921"
             ]
            ],
            "type": "histogram2d"
           }
          ],
          "histogram2dcontour": [
           {
            "colorbar": {
             "outlinewidth": 0,
             "ticks": ""
            },
            "colorscale": [
             [
              0,
              "#0d0887"
             ],
             [
              0.1111111111111111,
              "#46039f"
             ],
             [
              0.2222222222222222,
              "#7201a8"
             ],
             [
              0.3333333333333333,
              "#9c179e"
             ],
             [
              0.4444444444444444,
              "#bd3786"
             ],
             [
              0.5555555555555556,
              "#d8576b"
             ],
             [
              0.6666666666666666,
              "#ed7953"
             ],
             [
              0.7777777777777778,
              "#fb9f3a"
             ],
             [
              0.8888888888888888,
              "#fdca26"
             ],
             [
              1,
              "#f0f921"
             ]
            ],
            "type": "histogram2dcontour"
           }
          ],
          "mesh3d": [
           {
            "colorbar": {
             "outlinewidth": 0,
             "ticks": ""
            },
            "type": "mesh3d"
           }
          ],
          "parcoords": [
           {
            "line": {
             "colorbar": {
              "outlinewidth": 0,
              "ticks": ""
             }
            },
            "type": "parcoords"
           }
          ],
          "pie": [
           {
            "automargin": true,
            "type": "pie"
           }
          ],
          "scatter": [
           {
            "fillpattern": {
             "fillmode": "overlay",
             "size": 10,
             "solidity": 0.2
            },
            "type": "scatter"
           }
          ],
          "scatter3d": [
           {
            "line": {
             "colorbar": {
              "outlinewidth": 0,
              "ticks": ""
             }
            },
            "marker": {
             "colorbar": {
              "outlinewidth": 0,
              "ticks": ""
             }
            },
            "type": "scatter3d"
           }
          ],
          "scattercarpet": [
           {
            "marker": {
             "colorbar": {
              "outlinewidth": 0,
              "ticks": ""
             }
            },
            "type": "scattercarpet"
           }
          ],
          "scattergeo": [
           {
            "marker": {
             "colorbar": {
              "outlinewidth": 0,
              "ticks": ""
             }
            },
            "type": "scattergeo"
           }
          ],
          "scattergl": [
           {
            "marker": {
             "colorbar": {
              "outlinewidth": 0,
              "ticks": ""
             }
            },
            "type": "scattergl"
           }
          ],
          "scattermap": [
           {
            "marker": {
             "colorbar": {
              "outlinewidth": 0,
              "ticks": ""
             }
            },
            "type": "scattermap"
           }
          ],
          "scattermapbox": [
           {
            "marker": {
             "colorbar": {
              "outlinewidth": 0,
              "ticks": ""
             }
            },
            "type": "scattermapbox"
           }
          ],
          "scatterpolar": [
           {
            "marker": {
             "colorbar": {
              "outlinewidth": 0,
              "ticks": ""
             }
            },
            "type": "scatterpolar"
           }
          ],
          "scatterpolargl": [
           {
            "marker": {
             "colorbar": {
              "outlinewidth": 0,
              "ticks": ""
             }
            },
            "type": "scatterpolargl"
           }
          ],
          "scatterternary": [
           {
            "marker": {
             "colorbar": {
              "outlinewidth": 0,
              "ticks": ""
             }
            },
            "type": "scatterternary"
           }
          ],
          "surface": [
           {
            "colorbar": {
             "outlinewidth": 0,
             "ticks": ""
            },
            "colorscale": [
             [
              0,
              "#0d0887"
             ],
             [
              0.1111111111111111,
              "#46039f"
             ],
             [
              0.2222222222222222,
              "#7201a8"
             ],
             [
              0.3333333333333333,
              "#9c179e"
             ],
             [
              0.4444444444444444,
              "#bd3786"
             ],
             [
              0.5555555555555556,
              "#d8576b"
             ],
             [
              0.6666666666666666,
              "#ed7953"
             ],
             [
              0.7777777777777778,
              "#fb9f3a"
             ],
             [
              0.8888888888888888,
              "#fdca26"
             ],
             [
              1,
              "#f0f921"
             ]
            ],
            "type": "surface"
           }
          ],
          "table": [
           {
            "cells": {
             "fill": {
              "color": "#EBF0F8"
             },
             "line": {
              "color": "white"
             }
            },
            "header": {
             "fill": {
              "color": "#C8D4E3"
             },
             "line": {
              "color": "white"
             }
            },
            "type": "table"
           }
          ]
         },
         "layout": {
          "annotationdefaults": {
           "arrowcolor": "#2a3f5f",
           "arrowhead": 0,
           "arrowwidth": 1
          },
          "autotypenumbers": "strict",
          "coloraxis": {
           "colorbar": {
            "outlinewidth": 0,
            "ticks": ""
           }
          },
          "colorscale": {
           "diverging": [
            [
             0,
             "#8e0152"
            ],
            [
             0.1,
             "#c51b7d"
            ],
            [
             0.2,
             "#de77ae"
            ],
            [
             0.3,
             "#f1b6da"
            ],
            [
             0.4,
             "#fde0ef"
            ],
            [
             0.5,
             "#f7f7f7"
            ],
            [
             0.6,
             "#e6f5d0"
            ],
            [
             0.7,
             "#b8e186"
            ],
            [
             0.8,
             "#7fbc41"
            ],
            [
             0.9,
             "#4d9221"
            ],
            [
             1,
             "#276419"
            ]
           ],
           "sequential": [
            [
             0,
             "#0d0887"
            ],
            [
             0.1111111111111111,
             "#46039f"
            ],
            [
             0.2222222222222222,
             "#7201a8"
            ],
            [
             0.3333333333333333,
             "#9c179e"
            ],
            [
             0.4444444444444444,
             "#bd3786"
            ],
            [
             0.5555555555555556,
             "#d8576b"
            ],
            [
             0.6666666666666666,
             "#ed7953"
            ],
            [
             0.7777777777777778,
             "#fb9f3a"
            ],
            [
             0.8888888888888888,
             "#fdca26"
            ],
            [
             1,
             "#f0f921"
            ]
           ],
           "sequentialminus": [
            [
             0,
             "#0d0887"
            ],
            [
             0.1111111111111111,
             "#46039f"
            ],
            [
             0.2222222222222222,
             "#7201a8"
            ],
            [
             0.3333333333333333,
             "#9c179e"
            ],
            [
             0.4444444444444444,
             "#bd3786"
            ],
            [
             0.5555555555555556,
             "#d8576b"
            ],
            [
             0.6666666666666666,
             "#ed7953"
            ],
            [
             0.7777777777777778,
             "#fb9f3a"
            ],
            [
             0.8888888888888888,
             "#fdca26"
            ],
            [
             1,
             "#f0f921"
            ]
           ]
          },
          "colorway": [
           "#636efa",
           "#EF553B",
           "#00cc96",
           "#ab63fa",
           "#FFA15A",
           "#19d3f3",
           "#FF6692",
           "#B6E880",
           "#FF97FF",
           "#FECB52"
          ],
          "font": {
           "color": "#2a3f5f"
          },
          "geo": {
           "bgcolor": "white",
           "lakecolor": "white",
           "landcolor": "white",
           "showlakes": true,
           "showland": true,
           "subunitcolor": "#C8D4E3"
          },
          "hoverlabel": {
           "align": "left"
          },
          "hovermode": "closest",
          "mapbox": {
           "style": "light"
          },
          "paper_bgcolor": "white",
          "plot_bgcolor": "white",
          "polar": {
           "angularaxis": {
            "gridcolor": "#EBF0F8",
            "linecolor": "#EBF0F8",
            "ticks": ""
           },
           "bgcolor": "white",
           "radialaxis": {
            "gridcolor": "#EBF0F8",
            "linecolor": "#EBF0F8",
            "ticks": ""
           }
          },
          "scene": {
           "xaxis": {
            "backgroundcolor": "white",
            "gridcolor": "#DFE8F3",
            "gridwidth": 2,
            "linecolor": "#EBF0F8",
            "showbackground": true,
            "ticks": "",
            "zerolinecolor": "#EBF0F8"
           },
           "yaxis": {
            "backgroundcolor": "white",
            "gridcolor": "#DFE8F3",
            "gridwidth": 2,
            "linecolor": "#EBF0F8",
            "showbackground": true,
            "ticks": "",
            "zerolinecolor": "#EBF0F8"
           },
           "zaxis": {
            "backgroundcolor": "white",
            "gridcolor": "#DFE8F3",
            "gridwidth": 2,
            "linecolor": "#EBF0F8",
            "showbackground": true,
            "ticks": "",
            "zerolinecolor": "#EBF0F8"
           }
          },
          "shapedefaults": {
           "line": {
            "color": "#2a3f5f"
           }
          },
          "ternary": {
           "aaxis": {
            "gridcolor": "#DFE8F3",
            "linecolor": "#A2B1C6",
            "ticks": ""
           },
           "baxis": {
            "gridcolor": "#DFE8F3",
            "linecolor": "#A2B1C6",
            "ticks": ""
           },
           "bgcolor": "white",
           "caxis": {
            "gridcolor": "#DFE8F3",
            "linecolor": "#A2B1C6",
            "ticks": ""
           }
          },
          "title": {
           "x": 0.05
          },
          "xaxis": {
           "automargin": true,
           "gridcolor": "#EBF0F8",
           "linecolor": "#EBF0F8",
           "ticks": "",
           "title": {
            "standoff": 15
           },
           "zerolinecolor": "#EBF0F8",
           "zerolinewidth": 2
          },
          "yaxis": {
           "automargin": true,
           "gridcolor": "#EBF0F8",
           "linecolor": "#EBF0F8",
           "ticks": "",
           "title": {
            "standoff": 15
           },
           "zerolinecolor": "#EBF0F8",
           "zerolinewidth": 2
          }
         }
        },
        "title": {
         "text": "new_customers - Autocorrelation Function"
        },
        "xaxis": {
         "anchor": "y",
         "domain": [
          0,
          1
         ],
         "title": {
          "text": "Lag"
         }
        },
        "yaxis": {
         "anchor": "x",
         "domain": [
          0,
          1
         ],
         "title": {
          "text": "Correlation"
         }
        }
       }
      }
     },
     "metadata": {},
     "output_type": "display_data"
    }
   ],
   "source": [
    "def compute_autocorrelation(df: pl.DataFrame,\n",
    "                              col_name: str,\n",
    "                              max_lag: int = 60,\n",
    "                              sort_col: str = None) -> pl.DataFrame:\n",
    "    # Optional sorting\n",
    "    if sort_col:\n",
    "        df = df.sort(sort_col)\n",
    "\n",
    "    # Compute autocorrelations for each lag\n",
    "    corrs = []\n",
    "    for lag in range(0, max_lag + 1):\n",
    "        shifted_df = df.with_columns(pl.col(col_name).shift(lag).alias(f\"{col_name}_lag\"))\n",
    "        corr_value = shifted_df.drop_nulls().select(pl.corr(col_name, f\"{col_name}_lag\")).item()\n",
    "        corrs.append(corr_value)\n",
    "\n",
    "    # Return the results as a Polars DataFrame\n",
    "    return pl.DataFrame({\n",
    "        'Lag': range(0, max_lag + 1),\n",
    "         col_name: corrs\n",
    "    })\n",
    "\n",
    "\n",
    "result = compute_autocorrelation(df, col_name=target, max_lag=60, sort_col=date_col)\n",
    "fig=px.line(result, x='Lag', y=target, title=f\"{target} - Autocorrelation Function\")\n",
    "fig.update_layout(yaxis_title=\"Correlation\")\n",
    "fig.show()"
   ]
  },
  {
   "cell_type": "markdown",
   "metadata": {},
   "source": [
    "🔍 Observations <br>\n",
    "\n",
    "The prominent correlation peak at lag 52 further confirms the presence of yearly seasonality. "
   ]
  },
  {
   "cell_type": "markdown",
   "metadata": {},
   "source": [
    "### New customers 💁‍♀️💁‍♂️ vs. Investments 💰\n",
    "\n",
    "Timing matters ⏰"
   ]
  },
  {
   "cell_type": "code",
   "execution_count": 25,
   "metadata": {},
   "outputs": [],
   "source": [
    "def scale_columns_expr(col_names: list[str]) -> pl.Expr:\n",
    "  return [((pl.col(col) - pl.col(col).min()) / (pl.col(col).max() - pl.col(col).min())).alias(f\"{col}_scaled\")\n",
    "          for col in col_names]\n",
    "\n",
    "\n",
    "def shift_col_expr(col_names: list[str], lag: int) -> pl.Expr:\n",
    "  return [pl.col(col).shift(lag).alias(col) for col in col_names]\n",
    "\n",
    "\n",
    "def add_season_column(df: pl.DataFrame, date_col: str,\n",
    "                      new_col: str = \"season\") -> pl.DataFrame:\n",
    "\n",
    "    return df.with_columns(\n",
    "        pl.when(pl.col(date_col).dt.month().is_in([12, 1, 2]))\n",
    "        .then(pl.lit(\"Winter\"))\n",
    "        .when(pl.col(date_col).dt.month().is_in([3, 4, 5]))\n",
    "        .then(pl.lit(\"Spring\"))\n",
    "        .when(pl.col(date_col).dt.month().is_in([6, 7, 8]))\n",
    "        .then(pl.lit(\"Summer\"))\n",
    "        .otherwise(pl.lit(\"Autumn\"))\n",
    "        .alias(new_col)\n",
    "    )"
   ]
  },
  {
   "cell_type": "code",
   "execution_count": 21,
   "metadata": {},
   "outputs": [],
   "source": [
    "def plot_target_channel_relationship(df: pl.DataFrame,\n",
    "                                     col_to_scale: str,\n",
    "                                     col_to_corr: str,\n",
    "                                     plot_title: str,\n",
    "                                     target: str = target,\n",
    "                                     ) -> None:\n",
    "  df_scaled = df.with_columns(scale_columns_expr([target, col_to_scale]))\n",
    "  corr_coeff = df_scaled.select(pl.corr(target, col_to_corr)).item()\n",
    "  corr_coeff = np.round(corr_coeff, 2)\n",
    "\n",
    "\n",
    "  fig = make_subplots(rows=1, cols=2, subplot_titles=(\"Normalized Line Plot\",\n",
    "                                                      f\"Scatter Plot - Corr: {corr_coeff}\"))\n",
    "\n",
    "  fig.add_trace(\n",
    "      go.Scatter(x=df_scaled[date_col].to_list(),\n",
    "                 y=df_scaled[f\"{target}_scaled\"].to_list(),\n",
    "                 mode='lines', name=target),\n",
    "      row=1, col=1\n",
    "  )\n",
    "  fig.add_trace(\n",
    "      go.Scatter(x=df_scaled[date_col].to_list(),\n",
    "                 y=df_scaled[f\"{col_to_scale}_scaled\"].to_list(),\n",
    "                 mode='lines', name=col_to_scale),\n",
    "      row=1, col=1\n",
    "  )\n",
    "  fig.add_trace(\n",
    "      go.Scatter(x=df_scaled[col_to_corr].to_list(),\n",
    "                 y=df_scaled[target].to_list(),\n",
    "                 mode='markers', showlegend=False),\n",
    "      row=1, col=2\n",
    "  )\n",
    "\n",
    "  fig.update_layout(\n",
    "      title=plot_title\n",
    "  )\n",
    "  fig.show()"
   ]
  },
  {
   "cell_type": "code",
   "execution_count": 28,
   "metadata": {},
   "outputs": [],
   "source": [
    "lag_widget = widgets.IntSlider(value=0,\n",
    "    min=0,\n",
    "    max=8,\n",
    "    step=1,\n",
    "    description='Lag')\n",
    "\n",
    "channels_dropdown = widgets.Dropdown(description='Channel', options=channels)\n",
    "def plot_target_channel_relationship_on_lag_change(channel: str,\n",
    "                                                   lag: int):\n",
    "\n",
    "    df_shifted = (\n",
    "        df\n",
    "        .sort(date_col)\n",
    "        .with_columns(shift_col_expr([channel], lag))\n",
    "        .filter(pl.col(channel).is_not_null())\n",
    "\n",
    "    )\n",
    "\n",
    "    plot_title = f\"{target} vs {channel} Relationship - Lag {lag}\"\n",
    "    plot_target_channel_relationship(df_shifted,\n",
    "                                     col_to_scale=channel,\n",
    "                                     col_to_corr=channel,\n",
    "                                     plot_title=plot_title)"
   ]
  },
  {
   "cell_type": "code",
   "execution_count": 29,
   "metadata": {},
   "outputs": [
    {
     "data": {
      "application/vnd.plotly.v1+json": {
       "config": {
        "plotlyServerURL": "https://plot.ly"
       },
       "data": [
        {
         "mode": "lines",
         "name": "new_customers",
         "type": "scatter",
         "x": [
          "2020-05-18",
          "2020-05-25",
          "2020-06-01",
          "2020-06-08",
          "2020-06-15",
          "2020-06-22",
          "2020-06-29",
          "2020-07-06",
          "2020-07-13",
          "2020-07-20",
          "2020-07-27",
          "2020-08-03",
          "2020-08-10",
          "2020-08-17",
          "2020-08-24",
          "2020-08-31",
          "2020-09-07",
          "2020-09-14",
          "2020-09-21",
          "2020-09-28",
          "2020-10-05",
          "2020-10-12",
          "2020-10-19",
          "2020-10-26",
          "2020-11-02",
          "2020-11-09",
          "2020-11-16",
          "2020-11-23",
          "2020-11-30",
          "2020-12-07",
          "2020-12-14",
          "2020-12-21",
          "2020-12-28",
          "2021-01-04",
          "2021-01-11",
          "2021-01-18",
          "2021-01-25",
          "2021-02-01",
          "2021-02-08",
          "2021-02-15",
          "2021-02-22",
          "2021-03-01",
          "2021-03-08",
          "2021-03-15",
          "2021-03-22",
          "2021-03-29",
          "2021-04-05",
          "2021-04-12",
          "2021-04-19",
          "2021-04-26",
          "2021-05-03",
          "2021-05-10",
          "2021-05-17",
          "2021-05-24",
          "2021-05-31",
          "2021-06-07",
          "2021-06-14",
          "2021-06-21",
          "2021-06-28",
          "2021-07-05",
          "2021-07-12",
          "2021-07-19",
          "2021-07-26",
          "2021-08-02",
          "2021-08-09",
          "2021-08-16",
          "2021-08-23",
          "2021-08-30",
          "2021-09-06",
          "2021-09-13",
          "2021-09-20",
          "2021-09-27",
          "2021-10-04",
          "2021-10-11",
          "2021-10-18",
          "2021-10-25",
          "2021-11-01",
          "2021-11-08",
          "2021-11-15",
          "2021-11-22",
          "2021-11-29",
          "2021-12-06",
          "2021-12-13",
          "2021-12-20",
          "2021-12-27",
          "2022-01-03",
          "2022-01-10",
          "2022-01-17",
          "2022-01-24",
          "2022-01-31",
          "2022-02-07",
          "2022-02-14",
          "2022-02-21",
          "2022-02-28",
          "2022-03-07",
          "2022-03-14",
          "2022-03-21",
          "2022-03-28",
          "2022-04-04",
          "2022-04-11",
          "2022-04-18",
          "2022-04-25",
          "2022-05-02",
          "2022-05-09",
          "2022-05-16",
          "2022-05-23",
          "2022-05-30",
          "2022-06-06",
          "2022-06-13",
          "2022-06-20",
          "2022-06-27",
          "2022-07-04",
          "2022-07-11",
          "2022-07-18",
          "2022-07-25",
          "2022-08-01",
          "2022-08-08",
          "2022-08-15",
          "2022-08-22",
          "2022-08-29",
          "2022-09-05",
          "2022-09-12",
          "2022-09-19",
          "2022-09-26",
          "2022-10-03",
          "2022-10-10",
          "2022-10-17",
          "2022-10-24",
          "2022-10-31",
          "2022-11-07",
          "2022-11-14",
          "2022-11-21",
          "2022-11-28",
          "2022-12-05",
          "2022-12-12",
          "2022-12-19",
          "2022-12-26",
          "2023-01-02",
          "2023-01-09",
          "2023-01-16",
          "2023-01-23",
          "2023-01-30",
          "2023-02-06",
          "2023-02-13",
          "2023-02-20",
          "2023-02-27",
          "2023-03-06",
          "2023-03-13",
          "2023-03-20",
          "2023-03-27",
          "2023-04-03",
          "2023-04-10",
          "2023-04-17",
          "2023-04-24",
          "2023-05-01",
          "2023-05-08",
          "2023-05-15",
          "2023-05-22",
          "2023-05-29",
          "2023-06-05",
          "2023-06-12",
          "2023-06-19",
          "2023-06-26",
          "2023-07-03",
          "2023-07-10"
         ],
         "xaxis": "x",
         "y": [
          0.04501132670146755,
          0.0648084310056141,
          0.06205062543090712,
          0.04727666699497686,
          0,
          0.025115729341081455,
          0.012410125086181424,
          0.04373091697035359,
          0.06667979907416527,
          0.10932729242588397,
          0.05505761843790013,
          0.14340588988476313,
          0.16655175810105388,
          0.1733477789815818,
          0.24938441839850292,
          0.2785383630454053,
          0.3111395646606914,
          0.3959420860829312,
          0.42814931547325913,
          0.5248694967004827,
          0.4582881906825569,
          0.3600906136117404,
          0.2563774253915099,
          0.29203191175022164,
          0.26258248793460065,
          0.15473259135230966,
          0.14990643159657244,
          0.08066581306017927,
          0.13217768147345613,
          0.11878262582487935,
          0.1393676745789422,
          0.12370727863685611,
          0.07032404215502808,
          0.056436521225253625,
          0.12301782724317936,
          0.0605732295873141,
          0.12863193144883286,
          0.11188811188811189,
          0.13897370235398404,
          0.16783216783216784,
          0.1270560425490003,
          0.1029252437703142,
          0.14311041071604452,
          0.10479661183886536,
          0.08913621589677928,
          0.06894513936767459,
          0.04865556978233035,
          0.012804097311139566,
          0.07780951442923274,
          0.13848123707278637,
          0.28366000196986113,
          0.21097212646508423,
          0.31458682162907514,
          0.11937358416231657,
          0.09859154929577466,
          0.13986013986013987,
          0.21698020289569586,
          0.19068255687973998,
          0.3165566827538659,
          0.2734167241209495,
          0.3509307593814636,
          0.4373091697035359,
          0.5563872746971339,
          0.47611543386191274,
          0.5813060179257362,
          0.5244755244755245,
          0.5824879346006107,
          0.5429922190485571,
          0.5458485176795036,
          0.5040874618339407,
          0.5346203092681966,
          0.5424997537673594,
          0.5125578646705408,
          0.4713877671624151,
          0.4406579336156801,
          0.41298138481237073,
          0.3544765094060869,
          0.22939032798187728,
          0.22446567516990054,
          0.18319708460553533,
          0.15187629272136316,
          0.14320890377228407,
          0.18319708460553533,
          0.17827243179355856,
          0.4179060376243475,
          0.0950457992711514,
          0.1677336747759283,
          0.14567123017827244,
          0.14882300797793757,
          0.1800453068058702,
          0.22781443908204474,
          0.14064808431005615,
          0.33783118290160546,
          0.1814242095932237,
          0.18053777208706787,
          0.16389244558258642,
          0.11326701467546539,
          0.1637939525263469,
          0.24052004333694477,
          0.293213828425096,
          0.37072786368561017,
          0.3931842805082242,
          0.5207327883384222,
          0.28622082143208905,
          0.35319609967497295,
          0.35624938441839854,
          0.4134738500935684,
          0.548310844085492,
          0.37338717620407763,
          0.4709937949374569,
          0.46262188515709646,
          0.4915788436915198,
          0.5052693785088151,
          0.5611149413966315,
          0.5769723234511968,
          0.5974588791490201,
          0.6465084211563085,
          0.5993302472175712,
          0.7016645326504481,
          0.7876489707475623,
          0.7355461439968483,
          0.7545553038510785,
          0.925440756426672,
          0.8920516103614695,
          0.9369644440066975,
          1,
          0.8693982074263765,
          0.7768147345612134,
          0.769920220624446,
          0.5496897468728454,
          0.3797892248596474,
          0.4377031419284941,
          0.3912144193834335,
          0.3796907318034079,
          0.4716832463311337,
          0.3912144193834335,
          0.21402541120850982,
          0.206145966709347,
          0.08874224367182114,
          0.06766472963656063,
          0.24751305032995174,
          0.049935979513444306,
          0.07564266719196297,
          0.09770511178961884,
          0.09445484093371417,
          0.08716635477198859,
          0.21698020289569586,
          0.2923273909189402,
          0.20319117502216094,
          0.2549000295479169,
          0.2729242588397518,
          0.30976066187333795,
          0.3278833842214124,
          0.4433172461341476,
          0.4854722742046686,
          0.5594405594405595,
          0.39889687777011723,
          0.4372106766472964,
          0.22584457795725402,
          0.3046390229488821,
          0.242588397517975,
          0.19541022357923768,
          0.10735743130109328,
          0.08293115335368857,
          0.2386486752683936
         ],
         "yaxis": "y"
        },
        {
         "mode": "lines",
         "name": "promo_investment",
         "type": "scatter",
         "x": [
          "2020-05-18",
          "2020-05-25",
          "2020-06-01",
          "2020-06-08",
          "2020-06-15",
          "2020-06-22",
          "2020-06-29",
          "2020-07-06",
          "2020-07-13",
          "2020-07-20",
          "2020-07-27",
          "2020-08-03",
          "2020-08-10",
          "2020-08-17",
          "2020-08-24",
          "2020-08-31",
          "2020-09-07",
          "2020-09-14",
          "2020-09-21",
          "2020-09-28",
          "2020-10-05",
          "2020-10-12",
          "2020-10-19",
          "2020-10-26",
          "2020-11-02",
          "2020-11-09",
          "2020-11-16",
          "2020-11-23",
          "2020-11-30",
          "2020-12-07",
          "2020-12-14",
          "2020-12-21",
          "2020-12-28",
          "2021-01-04",
          "2021-01-11",
          "2021-01-18",
          "2021-01-25",
          "2021-02-01",
          "2021-02-08",
          "2021-02-15",
          "2021-02-22",
          "2021-03-01",
          "2021-03-08",
          "2021-03-15",
          "2021-03-22",
          "2021-03-29",
          "2021-04-05",
          "2021-04-12",
          "2021-04-19",
          "2021-04-26",
          "2021-05-03",
          "2021-05-10",
          "2021-05-17",
          "2021-05-24",
          "2021-05-31",
          "2021-06-07",
          "2021-06-14",
          "2021-06-21",
          "2021-06-28",
          "2021-07-05",
          "2021-07-12",
          "2021-07-19",
          "2021-07-26",
          "2021-08-02",
          "2021-08-09",
          "2021-08-16",
          "2021-08-23",
          "2021-08-30",
          "2021-09-06",
          "2021-09-13",
          "2021-09-20",
          "2021-09-27",
          "2021-10-04",
          "2021-10-11",
          "2021-10-18",
          "2021-10-25",
          "2021-11-01",
          "2021-11-08",
          "2021-11-15",
          "2021-11-22",
          "2021-11-29",
          "2021-12-06",
          "2021-12-13",
          "2021-12-20",
          "2021-12-27",
          "2022-01-03",
          "2022-01-10",
          "2022-01-17",
          "2022-01-24",
          "2022-01-31",
          "2022-02-07",
          "2022-02-14",
          "2022-02-21",
          "2022-02-28",
          "2022-03-07",
          "2022-03-14",
          "2022-03-21",
          "2022-03-28",
          "2022-04-04",
          "2022-04-11",
          "2022-04-18",
          "2022-04-25",
          "2022-05-02",
          "2022-05-09",
          "2022-05-16",
          "2022-05-23",
          "2022-05-30",
          "2022-06-06",
          "2022-06-13",
          "2022-06-20",
          "2022-06-27",
          "2022-07-04",
          "2022-07-11",
          "2022-07-18",
          "2022-07-25",
          "2022-08-01",
          "2022-08-08",
          "2022-08-15",
          "2022-08-22",
          "2022-08-29",
          "2022-09-05",
          "2022-09-12",
          "2022-09-19",
          "2022-09-26",
          "2022-10-03",
          "2022-10-10",
          "2022-10-17",
          "2022-10-24",
          "2022-10-31",
          "2022-11-07",
          "2022-11-14",
          "2022-11-21",
          "2022-11-28",
          "2022-12-05",
          "2022-12-12",
          "2022-12-19",
          "2022-12-26",
          "2023-01-02",
          "2023-01-09",
          "2023-01-16",
          "2023-01-23",
          "2023-01-30",
          "2023-02-06",
          "2023-02-13",
          "2023-02-20",
          "2023-02-27",
          "2023-03-06",
          "2023-03-13",
          "2023-03-20",
          "2023-03-27",
          "2023-04-03",
          "2023-04-10",
          "2023-04-17",
          "2023-04-24",
          "2023-05-01",
          "2023-05-08",
          "2023-05-15",
          "2023-05-22",
          "2023-05-29",
          "2023-06-05",
          "2023-06-12",
          "2023-06-19",
          "2023-06-26",
          "2023-07-03",
          "2023-07-10"
         ],
         "xaxis": "x",
         "y": [
          0.002746457497311473,
          0.008426290992922662,
          0.013814929864939202,
          0.0098612892101347,
          0.020745159149469335,
          0.026709189480708037,
          0.012723766649577,
          0.025009264073133846,
          0.015452782010965907,
          0.01864896755044109,
          0.006669819399094044,
          0.024111162578574725,
          0.04404704304592541,
          0.02648843105058889,
          0.03372090817509302,
          0.03597323147098113,
          0.035224320630841986,
          0.054585082296758715,
          0.04443337568287936,
          0.04372435229074102,
          0.05245881450015661,
          0.03223689202831413,
          0.06962607257082647,
          0.08020510796214424,
          0.05813640480124579,
          0.04041109748063628,
          0.036353075857769035,
          0.02699786855000108,
          0.020403826546012888,
          0.03348247322695331,
          0.0072423269251910075,
          0.022665625695356212,
          0.016036106144650657,
          0.026260648229374406,
          0.015815845921308566,
          0.017732137567466104,
          0.02849140745812984,
          0.02955066221852809,
          0.023606254046605348,
          0.05762468125769149,
          0.03821933559503966,
          0.023644438074039754,
          0.007607896548854295,
          0.01978683448104329,
          0.01831907043474629,
          0.042826988092923325,
          0.026205179652301017,
          0.02665926002651175,
          0.048492988002044754,
          0.0730576916797879,
          0.13936362614477193,
          0.0736121735657544,
          0.08350160290192721,
          0.042394233348821114,
          0.0502166711449213,
          0.06413869112062733,
          0.05573771685319804,
          0.07156633296916994,
          0.12888709372817614,
          0.053077450541345834,
          0.05315075543602328,
          0.04375751686539216,
          0.09035663376181043,
          0.06086020276516577,
          0.08131721786790197,
          0.1052065516631839,
          0.07930343559782527,
          0.054740377965619966,
          0.06543061861838166,
          0.059929732723832105,
          0.04441631408721043,
          0.06536518828313934,
          0.05663299244594915,
          0.05459818201862868,
          0.04124455590838555,
          0.05126798501720391,
          0.06237036565168987,
          0.051148799420010146,
          0.03989710347979471,
          0.06006372251821181,
          0.0469469504371714,
          0.025076967340139426,
          0.034876335875832075,
          0.03372543991502043,
          0.06471210485742489,
          0.031929006006061515,
          0.01207114954706669,
          0.02244821608844634,
          0.042654450784314596,
          0.033473120377389205,
          0.04154727908213862,
          0.031233375499252487,
          0.09341257313757455,
          0.03232912532495896,
          0.037958288825021856,
          0.051224103550655126,
          0.042256498791634685,
          0.0015481455924000126,
          0.05211412039640551,
          0.07180102158074958,
          0.09040963134524052,
          0.07812366126328525,
          0.1383282949765357,
          0.06718584697720999,
          0.06994511827889427,
          0.09407260756390427,
          0.08971847932857313,
          0.07878851525898242,
          0.06846325810721844,
          0.04420719658998002,
          0.0658091058605634,
          0.1020558807075791,
          0.1329456710199077,
          0.1727478023365059,
          0.22946940014236536,
          0.17546644883652496,
          0.23993730547755818,
          0.32938657631692064,
          0.6924649465061418,
          0.683022791797649,
          0.31408954990255433,
          0.35428263828006024,
          0.5485947955117283,
          0.5572757394597482,
          0.6420935616127686,
          0.9801155987990412,
          1,
          0.9686263713790375,
          0.7516016938204031,
          0.5414825628625859,
          0.3215971579083552,
          0.3241076025677129,
          0.26776137352808826,
          0.2457438282664534,
          0.45849862375337674,
          0.2677624107989577,
          0.026241499786554847,
          0.028833170175070026,
          0.026891091589360976,
          0.020478883845166447,
          0.026670096439952707,
          0.013614640568091363,
          0.017699702420789706,
          0.015154909791239918,
          0.014043237221489221,
          0,
          0.03321624063833407,
          0.0660708528503637,
          0.04200247203299017,
          0.043244732645573034,
          0.031002940732896687,
          0.11434155093929756,
          0.08466792951420517,
          0.36965121991023464,
          0.3010054387281291,
          0.2770375102513957,
          0.5006410721049552,
          0.3481142380769922,
          0.12984469551142322,
          0.028257243422066654,
          0.022866301141046708,
          0.02891018363622745,
          0.028237152953938627,
          0.022447749721712863,
          0.03176303011040695
         ],
         "yaxis": "y"
        },
        {
         "mode": "markers",
         "showlegend": false,
         "type": "scatter",
         "x": [
          1304.227029,
          3000.504127,
          4609.816216,
          3429.065037,
          6679.522877,
          8460.675101,
          4283.941316,
          7952.993927,
          5098.959267,
          6053.497166,
          2475.935486,
          7684.776734,
          13638.60927,
          8394.745797,
          10554.7185,
          11227.3728,
          11003.71126,
          16785.78509,
          13753.98716,
          13542.23797,
          16150.77715,
          10111.51843,
          21277.76313,
          24437.18241,
          17846.38432,
          12552.73744,
          11340.81298,
          8546.888842,
          6577.584206,
          10483.51012,
          2646.914337,
          7253.068461,
          5273.168488,
          8326.718665,
          5207.387973,
          5779.686727,
          8992.932876,
          9309.278345,
          7533.986261,
          17693.55855,
          11898.16975,
          7545.389886,
          2756.091372,
          6393.320088,
          5954.973693,
          13274.24097,
          8310.153025,
          8445.763715,
          14966.38668,
          22302.61305,
          42104.81996,
          22468.20856,
          25421.67762,
          13144.99916,
          15481.16308,
          19638.96166,
          17130.01835,
          21857.22013,
          38976.0131,
          16335.53224,
          16357.42468,
          13552.14254,
          27468.92634,
          18659.8441,
          24769.31302,
          31903.84079,
          24167.89878,
          16832.164,
          20024.79463,
          18381.96007,
          13748.89173,
          20005.25392,
          17397.39159,
          16789.69731,
          12801.64904,
          15795.13701,
          19110.85287,
          15759.54234,
          12399.2336,
          18421.976,
          14504.66397,
          7973.213446,
          10899.78593,
          10556.0719,
          19810.21115,
          10019.56855,
          4089.037813,
          7188.13928,
          13222.71286,
          10480.7169,
          12892.05704,
          9811.819133,
          28381.57985,
          10139.06382,
          11820.20837,
          15782.03185,
          13103.86486,
          946.3522705,
          16047.83457,
          21927.30967,
          27484.75402,
          23815.56025,
          41795.61925,
          20548.99198,
          21373.04584,
          28578.69853,
          27278.3421,
          24014.11829,
          20930.48965,
          13686.43898,
          20137.8295,
          30962.89578,
          40188.10351,
          52074.97376,
          69014.82726,
          52886.89506,
          72141.05765,
          98855.00088,
          207288.0253,
          204468.1344,
          94286.55788,
          106290.1871,
          164321.3358,
          166913.8918,
          192244.6571,
          293194.6305,
          299133.0888,
          289763.3832,
          224949.161,
          162197.274,
          96528.69817,
          97278.44018,
          80450.69022,
          73875.17039,
          137414.1962,
          80451,
          8321,
          9095,
          8515,
          6600,
          8449,
          4550,
          5770,
          5010,
          4678,
          484,
          10404,
          20216,
          13028,
          13399,
          9743,
          34632,
          25770,
          110880,
          90379,
          83221,
          150000,
          104448,
          39262,
          8923,
          7313,
          9118,
          8917,
          7188,
          9970
         ],
         "xaxis": "x2",
         "y": [
          777,
          978,
          950,
          800,
          320,
          575,
          446,
          764,
          997,
          1430,
          879,
          1776,
          2011,
          2080,
          2852,
          3148,
          3479,
          4340,
          4667,
          5649,
          4973,
          3976,
          2923,
          3285,
          2986,
          1891,
          1842,
          1139,
          1662,
          1526,
          1735,
          1576,
          1034,
          893,
          1569,
          935,
          1626,
          1456,
          1731,
          2024,
          1610,
          1365,
          1773,
          1384,
          1225,
          1020,
          814,
          450,
          1110,
          1726,
          3200,
          2462,
          3514,
          1532,
          1321,
          1740,
          2523,
          2256,
          3534,
          3096,
          3883,
          4760,
          5969,
          5154,
          6222,
          5645,
          6234,
          5833,
          5862,
          5438,
          5748,
          5828,
          5524,
          5106,
          4794,
          4513,
          3919,
          2649,
          2599,
          2180,
          1862,
          1774,
          2180,
          2130,
          4563,
          1285,
          2023,
          1799,
          1831,
          2148,
          2633,
          1748,
          3750,
          2162,
          2153,
          1984,
          1470,
          1983,
          2762,
          3297,
          4084,
          4312,
          5607,
          3226,
          3906,
          3937,
          4518,
          5887,
          4111,
          5102,
          5017,
          5311,
          5450,
          6017,
          6178,
          6386,
          6884,
          6405,
          7444,
          8317,
          7788,
          7981,
          9716,
          9377,
          9833,
          10473,
          9147,
          8207,
          8137,
          5901,
          4176,
          4764,
          4292,
          4175,
          5109,
          4292,
          2493,
          2413,
          1221,
          1007,
          2833,
          827,
          1088,
          1312,
          1279,
          1205,
          2523,
          3288,
          2383,
          2908,
          3091,
          3465,
          3649,
          4821,
          5249,
          6000,
          4370,
          4759,
          2613,
          3413,
          2783,
          2304,
          1410,
          1162,
          2743
         ],
         "yaxis": "y2"
        }
       ],
       "layout": {
        "annotations": [
         {
          "font": {
           "size": 16
          },
          "showarrow": false,
          "text": "Normalized Line Plot",
          "x": 0.225,
          "xanchor": "center",
          "xref": "paper",
          "y": 1,
          "yanchor": "bottom",
          "yref": "paper"
         },
         {
          "font": {
           "size": 16
          },
          "showarrow": false,
          "text": "Scatter Plot - Corr: 0.75",
          "x": 0.775,
          "xanchor": "center",
          "xref": "paper",
          "y": 1,
          "yanchor": "bottom",
          "yref": "paper"
         }
        ],
        "template": {
         "data": {
          "bar": [
           {
            "error_x": {
             "color": "#2a3f5f"
            },
            "error_y": {
             "color": "#2a3f5f"
            },
            "marker": {
             "line": {
              "color": "white",
              "width": 0.5
             },
             "pattern": {
              "fillmode": "overlay",
              "size": 10,
              "solidity": 0.2
             }
            },
            "type": "bar"
           }
          ],
          "barpolar": [
           {
            "marker": {
             "line": {
              "color": "white",
              "width": 0.5
             },
             "pattern": {
              "fillmode": "overlay",
              "size": 10,
              "solidity": 0.2
             }
            },
            "type": "barpolar"
           }
          ],
          "carpet": [
           {
            "aaxis": {
             "endlinecolor": "#2a3f5f",
             "gridcolor": "#C8D4E3",
             "linecolor": "#C8D4E3",
             "minorgridcolor": "#C8D4E3",
             "startlinecolor": "#2a3f5f"
            },
            "baxis": {
             "endlinecolor": "#2a3f5f",
             "gridcolor": "#C8D4E3",
             "linecolor": "#C8D4E3",
             "minorgridcolor": "#C8D4E3",
             "startlinecolor": "#2a3f5f"
            },
            "type": "carpet"
           }
          ],
          "choropleth": [
           {
            "colorbar": {
             "outlinewidth": 0,
             "ticks": ""
            },
            "type": "choropleth"
           }
          ],
          "contour": [
           {
            "colorbar": {
             "outlinewidth": 0,
             "ticks": ""
            },
            "colorscale": [
             [
              0,
              "#0d0887"
             ],
             [
              0.1111111111111111,
              "#46039f"
             ],
             [
              0.2222222222222222,
              "#7201a8"
             ],
             [
              0.3333333333333333,
              "#9c179e"
             ],
             [
              0.4444444444444444,
              "#bd3786"
             ],
             [
              0.5555555555555556,
              "#d8576b"
             ],
             [
              0.6666666666666666,
              "#ed7953"
             ],
             [
              0.7777777777777778,
              "#fb9f3a"
             ],
             [
              0.8888888888888888,
              "#fdca26"
             ],
             [
              1,
              "#f0f921"
             ]
            ],
            "type": "contour"
           }
          ],
          "contourcarpet": [
           {
            "colorbar": {
             "outlinewidth": 0,
             "ticks": ""
            },
            "type": "contourcarpet"
           }
          ],
          "heatmap": [
           {
            "colorbar": {
             "outlinewidth": 0,
             "ticks": ""
            },
            "colorscale": [
             [
              0,
              "#0d0887"
             ],
             [
              0.1111111111111111,
              "#46039f"
             ],
             [
              0.2222222222222222,
              "#7201a8"
             ],
             [
              0.3333333333333333,
              "#9c179e"
             ],
             [
              0.4444444444444444,
              "#bd3786"
             ],
             [
              0.5555555555555556,
              "#d8576b"
             ],
             [
              0.6666666666666666,
              "#ed7953"
             ],
             [
              0.7777777777777778,
              "#fb9f3a"
             ],
             [
              0.8888888888888888,
              "#fdca26"
             ],
             [
              1,
              "#f0f921"
             ]
            ],
            "type": "heatmap"
           }
          ],
          "histogram": [
           {
            "marker": {
             "pattern": {
              "fillmode": "overlay",
              "size": 10,
              "solidity": 0.2
             }
            },
            "type": "histogram"
           }
          ],
          "histogram2d": [
           {
            "colorbar": {
             "outlinewidth": 0,
             "ticks": ""
            },
            "colorscale": [
             [
              0,
              "#0d0887"
             ],
             [
              0.1111111111111111,
              "#46039f"
             ],
             [
              0.2222222222222222,
              "#7201a8"
             ],
             [
              0.3333333333333333,
              "#9c179e"
             ],
             [
              0.4444444444444444,
              "#bd3786"
             ],
             [
              0.5555555555555556,
              "#d8576b"
             ],
             [
              0.6666666666666666,
              "#ed7953"
             ],
             [
              0.7777777777777778,
              "#fb9f3a"
             ],
             [
              0.8888888888888888,
              "#fdca26"
             ],
             [
              1,
              "#f0f921"
             ]
            ],
            "type": "histogram2d"
           }
          ],
          "histogram2dcontour": [
           {
            "colorbar": {
             "outlinewidth": 0,
             "ticks": ""
            },
            "colorscale": [
             [
              0,
              "#0d0887"
             ],
             [
              0.1111111111111111,
              "#46039f"
             ],
             [
              0.2222222222222222,
              "#7201a8"
             ],
             [
              0.3333333333333333,
              "#9c179e"
             ],
             [
              0.4444444444444444,
              "#bd3786"
             ],
             [
              0.5555555555555556,
              "#d8576b"
             ],
             [
              0.6666666666666666,
              "#ed7953"
             ],
             [
              0.7777777777777778,
              "#fb9f3a"
             ],
             [
              0.8888888888888888,
              "#fdca26"
             ],
             [
              1,
              "#f0f921"
             ]
            ],
            "type": "histogram2dcontour"
           }
          ],
          "mesh3d": [
           {
            "colorbar": {
             "outlinewidth": 0,
             "ticks": ""
            },
            "type": "mesh3d"
           }
          ],
          "parcoords": [
           {
            "line": {
             "colorbar": {
              "outlinewidth": 0,
              "ticks": ""
             }
            },
            "type": "parcoords"
           }
          ],
          "pie": [
           {
            "automargin": true,
            "type": "pie"
           }
          ],
          "scatter": [
           {
            "fillpattern": {
             "fillmode": "overlay",
             "size": 10,
             "solidity": 0.2
            },
            "type": "scatter"
           }
          ],
          "scatter3d": [
           {
            "line": {
             "colorbar": {
              "outlinewidth": 0,
              "ticks": ""
             }
            },
            "marker": {
             "colorbar": {
              "outlinewidth": 0,
              "ticks": ""
             }
            },
            "type": "scatter3d"
           }
          ],
          "scattercarpet": [
           {
            "marker": {
             "colorbar": {
              "outlinewidth": 0,
              "ticks": ""
             }
            },
            "type": "scattercarpet"
           }
          ],
          "scattergeo": [
           {
            "marker": {
             "colorbar": {
              "outlinewidth": 0,
              "ticks": ""
             }
            },
            "type": "scattergeo"
           }
          ],
          "scattergl": [
           {
            "marker": {
             "colorbar": {
              "outlinewidth": 0,
              "ticks": ""
             }
            },
            "type": "scattergl"
           }
          ],
          "scattermap": [
           {
            "marker": {
             "colorbar": {
              "outlinewidth": 0,
              "ticks": ""
             }
            },
            "type": "scattermap"
           }
          ],
          "scattermapbox": [
           {
            "marker": {
             "colorbar": {
              "outlinewidth": 0,
              "ticks": ""
             }
            },
            "type": "scattermapbox"
           }
          ],
          "scatterpolar": [
           {
            "marker": {
             "colorbar": {
              "outlinewidth": 0,
              "ticks": ""
             }
            },
            "type": "scatterpolar"
           }
          ],
          "scatterpolargl": [
           {
            "marker": {
             "colorbar": {
              "outlinewidth": 0,
              "ticks": ""
             }
            },
            "type": "scatterpolargl"
           }
          ],
          "scatterternary": [
           {
            "marker": {
             "colorbar": {
              "outlinewidth": 0,
              "ticks": ""
             }
            },
            "type": "scatterternary"
           }
          ],
          "surface": [
           {
            "colorbar": {
             "outlinewidth": 0,
             "ticks": ""
            },
            "colorscale": [
             [
              0,
              "#0d0887"
             ],
             [
              0.1111111111111111,
              "#46039f"
             ],
             [
              0.2222222222222222,
              "#7201a8"
             ],
             [
              0.3333333333333333,
              "#9c179e"
             ],
             [
              0.4444444444444444,
              "#bd3786"
             ],
             [
              0.5555555555555556,
              "#d8576b"
             ],
             [
              0.6666666666666666,
              "#ed7953"
             ],
             [
              0.7777777777777778,
              "#fb9f3a"
             ],
             [
              0.8888888888888888,
              "#fdca26"
             ],
             [
              1,
              "#f0f921"
             ]
            ],
            "type": "surface"
           }
          ],
          "table": [
           {
            "cells": {
             "fill": {
              "color": "#EBF0F8"
             },
             "line": {
              "color": "white"
             }
            },
            "header": {
             "fill": {
              "color": "#C8D4E3"
             },
             "line": {
              "color": "white"
             }
            },
            "type": "table"
           }
          ]
         },
         "layout": {
          "annotationdefaults": {
           "arrowcolor": "#2a3f5f",
           "arrowhead": 0,
           "arrowwidth": 1
          },
          "autotypenumbers": "strict",
          "coloraxis": {
           "colorbar": {
            "outlinewidth": 0,
            "ticks": ""
           }
          },
          "colorscale": {
           "diverging": [
            [
             0,
             "#8e0152"
            ],
            [
             0.1,
             "#c51b7d"
            ],
            [
             0.2,
             "#de77ae"
            ],
            [
             0.3,
             "#f1b6da"
            ],
            [
             0.4,
             "#fde0ef"
            ],
            [
             0.5,
             "#f7f7f7"
            ],
            [
             0.6,
             "#e6f5d0"
            ],
            [
             0.7,
             "#b8e186"
            ],
            [
             0.8,
             "#7fbc41"
            ],
            [
             0.9,
             "#4d9221"
            ],
            [
             1,
             "#276419"
            ]
           ],
           "sequential": [
            [
             0,
             "#0d0887"
            ],
            [
             0.1111111111111111,
             "#46039f"
            ],
            [
             0.2222222222222222,
             "#7201a8"
            ],
            [
             0.3333333333333333,
             "#9c179e"
            ],
            [
             0.4444444444444444,
             "#bd3786"
            ],
            [
             0.5555555555555556,
             "#d8576b"
            ],
            [
             0.6666666666666666,
             "#ed7953"
            ],
            [
             0.7777777777777778,
             "#fb9f3a"
            ],
            [
             0.8888888888888888,
             "#fdca26"
            ],
            [
             1,
             "#f0f921"
            ]
           ],
           "sequentialminus": [
            [
             0,
             "#0d0887"
            ],
            [
             0.1111111111111111,
             "#46039f"
            ],
            [
             0.2222222222222222,
             "#7201a8"
            ],
            [
             0.3333333333333333,
             "#9c179e"
            ],
            [
             0.4444444444444444,
             "#bd3786"
            ],
            [
             0.5555555555555556,
             "#d8576b"
            ],
            [
             0.6666666666666666,
             "#ed7953"
            ],
            [
             0.7777777777777778,
             "#fb9f3a"
            ],
            [
             0.8888888888888888,
             "#fdca26"
            ],
            [
             1,
             "#f0f921"
            ]
           ]
          },
          "colorway": [
           "#636efa",
           "#EF553B",
           "#00cc96",
           "#ab63fa",
           "#FFA15A",
           "#19d3f3",
           "#FF6692",
           "#B6E880",
           "#FF97FF",
           "#FECB52"
          ],
          "font": {
           "color": "#2a3f5f"
          },
          "geo": {
           "bgcolor": "white",
           "lakecolor": "white",
           "landcolor": "white",
           "showlakes": true,
           "showland": true,
           "subunitcolor": "#C8D4E3"
          },
          "hoverlabel": {
           "align": "left"
          },
          "hovermode": "closest",
          "mapbox": {
           "style": "light"
          },
          "paper_bgcolor": "white",
          "plot_bgcolor": "white",
          "polar": {
           "angularaxis": {
            "gridcolor": "#EBF0F8",
            "linecolor": "#EBF0F8",
            "ticks": ""
           },
           "bgcolor": "white",
           "radialaxis": {
            "gridcolor": "#EBF0F8",
            "linecolor": "#EBF0F8",
            "ticks": ""
           }
          },
          "scene": {
           "xaxis": {
            "backgroundcolor": "white",
            "gridcolor": "#DFE8F3",
            "gridwidth": 2,
            "linecolor": "#EBF0F8",
            "showbackground": true,
            "ticks": "",
            "zerolinecolor": "#EBF0F8"
           },
           "yaxis": {
            "backgroundcolor": "white",
            "gridcolor": "#DFE8F3",
            "gridwidth": 2,
            "linecolor": "#EBF0F8",
            "showbackground": true,
            "ticks": "",
            "zerolinecolor": "#EBF0F8"
           },
           "zaxis": {
            "backgroundcolor": "white",
            "gridcolor": "#DFE8F3",
            "gridwidth": 2,
            "linecolor": "#EBF0F8",
            "showbackground": true,
            "ticks": "",
            "zerolinecolor": "#EBF0F8"
           }
          },
          "shapedefaults": {
           "line": {
            "color": "#2a3f5f"
           }
          },
          "ternary": {
           "aaxis": {
            "gridcolor": "#DFE8F3",
            "linecolor": "#A2B1C6",
            "ticks": ""
           },
           "baxis": {
            "gridcolor": "#DFE8F3",
            "linecolor": "#A2B1C6",
            "ticks": ""
           },
           "bgcolor": "white",
           "caxis": {
            "gridcolor": "#DFE8F3",
            "linecolor": "#A2B1C6",
            "ticks": ""
           }
          },
          "title": {
           "x": 0.05
          },
          "xaxis": {
           "automargin": true,
           "gridcolor": "#EBF0F8",
           "linecolor": "#EBF0F8",
           "ticks": "",
           "title": {
            "standoff": 15
           },
           "zerolinecolor": "#EBF0F8",
           "zerolinewidth": 2
          },
          "yaxis": {
           "automargin": true,
           "gridcolor": "#EBF0F8",
           "linecolor": "#EBF0F8",
           "ticks": "",
           "title": {
            "standoff": 15
           },
           "zerolinecolor": "#EBF0F8",
           "zerolinewidth": 2
          }
         }
        },
        "title": {
         "text": "new_customers vs promo_investment Relationship - Lag 0"
        },
        "xaxis": {
         "anchor": "y",
         "domain": [
          0,
          0.45
         ]
        },
        "xaxis2": {
         "anchor": "y2",
         "domain": [
          0.55,
          1
         ]
        },
        "yaxis": {
         "anchor": "x",
         "domain": [
          0,
          1
         ]
        },
        "yaxis2": {
         "anchor": "x2",
         "domain": [
          0,
          1
         ]
        }
       }
      }
     },
     "metadata": {},
     "output_type": "display_data"
    },
    {
     "data": {
      "application/vnd.jupyter.widget-view+json": {
       "model_id": "9f4a786a4d4945f5910dc562e0d30f4d",
       "version_major": 2,
       "version_minor": 0
      },
      "text/plain": [
       "interactive(children=(Dropdown(description='Channel', options=('promo_investment', 'ppc_brand_investment', 'pp…"
      ]
     },
     "metadata": {},
     "output_type": "display_data"
    }
   ],
   "source": [
    "interactive_relationship_plot = interactive(plot_target_channel_relationship_on_lag_change,\n",
    "                                            channel = channels_dropdown,\n",
    "                                            lag=lag_widget\n",
    "                                            )\n",
    "\n",
    "display(interactive_relationship_plot)"
   ]
  },
  {
   "cell_type": "markdown",
   "metadata": {},
   "source": [
    "🔍 Observations <br>\n",
    "\n",
    "⬛ 🧐: the target saturates beyond a certain threshold of investment, indicating diminishing returns. <br>\n",
    "⬛ For all other channels, except PPC brand, we observe a stronger correlation when the investments are lagged, suggesting a delayed effect on the target. <br>\n",
    "⬛ Additionally, in most cases, the relationship between investments and the target is not perfectly linear, highlighting the need for transformations or advanced modeling techniques to capture these dynamics effectively."
   ]
  },
  {
   "cell_type": "markdown",
   "metadata": {},
   "source": [
    "### Quantitative Analysis - Cross Correlation \n",
    "⬛ Cross Correlation <br>\n",
    "⬛ Spearman Correlation"
   ]
  },
  {
   "cell_type": "code",
   "execution_count": 30,
   "metadata": {},
   "outputs": [],
   "source": [
    "def compute_cross_correlation(df: pl.DataFrame,\n",
    "                              target: str,\n",
    "                              feature: str,\n",
    "                              max_lag: int,\n",
    "                              corr_method: str\n",
    "                              ) -> pl.DataFrame:\n",
    "\n",
    "    corrs = []\n",
    "    for lag in range(0, max_lag + 1):\n",
    "        shifted_df = df.with_columns(pl.col(feature).shift(lag).alias(f\"{feature}_lag\"))\n",
    "        corr_value = shifted_df.drop_nulls().select(pl.corr(target, f\"{feature}_lag\",\n",
    "                                                            method=corr_method)).item()\n",
    "        corrs.append(corr_value)\n",
    "\n",
    "    return pl.DataFrame({\n",
    "        'Lag': range(0, max_lag + 1),\n",
    "         feature: corrs\n",
    "    })\n",
    "\n",
    "\n",
    "def get_cross_correlation_df(df: pl.DataFrame,\n",
    "                             target: str = target,\n",
    "                             channels: list[str] = channels,\n",
    "                             max_lag: int = 12,\n",
    "                             sort_col: str = date_col,\n",
    "                             corr_method: str = 'pearson'):\n",
    "\n",
    "  sorted_df = df.sort(sort_col)\n",
    "  cross_correlations_list = []\n",
    "  for channel in channels:\n",
    "    sel_df = sorted_df.select(target, channel)\n",
    "    cross_correlations_list.append(\n",
    "        compute_cross_correlation(sel_df, target, channel,\n",
    "                                  max_lag, corr_method)\n",
    "    )\n",
    "\n",
    "  return pl.concat(cross_correlations_list, how=\"align\")"
   ]
  },
  {
   "cell_type": "code",
   "execution_count": 31,
   "metadata": {},
   "outputs": [],
   "source": [
    "spearman_cross_corr_df = get_cross_correlation_df(df, corr_method='spearman')\n",
    "pearson_cross_corr_df = get_cross_correlation_df(df, corr_method='pearson')"
   ]
  },
  {
   "cell_type": "code",
   "execution_count": 32,
   "metadata": {},
   "outputs": [
    {
     "data": {
      "application/vnd.plotly.v1+json": {
       "config": {
        "plotlyServerURL": "https://plot.ly"
       },
       "data": [
        {
         "hovertemplate": "variable=promo_investment<br>Lag=%{x}<br>value=%{y}<extra></extra>",
         "legendgroup": "promo_investment",
         "line": {
          "color": "#636efa",
          "dash": "solid"
         },
         "marker": {
          "symbol": "circle"
         },
         "mode": "lines",
         "name": "promo_investment",
         "orientation": "v",
         "showlegend": true,
         "type": "scatter",
         "x": {
          "bdata": "AAECAwQFBgcICQoLDA==",
          "dtype": "i1"
         },
         "xaxis": "x",
         "y": {
          "bdata": "Ap/6NB/15z8j3Zj4EtXlP5MKEKCScuM/iKrlOZsh4T/+GMjnGmHdPzRI7s7ZGdk/rRt3t9Wm1j+2F9i/RG3SP8Rv4BfO7M0/09Zspqglxj/cW54mIZG4P2Faa/XF6pc/netPIoY3lr8=",
          "dtype": "f8"
         },
         "yaxis": "y"
        },
        {
         "hovertemplate": "variable=ppc_brand_investment<br>Lag=%{x}<br>value=%{y}<extra></extra>",
         "legendgroup": "ppc_brand_investment",
         "line": {
          "color": "#EF553B",
          "dash": "solid"
         },
         "marker": {
          "symbol": "circle"
         },
         "mode": "lines",
         "name": "ppc_brand_investment",
         "orientation": "v",
         "showlegend": true,
         "type": "scatter",
         "x": {
          "bdata": "AAECAwQFBgcICQoLDA==",
          "dtype": "i1"
         },
         "xaxis": "x",
         "y": {
          "bdata": "Nrwqgevs6j9XiOuDBhPrP2k1AuAGoOo/AqvDYlPE6T+LLULCWEHoPxltjO2fHec//qgBIl5M5T/A+CtXs2njPx1nvy2qjuE/bWE5G7ou3z9Bp6SWO07bP7l+ksow3Nc/x7/8DoAJ1D8=",
          "dtype": "f8"
         },
         "yaxis": "y"
        },
        {
         "hovertemplate": "variable=ppc_generic_investment<br>Lag=%{x}<br>value=%{y}<extra></extra>",
         "legendgroup": "ppc_generic_investment",
         "line": {
          "color": "#00cc96",
          "dash": "solid"
         },
         "marker": {
          "symbol": "circle"
         },
         "mode": "lines",
         "name": "ppc_generic_investment",
         "orientation": "v",
         "showlegend": true,
         "type": "scatter",
         "x": {
          "bdata": "AAECAwQFBgcICQoLDA==",
          "dtype": "i1"
         },
         "xaxis": "x",
         "y": {
          "bdata": "mgfpCo5x4T/nKGM7P+viP8XdDvc8y+M/dLKv4CQD5D8HwvWvyX7jP0rcPv3AJOM/3O3+/zHJ4j8oSf0Oyt/hP4Dw4qQW6eA/82GHL1y43z/zU87nB9bcP+v1UfdWado/8NLD+1Gq2D8=",
          "dtype": "f8"
         },
         "yaxis": "y"
        },
        {
         "hovertemplate": "variable=facebook_investment<br>Lag=%{x}<br>value=%{y}<extra></extra>",
         "legendgroup": "facebook_investment",
         "line": {
          "color": "#ab63fa",
          "dash": "solid"
         },
         "marker": {
          "symbol": "circle"
         },
         "mode": "lines",
         "name": "facebook_investment",
         "orientation": "v",
         "showlegend": true,
         "type": "scatter",
         "x": {
          "bdata": "AAECAwQFBgcICQoLDA==",
          "dtype": "i1"
         },
         "xaxis": "x",
         "y": {
          "bdata": "SxCYKQ8z4D+uf08XIlniPw5rnk8pueM/KgUi4WL24z+fa5Dt4NDjP2QVcQJnnOM/5mEbP8a/4z/6BlkXF4XjP+Vn4dOKAOM/Y5HdDWWq4j//a2HOMTjhP++ptwxhyd8/7L6aRgnk3D8=",
          "dtype": "f8"
         },
         "yaxis": "y"
        },
        {
         "hovertemplate": "variable=instagram_investment<br>Lag=%{x}<br>value=%{y}<extra></extra>",
         "legendgroup": "instagram_investment",
         "line": {
          "color": "#FFA15A",
          "dash": "solid"
         },
         "marker": {
          "symbol": "circle"
         },
         "mode": "lines",
         "name": "instagram_investment",
         "orientation": "v",
         "showlegend": true,
         "type": "scatter",
         "x": {
          "bdata": "AAECAwQFBgcICQoLDA==",
          "dtype": "i1"
         },
         "xaxis": "x",
         "y": {
          "bdata": "zoAPxxh54D8VGIvcm3TiPy7uNXuuEOQ/i5Y/2Zgl5T+k8l8ErOzlP5fgfehf1uY/SxhDLp4J6D8tFTiBxmzoP+l3dlHrz+g/8KSkKMba6D9Sr+EMXinoP1qiWiK2o+c/OJ9OmKHh5j8=",
          "dtype": "f8"
         },
         "yaxis": "y"
        }
       ],
       "layout": {
        "legend": {
         "title": {
          "text": "variable"
         },
         "tracegroupgap": 0
        },
        "template": {
         "data": {
          "bar": [
           {
            "error_x": {
             "color": "#2a3f5f"
            },
            "error_y": {
             "color": "#2a3f5f"
            },
            "marker": {
             "line": {
              "color": "white",
              "width": 0.5
             },
             "pattern": {
              "fillmode": "overlay",
              "size": 10,
              "solidity": 0.2
             }
            },
            "type": "bar"
           }
          ],
          "barpolar": [
           {
            "marker": {
             "line": {
              "color": "white",
              "width": 0.5
             },
             "pattern": {
              "fillmode": "overlay",
              "size": 10,
              "solidity": 0.2
             }
            },
            "type": "barpolar"
           }
          ],
          "carpet": [
           {
            "aaxis": {
             "endlinecolor": "#2a3f5f",
             "gridcolor": "#C8D4E3",
             "linecolor": "#C8D4E3",
             "minorgridcolor": "#C8D4E3",
             "startlinecolor": "#2a3f5f"
            },
            "baxis": {
             "endlinecolor": "#2a3f5f",
             "gridcolor": "#C8D4E3",
             "linecolor": "#C8D4E3",
             "minorgridcolor": "#C8D4E3",
             "startlinecolor": "#2a3f5f"
            },
            "type": "carpet"
           }
          ],
          "choropleth": [
           {
            "colorbar": {
             "outlinewidth": 0,
             "ticks": ""
            },
            "type": "choropleth"
           }
          ],
          "contour": [
           {
            "colorbar": {
             "outlinewidth": 0,
             "ticks": ""
            },
            "colorscale": [
             [
              0,
              "#0d0887"
             ],
             [
              0.1111111111111111,
              "#46039f"
             ],
             [
              0.2222222222222222,
              "#7201a8"
             ],
             [
              0.3333333333333333,
              "#9c179e"
             ],
             [
              0.4444444444444444,
              "#bd3786"
             ],
             [
              0.5555555555555556,
              "#d8576b"
             ],
             [
              0.6666666666666666,
              "#ed7953"
             ],
             [
              0.7777777777777778,
              "#fb9f3a"
             ],
             [
              0.8888888888888888,
              "#fdca26"
             ],
             [
              1,
              "#f0f921"
             ]
            ],
            "type": "contour"
           }
          ],
          "contourcarpet": [
           {
            "colorbar": {
             "outlinewidth": 0,
             "ticks": ""
            },
            "type": "contourcarpet"
           }
          ],
          "heatmap": [
           {
            "colorbar": {
             "outlinewidth": 0,
             "ticks": ""
            },
            "colorscale": [
             [
              0,
              "#0d0887"
             ],
             [
              0.1111111111111111,
              "#46039f"
             ],
             [
              0.2222222222222222,
              "#7201a8"
             ],
             [
              0.3333333333333333,
              "#9c179e"
             ],
             [
              0.4444444444444444,
              "#bd3786"
             ],
             [
              0.5555555555555556,
              "#d8576b"
             ],
             [
              0.6666666666666666,
              "#ed7953"
             ],
             [
              0.7777777777777778,
              "#fb9f3a"
             ],
             [
              0.8888888888888888,
              "#fdca26"
             ],
             [
              1,
              "#f0f921"
             ]
            ],
            "type": "heatmap"
           }
          ],
          "histogram": [
           {
            "marker": {
             "pattern": {
              "fillmode": "overlay",
              "size": 10,
              "solidity": 0.2
             }
            },
            "type": "histogram"
           }
          ],
          "histogram2d": [
           {
            "colorbar": {
             "outlinewidth": 0,
             "ticks": ""
            },
            "colorscale": [
             [
              0,
              "#0d0887"
             ],
             [
              0.1111111111111111,
              "#46039f"
             ],
             [
              0.2222222222222222,
              "#7201a8"
             ],
             [
              0.3333333333333333,
              "#9c179e"
             ],
             [
              0.4444444444444444,
              "#bd3786"
             ],
             [
              0.5555555555555556,
              "#d8576b"
             ],
             [
              0.6666666666666666,
              "#ed7953"
             ],
             [
              0.7777777777777778,
              "#fb9f3a"
             ],
             [
              0.8888888888888888,
              "#fdca26"
             ],
             [
              1,
              "#f0f921"
             ]
            ],
            "type": "histogram2d"
           }
          ],
          "histogram2dcontour": [
           {
            "colorbar": {
             "outlinewidth": 0,
             "ticks": ""
            },
            "colorscale": [
             [
              0,
              "#0d0887"
             ],
             [
              0.1111111111111111,
              "#46039f"
             ],
             [
              0.2222222222222222,
              "#7201a8"
             ],
             [
              0.3333333333333333,
              "#9c179e"
             ],
             [
              0.4444444444444444,
              "#bd3786"
             ],
             [
              0.5555555555555556,
              "#d8576b"
             ],
             [
              0.6666666666666666,
              "#ed7953"
             ],
             [
              0.7777777777777778,
              "#fb9f3a"
             ],
             [
              0.8888888888888888,
              "#fdca26"
             ],
             [
              1,
              "#f0f921"
             ]
            ],
            "type": "histogram2dcontour"
           }
          ],
          "mesh3d": [
           {
            "colorbar": {
             "outlinewidth": 0,
             "ticks": ""
            },
            "type": "mesh3d"
           }
          ],
          "parcoords": [
           {
            "line": {
             "colorbar": {
              "outlinewidth": 0,
              "ticks": ""
             }
            },
            "type": "parcoords"
           }
          ],
          "pie": [
           {
            "automargin": true,
            "type": "pie"
           }
          ],
          "scatter": [
           {
            "fillpattern": {
             "fillmode": "overlay",
             "size": 10,
             "solidity": 0.2
            },
            "type": "scatter"
           }
          ],
          "scatter3d": [
           {
            "line": {
             "colorbar": {
              "outlinewidth": 0,
              "ticks": ""
             }
            },
            "marker": {
             "colorbar": {
              "outlinewidth": 0,
              "ticks": ""
             }
            },
            "type": "scatter3d"
           }
          ],
          "scattercarpet": [
           {
            "marker": {
             "colorbar": {
              "outlinewidth": 0,
              "ticks": ""
             }
            },
            "type": "scattercarpet"
           }
          ],
          "scattergeo": [
           {
            "marker": {
             "colorbar": {
              "outlinewidth": 0,
              "ticks": ""
             }
            },
            "type": "scattergeo"
           }
          ],
          "scattergl": [
           {
            "marker": {
             "colorbar": {
              "outlinewidth": 0,
              "ticks": ""
             }
            },
            "type": "scattergl"
           }
          ],
          "scattermap": [
           {
            "marker": {
             "colorbar": {
              "outlinewidth": 0,
              "ticks": ""
             }
            },
            "type": "scattermap"
           }
          ],
          "scattermapbox": [
           {
            "marker": {
             "colorbar": {
              "outlinewidth": 0,
              "ticks": ""
             }
            },
            "type": "scattermapbox"
           }
          ],
          "scatterpolar": [
           {
            "marker": {
             "colorbar": {
              "outlinewidth": 0,
              "ticks": ""
             }
            },
            "type": "scatterpolar"
           }
          ],
          "scatterpolargl": [
           {
            "marker": {
             "colorbar": {
              "outlinewidth": 0,
              "ticks": ""
             }
            },
            "type": "scatterpolargl"
           }
          ],
          "scatterternary": [
           {
            "marker": {
             "colorbar": {
              "outlinewidth": 0,
              "ticks": ""
             }
            },
            "type": "scatterternary"
           }
          ],
          "surface": [
           {
            "colorbar": {
             "outlinewidth": 0,
             "ticks": ""
            },
            "colorscale": [
             [
              0,
              "#0d0887"
             ],
             [
              0.1111111111111111,
              "#46039f"
             ],
             [
              0.2222222222222222,
              "#7201a8"
             ],
             [
              0.3333333333333333,
              "#9c179e"
             ],
             [
              0.4444444444444444,
              "#bd3786"
             ],
             [
              0.5555555555555556,
              "#d8576b"
             ],
             [
              0.6666666666666666,
              "#ed7953"
             ],
             [
              0.7777777777777778,
              "#fb9f3a"
             ],
             [
              0.8888888888888888,
              "#fdca26"
             ],
             [
              1,
              "#f0f921"
             ]
            ],
            "type": "surface"
           }
          ],
          "table": [
           {
            "cells": {
             "fill": {
              "color": "#EBF0F8"
             },
             "line": {
              "color": "white"
             }
            },
            "header": {
             "fill": {
              "color": "#C8D4E3"
             },
             "line": {
              "color": "white"
             }
            },
            "type": "table"
           }
          ]
         },
         "layout": {
          "annotationdefaults": {
           "arrowcolor": "#2a3f5f",
           "arrowhead": 0,
           "arrowwidth": 1
          },
          "autotypenumbers": "strict",
          "coloraxis": {
           "colorbar": {
            "outlinewidth": 0,
            "ticks": ""
           }
          },
          "colorscale": {
           "diverging": [
            [
             0,
             "#8e0152"
            ],
            [
             0.1,
             "#c51b7d"
            ],
            [
             0.2,
             "#de77ae"
            ],
            [
             0.3,
             "#f1b6da"
            ],
            [
             0.4,
             "#fde0ef"
            ],
            [
             0.5,
             "#f7f7f7"
            ],
            [
             0.6,
             "#e6f5d0"
            ],
            [
             0.7,
             "#b8e186"
            ],
            [
             0.8,
             "#7fbc41"
            ],
            [
             0.9,
             "#4d9221"
            ],
            [
             1,
             "#276419"
            ]
           ],
           "sequential": [
            [
             0,
             "#0d0887"
            ],
            [
             0.1111111111111111,
             "#46039f"
            ],
            [
             0.2222222222222222,
             "#7201a8"
            ],
            [
             0.3333333333333333,
             "#9c179e"
            ],
            [
             0.4444444444444444,
             "#bd3786"
            ],
            [
             0.5555555555555556,
             "#d8576b"
            ],
            [
             0.6666666666666666,
             "#ed7953"
            ],
            [
             0.7777777777777778,
             "#fb9f3a"
            ],
            [
             0.8888888888888888,
             "#fdca26"
            ],
            [
             1,
             "#f0f921"
            ]
           ],
           "sequentialminus": [
            [
             0,
             "#0d0887"
            ],
            [
             0.1111111111111111,
             "#46039f"
            ],
            [
             0.2222222222222222,
             "#7201a8"
            ],
            [
             0.3333333333333333,
             "#9c179e"
            ],
            [
             0.4444444444444444,
             "#bd3786"
            ],
            [
             0.5555555555555556,
             "#d8576b"
            ],
            [
             0.6666666666666666,
             "#ed7953"
            ],
            [
             0.7777777777777778,
             "#fb9f3a"
            ],
            [
             0.8888888888888888,
             "#fdca26"
            ],
            [
             1,
             "#f0f921"
            ]
           ]
          },
          "colorway": [
           "#636efa",
           "#EF553B",
           "#00cc96",
           "#ab63fa",
           "#FFA15A",
           "#19d3f3",
           "#FF6692",
           "#B6E880",
           "#FF97FF",
           "#FECB52"
          ],
          "font": {
           "color": "#2a3f5f"
          },
          "geo": {
           "bgcolor": "white",
           "lakecolor": "white",
           "landcolor": "white",
           "showlakes": true,
           "showland": true,
           "subunitcolor": "#C8D4E3"
          },
          "hoverlabel": {
           "align": "left"
          },
          "hovermode": "closest",
          "mapbox": {
           "style": "light"
          },
          "paper_bgcolor": "white",
          "plot_bgcolor": "white",
          "polar": {
           "angularaxis": {
            "gridcolor": "#EBF0F8",
            "linecolor": "#EBF0F8",
            "ticks": ""
           },
           "bgcolor": "white",
           "radialaxis": {
            "gridcolor": "#EBF0F8",
            "linecolor": "#EBF0F8",
            "ticks": ""
           }
          },
          "scene": {
           "xaxis": {
            "backgroundcolor": "white",
            "gridcolor": "#DFE8F3",
            "gridwidth": 2,
            "linecolor": "#EBF0F8",
            "showbackground": true,
            "ticks": "",
            "zerolinecolor": "#EBF0F8"
           },
           "yaxis": {
            "backgroundcolor": "white",
            "gridcolor": "#DFE8F3",
            "gridwidth": 2,
            "linecolor": "#EBF0F8",
            "showbackground": true,
            "ticks": "",
            "zerolinecolor": "#EBF0F8"
           },
           "zaxis": {
            "backgroundcolor": "white",
            "gridcolor": "#DFE8F3",
            "gridwidth": 2,
            "linecolor": "#EBF0F8",
            "showbackground": true,
            "ticks": "",
            "zerolinecolor": "#EBF0F8"
           }
          },
          "shapedefaults": {
           "line": {
            "color": "#2a3f5f"
           }
          },
          "ternary": {
           "aaxis": {
            "gridcolor": "#DFE8F3",
            "linecolor": "#A2B1C6",
            "ticks": ""
           },
           "baxis": {
            "gridcolor": "#DFE8F3",
            "linecolor": "#A2B1C6",
            "ticks": ""
           },
           "bgcolor": "white",
           "caxis": {
            "gridcolor": "#DFE8F3",
            "linecolor": "#A2B1C6",
            "ticks": ""
           }
          },
          "title": {
           "x": 0.05
          },
          "xaxis": {
           "automargin": true,
           "gridcolor": "#EBF0F8",
           "linecolor": "#EBF0F8",
           "ticks": "",
           "title": {
            "standoff": 15
           },
           "zerolinecolor": "#EBF0F8",
           "zerolinewidth": 2
          },
          "yaxis": {
           "automargin": true,
           "gridcolor": "#EBF0F8",
           "linecolor": "#EBF0F8",
           "ticks": "",
           "title": {
            "standoff": 15
           },
           "zerolinecolor": "#EBF0F8",
           "zerolinewidth": 2
          }
         }
        },
        "title": {
         "text": "Pearson Cross Correlation"
        },
        "xaxis": {
         "anchor": "y",
         "domain": [
          0,
          1
         ],
         "title": {
          "text": "Lag"
         }
        },
        "yaxis": {
         "anchor": "x",
         "domain": [
          0,
          1
         ],
         "title": {
          "text": "value"
         }
        }
       }
      }
     },
     "metadata": {},
     "output_type": "display_data"
    }
   ],
   "source": [
    "fig=px.line(pearson_cross_corr_df, x='Lag', y=channels, title=\"Pearson Cross Correlation\")\n",
    "fig.show()"
   ]
  },
  {
   "cell_type": "code",
   "execution_count": 34,
   "metadata": {},
   "outputs": [
    {
     "data": {
      "application/vnd.plotly.v1+json": {
       "config": {
        "plotlyServerURL": "https://plot.ly"
       },
       "data": [
        {
         "hovertemplate": "variable=promo_investment<br>Lag=%{x}<br>value=%{y}<extra></extra>",
         "legendgroup": "promo_investment",
         "line": {
          "color": "#636efa",
          "dash": "solid"
         },
         "marker": {
          "symbol": "circle"
         },
         "mode": "lines",
         "name": "promo_investment",
         "orientation": "v",
         "showlegend": true,
         "type": "scatter",
         "x": {
          "bdata": "AAECAwQFBgcICQoLDA==",
          "dtype": "i1"
         },
         "xaxis": "x",
         "y": {
          "bdata": "UVEk3/iY6j/+fTh7tXboP5J02Wzk3+c/LiX+UhRb5T+Qe0I2T9viP32+rLBlx+A/G8PQVeOn3j/0s+TNAUrbP/QD9NwDe9c//3BlL8Ox0j8MQRGNjznQP3acvG44pMw/EC36kJZoyj8=",
          "dtype": "f8"
         },
         "yaxis": "y"
        },
        {
         "hovertemplate": "variable=ppc_brand_investment<br>Lag=%{x}<br>value=%{y}<extra></extra>",
         "legendgroup": "ppc_brand_investment",
         "line": {
          "color": "#EF553B",
          "dash": "solid"
         },
         "marker": {
          "symbol": "circle"
         },
         "mode": "lines",
         "name": "ppc_brand_investment",
         "orientation": "v",
         "showlegend": true,
         "type": "scatter",
         "x": {
          "bdata": "AAECAwQFBgcICQoLDA==",
          "dtype": "i1"
         },
         "xaxis": "x",
         "y": {
          "bdata": "JYEC0CrS6j9VaN5szx3qP8kYuFsOmeg/ZPJW1GPq5j8wXO1i7PrkP0+wLS8cIuM/nEdwcl6N4D9XOsqKjLXcPzuiMd8Radg/5rz7ObdZ1D+MoKNKZmPRP9bgR5v2Ssw/gB2lAF4+xz8=",
          "dtype": "f8"
         },
         "yaxis": "y"
        },
        {
         "hovertemplate": "variable=ppc_generic_investment<br>Lag=%{x}<br>value=%{y}<extra></extra>",
         "legendgroup": "ppc_generic_investment",
         "line": {
          "color": "#00cc96",
          "dash": "solid"
         },
         "marker": {
          "symbol": "circle"
         },
         "mode": "lines",
         "name": "ppc_generic_investment",
         "orientation": "v",
         "showlegend": true,
         "type": "scatter",
         "x": {
          "bdata": "AAECAwQFBgcICQoLDA==",
          "dtype": "i1"
         },
         "xaxis": "x",
         "y": {
          "bdata": "cAO/MWQe5D+B9tRsErXlP1JFAEeGheY/NgbaYYGT5j94lbm9lfLlPyeeKtK3ZuU/0O3NBghz5D8TWWFQOU7jPzcwtzWXyuE/y81Eqdr+3z8XTjYr9ZPbPzSh32lrpNc/s9mLnFsE1j8=",
          "dtype": "f8"
         },
         "yaxis": "y"
        },
        {
         "hovertemplate": "variable=facebook_investment<br>Lag=%{x}<br>value=%{y}<extra></extra>",
         "legendgroup": "facebook_investment",
         "line": {
          "color": "#ab63fa",
          "dash": "solid"
         },
         "marker": {
          "symbol": "circle"
         },
         "mode": "lines",
         "name": "facebook_investment",
         "orientation": "v",
         "showlegend": true,
         "type": "scatter",
         "x": {
          "bdata": "AAECAwQFBgcICQoLDA==",
          "dtype": "i1"
         },
         "xaxis": "x",
         "y": {
          "bdata": "tr99pi7P4T/QlOmrJs7jP1aSBwv3weQ/Q8OgmbaV5D8ipgQRvPDjP7/xkL+YYOM/iOyUVjLL4j+iXuf88iriP9iefTxlPOE/DGIWniwO4D+vfuOce1nbP0ARXdZ2uNY/e4AQ9/HM0z8=",
          "dtype": "f8"
         },
         "yaxis": "y"
        },
        {
         "hovertemplate": "variable=instagram_investment<br>Lag=%{x}<br>value=%{y}<extra></extra>",
         "legendgroup": "instagram_investment",
         "line": {
          "color": "#FFA15A",
          "dash": "solid"
         },
         "marker": {
          "symbol": "circle"
         },
         "mode": "lines",
         "name": "instagram_investment",
         "orientation": "v",
         "showlegend": true,
         "type": "scatter",
         "x": {
          "bdata": "AAECAwQFBgcICQoLDA==",
          "dtype": "i1"
         },
         "xaxis": "x",
         "y": {
          "bdata": "oRUljWZM4T/yGKmZHlHjP0LiXAfr++Q/jWe7J8Hy5T+GzcMz6ArmP418oyyOSOY/DFITzgQU5z9tqRKMcunmP1W0PcCj7+Y/S38EmsuG5j/ArXg2+EjlP6A5xJlvk+Q/ZRvtixsO5D8=",
          "dtype": "f8"
         },
         "yaxis": "y"
        }
       ],
       "layout": {
        "legend": {
         "title": {
          "text": "variable"
         },
         "tracegroupgap": 0
        },
        "template": {
         "data": {
          "bar": [
           {
            "error_x": {
             "color": "#2a3f5f"
            },
            "error_y": {
             "color": "#2a3f5f"
            },
            "marker": {
             "line": {
              "color": "white",
              "width": 0.5
             },
             "pattern": {
              "fillmode": "overlay",
              "size": 10,
              "solidity": 0.2
             }
            },
            "type": "bar"
           }
          ],
          "barpolar": [
           {
            "marker": {
             "line": {
              "color": "white",
              "width": 0.5
             },
             "pattern": {
              "fillmode": "overlay",
              "size": 10,
              "solidity": 0.2
             }
            },
            "type": "barpolar"
           }
          ],
          "carpet": [
           {
            "aaxis": {
             "endlinecolor": "#2a3f5f",
             "gridcolor": "#C8D4E3",
             "linecolor": "#C8D4E3",
             "minorgridcolor": "#C8D4E3",
             "startlinecolor": "#2a3f5f"
            },
            "baxis": {
             "endlinecolor": "#2a3f5f",
             "gridcolor": "#C8D4E3",
             "linecolor": "#C8D4E3",
             "minorgridcolor": "#C8D4E3",
             "startlinecolor": "#2a3f5f"
            },
            "type": "carpet"
           }
          ],
          "choropleth": [
           {
            "colorbar": {
             "outlinewidth": 0,
             "ticks": ""
            },
            "type": "choropleth"
           }
          ],
          "contour": [
           {
            "colorbar": {
             "outlinewidth": 0,
             "ticks": ""
            },
            "colorscale": [
             [
              0,
              "#0d0887"
             ],
             [
              0.1111111111111111,
              "#46039f"
             ],
             [
              0.2222222222222222,
              "#7201a8"
             ],
             [
              0.3333333333333333,
              "#9c179e"
             ],
             [
              0.4444444444444444,
              "#bd3786"
             ],
             [
              0.5555555555555556,
              "#d8576b"
             ],
             [
              0.6666666666666666,
              "#ed7953"
             ],
             [
              0.7777777777777778,
              "#fb9f3a"
             ],
             [
              0.8888888888888888,
              "#fdca26"
             ],
             [
              1,
              "#f0f921"
             ]
            ],
            "type": "contour"
           }
          ],
          "contourcarpet": [
           {
            "colorbar": {
             "outlinewidth": 0,
             "ticks": ""
            },
            "type": "contourcarpet"
           }
          ],
          "heatmap": [
           {
            "colorbar": {
             "outlinewidth": 0,
             "ticks": ""
            },
            "colorscale": [
             [
              0,
              "#0d0887"
             ],
             [
              0.1111111111111111,
              "#46039f"
             ],
             [
              0.2222222222222222,
              "#7201a8"
             ],
             [
              0.3333333333333333,
              "#9c179e"
             ],
             [
              0.4444444444444444,
              "#bd3786"
             ],
             [
              0.5555555555555556,
              "#d8576b"
             ],
             [
              0.6666666666666666,
              "#ed7953"
             ],
             [
              0.7777777777777778,
              "#fb9f3a"
             ],
             [
              0.8888888888888888,
              "#fdca26"
             ],
             [
              1,
              "#f0f921"
             ]
            ],
            "type": "heatmap"
           }
          ],
          "histogram": [
           {
            "marker": {
             "pattern": {
              "fillmode": "overlay",
              "size": 10,
              "solidity": 0.2
             }
            },
            "type": "histogram"
           }
          ],
          "histogram2d": [
           {
            "colorbar": {
             "outlinewidth": 0,
             "ticks": ""
            },
            "colorscale": [
             [
              0,
              "#0d0887"
             ],
             [
              0.1111111111111111,
              "#46039f"
             ],
             [
              0.2222222222222222,
              "#7201a8"
             ],
             [
              0.3333333333333333,
              "#9c179e"
             ],
             [
              0.4444444444444444,
              "#bd3786"
             ],
             [
              0.5555555555555556,
              "#d8576b"
             ],
             [
              0.6666666666666666,
              "#ed7953"
             ],
             [
              0.7777777777777778,
              "#fb9f3a"
             ],
             [
              0.8888888888888888,
              "#fdca26"
             ],
             [
              1,
              "#f0f921"
             ]
            ],
            "type": "histogram2d"
           }
          ],
          "histogram2dcontour": [
           {
            "colorbar": {
             "outlinewidth": 0,
             "ticks": ""
            },
            "colorscale": [
             [
              0,
              "#0d0887"
             ],
             [
              0.1111111111111111,
              "#46039f"
             ],
             [
              0.2222222222222222,
              "#7201a8"
             ],
             [
              0.3333333333333333,
              "#9c179e"
             ],
             [
              0.4444444444444444,
              "#bd3786"
             ],
             [
              0.5555555555555556,
              "#d8576b"
             ],
             [
              0.6666666666666666,
              "#ed7953"
             ],
             [
              0.7777777777777778,
              "#fb9f3a"
             ],
             [
              0.8888888888888888,
              "#fdca26"
             ],
             [
              1,
              "#f0f921"
             ]
            ],
            "type": "histogram2dcontour"
           }
          ],
          "mesh3d": [
           {
            "colorbar": {
             "outlinewidth": 0,
             "ticks": ""
            },
            "type": "mesh3d"
           }
          ],
          "parcoords": [
           {
            "line": {
             "colorbar": {
              "outlinewidth": 0,
              "ticks": ""
             }
            },
            "type": "parcoords"
           }
          ],
          "pie": [
           {
            "automargin": true,
            "type": "pie"
           }
          ],
          "scatter": [
           {
            "fillpattern": {
             "fillmode": "overlay",
             "size": 10,
             "solidity": 0.2
            },
            "type": "scatter"
           }
          ],
          "scatter3d": [
           {
            "line": {
             "colorbar": {
              "outlinewidth": 0,
              "ticks": ""
             }
            },
            "marker": {
             "colorbar": {
              "outlinewidth": 0,
              "ticks": ""
             }
            },
            "type": "scatter3d"
           }
          ],
          "scattercarpet": [
           {
            "marker": {
             "colorbar": {
              "outlinewidth": 0,
              "ticks": ""
             }
            },
            "type": "scattercarpet"
           }
          ],
          "scattergeo": [
           {
            "marker": {
             "colorbar": {
              "outlinewidth": 0,
              "ticks": ""
             }
            },
            "type": "scattergeo"
           }
          ],
          "scattergl": [
           {
            "marker": {
             "colorbar": {
              "outlinewidth": 0,
              "ticks": ""
             }
            },
            "type": "scattergl"
           }
          ],
          "scattermap": [
           {
            "marker": {
             "colorbar": {
              "outlinewidth": 0,
              "ticks": ""
             }
            },
            "type": "scattermap"
           }
          ],
          "scattermapbox": [
           {
            "marker": {
             "colorbar": {
              "outlinewidth": 0,
              "ticks": ""
             }
            },
            "type": "scattermapbox"
           }
          ],
          "scatterpolar": [
           {
            "marker": {
             "colorbar": {
              "outlinewidth": 0,
              "ticks": ""
             }
            },
            "type": "scatterpolar"
           }
          ],
          "scatterpolargl": [
           {
            "marker": {
             "colorbar": {
              "outlinewidth": 0,
              "ticks": ""
             }
            },
            "type": "scatterpolargl"
           }
          ],
          "scatterternary": [
           {
            "marker": {
             "colorbar": {
              "outlinewidth": 0,
              "ticks": ""
             }
            },
            "type": "scatterternary"
           }
          ],
          "surface": [
           {
            "colorbar": {
             "outlinewidth": 0,
             "ticks": ""
            },
            "colorscale": [
             [
              0,
              "#0d0887"
             ],
             [
              0.1111111111111111,
              "#46039f"
             ],
             [
              0.2222222222222222,
              "#7201a8"
             ],
             [
              0.3333333333333333,
              "#9c179e"
             ],
             [
              0.4444444444444444,
              "#bd3786"
             ],
             [
              0.5555555555555556,
              "#d8576b"
             ],
             [
              0.6666666666666666,
              "#ed7953"
             ],
             [
              0.7777777777777778,
              "#fb9f3a"
             ],
             [
              0.8888888888888888,
              "#fdca26"
             ],
             [
              1,
              "#f0f921"
             ]
            ],
            "type": "surface"
           }
          ],
          "table": [
           {
            "cells": {
             "fill": {
              "color": "#EBF0F8"
             },
             "line": {
              "color": "white"
             }
            },
            "header": {
             "fill": {
              "color": "#C8D4E3"
             },
             "line": {
              "color": "white"
             }
            },
            "type": "table"
           }
          ]
         },
         "layout": {
          "annotationdefaults": {
           "arrowcolor": "#2a3f5f",
           "arrowhead": 0,
           "arrowwidth": 1
          },
          "autotypenumbers": "strict",
          "coloraxis": {
           "colorbar": {
            "outlinewidth": 0,
            "ticks": ""
           }
          },
          "colorscale": {
           "diverging": [
            [
             0,
             "#8e0152"
            ],
            [
             0.1,
             "#c51b7d"
            ],
            [
             0.2,
             "#de77ae"
            ],
            [
             0.3,
             "#f1b6da"
            ],
            [
             0.4,
             "#fde0ef"
            ],
            [
             0.5,
             "#f7f7f7"
            ],
            [
             0.6,
             "#e6f5d0"
            ],
            [
             0.7,
             "#b8e186"
            ],
            [
             0.8,
             "#7fbc41"
            ],
            [
             0.9,
             "#4d9221"
            ],
            [
             1,
             "#276419"
            ]
           ],
           "sequential": [
            [
             0,
             "#0d0887"
            ],
            [
             0.1111111111111111,
             "#46039f"
            ],
            [
             0.2222222222222222,
             "#7201a8"
            ],
            [
             0.3333333333333333,
             "#9c179e"
            ],
            [
             0.4444444444444444,
             "#bd3786"
            ],
            [
             0.5555555555555556,
             "#d8576b"
            ],
            [
             0.6666666666666666,
             "#ed7953"
            ],
            [
             0.7777777777777778,
             "#fb9f3a"
            ],
            [
             0.8888888888888888,
             "#fdca26"
            ],
            [
             1,
             "#f0f921"
            ]
           ],
           "sequentialminus": [
            [
             0,
             "#0d0887"
            ],
            [
             0.1111111111111111,
             "#46039f"
            ],
            [
             0.2222222222222222,
             "#7201a8"
            ],
            [
             0.3333333333333333,
             "#9c179e"
            ],
            [
             0.4444444444444444,
             "#bd3786"
            ],
            [
             0.5555555555555556,
             "#d8576b"
            ],
            [
             0.6666666666666666,
             "#ed7953"
            ],
            [
             0.7777777777777778,
             "#fb9f3a"
            ],
            [
             0.8888888888888888,
             "#fdca26"
            ],
            [
             1,
             "#f0f921"
            ]
           ]
          },
          "colorway": [
           "#636efa",
           "#EF553B",
           "#00cc96",
           "#ab63fa",
           "#FFA15A",
           "#19d3f3",
           "#FF6692",
           "#B6E880",
           "#FF97FF",
           "#FECB52"
          ],
          "font": {
           "color": "#2a3f5f"
          },
          "geo": {
           "bgcolor": "white",
           "lakecolor": "white",
           "landcolor": "white",
           "showlakes": true,
           "showland": true,
           "subunitcolor": "#C8D4E3"
          },
          "hoverlabel": {
           "align": "left"
          },
          "hovermode": "closest",
          "mapbox": {
           "style": "light"
          },
          "paper_bgcolor": "white",
          "plot_bgcolor": "white",
          "polar": {
           "angularaxis": {
            "gridcolor": "#EBF0F8",
            "linecolor": "#EBF0F8",
            "ticks": ""
           },
           "bgcolor": "white",
           "radialaxis": {
            "gridcolor": "#EBF0F8",
            "linecolor": "#EBF0F8",
            "ticks": ""
           }
          },
          "scene": {
           "xaxis": {
            "backgroundcolor": "white",
            "gridcolor": "#DFE8F3",
            "gridwidth": 2,
            "linecolor": "#EBF0F8",
            "showbackground": true,
            "ticks": "",
            "zerolinecolor": "#EBF0F8"
           },
           "yaxis": {
            "backgroundcolor": "white",
            "gridcolor": "#DFE8F3",
            "gridwidth": 2,
            "linecolor": "#EBF0F8",
            "showbackground": true,
            "ticks": "",
            "zerolinecolor": "#EBF0F8"
           },
           "zaxis": {
            "backgroundcolor": "white",
            "gridcolor": "#DFE8F3",
            "gridwidth": 2,
            "linecolor": "#EBF0F8",
            "showbackground": true,
            "ticks": "",
            "zerolinecolor": "#EBF0F8"
           }
          },
          "shapedefaults": {
           "line": {
            "color": "#2a3f5f"
           }
          },
          "ternary": {
           "aaxis": {
            "gridcolor": "#DFE8F3",
            "linecolor": "#A2B1C6",
            "ticks": ""
           },
           "baxis": {
            "gridcolor": "#DFE8F3",
            "linecolor": "#A2B1C6",
            "ticks": ""
           },
           "bgcolor": "white",
           "caxis": {
            "gridcolor": "#DFE8F3",
            "linecolor": "#A2B1C6",
            "ticks": ""
           }
          },
          "title": {
           "x": 0.05
          },
          "xaxis": {
           "automargin": true,
           "gridcolor": "#EBF0F8",
           "linecolor": "#EBF0F8",
           "ticks": "",
           "title": {
            "standoff": 15
           },
           "zerolinecolor": "#EBF0F8",
           "zerolinewidth": 2
          },
          "yaxis": {
           "automargin": true,
           "gridcolor": "#EBF0F8",
           "linecolor": "#EBF0F8",
           "ticks": "",
           "title": {
            "standoff": 15
           },
           "zerolinecolor": "#EBF0F8",
           "zerolinewidth": 2
          }
         }
        },
        "title": {
         "text": "Spearman Cross Correlation"
        },
        "xaxis": {
         "anchor": "y",
         "domain": [
          0,
          1
         ],
         "title": {
          "text": "Lag"
         }
        },
        "yaxis": {
         "anchor": "x",
         "domain": [
          0,
          1
         ],
         "title": {
          "text": "value"
         }
        }
       }
      }
     },
     "metadata": {},
     "output_type": "display_data"
    }
   ],
   "source": [
    "fig=px.line(spearman_cross_corr_df, x='Lag', y=channels, title=\"Spearman Cross Correlation\")\n",
    "fig.show()\n",
    "     "
   ]
  },
  {
   "cell_type": "markdown",
   "metadata": {},
   "source": [
    "🔍 Observations <br>\n",
    "\n",
    "⬛ PPC --> immediate effect <br>\n",
    "⬛ Instagram --> latency <br>"
   ]
  },
  {
   "cell_type": "code",
   "execution_count": 37,
   "metadata": {},
   "outputs": [],
   "source": [
    "def get_best_lag(cross_correlation_df: pl.DataFrame,\n",
    "                 lag_col: str = 'Lag') -> dict[str, int]:\n",
    "\n",
    "  channels = [col for col in cross_correlation_df.columns if\n",
    "              col != lag_col]\n",
    "  lag_dict = {}\n",
    "  for channel in channels:\n",
    "    best_lag = (\n",
    "        cross_correlation_df\n",
    "        .filter(pl.col(channel) == pl.max(channel))\n",
    "        .select(lag_col).item()\n",
    "    )\n",
    "    lag_dict[channel] = best_lag\n",
    "\n",
    "  return lag_dict"
   ]
  },
  {
   "cell_type": "code",
   "execution_count": 38,
   "metadata": {},
   "outputs": [
    {
     "data": {
      "text/plain": [
       "{'promo_investment': 0,\n",
       " 'ppc_brand_investment': 0,\n",
       " 'ppc_generic_investment': 3,\n",
       " 'facebook_investment': 2,\n",
       " 'instagram_investment': 6}"
      ]
     },
     "execution_count": 38,
     "metadata": {},
     "output_type": "execute_result"
    }
   ],
   "source": [
    "spearman_lag_dict = get_best_lag(spearman_cross_corr_df)\n",
    "spearman_lag_dict"
   ]
  },
  {
   "cell_type": "code",
   "execution_count": 39,
   "metadata": {},
   "outputs": [
    {
     "data": {
      "text/plain": [
       "{'promo_investment': 0,\n",
       " 'ppc_brand_investment': 1,\n",
       " 'ppc_generic_investment': 3,\n",
       " 'facebook_investment': 3,\n",
       " 'instagram_investment': 9}"
      ]
     },
     "execution_count": 39,
     "metadata": {},
     "output_type": "execute_result"
    }
   ],
   "source": [
    "pearson_lag_dict = get_best_lag(pearson_cross_corr_df)\n",
    "pearson_lag_dict"
   ]
  },
  {
   "cell_type": "code",
   "execution_count": 40,
   "metadata": {},
   "outputs": [],
   "source": [
    "chosen_lag_dict = spearman_lag_dict"
   ]
  },
  {
   "cell_type": "code",
   "execution_count": 41,
   "metadata": {},
   "outputs": [],
   "source": [
    "lagged_channels_names = [f\"{channel}_lag{lag}\" for channel, lag in chosen_lag_dict.items()]"
   ]
  },
  {
   "cell_type": "code",
   "execution_count": 42,
   "metadata": {},
   "outputs": [],
   "source": [
    "def lag_channels_at_best_lag(df: pl.DataFrame, best_lag_dict: dict[str, int],\n",
    "                             sort_col: str = date_col) -> pl.DataFrame:\n",
    "  lagged_df = df.sort(sort_col)\n",
    "  for channel, lag in best_lag_dict.items():\n",
    "    lagged_df = lagged_df.with_columns(pl.col(channel).shift(lag).alias(f\"{channel}_lag{lag}\"))\n",
    "  return lagged_df"
   ]
  },
  {
   "cell_type": "code",
   "execution_count": 43,
   "metadata": {},
   "outputs": [
    {
     "data": {
      "text/html": [
       "<div><style>\n",
       ".dataframe > thead > tr,\n",
       ".dataframe > tbody > tr {\n",
       "  text-align: right;\n",
       "  white-space: pre-wrap;\n",
       "}\n",
       "</style>\n",
       "<small>shape: (5, 19)</small><table border=\"1\" class=\"dataframe\"><thead><tr><th>week_start</th><th>new_customers</th><th>promo_investment</th><th>ppc_brand_investment</th><th>ppc_generic_investment</th><th>facebook_investment</th><th>instagram_investment</th><th>year</th><th>week</th><th>promo_investment_lag0</th><th>ppc_brand_investment_lag0</th><th>ppc_generic_investment_lag3</th><th>facebook_investment_lag2</th><th>instagram_investment_lag6</th><th>time</th><th>sin_52_1</th><th>cos_52_1</th><th>sin_52_2</th><th>cos_52_2</th></tr><tr><td>date</td><td>i64</td><td>f64</td><td>f64</td><td>f64</td><td>f64</td><td>f64</td><td>i64</td><td>i64</td><td>f64</td><td>f64</td><td>f64</td><td>f64</td><td>f64</td><td>i64</td><td>f64</td><td>f64</td><td>f64</td><td>f64</td></tr></thead><tbody><tr><td>2020-05-18</td><td>777</td><td>1304.227029</td><td>756.818857</td><td>1512.071585</td><td>297.193399</td><td>4593.059512</td><td>2020</td><td>21</td><td>1304.227029</td><td>756.818857</td><td>null</td><td>null</td><td>null</td><td>113</td><td>0.885456</td><td>0.464723</td><td>0.822984</td><td>-0.568065</td></tr><tr><td>2020-05-25</td><td>978</td><td>3000.504127</td><td>69.654279</td><td>399.82446</td><td>0.0</td><td>792.564928</td><td>2020</td><td>22</td><td>3000.504127</td><td>69.654279</td><td>null</td><td>null</td><td>null</td><td>114</td><td>0.935016</td><td>0.354605</td><td>0.663123</td><td>-0.748511</td></tr><tr><td>2020-06-01</td><td>950</td><td>4609.816216</td><td>357.467625</td><td>471.992936</td><td>1769.420849</td><td>3281.127107</td><td>2020</td><td>23</td><td>4609.816216</td><td>357.467625</td><td>null</td><td>297.193399</td><td>null</td><td>115</td><td>0.970942</td><td>0.239316</td><td>0.464723</td><td>-0.885456</td></tr><tr><td>2020-06-08</td><td>800</td><td>3429.065037</td><td>425.663469</td><td>1181.626485</td><td>2353.024023</td><td>4510.560793</td><td>2020</td><td>24</td><td>3429.065037</td><td>425.663469</td><td>1512.071585</td><td>0.0</td><td>null</td><td>116</td><td>0.992709</td><td>0.120537</td><td>0.239316</td><td>-0.970942</td></tr><tr><td>2020-06-15</td><td>320</td><td>6679.522877</td><td>530.894558</td><td>1962.369223</td><td>2351.488377</td><td>3760.098884</td><td>2020</td><td>25</td><td>6679.522877</td><td>530.894558</td><td>399.82446</td><td>1769.420849</td><td>null</td><td>117</td><td>1.0</td><td>5.5100e-16</td><td>1.1000e-15</td><td>-1.0</td></tr></tbody></table></div>"
      ],
      "text/plain": [
       "shape: (5, 19)\n",
       "┌───────────┬───────────┬───────────┬───────────┬───┬──────────┬───────────┬───────────┬───────────┐\n",
       "│ week_star ┆ new_custo ┆ promo_inv ┆ ppc_brand ┆ … ┆ sin_52_1 ┆ cos_52_1  ┆ sin_52_2  ┆ cos_52_2  │\n",
       "│ t         ┆ mers      ┆ estment   ┆ _investme ┆   ┆ ---      ┆ ---       ┆ ---       ┆ ---       │\n",
       "│ ---       ┆ ---       ┆ ---       ┆ nt        ┆   ┆ f64      ┆ f64       ┆ f64       ┆ f64       │\n",
       "│ date      ┆ i64       ┆ f64       ┆ ---       ┆   ┆          ┆           ┆           ┆           │\n",
       "│           ┆           ┆           ┆ f64       ┆   ┆          ┆           ┆           ┆           │\n",
       "╞═══════════╪═══════════╪═══════════╪═══════════╪═══╪══════════╪═══════════╪═══════════╪═══════════╡\n",
       "│ 2020-05-1 ┆ 777       ┆ 1304.2270 ┆ 756.81885 ┆ … ┆ 0.885456 ┆ 0.464723  ┆ 0.822984  ┆ -0.568065 │\n",
       "│ 8         ┆           ┆ 29        ┆ 7         ┆   ┆          ┆           ┆           ┆           │\n",
       "│ 2020-05-2 ┆ 978       ┆ 3000.5041 ┆ 69.654279 ┆ … ┆ 0.935016 ┆ 0.354605  ┆ 0.663123  ┆ -0.748511 │\n",
       "│ 5         ┆           ┆ 27        ┆           ┆   ┆          ┆           ┆           ┆           │\n",
       "│ 2020-06-0 ┆ 950       ┆ 4609.8162 ┆ 357.46762 ┆ … ┆ 0.970942 ┆ 0.239316  ┆ 0.464723  ┆ -0.885456 │\n",
       "│ 1         ┆           ┆ 16        ┆ 5         ┆   ┆          ┆           ┆           ┆           │\n",
       "│ 2020-06-0 ┆ 800       ┆ 3429.0650 ┆ 425.66346 ┆ … ┆ 0.992709 ┆ 0.120537  ┆ 0.239316  ┆ -0.970942 │\n",
       "│ 8         ┆           ┆ 37        ┆ 9         ┆   ┆          ┆           ┆           ┆           │\n",
       "│ 2020-06-1 ┆ 320       ┆ 6679.5228 ┆ 530.89455 ┆ … ┆ 1.0      ┆ 5.5100e-1 ┆ 1.1000e-1 ┆ -1.0      │\n",
       "│ 5         ┆           ┆ 77        ┆ 8         ┆   ┆          ┆ 6         ┆ 5         ┆           │\n",
       "└───────────┴───────────┴───────────┴───────────┴───┴──────────┴───────────┴───────────┴───────────┘"
      ]
     },
     "execution_count": 43,
     "metadata": {},
     "output_type": "execute_result"
    }
   ],
   "source": [
    "lagged_df = lag_channels_at_best_lag(df, chosen_lag_dict)\n",
    "lagged_df.head()"
   ]
  },
  {
   "cell_type": "markdown",
   "metadata": {},
   "source": [
    "### Seasonal Effects 🌻 🌞 🍃 ❄"
   ]
  },
  {
   "cell_type": "code",
   "execution_count": null,
   "metadata": {},
   "outputs": [],
   "source": []
  }
 ],
 "metadata": {
  "kernelspec": {
   "display_name": "env_Bayes",
   "language": "python",
   "name": "python3"
  },
  "language_info": {
   "codemirror_mode": {
    "name": "ipython",
    "version": 3
   },
   "file_extension": ".py",
   "mimetype": "text/x-python",
   "name": "python",
   "nbconvert_exporter": "python",
   "pygments_lexer": "ipython3",
   "version": "3.11.11"
  }
 },
 "nbformat": 4,
 "nbformat_minor": 2
}
