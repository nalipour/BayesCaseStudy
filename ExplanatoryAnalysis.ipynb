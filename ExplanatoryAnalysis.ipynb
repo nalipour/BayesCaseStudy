{
 "cells": [
  {
   "cell_type": "markdown",
   "metadata": {},
   "source": [
    "# Explanatory Analysis"
   ]
  },
  {
   "cell_type": "markdown",
   "metadata": {},
   "source": [
    "Set up libraries"
   ]
  },
  {
   "cell_type": "code",
   "execution_count": 2,
   "metadata": {},
   "outputs": [],
   "source": [
    "import scipy\n",
    "from datetime import date\n",
    "import polars as pl\n",
    "import plotly.express as px\n",
    "import plotly.io as pio\n",
    "import plotly.graph_objects as go\n",
    "from plotly.subplots import make_subplots\n",
    "import ipywidgets as widgets\n",
    "from IPython.display import display\n",
    "from ipywidgets import interact, interactive\n",
    "import numpy as np\n",
    "import statsmodels.api as sm\n",
    "from sklearn.metrics import r2_score, mean_absolute_error\n",
    "import matplotlib.pyplot as plt\n",
    "import seaborn as sns\n"
   ]
  },
  {
   "cell_type": "code",
   "execution_count": 3,
   "metadata": {},
   "outputs": [],
   "source": [
    "import plotly.io as pio\n",
    "pio.templates.default = 'plotly_white'\n"
   ]
  },
  {
   "cell_type": "code",
   "execution_count": 4,
   "metadata": {},
   "outputs": [
    {
     "data": {
      "text/html": [
       "<div><style>\n",
       ".dataframe > thead > tr,\n",
       ".dataframe > tbody > tr {\n",
       "  text-align: right;\n",
       "  white-space: pre-wrap;\n",
       "}\n",
       "</style>\n",
       "<small>shape: (4, 19)</small><table border=\"1\" class=\"dataframe\"><thead><tr><th>week_start</th><th>new_customers</th><th>promo_investment</th><th>ppc_brand_investment</th><th>ppc_generic_investment</th><th>facebook_investment</th><th>instagram_investment</th><th>year</th><th>week</th><th>promo_investment_lag0</th><th>ppc_brand_investment_lag0</th><th>ppc_generic_investment_lag3</th><th>facebook_investment_lag2</th><th>instagram_investment_lag6</th><th>time</th><th>sin_52_1</th><th>cos_52_1</th><th>sin_52_2</th><th>cos_52_2</th></tr><tr><td>date</td><td>i64</td><td>f64</td><td>f64</td><td>f64</td><td>f64</td><td>f64</td><td>i64</td><td>i64</td><td>f64</td><td>f64</td><td>f64</td><td>f64</td><td>f64</td><td>i64</td><td>f64</td><td>f64</td><td>f64</td><td>f64</td></tr></thead><tbody><tr><td>2020-05-18</td><td>777</td><td>1304.227029</td><td>756.818857</td><td>1512.071585</td><td>297.193399</td><td>4593.059512</td><td>2020</td><td>21</td><td>1304.227029</td><td>756.818857</td><td>2300.295763</td><td>999.081772</td><td>82.890357</td><td>113</td><td>0.885456</td><td>0.464723</td><td>0.822984</td><td>-0.568065</td></tr><tr><td>2020-05-25</td><td>978</td><td>3000.504127</td><td>69.654279</td><td>399.82446</td><td>0.0</td><td>792.564928</td><td>2020</td><td>22</td><td>3000.504127</td><td>69.654279</td><td>4268.329032</td><td>637.97411</td><td>1246.32403</td><td>114</td><td>0.935016</td><td>0.354605</td><td>0.663123</td><td>-0.748511</td></tr><tr><td>2020-06-01</td><td>950</td><td>4609.816216</td><td>357.467625</td><td>471.992936</td><td>1769.420849</td><td>3281.127107</td><td>2020</td><td>23</td><td>4609.816216</td><td>357.467625</td><td>4219.098648</td><td>297.193399</td><td>1969.201111</td><td>115</td><td>0.970942</td><td>0.239316</td><td>0.464723</td><td>-0.885456</td></tr><tr><td>2020-06-08</td><td>800</td><td>3429.065037</td><td>425.663469</td><td>1181.626485</td><td>2353.024023</td><td>4510.560793</td><td>2020</td><td>24</td><td>3429.065037</td><td>425.663469</td><td>1512.071585</td><td>0.0</td><td>2889.605271</td><td>116</td><td>0.992709</td><td>0.120537</td><td>0.239316</td><td>-0.970942</td></tr></tbody></table></div>"
      ],
      "text/plain": [
       "shape: (4, 19)\n",
       "┌────────────┬────────────┬───────────┬───────────┬───┬──────────┬──────────┬──────────┬───────────┐\n",
       "│ week_start ┆ new_custom ┆ promo_inv ┆ ppc_brand ┆ … ┆ sin_52_1 ┆ cos_52_1 ┆ sin_52_2 ┆ cos_52_2  │\n",
       "│ ---        ┆ ers        ┆ estment   ┆ _investme ┆   ┆ ---      ┆ ---      ┆ ---      ┆ ---       │\n",
       "│ date       ┆ ---        ┆ ---       ┆ nt        ┆   ┆ f64      ┆ f64      ┆ f64      ┆ f64       │\n",
       "│            ┆ i64        ┆ f64       ┆ ---       ┆   ┆          ┆          ┆          ┆           │\n",
       "│            ┆            ┆           ┆ f64       ┆   ┆          ┆          ┆          ┆           │\n",
       "╞════════════╪════════════╪═══════════╪═══════════╪═══╪══════════╪══════════╪══════════╪═══════════╡\n",
       "│ 2020-05-18 ┆ 777        ┆ 1304.2270 ┆ 756.81885 ┆ … ┆ 0.885456 ┆ 0.464723 ┆ 0.822984 ┆ -0.568065 │\n",
       "│            ┆            ┆ 29        ┆ 7         ┆   ┆          ┆          ┆          ┆           │\n",
       "│ 2020-05-25 ┆ 978        ┆ 3000.5041 ┆ 69.654279 ┆ … ┆ 0.935016 ┆ 0.354605 ┆ 0.663123 ┆ -0.748511 │\n",
       "│            ┆            ┆ 27        ┆           ┆   ┆          ┆          ┆          ┆           │\n",
       "│ 2020-06-01 ┆ 950        ┆ 4609.8162 ┆ 357.46762 ┆ … ┆ 0.970942 ┆ 0.239316 ┆ 0.464723 ┆ -0.885456 │\n",
       "│            ┆            ┆ 16        ┆ 5         ┆   ┆          ┆          ┆          ┆           │\n",
       "│ 2020-06-08 ┆ 800        ┆ 3429.0650 ┆ 425.66346 ┆ … ┆ 0.992709 ┆ 0.120537 ┆ 0.239316 ┆ -0.970942 │\n",
       "│            ┆            ┆ 37        ┆ 9         ┆   ┆          ┆          ┆          ┆           │\n",
       "└────────────┴────────────┴───────────┴───────────┴───┴──────────┴──────────┴──────────┴───────────┘"
      ]
     },
     "execution_count": 4,
     "metadata": {},
     "output_type": "execute_result"
    }
   ],
   "source": [
    "data_link = \"./Data/data.csv\"\n",
    "df = pl.read_csv(data_link).with_columns(pl.col('week_start').cast(pl.Date)).sort('week_start')\n",
    "\n",
    "df.head(4)"
   ]
  },
  {
   "cell_type": "markdown",
   "metadata": {},
   "source": [
    "### Quality Check \t✅"
   ]
  },
  {
   "cell_type": "code",
   "execution_count": 11,
   "metadata": {},
   "outputs": [],
   "source": [
    "def check_complete_datarange(df: pl.DataFrame,\n",
    "                             date_col: str = 'week_start'):\n",
    "\n",
    "  min_date = df.select(pl.col(date_col).min()).item()\n",
    "  max_date = df.select(pl.col(date_col).max()).item()\n",
    "  date_range = pl.date_range(start=min_date, end=max_date, interval=\"1w\",\n",
    "                             eager=True).to_list()\n",
    "  print(set(date_range))\n",
    "  assert set(date_range) == set(df[date_col].to_list())\n"
   ]
  },
  {
   "cell_type": "code",
   "execution_count": null,
   "metadata": {},
   "outputs": [],
   "source": [
    "check_complete_datarange(df)"
   ]
  },
  {
   "cell_type": "code",
   "execution_count": null,
   "metadata": {},
   "outputs": [],
   "source": [
    "df.describe()"
   ]
  },
  {
   "cell_type": "markdown",
   "metadata": {},
   "source": [
    "### Know your target ⭕"
   ]
  },
  {
   "cell_type": "code",
   "execution_count": 6,
   "metadata": {},
   "outputs": [
    {
     "data": {
      "text/plain": [
       "['week_start',\n",
       " 'new_customers',\n",
       " 'promo_investment',\n",
       " 'ppc_brand_investment',\n",
       " 'ppc_generic_investment',\n",
       " 'facebook_investment',\n",
       " 'instagram_investment',\n",
       " 'year',\n",
       " 'week',\n",
       " 'promo_investment_lag0',\n",
       " 'ppc_brand_investment_lag0',\n",
       " 'ppc_generic_investment_lag3',\n",
       " 'facebook_investment_lag2',\n",
       " 'instagram_investment_lag6',\n",
       " 'time',\n",
       " 'sin_52_1',\n",
       " 'cos_52_1',\n",
       " 'sin_52_2',\n",
       " 'cos_52_2']"
      ]
     },
     "execution_count": 6,
     "metadata": {},
     "output_type": "execute_result"
    }
   ],
   "source": [
    "df.columns"
   ]
  },
  {
   "cell_type": "code",
   "execution_count": 7,
   "metadata": {},
   "outputs": [],
   "source": [
    "target = \"new_customers\"\n",
    "date_col = 'week_start'\n",
    "channels = ['promo_investment',\n",
    "            'ppc_brand_investment',\n",
    "            'ppc_generic_investment',\n",
    "            'facebook_investment',\n",
    "            'instagram_investment']"
   ]
  },
  {
   "cell_type": "markdown",
   "metadata": {},
   "source": [
    "### Trend Analysis 📈"
   ]
  },
  {
   "cell_type": "code",
   "execution_count": 10,
   "metadata": {},
   "outputs": [
    {
     "data": {
      "application/vnd.jupyter.widget-view+json": {
       "model_id": "b6cd3aee4aee44a893e0e3716a56ef14",
       "version_major": 2,
       "version_minor": 0
      },
      "text/plain": [
       "interactive(children=(IntSlider(value=1, description='Window', max=40, min=1), Output()), _dom_classes=('widge…"
      ]
     },
     "metadata": {},
     "output_type": "display_data"
    }
   ],
   "source": [
    "rolling_window_widget = widgets.IntSlider(value=1,\n",
    "    min=1,\n",
    "    max=40,\n",
    "    step=1,\n",
    "    description='Window')\n",
    "\n",
    "\n",
    "def update_rolling_plot(window):\n",
    "\n",
    "  base_title = f\"{target} Evolution Over Time\"\n",
    "  title = base_title if window == 1 else base_title +  f\"- Rolling Mean (Window = {window})\"\n",
    "\n",
    "  rolled_df = df.with_columns(pl.col(target).rolling_mean(window))\n",
    "  fig = px.line(rolled_df, x=date_col, y=target,\n",
    "                title=title)\n",
    "  #fig.update_layout(width=1300, height=400)\n",
    "  fig.show(renderer=\"colab\")\n",
    "\n",
    "interactive_plot = interactive(update_rolling_plot,\n",
    "                               window=rolling_window_widget)\n",
    "\n",
    "display(interactive_plot)"
   ]
  },
  {
   "cell_type": "markdown",
   "metadata": {},
   "source": [
    "🔍 Observations <br>\n",
    "⬛ Increasing trend over time, except in 2023, where sales show a decline. <br>\n",
    "⬛ Presence of seasonality."
   ]
  },
  {
   "cell_type": "markdown",
   "metadata": {},
   "source": [
    "### Seasonality Analysis 📈"
   ]
  },
  {
   "cell_type": "code",
   "execution_count": 13,
   "metadata": {},
   "outputs": [
    {
     "data": {
      "application/vnd.plotly.v1+json": {
       "config": {
        "plotlyServerURL": "https://plot.ly"
       },
       "data": [
        {
         "customdata": [
          [
           "2020-05-18"
          ],
          [
           "2020-05-25"
          ],
          [
           "2020-06-01"
          ],
          [
           "2020-06-08"
          ],
          [
           "2020-06-15"
          ],
          [
           "2020-06-22"
          ],
          [
           "2020-06-29"
          ],
          [
           "2020-07-06"
          ],
          [
           "2020-07-13"
          ],
          [
           "2020-07-20"
          ],
          [
           "2020-07-27"
          ],
          [
           "2020-08-03"
          ],
          [
           "2020-08-10"
          ],
          [
           "2020-08-17"
          ],
          [
           "2020-08-24"
          ],
          [
           "2020-08-31"
          ],
          [
           "2020-09-07"
          ],
          [
           "2020-09-14"
          ],
          [
           "2020-09-21"
          ],
          [
           "2020-09-28"
          ],
          [
           "2020-10-05"
          ],
          [
           "2020-10-12"
          ],
          [
           "2020-10-19"
          ],
          [
           "2020-10-26"
          ],
          [
           "2020-11-02"
          ],
          [
           "2020-11-09"
          ],
          [
           "2020-11-16"
          ],
          [
           "2020-11-23"
          ],
          [
           "2020-11-30"
          ],
          [
           "2020-12-07"
          ],
          [
           "2020-12-14"
          ],
          [
           "2020-12-21"
          ],
          [
           "2020-12-28"
          ]
         ],
         "hovertemplate": "year=2020<br>week=%{x}<br>new_customers=%{y}<br>week_start=%{customdata[0]}<extra></extra>",
         "legendgroup": "2020",
         "line": {
          "color": "#636efa",
          "dash": "solid"
         },
         "marker": {
          "symbol": "circle"
         },
         "mode": "lines",
         "name": "2020",
         "orientation": "v",
         "showlegend": true,
         "type": "scatter",
         "x": {
          "bdata": "FRYXGBkaGxwdHh8gISIjJCUmJygpKissLS4vMDEyMzQ1",
          "dtype": "i1"
         },
         "xaxis": "x",
         "y": {
          "bdata": "AAAAAAAA+H8AAAAAAAD4fwAAAAAAAPh/AAAAAAAA+H8AAAAAAOiHQM3MzMzMpIZAmpmZmZlRg0AAAAAAACiCQDMzMzMzY4NAMzMzMzNTikCamZmZmTmMQM3MzMzMRJJAZmZmZmYqlkDNzMzMzIyZQGZmZmZm/p1AzczMzMyKokAAAAAAADSlQJqZmZmZ16hAZmZmZmbirECamZmZmaCwQJqZmZmZDbJAAAAAAABxskCamZmZmVWxQDMzMzMzQbBAMzMzMzNZrEBmZmZmZoinQM3MzMzMMqRAMzMzMzNpoUAAAAAAAMCdQAAAAAAAMJlAMzMzMzOzmEBmZmZmZt6XQGZmZmZmipdA",
          "dtype": "f8"
         },
         "yaxis": "y"
        },
        {
         "customdata": [
          [
           "2021-01-04"
          ],
          [
           "2021-01-11"
          ],
          [
           "2021-01-18"
          ],
          [
           "2021-01-25"
          ],
          [
           "2021-02-01"
          ],
          [
           "2021-02-08"
          ],
          [
           "2021-02-15"
          ],
          [
           "2021-02-22"
          ],
          [
           "2021-03-01"
          ],
          [
           "2021-03-08"
          ],
          [
           "2021-03-15"
          ],
          [
           "2021-03-22"
          ],
          [
           "2021-03-29"
          ],
          [
           "2021-04-05"
          ],
          [
           "2021-04-12"
          ],
          [
           "2021-04-19"
          ],
          [
           "2021-04-26"
          ],
          [
           "2021-05-03"
          ],
          [
           "2021-05-10"
          ],
          [
           "2021-05-17"
          ],
          [
           "2021-05-24"
          ],
          [
           "2021-05-31"
          ],
          [
           "2021-06-07"
          ],
          [
           "2021-06-14"
          ],
          [
           "2021-06-21"
          ],
          [
           "2021-06-28"
          ],
          [
           "2021-07-05"
          ],
          [
           "2021-07-12"
          ],
          [
           "2021-07-19"
          ],
          [
           "2021-07-26"
          ],
          [
           "2021-08-02"
          ],
          [
           "2021-08-09"
          ],
          [
           "2021-08-16"
          ],
          [
           "2021-08-23"
          ],
          [
           "2021-08-30"
          ],
          [
           "2021-09-06"
          ],
          [
           "2021-09-13"
          ],
          [
           "2021-09-20"
          ],
          [
           "2021-09-27"
          ],
          [
           "2021-10-04"
          ],
          [
           "2021-10-11"
          ],
          [
           "2021-10-18"
          ],
          [
           "2021-10-25"
          ],
          [
           "2021-11-01"
          ],
          [
           "2021-11-08"
          ],
          [
           "2021-11-15"
          ],
          [
           "2021-11-22"
          ],
          [
           "2021-11-29"
          ],
          [
           "2021-12-06"
          ],
          [
           "2021-12-13"
          ],
          [
           "2021-12-20"
          ],
          [
           "2021-12-27"
          ]
         ],
         "hovertemplate": "year=2021<br>week=%{x}<br>new_customers=%{y}<br>week_start=%{customdata[0]}<extra></extra>",
         "legendgroup": "2021",
         "line": {
          "color": "#EF553B",
          "dash": "solid"
         },
         "marker": {
          "symbol": "circle"
         },
         "mode": "lines",
         "name": "2021",
         "orientation": "v",
         "showlegend": true,
         "type": "scatter",
         "x": {
          "bdata": "AQIDBAUGBwgJCgsMDQ4PEBESExQVFhcYGRobHB0eHyAhIiMkJSYnKCkqKywtLi8wMTIzNA==",
          "dtype": "i1"
         },
         "xaxis": "x",
         "y": {
          "bdata": "MzMzMzMjlUCamZmZmUWVQJqZmZmZxZJAmpmZmZntkkAzMzMzMz+UQJqZmZmZ3ZZAmpmZmZlJmECamZmZmWWaQM3MzMzMlJlAZmZmZmaSmkDNzMzMzHyZQJqZmZmZ/ZZAmpmZmZkllUDNzMzMzGyTQM3MzMzMlI5AZmZmZmbejEAAAAAAAACQQAAAAAAA0JZAZmZmZmb2m0DNzMzMzMSiQJqZmZmZbaNAmpmZmZnLokCamZmZmYOgQAAAAAAAnKBAmpmZmZlJnUCamZmZmcWhQJqZmZmZi6RAzczMzMzkp0CamZmZmWOrQGZmZmZmmLBAZmZmZmbcsUCamZmZmU20QAAAAAAArrVAzczMzMzUtkCamZmZmbm2QDMzMzMzR7dAZmZmZmaqtkAAAAAAAL+2QM3MzMzMbbZAAAAAAAAwtkDNzMzMzJi1QAAAAAAAGLVAAAAAAAAhtEAzMzMzM6OyQDMzMzMzZLBAmpmZmZndrEAAAAAAAMioQJqZmZmZo6RAmpmZmZlJoUAAAAAAAI6gQM3MzMzMpJ9AmpmZmZmLo0A=",
          "dtype": "f8"
         },
         "yaxis": "y"
        },
        {
         "customdata": [
          [
           "2022-01-03"
          ],
          [
           "2022-01-10"
          ],
          [
           "2022-01-17"
          ],
          [
           "2022-01-24"
          ],
          [
           "2022-01-31"
          ],
          [
           "2022-02-07"
          ],
          [
           "2022-02-14"
          ],
          [
           "2022-02-21"
          ],
          [
           "2022-02-28"
          ],
          [
           "2022-03-07"
          ],
          [
           "2022-03-14"
          ],
          [
           "2022-03-21"
          ],
          [
           "2022-03-28"
          ],
          [
           "2022-04-04"
          ],
          [
           "2022-04-11"
          ],
          [
           "2022-04-18"
          ],
          [
           "2022-04-25"
          ],
          [
           "2022-05-02"
          ],
          [
           "2022-05-09"
          ],
          [
           "2022-05-16"
          ],
          [
           "2022-05-23"
          ],
          [
           "2022-05-30"
          ],
          [
           "2022-06-06"
          ],
          [
           "2022-06-13"
          ],
          [
           "2022-06-20"
          ],
          [
           "2022-06-27"
          ],
          [
           "2022-07-04"
          ],
          [
           "2022-07-11"
          ],
          [
           "2022-07-18"
          ],
          [
           "2022-07-25"
          ],
          [
           "2022-08-01"
          ],
          [
           "2022-08-08"
          ],
          [
           "2022-08-15"
          ],
          [
           "2022-08-22"
          ],
          [
           "2022-08-29"
          ],
          [
           "2022-09-05"
          ],
          [
           "2022-09-12"
          ],
          [
           "2022-09-19"
          ],
          [
           "2022-09-26"
          ],
          [
           "2022-10-03"
          ],
          [
           "2022-10-10"
          ],
          [
           "2022-10-17"
          ],
          [
           "2022-10-24"
          ],
          [
           "2022-10-31"
          ],
          [
           "2022-11-07"
          ],
          [
           "2022-11-14"
          ],
          [
           "2022-11-21"
          ],
          [
           "2022-11-28"
          ],
          [
           "2022-12-05"
          ],
          [
           "2022-12-12"
          ],
          [
           "2022-12-19"
          ],
          [
           "2022-12-26"
          ]
         ],
         "hovertemplate": "year=2022<br>week=%{x}<br>new_customers=%{y}<br>week_start=%{customdata[0]}<extra></extra>",
         "legendgroup": "2022",
         "line": {
          "color": "#00cc96",
          "dash": "solid"
         },
         "marker": {
          "symbol": "circle"
         },
         "mode": "lines",
         "name": "2022",
         "orientation": "v",
         "showlegend": true,
         "type": "scatter",
         "x": {
          "bdata": "AQIDBAUGBwgJCgsMDQ4PEBESExQVFhcYGRobHB0eHyAhIiMkJSYnKCkqKywtLi8wMTIzNA==",
          "dtype": "i1"
         },
         "xaxis": "x",
         "y": {
          "bdata": "zczMzMykokBmZmZmZgijQAAAAAAAcKJAZmZmZmb4oUDNzMzMzGScQJqZmZmZTaBAMzMzMzO/n0AAAAAAAOyiQGZmZmZmcKNAZmZmZmZyo0DNzMzMzG6iQJqZmZmZ/6FAmpmZmZl5nkDNzMzMzCygQGZmZmZm9qFAZmZmZmY+pUAzMzMzM6+pQM3MzMzMWK9AMzMzMzMJsEAAAAAAAIOwQJqZmZmZZbBAzczMzMyOsEDNzMzMzMawQM3MzMzMd7FAAAAAAABnskAAAAAAAD+zQJqZmZmZ3bNAMzMzMzOGs0BmZmZmZgO1QJqZmZmZ2rVAZmZmZmbstkAAAAAAACe4QAAAAAAA5rhAZmZmZmYDukAzMzMzM6+7QJqZmZmZx7xAAAAAAACjvUCamZmZmRzAQGZmZmbm3cBAAAAAAIB1wUAAAAAAAILCQJqZmZmZ9sJAMzMzM7NfwkAzMzMzs+PBQAAAAACAWsBAmpmZmZnJu0AAAAAAAF24QAAAAAAATrVAmpmZmZk1skAzMzMzM5exQGZmZmZmrrFAZmZmZmbQr0A=",
          "dtype": "f8"
         },
         "yaxis": "y"
        },
        {
         "customdata": [
          [
           "2023-01-02"
          ],
          [
           "2023-01-09"
          ],
          [
           "2023-01-16"
          ],
          [
           "2023-01-23"
          ],
          [
           "2023-01-30"
          ],
          [
           "2023-02-06"
          ],
          [
           "2023-02-13"
          ],
          [
           "2023-02-20"
          ],
          [
           "2023-02-27"
          ],
          [
           "2023-03-06"
          ],
          [
           "2023-03-13"
          ],
          [
           "2023-03-20"
          ],
          [
           "2023-03-27"
          ],
          [
           "2023-04-03"
          ],
          [
           "2023-04-10"
          ],
          [
           "2023-04-17"
          ],
          [
           "2023-04-24"
          ],
          [
           "2023-05-01"
          ],
          [
           "2023-05-08"
          ],
          [
           "2023-05-15"
          ],
          [
           "2023-05-22"
          ],
          [
           "2023-05-29"
          ],
          [
           "2023-06-05"
          ],
          [
           "2023-06-12"
          ],
          [
           "2023-06-19"
          ],
          [
           "2023-06-26"
          ],
          [
           "2023-07-03"
          ],
          [
           "2023-07-10"
          ]
         ],
         "hovertemplate": "year=2023<br>week=%{x}<br>new_customers=%{y}<br>week_start=%{customdata[0]}<extra></extra>",
         "legendgroup": "2023",
         "line": {
          "color": "#ab63fa",
          "dash": "solid"
         },
         "marker": {
          "symbol": "circle"
         },
         "mode": "lines",
         "name": "2023",
         "orientation": "v",
         "showlegend": true,
         "type": "scatter",
         "x": {
          "bdata": "AQIDBAUGBwgJCgsMDQ4PEBESExQVFhcYGRobHA==",
          "dtype": "i1"
         },
         "xaxis": "x",
         "y": {
          "bdata": "zczMzMzgrEAzMzMzM0OoQGZmZmZm2qFAmpmZmZkln0DNzMzMzPCZQM3MzMzMzJVAmpmZmZkVlkAzMzMzM++WQM3MzMzM2JFAmpmZmZkll0CamZmZmQWeQDMzMzMzr6BAzczMzMw6o0AzMzMzMy2mQAAAAAAApqdAZmZmZmY2qECamZmZmQWsQAAAAAAArq9AzczMzMwcskDNzMzMzNGyQM3MzMzMr7NAMzMzMzP2sUAAAAAAAIewQDMzMzMzB6xAzczMzMzMqEAzMzMzM5GjQM3MzMzMTKFAzczMzMxAoEA=",
          "dtype": "f8"
         },
         "yaxis": "y"
        }
       ],
       "layout": {
        "legend": {
         "title": {
          "text": "year"
         },
         "tracegroupgap": 0
        },
        "template": {
         "data": {
          "bar": [
           {
            "error_x": {
             "color": "#2a3f5f"
            },
            "error_y": {
             "color": "#2a3f5f"
            },
            "marker": {
             "line": {
              "color": "white",
              "width": 0.5
             },
             "pattern": {
              "fillmode": "overlay",
              "size": 10,
              "solidity": 0.2
             }
            },
            "type": "bar"
           }
          ],
          "barpolar": [
           {
            "marker": {
             "line": {
              "color": "white",
              "width": 0.5
             },
             "pattern": {
              "fillmode": "overlay",
              "size": 10,
              "solidity": 0.2
             }
            },
            "type": "barpolar"
           }
          ],
          "carpet": [
           {
            "aaxis": {
             "endlinecolor": "#2a3f5f",
             "gridcolor": "#C8D4E3",
             "linecolor": "#C8D4E3",
             "minorgridcolor": "#C8D4E3",
             "startlinecolor": "#2a3f5f"
            },
            "baxis": {
             "endlinecolor": "#2a3f5f",
             "gridcolor": "#C8D4E3",
             "linecolor": "#C8D4E3",
             "minorgridcolor": "#C8D4E3",
             "startlinecolor": "#2a3f5f"
            },
            "type": "carpet"
           }
          ],
          "choropleth": [
           {
            "colorbar": {
             "outlinewidth": 0,
             "ticks": ""
            },
            "type": "choropleth"
           }
          ],
          "contour": [
           {
            "colorbar": {
             "outlinewidth": 0,
             "ticks": ""
            },
            "colorscale": [
             [
              0,
              "#0d0887"
             ],
             [
              0.1111111111111111,
              "#46039f"
             ],
             [
              0.2222222222222222,
              "#7201a8"
             ],
             [
              0.3333333333333333,
              "#9c179e"
             ],
             [
              0.4444444444444444,
              "#bd3786"
             ],
             [
              0.5555555555555556,
              "#d8576b"
             ],
             [
              0.6666666666666666,
              "#ed7953"
             ],
             [
              0.7777777777777778,
              "#fb9f3a"
             ],
             [
              0.8888888888888888,
              "#fdca26"
             ],
             [
              1,
              "#f0f921"
             ]
            ],
            "type": "contour"
           }
          ],
          "contourcarpet": [
           {
            "colorbar": {
             "outlinewidth": 0,
             "ticks": ""
            },
            "type": "contourcarpet"
           }
          ],
          "heatmap": [
           {
            "colorbar": {
             "outlinewidth": 0,
             "ticks": ""
            },
            "colorscale": [
             [
              0,
              "#0d0887"
             ],
             [
              0.1111111111111111,
              "#46039f"
             ],
             [
              0.2222222222222222,
              "#7201a8"
             ],
             [
              0.3333333333333333,
              "#9c179e"
             ],
             [
              0.4444444444444444,
              "#bd3786"
             ],
             [
              0.5555555555555556,
              "#d8576b"
             ],
             [
              0.6666666666666666,
              "#ed7953"
             ],
             [
              0.7777777777777778,
              "#fb9f3a"
             ],
             [
              0.8888888888888888,
              "#fdca26"
             ],
             [
              1,
              "#f0f921"
             ]
            ],
            "type": "heatmap"
           }
          ],
          "histogram": [
           {
            "marker": {
             "pattern": {
              "fillmode": "overlay",
              "size": 10,
              "solidity": 0.2
             }
            },
            "type": "histogram"
           }
          ],
          "histogram2d": [
           {
            "colorbar": {
             "outlinewidth": 0,
             "ticks": ""
            },
            "colorscale": [
             [
              0,
              "#0d0887"
             ],
             [
              0.1111111111111111,
              "#46039f"
             ],
             [
              0.2222222222222222,
              "#7201a8"
             ],
             [
              0.3333333333333333,
              "#9c179e"
             ],
             [
              0.4444444444444444,
              "#bd3786"
             ],
             [
              0.5555555555555556,
              "#d8576b"
             ],
             [
              0.6666666666666666,
              "#ed7953"
             ],
             [
              0.7777777777777778,
              "#fb9f3a"
             ],
             [
              0.8888888888888888,
              "#fdca26"
             ],
             [
              1,
              "#f0f921"
             ]
            ],
            "type": "histogram2d"
           }
          ],
          "histogram2dcontour": [
           {
            "colorbar": {
             "outlinewidth": 0,
             "ticks": ""
            },
            "colorscale": [
             [
              0,
              "#0d0887"
             ],
             [
              0.1111111111111111,
              "#46039f"
             ],
             [
              0.2222222222222222,
              "#7201a8"
             ],
             [
              0.3333333333333333,
              "#9c179e"
             ],
             [
              0.4444444444444444,
              "#bd3786"
             ],
             [
              0.5555555555555556,
              "#d8576b"
             ],
             [
              0.6666666666666666,
              "#ed7953"
             ],
             [
              0.7777777777777778,
              "#fb9f3a"
             ],
             [
              0.8888888888888888,
              "#fdca26"
             ],
             [
              1,
              "#f0f921"
             ]
            ],
            "type": "histogram2dcontour"
           }
          ],
          "mesh3d": [
           {
            "colorbar": {
             "outlinewidth": 0,
             "ticks": ""
            },
            "type": "mesh3d"
           }
          ],
          "parcoords": [
           {
            "line": {
             "colorbar": {
              "outlinewidth": 0,
              "ticks": ""
             }
            },
            "type": "parcoords"
           }
          ],
          "pie": [
           {
            "automargin": true,
            "type": "pie"
           }
          ],
          "scatter": [
           {
            "fillpattern": {
             "fillmode": "overlay",
             "size": 10,
             "solidity": 0.2
            },
            "type": "scatter"
           }
          ],
          "scatter3d": [
           {
            "line": {
             "colorbar": {
              "outlinewidth": 0,
              "ticks": ""
             }
            },
            "marker": {
             "colorbar": {
              "outlinewidth": 0,
              "ticks": ""
             }
            },
            "type": "scatter3d"
           }
          ],
          "scattercarpet": [
           {
            "marker": {
             "colorbar": {
              "outlinewidth": 0,
              "ticks": ""
             }
            },
            "type": "scattercarpet"
           }
          ],
          "scattergeo": [
           {
            "marker": {
             "colorbar": {
              "outlinewidth": 0,
              "ticks": ""
             }
            },
            "type": "scattergeo"
           }
          ],
          "scattergl": [
           {
            "marker": {
             "colorbar": {
              "outlinewidth": 0,
              "ticks": ""
             }
            },
            "type": "scattergl"
           }
          ],
          "scattermap": [
           {
            "marker": {
             "colorbar": {
              "outlinewidth": 0,
              "ticks": ""
             }
            },
            "type": "scattermap"
           }
          ],
          "scattermapbox": [
           {
            "marker": {
             "colorbar": {
              "outlinewidth": 0,
              "ticks": ""
             }
            },
            "type": "scattermapbox"
           }
          ],
          "scatterpolar": [
           {
            "marker": {
             "colorbar": {
              "outlinewidth": 0,
              "ticks": ""
             }
            },
            "type": "scatterpolar"
           }
          ],
          "scatterpolargl": [
           {
            "marker": {
             "colorbar": {
              "outlinewidth": 0,
              "ticks": ""
             }
            },
            "type": "scatterpolargl"
           }
          ],
          "scatterternary": [
           {
            "marker": {
             "colorbar": {
              "outlinewidth": 0,
              "ticks": ""
             }
            },
            "type": "scatterternary"
           }
          ],
          "surface": [
           {
            "colorbar": {
             "outlinewidth": 0,
             "ticks": ""
            },
            "colorscale": [
             [
              0,
              "#0d0887"
             ],
             [
              0.1111111111111111,
              "#46039f"
             ],
             [
              0.2222222222222222,
              "#7201a8"
             ],
             [
              0.3333333333333333,
              "#9c179e"
             ],
             [
              0.4444444444444444,
              "#bd3786"
             ],
             [
              0.5555555555555556,
              "#d8576b"
             ],
             [
              0.6666666666666666,
              "#ed7953"
             ],
             [
              0.7777777777777778,
              "#fb9f3a"
             ],
             [
              0.8888888888888888,
              "#fdca26"
             ],
             [
              1,
              "#f0f921"
             ]
            ],
            "type": "surface"
           }
          ],
          "table": [
           {
            "cells": {
             "fill": {
              "color": "#EBF0F8"
             },
             "line": {
              "color": "white"
             }
            },
            "header": {
             "fill": {
              "color": "#C8D4E3"
             },
             "line": {
              "color": "white"
             }
            },
            "type": "table"
           }
          ]
         },
         "layout": {
          "annotationdefaults": {
           "arrowcolor": "#2a3f5f",
           "arrowhead": 0,
           "arrowwidth": 1
          },
          "autotypenumbers": "strict",
          "coloraxis": {
           "colorbar": {
            "outlinewidth": 0,
            "ticks": ""
           }
          },
          "colorscale": {
           "diverging": [
            [
             0,
             "#8e0152"
            ],
            [
             0.1,
             "#c51b7d"
            ],
            [
             0.2,
             "#de77ae"
            ],
            [
             0.3,
             "#f1b6da"
            ],
            [
             0.4,
             "#fde0ef"
            ],
            [
             0.5,
             "#f7f7f7"
            ],
            [
             0.6,
             "#e6f5d0"
            ],
            [
             0.7,
             "#b8e186"
            ],
            [
             0.8,
             "#7fbc41"
            ],
            [
             0.9,
             "#4d9221"
            ],
            [
             1,
             "#276419"
            ]
           ],
           "sequential": [
            [
             0,
             "#0d0887"
            ],
            [
             0.1111111111111111,
             "#46039f"
            ],
            [
             0.2222222222222222,
             "#7201a8"
            ],
            [
             0.3333333333333333,
             "#9c179e"
            ],
            [
             0.4444444444444444,
             "#bd3786"
            ],
            [
             0.5555555555555556,
             "#d8576b"
            ],
            [
             0.6666666666666666,
             "#ed7953"
            ],
            [
             0.7777777777777778,
             "#fb9f3a"
            ],
            [
             0.8888888888888888,
             "#fdca26"
            ],
            [
             1,
             "#f0f921"
            ]
           ],
           "sequentialminus": [
            [
             0,
             "#0d0887"
            ],
            [
             0.1111111111111111,
             "#46039f"
            ],
            [
             0.2222222222222222,
             "#7201a8"
            ],
            [
             0.3333333333333333,
             "#9c179e"
            ],
            [
             0.4444444444444444,
             "#bd3786"
            ],
            [
             0.5555555555555556,
             "#d8576b"
            ],
            [
             0.6666666666666666,
             "#ed7953"
            ],
            [
             0.7777777777777778,
             "#fb9f3a"
            ],
            [
             0.8888888888888888,
             "#fdca26"
            ],
            [
             1,
             "#f0f921"
            ]
           ]
          },
          "colorway": [
           "#636efa",
           "#EF553B",
           "#00cc96",
           "#ab63fa",
           "#FFA15A",
           "#19d3f3",
           "#FF6692",
           "#B6E880",
           "#FF97FF",
           "#FECB52"
          ],
          "font": {
           "color": "#2a3f5f"
          },
          "geo": {
           "bgcolor": "white",
           "lakecolor": "white",
           "landcolor": "white",
           "showlakes": true,
           "showland": true,
           "subunitcolor": "#C8D4E3"
          },
          "hoverlabel": {
           "align": "left"
          },
          "hovermode": "closest",
          "mapbox": {
           "style": "light"
          },
          "paper_bgcolor": "white",
          "plot_bgcolor": "white",
          "polar": {
           "angularaxis": {
            "gridcolor": "#EBF0F8",
            "linecolor": "#EBF0F8",
            "ticks": ""
           },
           "bgcolor": "white",
           "radialaxis": {
            "gridcolor": "#EBF0F8",
            "linecolor": "#EBF0F8",
            "ticks": ""
           }
          },
          "scene": {
           "xaxis": {
            "backgroundcolor": "white",
            "gridcolor": "#DFE8F3",
            "gridwidth": 2,
            "linecolor": "#EBF0F8",
            "showbackground": true,
            "ticks": "",
            "zerolinecolor": "#EBF0F8"
           },
           "yaxis": {
            "backgroundcolor": "white",
            "gridcolor": "#DFE8F3",
            "gridwidth": 2,
            "linecolor": "#EBF0F8",
            "showbackground": true,
            "ticks": "",
            "zerolinecolor": "#EBF0F8"
           },
           "zaxis": {
            "backgroundcolor": "white",
            "gridcolor": "#DFE8F3",
            "gridwidth": 2,
            "linecolor": "#EBF0F8",
            "showbackground": true,
            "ticks": "",
            "zerolinecolor": "#EBF0F8"
           }
          },
          "shapedefaults": {
           "line": {
            "color": "#2a3f5f"
           }
          },
          "ternary": {
           "aaxis": {
            "gridcolor": "#DFE8F3",
            "linecolor": "#A2B1C6",
            "ticks": ""
           },
           "baxis": {
            "gridcolor": "#DFE8F3",
            "linecolor": "#A2B1C6",
            "ticks": ""
           },
           "bgcolor": "white",
           "caxis": {
            "gridcolor": "#DFE8F3",
            "linecolor": "#A2B1C6",
            "ticks": ""
           }
          },
          "title": {
           "x": 0.05
          },
          "xaxis": {
           "automargin": true,
           "gridcolor": "#EBF0F8",
           "linecolor": "#EBF0F8",
           "ticks": "",
           "title": {
            "standoff": 15
           },
           "zerolinecolor": "#EBF0F8",
           "zerolinewidth": 2
          },
          "yaxis": {
           "automargin": true,
           "gridcolor": "#EBF0F8",
           "linecolor": "#EBF0F8",
           "ticks": "",
           "title": {
            "standoff": 15
           },
           "zerolinecolor": "#EBF0F8",
           "zerolinewidth": 2
          }
         }
        },
        "title": {
         "text": "New Customers Comparison Over Years"
        },
        "xaxis": {
         "anchor": "y",
         "domain": [
          0,
          1
         ],
         "title": {
          "text": "week"
         }
        },
        "yaxis": {
         "anchor": "x",
         "domain": [
          0,
          1
         ],
         "title": {
          "text": "new_customers"
         }
        }
       }
      }
     },
     "metadata": {},
     "output_type": "display_data"
    }
   ],
   "source": [
    "fig = px.line(df.with_columns(pl.col(target).rolling_mean(5)),\n",
    "        x='week',\n",
    "        y=target,\n",
    "        color = 'year',\n",
    "        hover_data=[date_col],\n",
    "        title='New Customers Comparison Over Years')\n",
    "\n",
    "fig.show()"
   ]
  },
  {
   "cell_type": "code",
   "execution_count": null,
   "metadata": {},
   "outputs": [],
   "source": []
  }
 ],
 "metadata": {
  "kernelspec": {
   "display_name": "env_Bayes",
   "language": "python",
   "name": "python3"
  },
  "language_info": {
   "codemirror_mode": {
    "name": "ipython",
    "version": 3
   },
   "file_extension": ".py",
   "mimetype": "text/x-python",
   "name": "python",
   "nbconvert_exporter": "python",
   "pygments_lexer": "ipython3",
   "version": "3.11.11"
  }
 },
 "nbformat": 4,
 "nbformat_minor": 2
}
